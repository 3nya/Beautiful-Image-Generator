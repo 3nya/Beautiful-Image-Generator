{
  "nbformat": 4,
  "nbformat_minor": 0,
  "metadata": {
    "colab": {
      "provenance": [],
      "authorship_tag": "ABX9TyPrW1/VHWT1bR2agpQe+rLN"
    },
    "kernelspec": {
      "name": "python3",
      "display_name": "Python 3"
    },
    "language_info": {
      "name": "python"
    }
  },
  "cells": [
    {
      "cell_type": "code",
      "source": [
        "%matplotlib inline"
      ],
      "metadata": {
        "id": "kOztWLOI08VZ"
      },
      "execution_count": 1,
      "outputs": []
    },
    {
      "cell_type": "code",
      "source": [
        "from PIL import Image\n",
        "\n",
        "import matplotlib.pyplot as plt\n",
        "import numpy as np"
      ],
      "metadata": {
        "id": "vAgN1da01L9x"
      },
      "execution_count": 2,
      "outputs": []
    },
    {
      "cell_type": "code",
      "source": [
        "def load_image( infilename ) :\n",
        "    img = Image.open( infilename )\n",
        "    img.load()\n",
        "    data = np.asarray( img, dtype=\"int32\" )\n",
        "    return data"
      ],
      "metadata": {
        "id": "QZdswaOb3Ny8"
      },
      "execution_count": 3,
      "outputs": []
    },
    {
      "cell_type": "code",
      "source": [
        "## upload file\n",
        "\n",
        "from google.colab import files\n",
        "uploaded = files.upload()\n",
        "\n",
        "filename = next(iter(uploaded))"
      ],
      "metadata": {
        "colab": {
          "base_uri": "https://localhost:8080/",
          "height": 73
        },
        "id": "ZryWyv0j7ZcL",
        "outputId": "88a6fe48-8c99-4625-8780-e6522ded3351"
      },
      "execution_count": 4,
      "outputs": [
        {
          "output_type": "display_data",
          "data": {
            "text/plain": [
              "<IPython.core.display.HTML object>"
            ],
            "text/html": [
              "\n",
              "     <input type=\"file\" id=\"files-17c92921-e055-4dff-bfce-f2c1887828b8\" name=\"files[]\" multiple disabled\n",
              "        style=\"border:none\" />\n",
              "     <output id=\"result-17c92921-e055-4dff-bfce-f2c1887828b8\">\n",
              "      Upload widget is only available when the cell has been executed in the\n",
              "      current browser session. Please rerun this cell to enable.\n",
              "      </output>\n",
              "      <script>// Copyright 2017 Google LLC\n",
              "//\n",
              "// Licensed under the Apache License, Version 2.0 (the \"License\");\n",
              "// you may not use this file except in compliance with the License.\n",
              "// You may obtain a copy of the License at\n",
              "//\n",
              "//      http://www.apache.org/licenses/LICENSE-2.0\n",
              "//\n",
              "// Unless required by applicable law or agreed to in writing, software\n",
              "// distributed under the License is distributed on an \"AS IS\" BASIS,\n",
              "// WITHOUT WARRANTIES OR CONDITIONS OF ANY KIND, either express or implied.\n",
              "// See the License for the specific language governing permissions and\n",
              "// limitations under the License.\n",
              "\n",
              "/**\n",
              " * @fileoverview Helpers for google.colab Python module.\n",
              " */\n",
              "(function(scope) {\n",
              "function span(text, styleAttributes = {}) {\n",
              "  const element = document.createElement('span');\n",
              "  element.textContent = text;\n",
              "  for (const key of Object.keys(styleAttributes)) {\n",
              "    element.style[key] = styleAttributes[key];\n",
              "  }\n",
              "  return element;\n",
              "}\n",
              "\n",
              "// Max number of bytes which will be uploaded at a time.\n",
              "const MAX_PAYLOAD_SIZE = 100 * 1024;\n",
              "\n",
              "function _uploadFiles(inputId, outputId) {\n",
              "  const steps = uploadFilesStep(inputId, outputId);\n",
              "  const outputElement = document.getElementById(outputId);\n",
              "  // Cache steps on the outputElement to make it available for the next call\n",
              "  // to uploadFilesContinue from Python.\n",
              "  outputElement.steps = steps;\n",
              "\n",
              "  return _uploadFilesContinue(outputId);\n",
              "}\n",
              "\n",
              "// This is roughly an async generator (not supported in the browser yet),\n",
              "// where there are multiple asynchronous steps and the Python side is going\n",
              "// to poll for completion of each step.\n",
              "// This uses a Promise to block the python side on completion of each step,\n",
              "// then passes the result of the previous step as the input to the next step.\n",
              "function _uploadFilesContinue(outputId) {\n",
              "  const outputElement = document.getElementById(outputId);\n",
              "  const steps = outputElement.steps;\n",
              "\n",
              "  const next = steps.next(outputElement.lastPromiseValue);\n",
              "  return Promise.resolve(next.value.promise).then((value) => {\n",
              "    // Cache the last promise value to make it available to the next\n",
              "    // step of the generator.\n",
              "    outputElement.lastPromiseValue = value;\n",
              "    return next.value.response;\n",
              "  });\n",
              "}\n",
              "\n",
              "/**\n",
              " * Generator function which is called between each async step of the upload\n",
              " * process.\n",
              " * @param {string} inputId Element ID of the input file picker element.\n",
              " * @param {string} outputId Element ID of the output display.\n",
              " * @return {!Iterable<!Object>} Iterable of next steps.\n",
              " */\n",
              "function* uploadFilesStep(inputId, outputId) {\n",
              "  const inputElement = document.getElementById(inputId);\n",
              "  inputElement.disabled = false;\n",
              "\n",
              "  const outputElement = document.getElementById(outputId);\n",
              "  outputElement.innerHTML = '';\n",
              "\n",
              "  const pickedPromise = new Promise((resolve) => {\n",
              "    inputElement.addEventListener('change', (e) => {\n",
              "      resolve(e.target.files);\n",
              "    });\n",
              "  });\n",
              "\n",
              "  const cancel = document.createElement('button');\n",
              "  inputElement.parentElement.appendChild(cancel);\n",
              "  cancel.textContent = 'Cancel upload';\n",
              "  const cancelPromise = new Promise((resolve) => {\n",
              "    cancel.onclick = () => {\n",
              "      resolve(null);\n",
              "    };\n",
              "  });\n",
              "\n",
              "  // Wait for the user to pick the files.\n",
              "  const files = yield {\n",
              "    promise: Promise.race([pickedPromise, cancelPromise]),\n",
              "    response: {\n",
              "      action: 'starting',\n",
              "    }\n",
              "  };\n",
              "\n",
              "  cancel.remove();\n",
              "\n",
              "  // Disable the input element since further picks are not allowed.\n",
              "  inputElement.disabled = true;\n",
              "\n",
              "  if (!files) {\n",
              "    return {\n",
              "      response: {\n",
              "        action: 'complete',\n",
              "      }\n",
              "    };\n",
              "  }\n",
              "\n",
              "  for (const file of files) {\n",
              "    const li = document.createElement('li');\n",
              "    li.append(span(file.name, {fontWeight: 'bold'}));\n",
              "    li.append(span(\n",
              "        `(${file.type || 'n/a'}) - ${file.size} bytes, ` +\n",
              "        `last modified: ${\n",
              "            file.lastModifiedDate ? file.lastModifiedDate.toLocaleDateString() :\n",
              "                                    'n/a'} - `));\n",
              "    const percent = span('0% done');\n",
              "    li.appendChild(percent);\n",
              "\n",
              "    outputElement.appendChild(li);\n",
              "\n",
              "    const fileDataPromise = new Promise((resolve) => {\n",
              "      const reader = new FileReader();\n",
              "      reader.onload = (e) => {\n",
              "        resolve(e.target.result);\n",
              "      };\n",
              "      reader.readAsArrayBuffer(file);\n",
              "    });\n",
              "    // Wait for the data to be ready.\n",
              "    let fileData = yield {\n",
              "      promise: fileDataPromise,\n",
              "      response: {\n",
              "        action: 'continue',\n",
              "      }\n",
              "    };\n",
              "\n",
              "    // Use a chunked sending to avoid message size limits. See b/62115660.\n",
              "    let position = 0;\n",
              "    do {\n",
              "      const length = Math.min(fileData.byteLength - position, MAX_PAYLOAD_SIZE);\n",
              "      const chunk = new Uint8Array(fileData, position, length);\n",
              "      position += length;\n",
              "\n",
              "      const base64 = btoa(String.fromCharCode.apply(null, chunk));\n",
              "      yield {\n",
              "        response: {\n",
              "          action: 'append',\n",
              "          file: file.name,\n",
              "          data: base64,\n",
              "        },\n",
              "      };\n",
              "\n",
              "      let percentDone = fileData.byteLength === 0 ?\n",
              "          100 :\n",
              "          Math.round((position / fileData.byteLength) * 100);\n",
              "      percent.textContent = `${percentDone}% done`;\n",
              "\n",
              "    } while (position < fileData.byteLength);\n",
              "  }\n",
              "\n",
              "  // All done.\n",
              "  yield {\n",
              "    response: {\n",
              "      action: 'complete',\n",
              "    }\n",
              "  };\n",
              "}\n",
              "\n",
              "scope.google = scope.google || {};\n",
              "scope.google.colab = scope.google.colab || {};\n",
              "scope.google.colab._files = {\n",
              "  _uploadFiles,\n",
              "  _uploadFilesContinue,\n",
              "};\n",
              "})(self);\n",
              "</script> "
            ]
          },
          "metadata": {}
        },
        {
          "output_type": "stream",
          "name": "stdout",
          "text": [
            "Saving rgbmap.png to rgbmap.png\n"
          ]
        }
      ]
    },
    {
      "cell_type": "code",
      "source": [
        "# converting file to Image object\n",
        "img = Image.open(filename)\n",
        "\n",
        "#Image.open(filename)"
      ],
      "metadata": {
        "id": "LJeVExWQ6QXI"
      },
      "execution_count": 5,
      "outputs": []
    },
    {
      "cell_type": "code",
      "source": [
        "(left, upper, right, lower) = (20, 20, 100, 100)\n",
        "crop_test = img.crop((left, upper, right, lower))\n",
        "\n"
      ],
      "metadata": {
        "id": "BhL9CCyg7c7u"
      },
      "execution_count": 6,
      "outputs": []
    },
    {
      "cell_type": "code",
      "source": [
        "crop_test"
      ],
      "metadata": {
        "colab": {
          "base_uri": "https://localhost:8080/",
          "height": 97
        },
        "id": "nBRP6MFV7thy",
        "outputId": "d277543b-fb87-458f-9dec-2bfdee979878"
      },
      "execution_count": null,
      "outputs": [
        {
          "output_type": "execute_result",
          "data": {
            "text/plain": [
              "<PIL.Image.Image image mode=RGB size=80x80>"
            ],
            "image/png": "[encoded data removed]"
          },
          "metadata": {},
          "execution_count": 34
        }
      ]
    },
    {
      "cell_type": "code",
      "source": [
        "display(crop_test)"
      ],
      "metadata": {
        "colab": {
          "base_uri": "https://localhost:8080/",
          "height": 97
        },
        "id": "u7OjR0CQ_von",
        "outputId": "f2033b4b-acb9-4fd1-dee0-683446bc05db"
      },
      "execution_count": null,
      "outputs": [
        {
          "output_type": "display_data",
          "data": {
            "text/plain": [
              "<PIL.Image.Image image mode=RGB size=80x80>"
            ],
            "image/png": "[encoded data removed]"
          },
          "metadata": {}
        }
      ]
    },
    {
      "cell_type": "code",
      "source": [
        "detail = int(input(\"select detail quality\"))"
      ],
      "metadata": {
        "colab": {
          "base_uri": "https://localhost:8080/"
        },
        "id": "wzljlrUbDocN",
        "outputId": "b9cb1de3-90c9-4958-a655-f8354d930875"
      },
      "execution_count": 23,
      "outputs": [
        {
          "name": "stdout",
          "output_type": "stream",
          "text": [
            "select detail quality10\n"
          ]
        }
      ]
    },
    {
      "cell_type": "code",
      "source": [
        "# putting all cropped images in list\n",
        "\n",
        "listtest = []\n",
        "\n",
        "#each image size is detailxdetail\n",
        "for i in range(0, img.width-detail, detail):\n",
        "  for j in range(0, img.height-detail, detail):\n",
        "    listtest.append(img.crop((j, i, j+detail, i+detail)))\n",
        "    crop = img.crop((j, i, j+detail, i+detail))\n",
        "    ## display(crop)\n"
      ],
      "metadata": {
        "id": "M5XzRIz_8Q04"
      },
      "execution_count": 24,
      "outputs": []
    },
    {
      "cell_type": "code",
      "source": [
        "## TESTING\n",
        "def get_dominant_color(pil_img):\n",
        "    img = pil_img.copy()\n",
        "    img = img.convert(\"RGBA\")\n",
        "    img = img.resize((1, 1), resample=0)\n",
        "    dominant_color = img.getpixel((0, 0))\n",
        "    return dominant_color"
      ],
      "metadata": {
        "id": "1SJPdjDSKpVz"
      },
      "execution_count": 44,
      "outputs": []
    },
    {
      "cell_type": "code",
      "source": [
        "print(get_dominant_color(listtest[0]))\n",
        "display(listtest[0])\n",
        "#print(pix(listtest[0][0,10]))"
      ],
      "metadata": {
        "colab": {
          "base_uri": "https://localhost:8080/",
          "height": 53
        },
        "id": "reBPTXuTKq9I",
        "outputId": "afe212d5-dce3-4f6d-bd34-2e8f930e9e5c"
      },
      "execution_count": 77,
      "outputs": [
        {
          "output_type": "stream",
          "name": "stdout",
          "text": [
            "255\n"
          ]
        },
        {
          "output_type": "display_data",
          "data": {
            "text/plain": [
              "<PIL.Image.Image image mode=RGB size=10x10>"
            ],
            "image/png": "[encoded data removed]"
          },
          "metadata": {}
        }
      ]
    },
    {
      "cell_type": "code",
      "source": [
        "# rgb values array test\n",
        "\n",
        "for i in range(len(listtest)):\n",
        "  #np.average(crop, axis=(0,1))\n",
        "  hi = np.average((listtest[i]), axis=(0,1))\n",
        "  print(hi)\n"
      ],
      "metadata": {
        "colab": {
          "base_uri": "https://localhost:8080/"
        },
        "collapsed": true,
        "id": "-qufO5Nz-Zd9",
        "outputId": "0b82c163-3df7-44c9-f050-53466811ccfe"
      },
      "execution_count": 8,
      "outputs": [
        {
          "output_type": "stream",
          "name": "stdout",
          "text": [
            "[243.      68.4272   0.    ]\n",
            "[237.5184 206.1328   0.    ]\n",
            "[131.5568 243.       0.    ]\n",
            "[ 12.4336 243.      23.8208]\n",
            "[  0.     243.     154.4672]\n",
            "[  0.     187.88   242.0352]\n",
            "[  2.2016  47.8432 243.    ]\n",
            "[ 97.0704   0.     243.    ]\n",
            "[223.832    0.     226.7184]\n",
            "[243.       0.     102.8752]\n",
            "[218.      61.3248   0.    ]\n",
            "[213.0624 184.8976   0.    ]\n",
            "[117.9488 218.       0.    ]\n",
            "[ 11.136  218.      21.3584]\n",
            "[  0.     218.     138.5344]\n",
            "[  0.     168.4848 217.1248]\n",
            "[  1.9808  42.8752 218.    ]\n",
            "[ 87.0432   0.     218.    ]\n",
            "[200.7872   0.     203.3552]\n",
            "[218.      0.     92.216]\n",
            "[193.     54.224   0.   ]\n",
            "[188.6048 163.6448   0.    ]\n",
            "[104.36 193.     0.  ]\n",
            "[  9.8288 193.      18.864 ]\n",
            "[  0.    193.    122.584]\n",
            "[  0.     149.1008 192.208 ]\n",
            "[  1.7424  37.896  193.    ]\n",
            "[ 76.9872   0.     193.    ]\n",
            "[177.7152   0.     180.    ]\n",
            "[193.       0.      81.5728]\n",
            "[168.      47.1408   0.    ]\n",
            "[164.1488 142.3904   0.    ]\n",
            "[ 90.7728 168.       0.    ]\n",
            "[  8.536  168.      16.3856]\n",
            "[  0.     168.     106.6448]\n",
            "[  0.     129.7152 167.2976]\n",
            "[  1.5072  32.9456 168.    ]\n",
            "[ 66.9568   0.     168.    ]\n",
            "[154.656    0.     156.6416]\n",
            "[168.       0.      70.9456]\n",
            "[143.      40.0384   0.    ]\n",
            "[139.6912 121.1424   0.    ]\n",
            "[ 77.1824 143.       0.    ]\n",
            "[  7.2304 143.      13.8976]\n",
            "[  0.     143.      90.6976]\n",
            "[  0.     110.3344 142.3824]\n",
            "[  1.2736  27.9744 143.    ]\n",
            "[ 56.9024   0.     143.    ]\n",
            "[131.6      0.     133.2928]\n",
            "[143.       0.      60.2928]\n",
            "[118.      32.9968   0.    ]\n",
            "[115.2784  99.912    0.    ]\n",
            "[ 63.64 118.     0.  ]\n",
            "[  5.944 118.     11.424]\n",
            "[  0.     118.      74.7456]\n",
            "[  0.      91.0272 117.5056]\n",
            "[  1.0304  23.0416 118.    ]\n",
            "[ 46.8832   0.     118.    ]\n",
            "[108.5584   0.     109.9776]\n",
            "[118.       0.      49.7168]\n",
            "[93.     25.8928  0.    ]\n",
            "[90.8192 78.6768  0.    ]\n",
            "[50.032 93.     0.   ]\n",
            "[ 4.6384 93.      8.9552]\n",
            "[ 0.     93.     58.8144]\n",
            "[ 0.     71.6304 92.6   ]\n",
            "[ 0.8016 18.0592 93.    ]\n",
            "[36.8528  0.     93.    ]\n",
            "[85.5136  0.     86.6192]\n",
            "[93.      0.     39.0576]\n",
            "[68.     18.7904  0.    ]\n",
            "[66.36   57.4256  0.    ]\n",
            "[36.4464 68.      0.    ]\n",
            "[ 3.3296 68.      6.4624]\n",
            "[ 0.     68.     42.8736]\n",
            "[ 0.    52.248 67.68 ]\n",
            "[ 0.5584 13.088  68.    ]\n",
            "[26.808  0.    68.   ]\n",
            "[62.4496  0.     63.2624]\n",
            "[68.      0.     28.4176]\n",
            "[43.     11.7056  0.    ]\n",
            "[41.904  36.1696  0.    ]\n",
            "[22.8576 43.      0.    ]\n",
            "[ 2.0336 43.      3.984 ]\n",
            "[ 0.     43.     26.9216]\n",
            "[ 0.     32.8624 42.7696]\n",
            "[ 0.3264  8.1328 43.    ]\n",
            "[16.7648  0.     43.    ]\n",
            "[39.384   0.     39.9056]\n",
            "[43.      0.     17.7792]\n",
            "[18.      4.6048  0.    ]\n",
            "[17.4512 14.9232  0.    ]\n",
            "[ 9.2656 18.      0.    ]\n",
            "[ 0.7312 18.      1.4928]\n",
            "[ 0.     18.     10.9744]\n",
            "[ 0.     13.4864 17.8608]\n",
            "[ 0.0896  3.1616 18.    ]\n",
            "[ 6.7072  0.     18.    ]\n",
            "[16.3312  0.     16.56  ]\n",
            "[18.      0.      7.1328]\n"
          ]
        }
      ]
    },
    {
      "cell_type": "code",
      "source": [
        "def find_Avg_Color(cropped_average, original_array):\n",
        "  r = cropped_average[0]\n",
        "  g = cropped_average[1]\n",
        "  b = cropped_average[2]\n",
        "\n",
        "  current_lowest = 1000\n",
        "  lowest_index = 0;\n",
        "  for i in range(len(original_array)):\n",
        "    total_difference = 0;\n",
        "    curr_avg = np.average(original_array[i], axis=(0,1))\n",
        "    #print(curr_avg)\n",
        "\n",
        "    total_difference += abs(r - curr_avg[0])\n",
        "    total_difference += abs(g - curr_avg[1])\n",
        "    total_difference += abs(b - curr_avg[2])\n",
        "\n",
        "    if (total_difference < current_lowest):\n",
        "      current_lowest = total_difference\n",
        "      lowest_index = i\n",
        "\n",
        "  return lowest_index\n"
      ],
      "metadata": {
        "id": "5ABuncyb63AS"
      },
      "execution_count": 25,
      "outputs": []
    },
    {
      "cell_type": "code",
      "source": [
        "def find_Dominant_Color(cropped_img, original_array):\n",
        "\n",
        "  img = cropped_img.copy()\n",
        "  img = img.convert(\"RGBA\")\n",
        "  img = img.resize((1, 1), resample=0)\n",
        "  dominant_color = img.getpixel((0, 0))\n",
        "\n",
        "  # print(dominant_color[3])\n",
        "\n",
        "\n",
        "  current_lowest = 1000\n",
        "  lowest_index = 0;\n",
        "\n",
        "  for i in range(len(original_array)):\n",
        "    total_difference = 0;\n",
        "\n",
        "    original_img = original_array[i].convert(\"RGBA\")\n",
        "    original_img = original_img.convert(\"RGBA\")\n",
        "    original_img = original_img.resize((1, 1), resample=0)\n",
        "    original_dominant_color = original_img.getpixel((0,0))\n",
        "\n",
        "    r = original_dominant_color[0]\n",
        "    g = original_dominant_color[1]\n",
        "    b = original_dominant_color[2]\n",
        "    a = original_dominant_color[3]\n",
        "\n",
        "    total_difference += abs(r - dominant_color[0])\n",
        "    total_difference += abs(g - dominant_color[1])\n",
        "    total_difference += abs(b - dominant_color[2])\n",
        "    total_difference += abs(a - dominant_color[3])\n",
        "\n",
        "    if (total_difference < current_lowest):\n",
        "      current_lowest = total_difference\n",
        "      lowest_index = i\n",
        "\n",
        "  return lowest_index"
      ],
      "metadata": {
        "id": "6y8DqXjYIvyU"
      },
      "execution_count": 80,
      "outputs": []
    },
    {
      "cell_type": "code",
      "source": [
        "#list contents\n",
        "\n",
        "for i in range(len(listtest)):\n",
        "  display(listtest[i])"
      ],
      "metadata": {
        "colab": {
          "base_uri": "https://localhost:8080/",
          "height": 0
        },
        "id": "aD2NEPgPGGte",
        "outputId": "90d91cef-82d0-4e87-ab33-21658eb9a72c",
        "collapsed": true
      },
      "execution_count": 26,
      "outputs": [
        {
          "output_type": "display_data",
          "data": {
            "text/plain": [
              "<PIL.Image.Image image mode=RGB size=10x10>"
            ],
            "image/png": "[encoded data removed]"
          },
          "metadata": {}
        },
        {
          "output_type": "display_data",
          "data": {
            "text/plain": [
              "<PIL.Image.Image image mode=RGB size=10x10>"
            ],
            "image/png": "[encoded data removed]"
          },
          "metadata": {}
        },
        {
          "output_type": "display_data",
          "data": {
            "text/plain": [
              "<PIL.Image.Image image mode=RGB size=10x10>"
            ],
            "image/png": "[encoded data removed]"
          },
          "metadata": {}
        },
        {
          "output_type": "display_data",
          "data": {
            "text/plain": [
              "<PIL.Image.Image image mode=RGB size=10x10>"
            ],
            "image/png": "[encoded data removed]"
          },
          "metadata": {}
        },
        {
          "output_type": "display_data",
          "data": {
            "text/plain": [
              "<PIL.Image.Image image mode=RGB size=10x10>"
            ],
            "image/png": "[encoded data removed]"
          },
          "metadata": {}
        },
        {
          "output_type": "display_data",
          "data": {
            "text/plain": [
              "<PIL.Image.Image image mode=RGB size=10x10>"
            ],
            "image/png": "[encoded data removed]"
          },
          "metadata": {}
        },
        {
          "output_type": "display_data",
          "data": {
            "text/plain": [
              "<PIL.Image.Image image mode=RGB size=10x10>"
            ],
            "image/png": "[encoded data removed]"
          },
          "metadata": {}
        },
        {
          "output_type": "display_data",
          "data": {
            "text/plain": [
              "<PIL.Image.Image image mode=RGB size=10x10>"
            ],
            "image/png": "[encoded data removed]"
          },
          "metadata": {}
        },
        {
          "output_type": "display_data",
          "data": {
            "text/plain": [
              "<PIL.Image.Image image mode=RGB size=10x10>"
            ],
            "image/png": "[encoded data removed]"
          },
          "metadata": {}
        },
        {
          "output_type": "display_data",
          "data": {
            "text/plain": [
              "<PIL.Image.Image image mode=RGB size=10x10>"
            ],
            "image/png": "[encoded data removed]"
          },
          "metadata": {}
        },
        {
          "output_type": "display_data",
          "data": {
            "text/plain": [
              "<PIL.Image.Image image mode=RGB size=10x10>"
            ],
            "image/png": "[encoded data removed]"
          },
          "metadata": {}
        },
        {
          "output_type": "display_data",
          "data": {
            "text/plain": [
              "<PIL.Image.Image image mode=RGB size=10x10>"
            ],
            "image/png": "[encoded data removed]"
          },
          "metadata": {}
        },
        {
          "output_type": "display_data",
          "data": {
            "text/plain": [
              "<PIL.Image.Image image mode=RGB size=10x10>"
            ],
            "image/png": "[encoded data removed]"
          },
          "metadata": {}
        },
        {
          "output_type": "display_data",
          "data": {
            "text/plain": [
              "<PIL.Image.Image image mode=RGB size=10x10>"
            ],
            "image/png": "[encoded data removed]"
          },
          "metadata": {}
        },
        {
          "output_type": "display_data",
          "data": {
            "text/plain": [
              "<PIL.Image.Image image mode=RGB size=10x10>"
            ],
            "image/png": "[encoded data removed]"
          },
          "metadata": {}
        },
        {
          "output_type": "display_data",
          "data": {
            "text/plain": [
              "<PIL.Image.Image image mode=RGB size=10x10>"
            ],
            "image/png": "[encoded data removed]"
          },
          "metadata": {}
        },
        {
          "output_type": "display_data",
          "data": {
            "text/plain": [
              "<PIL.Image.Image image mode=RGB size=10x10>"
            ],
            "image/png": "[encoded data removed]"
          },
          "metadata": {}
        },
        {
          "output_type": "display_data",
          "data": {
            "text/plain": [
              "<PIL.Image.Image image mode=RGB size=10x10>"
            ],
            "image/png": "[encoded data removed]"
          },
          "metadata": {}
        },
        {
          "output_type": "display_data",
          "data": {
            "text/plain": [
              "<PIL.Image.Image image mode=RGB size=10x10>"
            ],
            "image/png": "[encoded data removed]"
          },
          "metadata": {}
        },
        {
          "output_type": "display_data",
          "data": {
            "text/plain": [
              "<PIL.Image.Image image mode=RGB size=10x10>"
            ],
            "image/png": "[encoded data removed]"
          },
          "metadata": {}
        },
        {
          "output_type": "display_data",
          "data": {
            "text/plain": [
              "<PIL.Image.Image image mode=RGB size=10x10>"
            ],
            "image/png": "[encoded data removed]"
          },
          "metadata": {}
        },
        {
          "output_type": "display_data",
          "data": {
            "text/plain": [
              "<PIL.Image.Image image mode=RGB size=10x10>"
            ],
            "image/png": "[encoded data removed]"
          },
          "metadata": {}
        },
        {
          "output_type": "display_data",
          "data": {
            "text/plain": [
              "<PIL.Image.Image image mode=RGB size=10x10>"
            ],
            "image/png": "[encoded data removed]"
          },
          "metadata": {}
        },
        {
          "output_type": "display_data",
          "data": {
            "text/plain": [
              "<PIL.Image.Image image mode=RGB size=10x10>"
            ],
            "image/png": "[encoded data removed]"
          },
          "metadata": {}
        },
        {
          "output_type": "display_data",
          "data": {
            "text/plain": [
              "<PIL.Image.Image image mode=RGB size=10x10>"
            ],
            "image/png": "[encoded data removed]"
          },
          "metadata": {}
        },
        {
          "output_type": "display_data",
          "data": {
            "text/plain": [
              "<PIL.Image.Image image mode=RGB size=10x10>"
            ],
            "image/png": "[encoded data removed]"
          },
          "metadata": {}
        },
        {
          "output_type": "display_data",
          "data": {
            "text/plain": [
              "<PIL.Image.Image image mode=RGB size=10x10>"
            ],
            "image/png": "[encoded data removed]"
          },
          "metadata": {}
        },
        {
          "output_type": "display_data",
          "data": {
            "text/plain": [
              "<PIL.Image.Image image mode=RGB size=10x10>"
            ],
            "image/png": "[encoded data removed]"
          },
          "metadata": {}
        },
        {
          "output_type": "display_data",
          "data": {
            "text/plain": [
              "<PIL.Image.Image image mode=RGB size=10x10>"
            ],
            "image/png": "[encoded data removed]"
          },
          "metadata": {}
        },
        {
          "output_type": "display_data",
          "data": {
            "text/plain": [
              "<PIL.Image.Image image mode=RGB size=10x10>"
            ],
            "image/png": "[encoded data removed]"
          },
          "metadata": {}
        },
        {
          "output_type": "display_data",
          "data": {
            "text/plain": [
              "<PIL.Image.Image image mode=RGB size=10x10>"
            ],
            "image/png": "[encoded data removed]"
          },
          "metadata": {}
        },
        {
          "output_type": "display_data",
          "data": {
            "text/plain": [
              "<PIL.Image.Image image mode=RGB size=10x10>"
            ],
            "image/png": "[encoded data removed]"
          },
          "metadata": {}
        },
        {
          "output_type": "display_data",
          "data": {
            "text/plain": [
              "<PIL.Image.Image image mode=RGB size=10x10>"
            ],
            "image/png": "[encoded data removed]"
          },
          "metadata": {}
        },
        {
          "output_type": "display_data",
          "data": {
            "text/plain": [
              "<PIL.Image.Image image mode=RGB size=10x10>"
            ],
            "image/png": "[encoded data removed]"
          },
          "metadata": {}
        },
        {
          "output_type": "display_data",
          "data": {
            "text/plain": [
              "<PIL.Image.Image image mode=RGB size=10x10>"
            ],
            "image/png": "[encoded data removed]"
          },
          "metadata": {}
        },
        {
          "output_type": "display_data",
          "data": {
            "text/plain": [
              "<PIL.Image.Image image mode=RGB size=10x10>"
            ],
            "image/png": "[encoded data removed]"
          },
          "metadata": {}
        },
        {
          "output_type": "display_data",
          "data": {
            "text/plain": [
              "<PIL.Image.Image image mode=RGB size=10x10>"
            ],
            "image/png": "[encoded data removed]"
          },
          "metadata": {}
        },
        {
          "output_type": "display_data",
          "data": {
            "text/plain": [
              "<PIL.Image.Image image mode=RGB size=10x10>"
            ],
            "image/png": "[encoded data removed]"
          },
          "metadata": {}
        },
        {
          "output_type": "display_data",
          "data": {
            "text/plain": [
              "<PIL.Image.Image image mode=RGB size=10x10>"
            ],
            "image/png": "[encoded data removed]"
          },
          "metadata": {}
        },
        {
          "output_type": "display_data",
          "data": {
            "text/plain": [
              "<PIL.Image.Image image mode=RGB size=10x10>"
            ],
            "image/png": "[encoded data removed]"
          },
          "metadata": {}
        },
        {
          "output_type": "display_data",
          "data": {
            "text/plain": [
              "<PIL.Image.Image image mode=RGB size=10x10>"
            ],
            "image/png": "[encoded data removed]"
          },
          "metadata": {}
        },
        {
          "output_type": "display_data",
          "data": {
            "text/plain": [
              "<PIL.Image.Image image mode=RGB size=10x10>"
            ],
            "image/png": "[encoded data removed]"
          },
          "metadata": {}
        },
        {
          "output_type": "display_data",
          "data": {
            "text/plain": [
              "<PIL.Image.Image image mode=RGB size=10x10>"
            ],
            "image/png": "[encoded data removed]"
          },
          "metadata": {}
        },
        {
          "output_type": "display_data",
          "data": {
            "text/plain": [
              "<PIL.Image.Image image mode=RGB size=10x10>"
            ],
            "image/png": "[encoded data removed]"
          },
          "metadata": {}
        },
        {
          "output_type": "display_data",
          "data": {
            "text/plain": [
              "<PIL.Image.Image image mode=RGB size=10x10>"
            ],
            "image/png": "[encoded data removed]"
          },
          "metadata": {}
        },
        {
          "output_type": "display_data",
          "data": {
            "text/plain": [
              "<PIL.Image.Image image mode=RGB size=10x10>"
            ],
            "image/png": "[encoded data removed]"
          },
          "metadata": {}
        },
        {
          "output_type": "display_data",
          "data": {
            "text/plain": [
              "<PIL.Image.Image image mode=RGB size=10x10>"
            ],
            "image/png": "[encoded data removed]"
          },
          "metadata": {}
        },
        {
          "output_type": "display_data",
          "data": {
            "text/plain": [
              "<PIL.Image.Image image mode=RGB size=10x10>"
            ],
            "image/png": "[encoded data removed]"
          },
          "metadata": {}
        },
        {
          "output_type": "display_data",
          "data": {
            "text/plain": [
              "<PIL.Image.Image image mode=RGB size=10x10>"
            ],
            "image/png": "[encoded data removed]"
          },
          "metadata": {}
        },
        {
          "output_type": "display_data",
          "data": {
            "text/plain": [
              "<PIL.Image.Image image mode=RGB size=10x10>"
            ],
            "image/png": "[encoded data removed]"
          },
          "metadata": {}
        },
        {
          "output_type": "display_data",
          "data": {
            "text/plain": [
              "<PIL.Image.Image image mode=RGB size=10x10>"
            ],
            "image/png": "[encoded data removed]"
          },
          "metadata": {}
        },
        {
          "output_type": "display_data",
          "data": {
            "text/plain": [
              "<PIL.Image.Image image mode=RGB size=10x10>"
            ],
            "image/png": "[encoded data removed]"
          },
          "metadata": {}
        },
        {
          "output_type": "display_data",
          "data": {
            "text/plain": [
              "<PIL.Image.Image image mode=RGB size=10x10>"
            ],
            "image/png": "[encoded data removed]"
          },
          "metadata": {}
        },
        {
          "output_type": "display_data",
          "data": {
            "text/plain": [
              "<PIL.Image.Image image mode=RGB size=10x10>"
            ],
            "image/png": "[encoded data removed]"
          },
          "metadata": {}
        },
        {
          "output_type": "display_data",
          "data": {
            "text/plain": [
              "<PIL.Image.Image image mode=RGB size=10x10>"
            ],
            "image/png": "[encoded data removed]"
          },
          "metadata": {}
        },
        {
          "output_type": "display_data",
          "data": {
            "text/plain": [
              "<PIL.Image.Image image mode=RGB size=10x10>"
            ],
            "image/png": "[encoded data removed]"
          },
          "metadata": {}
        },
        {
          "output_type": "display_data",
          "data": {
            "text/plain": [
              "<PIL.Image.Image image mode=RGB size=10x10>"
            ],
            "image/png": "[encoded data removed]"
          },
          "metadata": {}
        },
        {
          "output_type": "display_data",
          "data": {
            "text/plain": [
              "<PIL.Image.Image image mode=RGB size=10x10>"
            ],
            "image/png": "[encoded data removed]"
          },
          "metadata": {}
        },
        {
          "output_type": "display_data",
          "data": {
            "text/plain": [
              "<PIL.Image.Image image mode=RGB size=10x10>"
            ],
            "image/png": "[encoded data removed]"
          },
          "metadata": {}
        },
        {
          "output_type": "display_data",
          "data": {
            "text/plain": [
              "<PIL.Image.Image image mode=RGB size=10x10>"
            ],
            "image/png": "[encoded data removed]"
          },
          "metadata": {}
        },
        {
          "output_type": "display_data",
          "data": {
            "text/plain": [
              "<PIL.Image.Image image mode=RGB size=10x10>"
            ],
            "image/png": "[encoded data removed]"
          },
          "metadata": {}
        },
        {
          "output_type": "display_data",
          "data": {
            "text/plain": [
              "<PIL.Image.Image image mode=RGB size=10x10>"
            ],
            "image/png": "[encoded data removed]"
          },
          "metadata": {}
        },
        {
          "output_type": "display_data",
          "data": {
            "text/plain": [
              "<PIL.Image.Image image mode=RGB size=10x10>"
            ],
            "image/png": "[encoded data removed]"
          },
          "metadata": {}
        },
        {
          "output_type": "display_data",
          "data": {
            "text/plain": [
              "<PIL.Image.Image image mode=RGB size=10x10>"
            ],
            "image/png": "[encoded data removed]"
          },
          "metadata": {}
        },
        {
          "output_type": "display_data",
          "data": {
            "text/plain": [
              "<PIL.Image.Image image mode=RGB size=10x10>"
            ],
            "image/png": "[encoded data removed]"
          },
          "metadata": {}
        },
        {
          "output_type": "display_data",
          "data": {
            "text/plain": [
              "<PIL.Image.Image image mode=RGB size=10x10>"
            ],
            "image/png": "[encoded data removed]"
          },
          "metadata": {}
        },
        {
          "output_type": "display_data",
          "data": {
            "text/plain": [
              "<PIL.Image.Image image mode=RGB size=10x10>"
            ],
            "image/png": "[encoded data removed]"
          },
          "metadata": {}
        },
        {
          "output_type": "display_data",
          "data": {
            "text/plain": [
              "<PIL.Image.Image image mode=RGB size=10x10>"
            ],
            "image/png": "[encoded data removed]"
          },
          "metadata": {}
        },
        {
          "output_type": "display_data",
          "data": {
            "text/plain": [
              "<PIL.Image.Image image mode=RGB size=10x10>"
            ],
            "image/png": "[encoded data removed]"
          },
          "metadata": {}
        },
        {
          "output_type": "display_data",
          "data": {
            "text/plain": [
              "<PIL.Image.Image image mode=RGB size=10x10>"
            ],
            "image/png": "[encoded data removed]"
          },
          "metadata": {}
        },
        {
          "output_type": "display_data",
          "data": {
            "text/plain": [
              "<PIL.Image.Image image mode=RGB size=10x10>"
            ],
            "image/png": "[encoded data removed]"
          },
          "metadata": {}
        },
        {
          "output_type": "display_data",
          "data": {
            "text/plain": [
              "<PIL.Image.Image image mode=RGB size=10x10>"
            ],
            "image/png": "[encoded data removed]"
          },
          "metadata": {}
        },
        {
          "output_type": "display_data",
          "data": {
            "text/plain": [
              "<PIL.Image.Image image mode=RGB size=10x10>"
            ],
            "image/png": "[encoded data removed]"
          },
          "metadata": {}
        },
        {
          "output_type": "display_data",
          "data": {
            "text/plain": [
              "<PIL.Image.Image image mode=RGB size=10x10>"
            ],
            "image/png": "[encoded data removed]"
          },
          "metadata": {}
        },
        {
          "output_type": "display_data",
          "data": {
            "text/plain": [
              "<PIL.Image.Image image mode=RGB size=10x10>"
            ],
            "image/png": "[encoded data removed]"
          },
          "metadata": {}
        },
        {
          "output_type": "display_data",
          "data": {
            "text/plain": [
              "<PIL.Image.Image image mode=RGB size=10x10>"
            ],
            "image/png": "[encoded data removed]"
          },
          "metadata": {}
        },
        {
          "output_type": "display_data",
          "data": {
            "text/plain": [
              "<PIL.Image.Image image mode=RGB size=10x10>"
            ],
            "image/png": "[encoded data removed]"
          },
          "metadata": {}
        },
        {
          "output_type": "display_data",
          "data": {
            "text/plain": [
              "<PIL.Image.Image image mode=RGB size=10x10>"
            ],
            "image/png": "[encoded data removed]"
          },
          "metadata": {}
        },
        {
          "output_type": "display_data",
          "data": {
            "text/plain": [
              "<PIL.Image.Image image mode=RGB size=10x10>"
            ],
            "image/png": "[encoded data removed]"
          },
          "metadata": {}
        },
        {
          "output_type": "display_data",
          "data": {
            "text/plain": [
              "<PIL.Image.Image image mode=RGB size=10x10>"
            ],
            "image/png": "[encoded data removed]"
          },
          "metadata": {}
        },
        {
          "output_type": "display_data",
          "data": {
            "text/plain": [
              "<PIL.Image.Image image mode=RGB size=10x10>"
            ],
            "image/png": "[encoded data removed]"
          },
          "metadata": {}
        },
        {
          "output_type": "display_data",
          "data": {
            "text/plain": [
              "<PIL.Image.Image image mode=RGB size=10x10>"
            ],
            "image/png": "[encoded data removed]"
          },
          "metadata": {}
        },
        {
          "output_type": "display_data",
          "data": {
            "text/plain": [
              "<PIL.Image.Image image mode=RGB size=10x10>"
            ],
            "image/png": "[encoded data removed]"
          },
          "metadata": {}
        },
        {
          "output_type": "display_data",
          "data": {
            "text/plain": [
              "<PIL.Image.Image image mode=RGB size=10x10>"
            ],
            "image/png": "[encoded data removed]"
          },
          "metadata": {}
        },
        {
          "output_type": "display_data",
          "data": {
            "text/plain": [
              "<PIL.Image.Image image mode=RGB size=10x10>"
            ],
            "image/png": "[encoded data removed]"
          },
          "metadata": {}
        },
        {
          "output_type": "display_data",
          "data": {
            "text/plain": [
              "<PIL.Image.Image image mode=RGB size=10x10>"
            ],
            "image/png": "[encoded data removed]"
          },
          "metadata": {}
        },
        {
          "output_type": "display_data",
          "data": {
            "text/plain": [
              "<PIL.Image.Image image mode=RGB size=10x10>"
            ],
            "image/png": "[encoded data removed]"
          },
          "metadata": {}
        },
        {
          "output_type": "display_data",
          "data": {
            "text/plain": [
              "<PIL.Image.Image image mode=RGB size=10x10>"
            ],
            "image/png": "[encoded data removed]"
          },
          "metadata": {}
        },
        {
          "output_type": "display_data",
          "data": {
            "text/plain": [
              "<PIL.Image.Image image mode=RGB size=10x10>"
            ],
            "image/png": "[encoded data removed]"
          },
          "metadata": {}
        },
        {
          "output_type": "display_data",
          "data": {
            "text/plain": [
              "<PIL.Image.Image image mode=RGB size=10x10>"
            ],
            "image/png": "[encoded data removed]"
          },
          "metadata": {}
        },
        {
          "output_type": "display_data",
          "data": {
            "text/plain": [
              "<PIL.Image.Image image mode=RGB size=10x10>"
            ],
            "image/png": "[encoded data removed]"
          },
          "metadata": {}
        },
        {
          "output_type": "display_data",
          "data": {
            "text/plain": [
              "<PIL.Image.Image image mode=RGB size=10x10>"
            ],
            "image/png": "[encoded data removed]"
          },
          "metadata": {}
        },
        {
          "output_type": "display_data",
          "data": {
            "text/plain": [
              "<PIL.Image.Image image mode=RGB size=10x10>"
            ],
            "image/png": "[encoded data removed]"
          },
          "metadata": {}
        },
        {
          "output_type": "display_data",
          "data": {
            "text/plain": [
              "<PIL.Image.Image image mode=RGB size=10x10>"
            ],
            "image/png": "[encoded data removed]"
          },
          "metadata": {}
        },
        {
          "output_type": "display_data",
          "data": {
            "text/plain": [
              "<PIL.Image.Image image mode=RGB size=10x10>"
            ],
            "image/png": "[encoded data removed]"
          },
          "metadata": {}
        },
        {
          "output_type": "display_data",
          "data": {
            "text/plain": [
              "<PIL.Image.Image image mode=RGB size=10x10>"
            ],
            "image/png": "[encoded data removed]"
          },
          "metadata": {}
        },
        {
          "output_type": "display_data",
          "data": {
            "text/plain": [
              "<PIL.Image.Image image mode=RGB size=10x10>"
            ],
            "image/png": "[encoded data removed]"
          },
          "metadata": {}
        },
        {
          "output_type": "display_data",
          "data": {
            "text/plain": [
              "<PIL.Image.Image image mode=RGB size=10x10>"
            ],
            "image/png": "[encoded data removed]"
          },
          "metadata": {}
        },
        {
          "output_type": "display_data",
          "data": {
            "text/plain": [
              "<PIL.Image.Image image mode=RGB size=10x10>"
            ],
            "image/png": "[encoded data removed]"
          },
          "metadata": {}
        },
        {
          "output_type": "display_data",
          "data": {
            "text/plain": [
              "<PIL.Image.Image image mode=RGB size=10x10>"
            ],
            "image/png": "[encoded data removed]"
          },
          "metadata": {}
        },
        {
          "output_type": "display_data",
          "data": {
            "text/plain": [
              "<PIL.Image.Image image mode=RGB size=10x10>"
            ],
            "image/png": "[encoded data removed]"
          },
          "metadata": {}
        },
        {
          "output_type": "display_data",
          "data": {
            "text/plain": [
              "<PIL.Image.Image image mode=RGB size=10x10>"
            ],
            "image/png": "[encoded data removed]"
          },
          "metadata": {}
        },
        {
          "output_type": "display_data",
          "data": {
            "text/plain": [
              "<PIL.Image.Image image mode=RGB size=10x10>"
            ],
            "image/png": "[encoded data removed]"
          },
          "metadata": {}
        },
        {
          "output_type": "display_data",
          "data": {
            "text/plain": [
              "<PIL.Image.Image image mode=RGB size=10x10>"
            ],
            "image/png": "[encoded data removed]"
          },
          "metadata": {}
        },
        {
          "output_type": "display_data",
          "data": {
            "text/plain": [
              "<PIL.Image.Image image mode=RGB size=10x10>"
            ],
            "image/png": "[encoded data removed]"
          },
          "metadata": {}
        },
        {
          "output_type": "display_data",
          "data": {
            "text/plain": [
              "<PIL.Image.Image image mode=RGB size=10x10>"
            ],
            "image/png": "[encoded data removed]"
          },
          "metadata": {}
        },
        {
          "output_type": "display_data",
          "data": {
            "text/plain": [
              "<PIL.Image.Image image mode=RGB size=10x10>"
            ],
            "image/png": "[encoded data removed]"
          },
          "metadata": {}
        },
        {
          "output_type": "display_data",
          "data": {
            "text/plain": [
              "<PIL.Image.Image image mode=RGB size=10x10>"
            ],
            "image/png": "[encoded data removed]"
          },
          "metadata": {}
        },
        {
          "output_type": "display_data",
          "data": {
            "text/plain": [
              "<PIL.Image.Image image mode=RGB size=10x10>"
            ],
            "image/png": "[encoded data removed]"
          },
          "metadata": {}
        },
        {
          "output_type": "display_data",
          "data": {
            "text/plain": [
              "<PIL.Image.Image image mode=RGB size=10x10>"
            ],
            "image/png": "[encoded data removed]"
          },
          "metadata": {}
        },
        {
          "output_type": "display_data",
          "data": {
            "text/plain": [
              "<PIL.Image.Image image mode=RGB size=10x10>"
            ],
            "image/png": "[encoded data removed]"
          },
          "metadata": {}
        },
        {
          "output_type": "display_data",
          "data": {
            "text/plain": [
              "<PIL.Image.Image image mode=RGB size=10x10>"
            ],
            "image/png": "[encoded data removed]"
          },
          "metadata": {}
        },
        {
          "output_type": "display_data",
          "data": {
            "text/plain": [
              "<PIL.Image.Image image mode=RGB size=10x10>"
            ],
            "image/png": "[encoded data removed]"
          },
          "metadata": {}
        },
        {
          "output_type": "display_data",
          "data": {
            "text/plain": [
              "<PIL.Image.Image image mode=RGB size=10x10>"
            ],
            "image/png": "[encoded data removed]"
          },
          "metadata": {}
        },
        {
          "output_type": "display_data",
          "data": {
            "text/plain": [
              "<PIL.Image.Image image mode=RGB size=10x10>"
            ],
            "image/png": "[encoded data removed]"
          },
          "metadata": {}
        },
        {
          "output_type": "display_data",
          "data": {
            "text/plain": [
              "<PIL.Image.Image image mode=RGB size=10x10>"
            ],
            "image/png": "[encoded data removed]"
          },
          "metadata": {}
        },
        {
          "output_type": "display_data",
          "data": {
            "text/plain": [
              "<PIL.Image.Image image mode=RGB size=10x10>"
            ],
            "image/png": "[encoded data removed]"
          },
          "metadata": {}
        },
        {
          "output_type": "display_data",
          "data": {
            "text/plain": [
              "<PIL.Image.Image image mode=RGB size=10x10>"
            ],
            "image/png": "[encoded data removed]"
          },
          "metadata": {}
        },
        {
          "output_type": "display_data",
          "data": {
            "text/plain": [
              "<PIL.Image.Image image mode=RGB size=10x10>"
            ],
            "image/png": "[encoded data removed]"
          },
          "metadata": {}
        },
        {
          "output_type": "display_data",
          "data": {
            "text/plain": [
              "<PIL.Image.Image image mode=RGB size=10x10>"
            ],
            "image/png": "[encoded data removed]"
          },
          "metadata": {}
        },
        {
          "output_type": "display_data",
          "data": {
            "text/plain": [
              "<PIL.Image.Image image mode=RGB size=10x10>"
            ],
            "image/png": "[encoded data removed]"
          },
          "metadata": {}
        },
        {
          "output_type": "display_data",
          "data": {
            "text/plain": [
              "<PIL.Image.Image image mode=RGB size=10x10>"
            ],
            "image/png": "[encoded data removed]"
          },
          "metadata": {}
        },
        {
          "output_type": "display_data",
          "data": {
            "text/plain": [
              "<PIL.Image.Image image mode=RGB size=10x10>"
            ],
            "image/png": "[encoded data removed]"
          },
          "metadata": {}
        },
        {
          "output_type": "display_data",
          "data": {
            "text/plain": [
              "<PIL.Image.Image image mode=RGB size=10x10>"
            ],
            "image/png": "[encoded data removed]"
          },
          "metadata": {}
        },
        {
          "output_type": "display_data",
          "data": {
            "text/plain": [
              "<PIL.Image.Image image mode=RGB size=10x10>"
            ],
            "image/png": "[encoded data removed]"
          },
          "metadata": {}
        },
        {
          "output_type": "display_data",
          "data": {
            "text/plain": [
              "<PIL.Image.Image image mode=RGB size=10x10>"
            ],
            "image/png": "[encoded data removed]"
          },
          "metadata": {}
        },
        {
          "output_type": "display_data",
          "data": {
            "text/plain": [
              "<PIL.Image.Image image mode=RGB size=10x10>"
            ],
            "image/png": "[encoded data removed]"
          },
          "metadata": {}
        },
        {
          "output_type": "display_data",
          "data": {
            "text/plain": [
              "<PIL.Image.Image image mode=RGB size=10x10>"
            ],
            "image/png": "[encoded data removed]"
          },
          "metadata": {}
        },
        {
          "output_type": "display_data",
          "data": {
            "text/plain": [
              "<PIL.Image.Image image mode=RGB size=10x10>"
            ],
            "image/png": "[encoded data removed]"
          },
          "metadata": {}
        },
        {
          "output_type": "display_data",
          "data": {
            "text/plain": [
              "<PIL.Image.Image image mode=RGB size=10x10>"
            ],
            "image/png": "[encoded data removed]"
          },
          "metadata": {}
        },
        {
          "output_type": "display_data",
          "data": {
            "text/plain": [
              "<PIL.Image.Image image mode=RGB size=10x10>"
            ],
            "image/png": "[encoded data removed]"
          },
          "metadata": {}
        },
        {
          "output_type": "display_data",
          "data": {
            "text/plain": [
              "<PIL.Image.Image image mode=RGB size=10x10>"
            ],
            "image/png": "[encoded data removed]"
          },
          "metadata": {}
        },
        {
          "output_type": "display_data",
          "data": {
            "text/plain": [
              "<PIL.Image.Image image mode=RGB size=10x10>"
            ],
            "image/png": "[encoded data removed]"
          },
          "metadata": {}
        },
        {
          "output_type": "display_data",
          "data": {
            "text/plain": [
              "<PIL.Image.Image image mode=RGB size=10x10>"
            ],
            "image/png": "[encoded data removed]"
          },
          "metadata": {}
        },
        {
          "output_type": "display_data",
          "data": {
            "text/plain": [
              "<PIL.Image.Image image mode=RGB size=10x10>"
            ],
            "image/png": "[encoded data removed]"
          },
          "metadata": {}
        },
        {
          "output_type": "display_data",
          "data": {
            "text/plain": [
              "<PIL.Image.Image image mode=RGB size=10x10>"
            ],
            "image/png": "[encoded data removed]"
          },
          "metadata": {}
        },
        {
          "output_type": "display_data",
          "data": {
            "text/plain": [
              "<PIL.Image.Image image mode=RGB size=10x10>"
            ],
            "image/png": "[encoded data removed]"
          },
          "metadata": {}
        },
        {
          "output_type": "display_data",
          "data": {
            "text/plain": [
              "<PIL.Image.Image image mode=RGB size=10x10>"
            ],
            "image/png": "[encoded data removed]"
          },
          "metadata": {}
        },
        {
          "output_type": "display_data",
          "data": {
            "text/plain": [
              "<PIL.Image.Image image mode=RGB size=10x10>"
            ],
            "image/png": "[encoded data removed]"
          },
          "metadata": {}
        },
        {
          "output_type": "display_data",
          "data": {
            "text/plain": [
              "<PIL.Image.Image image mode=RGB size=10x10>"
            ],
            "image/png": "[encoded data removed]"
          },
          "metadata": {}
        },
        {
          "output_type": "display_data",
          "data": {
            "text/plain": [
              "<PIL.Image.Image image mode=RGB size=10x10>"
            ],
            "image/png": "[encoded data removed]"
          },
          "metadata": {}
        },
        {
          "output_type": "display_data",
          "data": {
            "text/plain": [
              "<PIL.Image.Image image mode=RGB size=10x10>"
            ],
            "image/png": "[encoded data removed]"
          },
          "metadata": {}
        },
        {
          "output_type": "display_data",
          "data": {
            "text/plain": [
              "<PIL.Image.Image image mode=RGB size=10x10>"
            ],
            "image/png": "[encoded data removed]"
          },
          "metadata": {}
        },
        {
          "output_type": "display_data",
          "data": {
            "text/plain": [
              "<PIL.Image.Image image mode=RGB size=10x10>"
            ],
            "image/png": "[encoded data removed]"
          },
          "metadata": {}
        },
        {
          "output_type": "display_data",
          "data": {
            "text/plain": [
              "<PIL.Image.Image image mode=RGB size=10x10>"
            ],
            "image/png": "[encoded data removed]"
          },
          "metadata": {}
        },
        {
          "output_type": "display_data",
          "data": {
            "text/plain": [
              "<PIL.Image.Image image mode=RGB size=10x10>"
            ],
            "image/png": "[encoded data removed]"
          },
          "metadata": {}
        },
        {
          "output_type": "display_data",
          "data": {
            "text/plain": [
              "<PIL.Image.Image image mode=RGB size=10x10>"
            ],
            "image/png": "[encoded data removed]"
          },
          "metadata": {}
        },
        {
          "output_type": "display_data",
          "data": {
            "text/plain": [
              "<PIL.Image.Image image mode=RGB size=10x10>"
            ],
            "image/png": "[encoded data removed]"
          },
          "metadata": {}
        },
        {
          "output_type": "display_data",
          "data": {
            "text/plain": [
              "<PIL.Image.Image image mode=RGB size=10x10>"
            ],
            "image/png": "[encoded data removed]"
          },
          "metadata": {}
        },
        {
          "output_type": "display_data",
          "data": {
            "text/plain": [
              "<PIL.Image.Image image mode=RGB size=10x10>"
            ],
            "image/png": "[encoded data removed]"
          },
          "metadata": {}
        },
        {
          "output_type": "display_data",
          "data": {
            "text/plain": [
              "<PIL.Image.Image image mode=RGB size=10x10>"
            ],
            "image/png": "[encoded data removed]"
          },
          "metadata": {}
        },
        {
          "output_type": "display_data",
          "data": {
            "text/plain": [
              "<PIL.Image.Image image mode=RGB size=10x10>"
            ],
            "image/png": "[encoded data removed]"
          },
          "metadata": {}
        },
        {
          "output_type": "display_data",
          "data": {
            "text/plain": [
              "<PIL.Image.Image image mode=RGB size=10x10>"
            ],
            "image/png": "[encoded data removed]"
          },
          "metadata": {}
        },
        {
          "output_type": "display_data",
          "data": {
            "text/plain": [
              "<PIL.Image.Image image mode=RGB size=10x10>"
            ],
            "image/png": "[encoded data removed]"
          },
          "metadata": {}
        },
        {
          "output_type": "display_data",
          "data": {
            "text/plain": [
              "<PIL.Image.Image image mode=RGB size=10x10>"
            ],
            "image/png": "[encoded data removed]"
          },
          "metadata": {}
        },
        {
          "output_type": "display_data",
          "data": {
            "text/plain": [
              "<PIL.Image.Image image mode=RGB size=10x10>"
            ],
            "image/png": "[encoded data removed]"
          },
          "metadata": {}
        },
        {
          "output_type": "display_data",
          "data": {
            "text/plain": [
              "<PIL.Image.Image image mode=RGB size=10x10>"
            ],
            "image/png": "[encoded data removed]"
          },
          "metadata": {}
        },
        {
          "output_type": "display_data",
          "data": {
            "text/plain": [
              "<PIL.Image.Image image mode=RGB size=10x10>"
            ],
            "image/png": "[encoded data removed]"
          },
          "metadata": {}
        },
        {
          "output_type": "display_data",
          "data": {
            "text/plain": [
              "<PIL.Image.Image image mode=RGB size=10x10>"
            ],
            "image/png": "[encoded data removed]"
          },
          "metadata": {}
        },
        {
          "output_type": "display_data",
          "data": {
            "text/plain": [
              "<PIL.Image.Image image mode=RGB size=10x10>"
            ],
            "image/png": "[encoded data removed]"
          },
          "metadata": {}
        },
        {
          "output_type": "display_data",
          "data": {
            "text/plain": [
              "<PIL.Image.Image image mode=RGB size=10x10>"
            ],
            "image/png": "[encoded data removed]"
          },
          "metadata": {}
        },
        {
          "output_type": "display_data",
          "data": {
            "text/plain": [
              "<PIL.Image.Image image mode=RGB size=10x10>"
            ],
            "image/png": "[encoded data removed]"
          },
          "metadata": {}
        },
        {
          "output_type": "display_data",
          "data": {
            "text/plain": [
              "<PIL.Image.Image image mode=RGB size=10x10>"
            ],
            "image/png": "[encoded data removed]"
          },
          "metadata": {}
        },
        {
          "output_type": "display_data",
          "data": {
            "text/plain": [
              "<PIL.Image.Image image mode=RGB size=10x10>"
            ],
            "image/png": "[encoded data removed]"
          },
          "metadata": {}
        },
        {
          "output_type": "display_data",
          "data": {
            "text/plain": [
              "<PIL.Image.Image image mode=RGB size=10x10>"
            ],
            "image/png": "[encoded data removed]"
          },
          "metadata": {}
        },
        {
          "output_type": "display_data",
          "data": {
            "text/plain": [
              "<PIL.Image.Image image mode=RGB size=10x10>"
            ],
            "image/png": "[encoded data removed]"
          },
          "metadata": {}
        },
        {
          "output_type": "display_data",
          "data": {
            "text/plain": [
              "<PIL.Image.Image image mode=RGB size=10x10>"
            ],
            "image/png": "[encoded data removed]"
          },
          "metadata": {}
        },
        {
          "output_type": "display_data",
          "data": {
            "text/plain": [
              "<PIL.Image.Image image mode=RGB size=10x10>"
            ],
            "image/png": "[encoded data removed]"
          },
          "metadata": {}
        },
        {
          "output_type": "display_data",
          "data": {
            "text/plain": [
              "<PIL.Image.Image image mode=RGB size=10x10>"
            ],
            "image/png": "[encoded data removed]"
          },
          "metadata": {}
        },
        {
          "output_type": "display_data",
          "data": {
            "text/plain": [
              "<PIL.Image.Image image mode=RGB size=10x10>"
            ],
            "image/png": "[encoded data removed]"
          },
          "metadata": {}
        },
        {
          "output_type": "display_data",
          "data": {
            "text/plain": [
              "<PIL.Image.Image image mode=RGB size=10x10>"
            ],
            "image/png": "[encoded data removed]"
          },
          "metadata": {}
        },
        {
          "output_type": "display_data",
          "data": {
            "text/plain": [
              "<PIL.Image.Image image mode=RGB size=10x10>"
            ],
            "image/png": "[encoded data removed]"
          },
          "metadata": {}
        },
        {
          "output_type": "display_data",
          "data": {
            "text/plain": [
              "<PIL.Image.Image image mode=RGB size=10x10>"
            ],
            "image/png": "[encoded data removed]"
          },
          "metadata": {}
        },
        {
          "output_type": "display_data",
          "data": {
            "text/plain": [
              "<PIL.Image.Image image mode=RGB size=10x10>"
            ],
            "image/png": "[encoded data removed]"
          },
          "metadata": {}
        },
        {
          "output_type": "display_data",
          "data": {
            "text/plain": [
              "<PIL.Image.Image image mode=RGB size=10x10>"
            ],
            "image/png": "[encoded data removed]"
          },
          "metadata": {}
        },
        {
          "output_type": "display_data",
          "data": {
            "text/plain": [
              "<PIL.Image.Image image mode=RGB size=10x10>"
            ],
            "image/png": "[encoded data removed]"
          },
          "metadata": {}
        },
        {
          "output_type": "display_data",
          "data": {
            "text/plain": [
              "<PIL.Image.Image image mode=RGB size=10x10>"
            ],
            "image/png": "[encoded data removed]"
          },
          "metadata": {}
        },
        {
          "output_type": "display_data",
          "data": {
            "text/plain": [
              "<PIL.Image.Image image mode=RGB size=10x10>"
            ],
            "image/png": "[encoded data removed]"
          },
          "metadata": {}
        },
        {
          "output_type": "display_data",
          "data": {
            "text/plain": [
              "<PIL.Image.Image image mode=RGB size=10x10>"
            ],
            "image/png": "[encoded data removed]"
          },
          "metadata": {}
        },
        {
          "output_type": "display_data",
          "data": {
            "text/plain": [
              "<PIL.Image.Image image mode=RGB size=10x10>"
            ],
            "image/png": "[encoded data removed]"
          },
          "metadata": {}
        },
        {
          "output_type": "display_data",
          "data": {
            "text/plain": [
              "<PIL.Image.Image image mode=RGB size=10x10>"
            ],
            "image/png": "[encoded data removed]"
          },
          "metadata": {}
        },
        {
          "output_type": "display_data",
          "data": {
            "text/plain": [
              "<PIL.Image.Image image mode=RGB size=10x10>"
            ],
            "image/png": "[encoded data removed]"
          },
          "metadata": {}
        },
        {
          "output_type": "display_data",
          "data": {
            "text/plain": [
              "<PIL.Image.Image image mode=RGB size=10x10>"
            ],
            "image/png": "[encoded data removed]"
          },
          "metadata": {}
        },
        {
          "output_type": "display_data",
          "data": {
            "text/plain": [
              "<PIL.Image.Image image mode=RGB size=10x10>"
            ],
            "image/png": "[encoded data removed]"
          },
          "metadata": {}
        },
        {
          "output_type": "display_data",
          "data": {
            "text/plain": [
              "<PIL.Image.Image image mode=RGB size=10x10>"
            ],
            "image/png": "[encoded data removed]"
          },
          "metadata": {}
        },
        {
          "output_type": "display_data",
          "data": {
            "text/plain": [
              "<PIL.Image.Image image mode=RGB size=10x10>"
            ],
            "image/png": "[encoded data removed]"
          },
          "metadata": {}
        },
        {
          "output_type": "display_data",
          "data": {
            "text/plain": [
              "<PIL.Image.Image image mode=RGB size=10x10>"
            ],
            "image/png": "[encoded data removed]"
          },
          "metadata": {}
        },
        {
          "output_type": "display_data",
          "data": {
            "text/plain": [
              "<PIL.Image.Image image mode=RGB size=10x10>"
            ],
            "image/png": "[encoded data removed]"
          },
          "metadata": {}
        },
        {
          "output_type": "display_data",
          "data": {
            "text/plain": [
              "<PIL.Image.Image image mode=RGB size=10x10>"
            ],
            "image/png": "[encoded data removed]"
          },
          "metadata": {}
        },
        {
          "output_type": "display_data",
          "data": {
            "text/plain": [
              "<PIL.Image.Image image mode=RGB size=10x10>"
            ],
            "image/png": "[encoded data removed]"
          },
          "metadata": {}
        },
        {
          "output_type": "display_data",
          "data": {
            "text/plain": [
              "<PIL.Image.Image image mode=RGB size=10x10>"
            ],
            "image/png": "[encoded data removed]"
          },
          "metadata": {}
        },
        {
          "output_type": "display_data",
          "data": {
            "text/plain": [
              "<PIL.Image.Image image mode=RGB size=10x10>"
            ],
            "image/png": "[encoded data removed]"
          },
          "metadata": {}
        },
        {
          "output_type": "display_data",
          "data": {
            "text/plain": [
              "<PIL.Image.Image image mode=RGB size=10x10>"
            ],
            "image/png": "[encoded data removed]"
          },
          "metadata": {}
        },
        {
          "output_type": "display_data",
          "data": {
            "text/plain": [
              "<PIL.Image.Image image mode=RGB size=10x10>"
            ],
            "image/png": "[encoded data removed]"
          },
          "metadata": {}
        },
        {
          "output_type": "display_data",
          "data": {
            "text/plain": [
              "<PIL.Image.Image image mode=RGB size=10x10>"
            ],
            "image/png": "[encoded data removed]"
          },
          "metadata": {}
        },
        {
          "output_type": "display_data",
          "data": {
            "text/plain": [
              "<PIL.Image.Image image mode=RGB size=10x10>"
            ],
            "image/png": "[encoded data removed]"
          },
          "metadata": {}
        },
        {
          "output_type": "display_data",
          "data": {
            "text/plain": [
              "<PIL.Image.Image image mode=RGB size=10x10>"
            ],
            "image/png": "[encoded data removed]"
          },
          "metadata": {}
        },
        {
          "output_type": "display_data",
          "data": {
            "text/plain": [
              "<PIL.Image.Image image mode=RGB size=10x10>"
            ],
            "image/png": "[encoded data removed]"
          },
          "metadata": {}
        },
        {
          "output_type": "display_data",
          "data": {
            "text/plain": [
              "<PIL.Image.Image image mode=RGB size=10x10>"
            ],
            "image/png": "[encoded data removed]"
          },
          "metadata": {}
        },
        {
          "output_type": "display_data",
          "data": {
            "text/plain": [
              "<PIL.Image.Image image mode=RGB size=10x10>"
            ],
            "image/png": "[encoded data removed]"
          },
          "metadata": {}
        },
        {
          "output_type": "display_data",
          "data": {
            "text/plain": [
              "<PIL.Image.Image image mode=RGB size=10x10>"
            ],
            "image/png": "[encoded data removed]"
          },
          "metadata": {}
        },
        {
          "output_type": "display_data",
          "data": {
            "text/plain": [
              "<PIL.Image.Image image mode=RGB size=10x10>"
            ],
            "image/png": "[encoded data removed]"
          },
          "metadata": {}
        },
        {
          "output_type": "display_data",
          "data": {
            "text/plain": [
              "<PIL.Image.Image image mode=RGB size=10x10>"
            ],
            "image/png": "[encoded data removed]"
          },
          "metadata": {}
        },
        {
          "output_type": "display_data",
          "data": {
            "text/plain": [
              "<PIL.Image.Image image mode=RGB size=10x10>"
            ],
            "image/png": "[encoded data removed]"
          },
          "metadata": {}
        },
        {
          "output_type": "display_data",
          "data": {
            "text/plain": [
              "<PIL.Image.Image image mode=RGB size=10x10>"
            ],
            "image/png": "[encoded data removed]"
          },
          "metadata": {}
        },
        {
          "output_type": "display_data",
          "data": {
            "text/plain": [
              "<PIL.Image.Image image mode=RGB size=10x10>"
            ],
            "image/png": "[encoded data removed]"
          },
          "metadata": {}
        },
        {
          "output_type": "display_data",
          "data": {
            "text/plain": [
              "<PIL.Image.Image image mode=RGB size=10x10>"
            ],
            "image/png": "[encoded data removed]"
          },
          "metadata": {}
        },
        {
          "output_type": "display_data",
          "data": {
            "text/plain": [
              "<PIL.Image.Image image mode=RGB size=10x10>"
            ],
            "image/png": "[encoded data removed]"
          },
          "metadata": {}
        },
        {
          "output_type": "display_data",
          "data": {
            "text/plain": [
              "<PIL.Image.Image image mode=RGB size=10x10>"
            ],
            "image/png": "[encoded data removed]"
          },
          "metadata": {}
        },
        {
          "output_type": "display_data",
          "data": {
            "text/plain": [
              "<PIL.Image.Image image mode=RGB size=10x10>"
            ],
            "image/png": "[encoded data removed]"
          },
          "metadata": {}
        },
        {
          "output_type": "display_data",
          "data": {
            "text/plain": [
              "<PIL.Image.Image image mode=RGB size=10x10>"
            ],
            "image/png": "[encoded data removed]"
          },
          "metadata": {}
        },
        {
          "output_type": "display_data",
          "data": {
            "text/plain": [
              "<PIL.Image.Image image mode=RGB size=10x10>"
            ],
            "image/png": "[encoded data removed]"
          },
          "metadata": {}
        },
        {
          "output_type": "display_data",
          "data": {
            "text/plain": [
              "<PIL.Image.Image image mode=RGB size=10x10>"
            ],
            "image/png": "[encoded data removed]"
          },
          "metadata": {}
        },
        {
          "output_type": "display_data",
          "data": {
            "text/plain": [
              "<PIL.Image.Image image mode=RGB size=10x10>"
            ],
            "image/png": "[encoded data removed]"
          },
          "metadata": {}
        },
        {
          "output_type": "display_data",
          "data": {
            "text/plain": [
              "<PIL.Image.Image image mode=RGB size=10x10>"
            ],
            "image/png": "[encoded data removed]"
          },
          "metadata": {}
        },
        {
          "output_type": "display_data",
          "data": {
            "text/plain": [
              "<PIL.Image.Image image mode=RGB size=10x10>"
            ],
            "image/png": "[encoded data removed]"
          },
          "metadata": {}
        },
        {
          "output_type": "display_data",
          "data": {
            "text/plain": [
              "<PIL.Image.Image image mode=RGB size=10x10>"
            ],
            "image/png": "[encoded data removed]"
          },
          "metadata": {}
        },
        {
          "output_type": "display_data",
          "data": {
            "text/plain": [
              "<PIL.Image.Image image mode=RGB size=10x10>"
            ],
            "image/png": "[encoded data removed]"
          },
          "metadata": {}
        },
        {
          "output_type": "display_data",
          "data": {
            "text/plain": [
              "<PIL.Image.Image image mode=RGB size=10x10>"
            ],
            "image/png": "[encoded data removed]"
          },
          "metadata": {}
        },
        {
          "output_type": "display_data",
          "data": {
            "text/plain": [
              "<PIL.Image.Image image mode=RGB size=10x10>"
            ],
            "image/png": "[encoded data removed]"
          },
          "metadata": {}
        },
        {
          "output_type": "display_data",
          "data": {
            "text/plain": [
              "<PIL.Image.Image image mode=RGB size=10x10>"
            ],
            "image/png": "[encoded data removed]"
          },
          "metadata": {}
        },
        {
          "output_type": "display_data",
          "data": {
            "text/plain": [
              "<PIL.Image.Image image mode=RGB size=10x10>"
            ],
            "image/png": "[encoded data removed]"
          },
          "metadata": {}
        },
        {
          "output_type": "display_data",
          "data": {
            "text/plain": [
              "<PIL.Image.Image image mode=RGB size=10x10>"
            ],
            "image/png": "[encoded data removed]"
          },
          "metadata": {}
        },
        {
          "output_type": "display_data",
          "data": {
            "text/plain": [
              "<PIL.Image.Image image mode=RGB size=10x10>"
            ],
            "image/png": "[encoded data removed]"
          },
          "metadata": {}
        },
        {
          "output_type": "display_data",
          "data": {
            "text/plain": [
              "<PIL.Image.Image image mode=RGB size=10x10>"
            ],
            "image/png": "[encoded data removed]"
          },
          "metadata": {}
        },
        {
          "output_type": "display_data",
          "data": {
            "text/plain": [
              "<PIL.Image.Image image mode=RGB size=10x10>"
            ],
            "image/png": "[encoded data removed]"
          },
          "metadata": {}
        },
        {
          "output_type": "display_data",
          "data": {
            "text/plain": [
              "<PIL.Image.Image image mode=RGB size=10x10>"
            ],
            "image/png": "[encoded data removed]"
          },
          "metadata": {}
        },
        {
          "output_type": "display_data",
          "data": {
            "text/plain": [
              "<PIL.Image.Image image mode=RGB size=10x10>"
            ],
            "image/png": "[encoded data removed]"
          },
          "metadata": {}
        },
        {
          "output_type": "display_data",
          "data": {
            "text/plain": [
              "<PIL.Image.Image image mode=RGB size=10x10>"
            ],
            "image/png": "[encoded data removed]"
          },
          "metadata": {}
        },
        {
          "output_type": "display_data",
          "data": {
            "text/plain": [
              "<PIL.Image.Image image mode=RGB size=10x10>"
            ],
            "image/png": "[encoded data removed]"
          },
          "metadata": {}
        },
        {
          "output_type": "display_data",
          "data": {
            "text/plain": [
              "<PIL.Image.Image image mode=RGB size=10x10>"
            ],
            "image/png": "[encoded data removed]"
          },
          "metadata": {}
        },
        {
          "output_type": "display_data",
          "data": {
            "text/plain": [
              "<PIL.Image.Image image mode=RGB size=10x10>"
            ],
            "image/png": "[encoded data removed]"
          },
          "metadata": {}
        },
        {
          "output_type": "display_data",
          "data": {
            "text/plain": [
              "<PIL.Image.Image image mode=RGB size=10x10>"
            ],
            "image/png": "[encoded data removed]"
          },
          "metadata": {}
        },
        {
          "output_type": "display_data",
          "data": {
            "text/plain": [
              "<PIL.Image.Image image mode=RGB size=10x10>"
            ],
            "image/png": "[encoded data removed]"
          },
          "metadata": {}
        },
        {
          "output_type": "display_data",
          "data": {
            "text/plain": [
              "<PIL.Image.Image image mode=RGB size=10x10>"
            ],
            "image/png": "[encoded data removed]"
          },
          "metadata": {}
        },
        {
          "output_type": "display_data",
          "data": {
            "text/plain": [
              "<PIL.Image.Image image mode=RGB size=10x10>"
            ],
            "image/png": "[encoded data removed]"
          },
          "metadata": {}
        },
        {
          "output_type": "display_data",
          "data": {
            "text/plain": [
              "<PIL.Image.Image image mode=RGB size=10x10>"
            ],
            "image/png": "[encoded data removed]"
          },
          "metadata": {}
        },
        {
          "output_type": "display_data",
          "data": {
            "text/plain": [
              "<PIL.Image.Image image mode=RGB size=10x10>"
            ],
            "image/png": "[encoded data removed]"
          },
          "metadata": {}
        },
        {
          "output_type": "display_data",
          "data": {
            "text/plain": [
              "<PIL.Image.Image image mode=RGB size=10x10>"
            ],
            "image/png": "[encoded data removed]"
          },
          "metadata": {}
        },
        {
          "output_type": "display_data",
          "data": {
            "text/plain": [
              "<PIL.Image.Image image mode=RGB size=10x10>"
            ],
            "image/png": "[encoded data removed]"
          },
          "metadata": {}
        },
        {
          "output_type": "display_data",
          "data": {
            "text/plain": [
              "<PIL.Image.Image image mode=RGB size=10x10>"
            ],
            "image/png": "[encoded data removed]"
          },
          "metadata": {}
        },
        {
          "output_type": "display_data",
          "data": {
            "text/plain": [
              "<PIL.Image.Image image mode=RGB size=10x10>"
            ],
            "image/png": "[encoded data removed]"
          },
          "metadata": {}
        },
        {
          "output_type": "display_data",
          "data": {
            "text/plain": [
              "<PIL.Image.Image image mode=RGB size=10x10>"
            ],
            "image/png": "[encoded data removed]"
          },
          "metadata": {}
        },
        {
          "output_type": "display_data",
          "data": {
            "text/plain": [
              "<PIL.Image.Image image mode=RGB size=10x10>"
            ],
            "image/png": "[encoded data removed]"
          },
          "metadata": {}
        },
        {
          "output_type": "display_data",
          "data": {
            "text/plain": [
              "<PIL.Image.Image image mode=RGB size=10x10>"
            ],
            "image/png": "[encoded data removed]"
          },
          "metadata": {}
        },
        {
          "output_type": "display_data",
          "data": {
            "text/plain": [
              "<PIL.Image.Image image mode=RGB size=10x10>"
            ],
            "image/png": "[encoded data removed]"
          },
          "metadata": {}
        },
        {
          "output_type": "display_data",
          "data": {
            "text/plain": [
              "<PIL.Image.Image image mode=RGB size=10x10>"
            ],
            "image/png": "[encoded data removed]"
          },
          "metadata": {}
        },
        {
          "output_type": "display_data",
          "data": {
            "text/plain": [
              "<PIL.Image.Image image mode=RGB size=10x10>"
            ],
            "image/png": "[encoded data removed]"
          },
          "metadata": {}
        },
        {
          "output_type": "display_data",
          "data": {
            "text/plain": [
              "<PIL.Image.Image image mode=RGB size=10x10>"
            ],
            "image/png": "[encoded data removed]"
          },
          "metadata": {}
        },
        {
          "output_type": "display_data",
          "data": {
            "text/plain": [
              "<PIL.Image.Image image mode=RGB size=10x10>"
            ],
            "image/png": "[encoded data removed]"
          },
          "metadata": {}
        },
        {
          "output_type": "display_data",
          "data": {
            "text/plain": [
              "<PIL.Image.Image image mode=RGB size=10x10>"
            ],
            "image/png": "[encoded data removed]"
          },
          "metadata": {}
        },
        {
          "output_type": "display_data",
          "data": {
            "text/plain": [
              "<PIL.Image.Image image mode=RGB size=10x10>"
            ],
            "image/png": "[encoded data removed]"
          },
          "metadata": {}
        },
        {
          "output_type": "display_data",
          "data": {
            "text/plain": [
              "<PIL.Image.Image image mode=RGB size=10x10>"
            ],
            "image/png": "[encoded data removed]"
          },
          "metadata": {}
        },
        {
          "output_type": "display_data",
          "data": {
            "text/plain": [
              "<PIL.Image.Image image mode=RGB size=10x10>"
            ],
            "image/png": "[encoded data removed]"
          },
          "metadata": {}
        },
        {
          "output_type": "display_data",
          "data": {
            "text/plain": [
              "<PIL.Image.Image image mode=RGB size=10x10>"
            ],
            "image/png": "[encoded data removed]"
          },
          "metadata": {}
        },
        {
          "output_type": "display_data",
          "data": {
            "text/plain": [
              "<PIL.Image.Image image mode=RGB size=10x10>"
            ],
            "image/png": "[encoded data removed]"
          },
          "metadata": {}
        },
        {
          "output_type": "display_data",
          "data": {
            "text/plain": [
              "<PIL.Image.Image image mode=RGB size=10x10>"
            ],
            "image/png": "[encoded data removed]"
          },
          "metadata": {}
        },
        {
          "output_type": "display_data",
          "data": {
            "text/plain": [
              "<PIL.Image.Image image mode=RGB size=10x10>"
            ],
            "image/png": "[encoded data removed]"
          },
          "metadata": {}
        },
        {
          "output_type": "display_data",
          "data": {
            "text/plain": [
              "<PIL.Image.Image image mode=RGB size=10x10>"
            ],
            "image/png": "[encoded data removed]"
          },
          "metadata": {}
        },
        {
          "output_type": "display_data",
          "data": {
            "text/plain": [
              "<PIL.Image.Image image mode=RGB size=10x10>"
            ],
            "image/png": "[encoded data removed]"
          },
          "metadata": {}
        },
        {
          "output_type": "display_data",
          "data": {
            "text/plain": [
              "<PIL.Image.Image image mode=RGB size=10x10>"
            ],
            "image/png": "[encoded data removed]"
          },
          "metadata": {}
        },
        {
          "output_type": "display_data",
          "data": {
            "text/plain": [
              "<PIL.Image.Image image mode=RGB size=10x10>"
            ],
            "image/png": "[encoded data removed]"
          },
          "metadata": {}
        },
        {
          "output_type": "display_data",
          "data": {
            "text/plain": [
              "<PIL.Image.Image image mode=RGB size=10x10>"
            ],
            "image/png": "[encoded data removed]"
          },
          "metadata": {}
        },
        {
          "output_type": "display_data",
          "data": {
            "text/plain": [
              "<PIL.Image.Image image mode=RGB size=10x10>"
            ],
            "image/png": "[encoded data removed]"
          },
          "metadata": {}
        },
        {
          "output_type": "display_data",
          "data": {
            "text/plain": [
              "<PIL.Image.Image image mode=RGB size=10x10>"
            ],
            "image/png": "[encoded data removed]"
          },
          "metadata": {}
        },
        {
          "output_type": "display_data",
          "data": {
            "text/plain": [
              "<PIL.Image.Image image mode=RGB size=10x10>"
            ],
            "image/png": "[encoded data removed]"
          },
          "metadata": {}
        },
        {
          "output_type": "display_data",
          "data": {
            "text/plain": [
              "<PIL.Image.Image image mode=RGB size=10x10>"
            ],
            "image/png": "[encoded data removed]"
          },
          "metadata": {}
        },
        {
          "output_type": "display_data",
          "data": {
            "text/plain": [
              "<PIL.Image.Image image mode=RGB size=10x10>"
            ],
            "image/png": "[encoded data removed]"
          },
          "metadata": {}
        },
        {
          "output_type": "display_data",
          "data": {
            "text/plain": [
              "<PIL.Image.Image image mode=RGB size=10x10>"
            ],
            "image/png": "[encoded data removed]"
          },
          "metadata": {}
        },
        {
          "output_type": "display_data",
          "data": {
            "text/plain": [
              "<PIL.Image.Image image mode=RGB size=10x10>"
            ],
            "image/png": "[encoded data removed]"
          },
          "metadata": {}
        },
        {
          "output_type": "display_data",
          "data": {
            "text/plain": [
              "<PIL.Image.Image image mode=RGB size=10x10>"
            ],
            "image/png": "[encoded data removed]"
          },
          "metadata": {}
        },
        {
          "output_type": "display_data",
          "data": {
            "text/plain": [
              "<PIL.Image.Image image mode=RGB size=10x10>"
            ],
            "image/png": "[encoded data removed]"
          },
          "metadata": {}
        },
        {
          "output_type": "display_data",
          "data": {
            "text/plain": [
              "<PIL.Image.Image image mode=RGB size=10x10>"
            ],
            "image/png": "[encoded data removed]"
          },
          "metadata": {}
        },
        {
          "output_type": "display_data",
          "data": {
            "text/plain": [
              "<PIL.Image.Image image mode=RGB size=10x10>"
            ],
            "image/png": "[encoded data removed]"
          },
          "metadata": {}
        },
        {
          "output_type": "display_data",
          "data": {
            "text/plain": [
              "<PIL.Image.Image image mode=RGB size=10x10>"
            ],
            "image/png": "[encoded data removed]"
          },
          "metadata": {}
        },
        {
          "output_type": "display_data",
          "data": {
            "text/plain": [
              "<PIL.Image.Image image mode=RGB size=10x10>"
            ],
            "image/png": "[encoded data removed]"
          },
          "metadata": {}
        },
        {
          "output_type": "display_data",
          "data": {
            "text/plain": [
              "<PIL.Image.Image image mode=RGB size=10x10>"
            ],
            "image/png": "[encoded data removed]"
          },
          "metadata": {}
        },
        {
          "output_type": "display_data",
          "data": {
            "text/plain": [
              "<PIL.Image.Image image mode=RGB size=10x10>"
            ],
            "image/png": "[encoded data removed]"
          },
          "metadata": {}
        },
        {
          "output_type": "display_data",
          "data": {
            "text/plain": [
              "<PIL.Image.Image image mode=RGB size=10x10>"
            ],
            "image/png": "[encoded data removed]"
          },
          "metadata": {}
        },
        {
          "output_type": "display_data",
          "data": {
            "text/plain": [
              "<PIL.Image.Image image mode=RGB size=10x10>"
            ],
            "image/png": "[encoded data removed]"
          },
          "metadata": {}
        },
        {
          "output_type": "display_data",
          "data": {
            "text/plain": [
              "<PIL.Image.Image image mode=RGB size=10x10>"
            ],
            "image/png": "[encoded data removed]"
          },
          "metadata": {}
        },
        {
          "output_type": "display_data",
          "data": {
            "text/plain": [
              "<PIL.Image.Image image mode=RGB size=10x10>"
            ],
            "image/png": "[encoded data removed]"
          },
          "metadata": {}
        },
        {
          "output_type": "display_data",
          "data": {
            "text/plain": [
              "<PIL.Image.Image image mode=RGB size=10x10>"
            ],
            "image/png": "[encoded data removed]"
          },
          "metadata": {}
        },
        {
          "output_type": "display_data",
          "data": {
            "text/plain": [
              "<PIL.Image.Image image mode=RGB size=10x10>"
            ],
            "image/png": "[encoded data removed]"
          },
          "metadata": {}
        },
        {
          "output_type": "display_data",
          "data": {
            "text/plain": [
              "<PIL.Image.Image image mode=RGB size=10x10>"
            ],
            "image/png": "[encoded data removed]"
          },
          "metadata": {}
        },
        {
          "output_type": "display_data",
          "data": {
            "text/plain": [
              "<PIL.Image.Image image mode=RGB size=10x10>"
            ],
            "image/png": "[encoded data removed]"
          },
          "metadata": {}
        },
        {
          "output_type": "display_data",
          "data": {
            "text/plain": [
              "<PIL.Image.Image image mode=RGB size=10x10>"
            ],
            "image/png": "[encoded data removed]"
          },
          "metadata": {}
        },
        {
          "output_type": "display_data",
          "data": {
            "text/plain": [
              "<PIL.Image.Image image mode=RGB size=10x10>"
            ],
            "image/png": "[encoded data removed]"
          },
          "metadata": {}
        },
        {
          "output_type": "display_data",
          "data": {
            "text/plain": [
              "<PIL.Image.Image image mode=RGB size=10x10>"
            ],
            "image/png": "[encoded data removed]"
          },
          "metadata": {}
        },
        {
          "output_type": "display_data",
          "data": {
            "text/plain": [
              "<PIL.Image.Image image mode=RGB size=10x10>"
            ],
            "image/png": "[encoded data removed]"
          },
          "metadata": {}
        },
        {
          "output_type": "display_data",
          "data": {
            "text/plain": [
              "<PIL.Image.Image image mode=RGB size=10x10>"
            ],
            "image/png": "[encoded data removed]"
          },
          "metadata": {}
        },
        {
          "output_type": "display_data",
          "data": {
            "text/plain": [
              "<PIL.Image.Image image mode=RGB size=10x10>"
            ],
            "image/png": "[encoded data removed]"
          },
          "metadata": {}
        },
        {
          "output_type": "display_data",
          "data": {
            "text/plain": [
              "<PIL.Image.Image image mode=RGB size=10x10>"
            ],
            "image/png": "[encoded data removed]"
          },
          "metadata": {}
        },
        {
          "output_type": "display_data",
          "data": {
            "text/plain": [
              "<PIL.Image.Image image mode=RGB size=10x10>"
            ],
            "image/png": "[encoded data removed]"
          },
          "metadata": {}
        },
        {
          "output_type": "display_data",
          "data": {
            "text/plain": [
              "<PIL.Image.Image image mode=RGB size=10x10>"
            ],
            "image/png": "[encoded data removed]"
          },
          "metadata": {}
        },
        {
          "output_type": "display_data",
          "data": {
            "text/plain": [
              "<PIL.Image.Image image mode=RGB size=10x10>"
            ],
            "image/png": "[encoded data removed]"
          },
          "metadata": {}
        },
        {
          "output_type": "display_data",
          "data": {
            "text/plain": [
              "<PIL.Image.Image image mode=RGB size=10x10>"
            ],
            "image/png": "[encoded data removed]"
          },
          "metadata": {}
        },
        {
          "output_type": "display_data",
          "data": {
            "text/plain": [
              "<PIL.Image.Image image mode=RGB size=10x10>"
            ],
            "image/png": "[encoded data removed]"
          },
          "metadata": {}
        },
        {
          "output_type": "display_data",
          "data": {
            "text/plain": [
              "<PIL.Image.Image image mode=RGB size=10x10>"
            ],
            "image/png": "[encoded data removed]"
          },
          "metadata": {}
        },
        {
          "output_type": "display_data",
          "data": {
            "text/plain": [
              "<PIL.Image.Image image mode=RGB size=10x10>"
            ],
            "image/png": "[encoded data removed]"
          },
          "metadata": {}
        },
        {
          "output_type": "display_data",
          "data": {
            "text/plain": [
              "<PIL.Image.Image image mode=RGB size=10x10>"
            ],
            "image/png": "[encoded data removed]"
          },
          "metadata": {}
        },
        {
          "output_type": "display_data",
          "data": {
            "text/plain": [
              "<PIL.Image.Image image mode=RGB size=10x10>"
            ],
            "image/png": "[encoded data removed]"
          },
          "metadata": {}
        },
        {
          "output_type": "display_data",
          "data": {
            "text/plain": [
              "<PIL.Image.Image image mode=RGB size=10x10>"
            ],
            "image/png": "[encoded data removed]"
          },
          "metadata": {}
        },
        {
          "output_type": "display_data",
          "data": {
            "text/plain": [
              "<PIL.Image.Image image mode=RGB size=10x10>"
            ],
            "image/png": "[encoded data removed]"
          },
          "metadata": {}
        },
        {
          "output_type": "display_data",
          "data": {
            "text/plain": [
              "<PIL.Image.Image image mode=RGB size=10x10>"
            ],
            "image/png": "[encoded data removed]"
          },
          "metadata": {}
        },
        {
          "output_type": "display_data",
          "data": {
            "text/plain": [
              "<PIL.Image.Image image mode=RGB size=10x10>"
            ],
            "image/png": "[encoded data removed]"
          },
          "metadata": {}
        },
        {
          "output_type": "display_data",
          "data": {
            "text/plain": [
              "<PIL.Image.Image image mode=RGB size=10x10>"
            ],
            "image/png": "[encoded data removed]"
          },
          "metadata": {}
        },
        {
          "output_type": "display_data",
          "data": {
            "text/plain": [
              "<PIL.Image.Image image mode=RGB size=10x10>"
            ],
            "image/png": "[encoded data removed]"
          },
          "metadata": {}
        },
        {
          "output_type": "display_data",
          "data": {
            "text/plain": [
              "<PIL.Image.Image image mode=RGB size=10x10>"
            ],
            "image/png": "[encoded data removed]"
          },
          "metadata": {}
        },
        {
          "output_type": "display_data",
          "data": {
            "text/plain": [
              "<PIL.Image.Image image mode=RGB size=10x10>"
            ],
            "image/png": "[encoded data removed]"
          },
          "metadata": {}
        },
        {
          "output_type": "display_data",
          "data": {
            "text/plain": [
              "<PIL.Image.Image image mode=RGB size=10x10>"
            ],
            "image/png": "[encoded data removed]"
          },
          "metadata": {}
        },
        {
          "output_type": "display_data",
          "data": {
            "text/plain": [
              "<PIL.Image.Image image mode=RGB size=10x10>"
            ],
            "image/png": "[encoded data removed]"
          },
          "metadata": {}
        },
        {
          "output_type": "display_data",
          "data": {
            "text/plain": [
              "<PIL.Image.Image image mode=RGB size=10x10>"
            ],
            "image/png": "[encoded data removed]"
          },
          "metadata": {}
        },
        {
          "output_type": "display_data",
          "data": {
            "text/plain": [
              "<PIL.Image.Image image mode=RGB size=10x10>"
            ],
            "image/png": "[encoded data removed]"
          },
          "metadata": {}
        },
        {
          "output_type": "display_data",
          "data": {
            "text/plain": [
              "<PIL.Image.Image image mode=RGB size=10x10>"
            ],
            "image/png": "[encoded data removed]"
          },
          "metadata": {}
        },
        {
          "output_type": "display_data",
          "data": {
            "text/plain": [
              "<PIL.Image.Image image mode=RGB size=10x10>"
            ],
            "image/png": "[encoded data removed]"
          },
          "metadata": {}
        },
        {
          "output_type": "display_data",
          "data": {
            "text/plain": [
              "<PIL.Image.Image image mode=RGB size=10x10>"
            ],
            "image/png": "[encoded data removed]"
          },
          "metadata": {}
        },
        {
          "output_type": "display_data",
          "data": {
            "text/plain": [
              "<PIL.Image.Image image mode=RGB size=10x10>"
            ],
            "image/png": "[encoded data removed]"
          },
          "metadata": {}
        },
        {
          "output_type": "display_data",
          "data": {
            "text/plain": [
              "<PIL.Image.Image image mode=RGB size=10x10>"
            ],
            "image/png": "[encoded data removed]"
          },
          "metadata": {}
        },
        {
          "output_type": "display_data",
          "data": {
            "text/plain": [
              "<PIL.Image.Image image mode=RGB size=10x10>"
            ],
            "image/png": "[encoded data removed]"
          },
          "metadata": {}
        },
        {
          "output_type": "display_data",
          "data": {
            "text/plain": [
              "<PIL.Image.Image image mode=RGB size=10x10>"
            ],
            "image/png": "[encoded data removed]"
          },
          "metadata": {}
        },
        {
          "output_type": "display_data",
          "data": {
            "text/plain": [
              "<PIL.Image.Image image mode=RGB size=10x10>"
            ],
            "image/png": "[encoded data removed]"
          },
          "metadata": {}
        },
        {
          "output_type": "display_data",
          "data": {
            "text/plain": [
              "<PIL.Image.Image image mode=RGB size=10x10>"
            ],
            "image/png": "[encoded data removed]"
          },
          "metadata": {}
        },
        {
          "output_type": "display_data",
          "data": {
            "text/plain": [
              "<PIL.Image.Image image mode=RGB size=10x10>"
            ],
            "image/png": "[encoded data removed]"
          },
          "metadata": {}
        },
        {
          "output_type": "display_data",
          "data": {
            "text/plain": [
              "<PIL.Image.Image image mode=RGB size=10x10>"
            ],
            "image/png": "[encoded data removed]"
          },
          "metadata": {}
        },
        {
          "output_type": "display_data",
          "data": {
            "text/plain": [
              "<PIL.Image.Image image mode=RGB size=10x10>"
            ],
            "image/png": "[encoded data removed]"
          },
          "metadata": {}
        },
        {
          "output_type": "display_data",
          "data": {
            "text/plain": [
              "<PIL.Image.Image image mode=RGB size=10x10>"
            ],
            "image/png": "[encoded data removed]"
          },
          "metadata": {}
        },
        {
          "output_type": "display_data",
          "data": {
            "text/plain": [
              "<PIL.Image.Image image mode=RGB size=10x10>"
            ],
            "image/png": "[encoded data removed]"
          },
          "metadata": {}
        },
        {
          "output_type": "display_data",
          "data": {
            "text/plain": [
              "<PIL.Image.Image image mode=RGB size=10x10>"
            ],
            "image/png": "[encoded data removed]"
          },
          "metadata": {}
        },
        {
          "output_type": "display_data",
          "data": {
            "text/plain": [
              "<PIL.Image.Image image mode=RGB size=10x10>"
            ],
            "image/png": "[encoded data removed]"
          },
          "metadata": {}
        },
        {
          "output_type": "display_data",
          "data": {
            "text/plain": [
              "<PIL.Image.Image image mode=RGB size=10x10>"
            ],
            "image/png": "[encoded data removed]"
          },
          "metadata": {}
        },
        {
          "output_type": "display_data",
          "data": {
            "text/plain": [
              "<PIL.Image.Image image mode=RGB size=10x10>"
            ],
            "image/png": "[encoded data removed]"
          },
          "metadata": {}
        },
        {
          "output_type": "display_data",
          "data": {
            "text/plain": [
              "<PIL.Image.Image image mode=RGB size=10x10>"
            ],
            "image/png": "[encoded data removed]"
          },
          "metadata": {}
        },
        {
          "output_type": "display_data",
          "data": {
            "text/plain": [
              "<PIL.Image.Image image mode=RGB size=10x10>"
            ],
            "image/png": "[encoded data removed]"
          },
          "metadata": {}
        },
        {
          "output_type": "display_data",
          "data": {
            "text/plain": [
              "<PIL.Image.Image image mode=RGB size=10x10>"
            ],
            "image/png": "[encoded data removed]"
          },
          "metadata": {}
        },
        {
          "output_type": "display_data",
          "data": {
            "text/plain": [
              "<PIL.Image.Image image mode=RGB size=10x10>"
            ],
            "image/png": "[encoded data removed]"
          },
          "metadata": {}
        },
        {
          "output_type": "display_data",
          "data": {
            "text/plain": [
              "<PIL.Image.Image image mode=RGB size=10x10>"
            ],
            "image/png": "[encoded data removed]"
          },
          "metadata": {}
        },
        {
          "output_type": "display_data",
          "data": {
            "text/plain": [
              "<PIL.Image.Image image mode=RGB size=10x10>"
            ],
            "image/png": "[encoded data removed]"
          },
          "metadata": {}
        },
        {
          "output_type": "display_data",
          "data": {
            "text/plain": [
              "<PIL.Image.Image image mode=RGB size=10x10>"
            ],
            "image/png": "[encoded data removed]"
          },
          "metadata": {}
        },
        {
          "output_type": "display_data",
          "data": {
            "text/plain": [
              "<PIL.Image.Image image mode=RGB size=10x10>"
            ],
            "image/png": "[encoded data removed]"
          },
          "metadata": {}
        },
        {
          "output_type": "display_data",
          "data": {
            "text/plain": [
              "<PIL.Image.Image image mode=RGB size=10x10>"
            ],
            "image/png": "[encoded data removed]"
          },
          "metadata": {}
        },
        {
          "output_type": "display_data",
          "data": {
            "text/plain": [
              "<PIL.Image.Image image mode=RGB size=10x10>"
            ],
            "image/png": "[encoded data removed]"
          },
          "metadata": {}
        },
        {
          "output_type": "display_data",
          "data": {
            "text/plain": [
              "<PIL.Image.Image image mode=RGB size=10x10>"
            ],
            "image/png": "[encoded data removed]"
          },
          "metadata": {}
        },
        {
          "output_type": "display_data",
          "data": {
            "text/plain": [
              "<PIL.Image.Image image mode=RGB size=10x10>"
            ],
            "image/png": "[encoded data removed]"
          },
          "metadata": {}
        },
        {
          "output_type": "display_data",
          "data": {
            "text/plain": [
              "<PIL.Image.Image image mode=RGB size=10x10>"
            ],
            "image/png": "[encoded data removed]"
          },
          "metadata": {}
        },
        {
          "output_type": "display_data",
          "data": {
            "text/plain": [
              "<PIL.Image.Image image mode=RGB size=10x10>"
            ],
            "image/png": "[encoded data removed]"
          },
          "metadata": {}
        },
        {
          "output_type": "display_data",
          "data": {
            "text/plain": [
              "<PIL.Image.Image image mode=RGB size=10x10>"
            ],
            "image/png": "[encoded data removed]"
          },
          "metadata": {}
        },
        {
          "output_type": "display_data",
          "data": {
            "text/plain": [
              "<PIL.Image.Image image mode=RGB size=10x10>"
            ],
            "image/png": "[encoded data removed]"
          },
          "metadata": {}
        },
        {
          "output_type": "display_data",
          "data": {
            "text/plain": [
              "<PIL.Image.Image image mode=RGB size=10x10>"
            ],
            "image/png": "[encoded data removed]"
          },
          "metadata": {}
        },
        {
          "output_type": "display_data",
          "data": {
            "text/plain": [
              "<PIL.Image.Image image mode=RGB size=10x10>"
            ],
            "image/png": "[encoded data removed]"
          },
          "metadata": {}
        },
        {
          "output_type": "display_data",
          "data": {
            "text/plain": [
              "<PIL.Image.Image image mode=RGB size=10x10>"
            ],
            "image/png": "[encoded data removed]"
          },
          "metadata": {}
        },
        {
          "output_type": "display_data",
          "data": {
            "text/plain": [
              "<PIL.Image.Image image mode=RGB size=10x10>"
            ],
            "image/png": "[encoded data removed]"
          },
          "metadata": {}
        },
        {
          "output_type": "display_data",
          "data": {
            "text/plain": [
              "<PIL.Image.Image image mode=RGB size=10x10>"
            ],
            "image/png": "[encoded data removed]"
          },
          "metadata": {}
        },
        {
          "output_type": "display_data",
          "data": {
            "text/plain": [
              "<PIL.Image.Image image mode=RGB size=10x10>"
            ],
            "image/png": "[encoded data removed]"
          },
          "metadata": {}
        },
        {
          "output_type": "display_data",
          "data": {
            "text/plain": [
              "<PIL.Image.Image image mode=RGB size=10x10>"
            ],
            "image/png": "[encoded data removed]"
          },
          "metadata": {}
        },
        {
          "output_type": "display_data",
          "data": {
            "text/plain": [
              "<PIL.Image.Image image mode=RGB size=10x10>"
            ],
            "image/png": "[encoded data removed]"
          },
          "metadata": {}
        },
        {
          "output_type": "display_data",
          "data": {
            "text/plain": [
              "<PIL.Image.Image image mode=RGB size=10x10>"
            ],
            "image/png": "[encoded data removed]"
          },
          "metadata": {}
        },
        {
          "output_type": "display_data",
          "data": {
            "text/plain": [
              "<PIL.Image.Image image mode=RGB size=10x10>"
            ],
            "image/png": "[encoded data removed]"
          },
          "metadata": {}
        },
        {
          "output_type": "display_data",
          "data": {
            "text/plain": [
              "<PIL.Image.Image image mode=RGB size=10x10>"
            ],
            "image/png": "[encoded data removed]"
          },
          "metadata": {}
        },
        {
          "output_type": "display_data",
          "data": {
            "text/plain": [
              "<PIL.Image.Image image mode=RGB size=10x10>"
            ],
            "image/png": "[encoded data removed]"
          },
          "metadata": {}
        },
        {
          "output_type": "display_data",
          "data": {
            "text/plain": [
              "<PIL.Image.Image image mode=RGB size=10x10>"
            ],
            "image/png": "[encoded data removed]"
          },
          "metadata": {}
        },
        {
          "output_type": "display_data",
          "data": {
            "text/plain": [
              "<PIL.Image.Image image mode=RGB size=10x10>"
            ],
            "image/png": "[encoded data removed]"
          },
          "metadata": {}
        },
        {
          "output_type": "display_data",
          "data": {
            "text/plain": [
              "<PIL.Image.Image image mode=RGB size=10x10>"
            ],
            "image/png": "[encoded data removed]"
          },
          "metadata": {}
        },
        {
          "output_type": "display_data",
          "data": {
            "text/plain": [
              "<PIL.Image.Image image mode=RGB size=10x10>"
            ],
            "image/png": "[encoded data removed]"
          },
          "metadata": {}
        },
        {
          "output_type": "display_data",
          "data": {
            "text/plain": [
              "<PIL.Image.Image image mode=RGB size=10x10>"
            ],
            "image/png": "[encoded data removed]"
          },
          "metadata": {}
        },
        {
          "output_type": "display_data",
          "data": {
            "text/plain": [
              "<PIL.Image.Image image mode=RGB size=10x10>"
            ],
            "image/png": "[encoded data removed]"
          },
          "metadata": {}
        },
        {
          "output_type": "display_data",
          "data": {
            "text/plain": [
              "<PIL.Image.Image image mode=RGB size=10x10>"
            ],
            "image/png": "[encoded data removed]"
          },
          "metadata": {}
        },
        {
          "output_type": "display_data",
          "data": {
            "text/plain": [
              "<PIL.Image.Image image mode=RGB size=10x10>"
            ],
            "image/png": "[encoded data removed]"
          },
          "metadata": {}
        },
        {
          "output_type": "display_data",
          "data": {
            "text/plain": [
              "<PIL.Image.Image image mode=RGB size=10x10>"
            ],
            "image/png": "[encoded data removed]"
          },
          "metadata": {}
        },
        {
          "output_type": "display_data",
          "data": {
            "text/plain": [
              "<PIL.Image.Image image mode=RGB size=10x10>"
            ],
            "image/png": "[encoded data removed]"
          },
          "metadata": {}
        },
        {
          "output_type": "display_data",
          "data": {
            "text/plain": [
              "<PIL.Image.Image image mode=RGB size=10x10>"
            ],
            "image/png": "[encoded data removed]"
          },
          "metadata": {}
        },
        {
          "output_type": "display_data",
          "data": {
            "text/plain": [
              "<PIL.Image.Image image mode=RGB size=10x10>"
            ],
            "image/png": "[encoded data removed]"
          },
          "metadata": {}
        },
        {
          "output_type": "display_data",
          "data": {
            "text/plain": [
              "<PIL.Image.Image image mode=RGB size=10x10>"
            ],
            "image/png": "[encoded data removed]"
          },
          "metadata": {}
        },
        {
          "output_type": "display_data",
          "data": {
            "text/plain": [
              "<PIL.Image.Image image mode=RGB size=10x10>"
            ],
            "image/png": "[encoded data removed]"
          },
          "metadata": {}
        },
        {
          "output_type": "display_data",
          "data": {
            "text/plain": [
              "<PIL.Image.Image image mode=RGB size=10x10>"
            ],
            "image/png": "[encoded data removed]"
          },
          "metadata": {}
        },
        {
          "output_type": "display_data",
          "data": {
            "text/plain": [
              "<PIL.Image.Image image mode=RGB size=10x10>"
            ],
            "image/png": "[encoded data removed]"
          },
          "metadata": {}
        },
        {
          "output_type": "display_data",
          "data": {
            "text/plain": [
              "<PIL.Image.Image image mode=RGB size=10x10>"
            ],
            "image/png": "[encoded data removed]"
          },
          "metadata": {}
        },
        {
          "output_type": "display_data",
          "data": {
            "text/plain": [
              "<PIL.Image.Image image mode=RGB size=10x10>"
            ],
            "image/png": "[encoded data removed]"
          },
          "metadata": {}
        },
        {
          "output_type": "display_data",
          "data": {
            "text/plain": [
              "<PIL.Image.Image image mode=RGB size=10x10>"
            ],
            "image/png": "[encoded data removed]"
          },
          "metadata": {}
        },
        {
          "output_type": "display_data",
          "data": {
            "text/plain": [
              "<PIL.Image.Image image mode=RGB size=10x10>"
            ],
            "image/png": "[encoded data removed]"
          },
          "metadata": {}
        },
        {
          "output_type": "display_data",
          "data": {
            "text/plain": [
              "<PIL.Image.Image image mode=RGB size=10x10>"
            ],
            "image/png": "[encoded data removed]"
          },
          "metadata": {}
        },
        {
          "output_type": "display_data",
          "data": {
            "text/plain": [
              "<PIL.Image.Image image mode=RGB size=10x10>"
            ],
            "image/png": "[encoded data removed]"
          },
          "metadata": {}
        },
        {
          "output_type": "display_data",
          "data": {
            "text/plain": [
              "<PIL.Image.Image image mode=RGB size=10x10>"
            ],
            "image/png": "[encoded data removed]"
          },
          "metadata": {}
        },
        {
          "output_type": "display_data",
          "data": {
            "text/plain": [
              "<PIL.Image.Image image mode=RGB size=10x10>"
            ],
            "image/png": "[encoded data removed]"
          },
          "metadata": {}
        },
        {
          "output_type": "display_data",
          "data": {
            "text/plain": [
              "<PIL.Image.Image image mode=RGB size=10x10>"
            ],
            "image/png": "[encoded data removed]"
          },
          "metadata": {}
        },
        {
          "output_type": "display_data",
          "data": {
            "text/plain": [
              "<PIL.Image.Image image mode=RGB size=10x10>"
            ],
            "image/png": "[encoded data removed]"
          },
          "metadata": {}
        },
        {
          "output_type": "display_data",
          "data": {
            "text/plain": [
              "<PIL.Image.Image image mode=RGB size=10x10>"
            ],
            "image/png": "[encoded data removed]"
          },
          "metadata": {}
        },
        {
          "output_type": "display_data",
          "data": {
            "text/plain": [
              "<PIL.Image.Image image mode=RGB size=10x10>"
            ],
            "image/png": "[encoded data removed]"
          },
          "metadata": {}
        },
        {
          "output_type": "display_data",
          "data": {
            "text/plain": [
              "<PIL.Image.Image image mode=RGB size=10x10>"
            ],
            "image/png": "[encoded data removed]"
          },
          "metadata": {}
        },
        {
          "output_type": "display_data",
          "data": {
            "text/plain": [
              "<PIL.Image.Image image mode=RGB size=10x10>"
            ],
            "image/png": "[encoded data removed]"
          },
          "metadata": {}
        },
        {
          "output_type": "display_data",
          "data": {
            "text/plain": [
              "<PIL.Image.Image image mode=RGB size=10x10>"
            ],
            "image/png": "[encoded data removed]"
          },
          "metadata": {}
        },
        {
          "output_type": "display_data",
          "data": {
            "text/plain": [
              "<PIL.Image.Image image mode=RGB size=10x10>"
            ],
            "image/png": "[encoded data removed]"
          },
          "metadata": {}
        },
        {
          "output_type": "display_data",
          "data": {
            "text/plain": [
              "<PIL.Image.Image image mode=RGB size=10x10>"
            ],
            "image/png": "[encoded data removed]"
          },
          "metadata": {}
        },
        {
          "output_type": "display_data",
          "data": {
            "text/plain": [
              "<PIL.Image.Image image mode=RGB size=10x10>"
            ],
            "image/png": "[encoded data removed]"
          },
          "metadata": {}
        },
        {
          "output_type": "display_data",
          "data": {
            "text/plain": [
              "<PIL.Image.Image image mode=RGB size=10x10>"
            ],
            "image/png": "[encoded data removed]"
          },
          "metadata": {}
        },
        {
          "output_type": "display_data",
          "data": {
            "text/plain": [
              "<PIL.Image.Image image mode=RGB size=10x10>"
            ],
            "image/png": "[encoded data removed]"
          },
          "metadata": {}
        },
        {
          "output_type": "display_data",
          "data": {
            "text/plain": [
              "<PIL.Image.Image image mode=RGB size=10x10>"
            ],
            "image/png": "[encoded data removed]"
          },
          "metadata": {}
        },
        {
          "output_type": "display_data",
          "data": {
            "text/plain": [
              "<PIL.Image.Image image mode=RGB size=10x10>"
            ],
            "image/png": "[encoded data removed]"
          },
          "metadata": {}
        },
        {
          "output_type": "display_data",
          "data": {
            "text/plain": [
              "<PIL.Image.Image image mode=RGB size=10x10>"
            ],
            "image/png": "[encoded data removed]"
          },
          "metadata": {}
        },
        {
          "output_type": "display_data",
          "data": {
            "text/plain": [
              "<PIL.Image.Image image mode=RGB size=10x10>"
            ],
            "image/png": "[encoded data removed]"
          },
          "metadata": {}
        },
        {
          "output_type": "display_data",
          "data": {
            "text/plain": [
              "<PIL.Image.Image image mode=RGB size=10x10>"
            ],
            "image/png": "[encoded data removed]"
          },
          "metadata": {}
        },
        {
          "output_type": "display_data",
          "data": {
            "text/plain": [
              "<PIL.Image.Image image mode=RGB size=10x10>"
            ],
            "image/png": "[encoded data removed]"
          },
          "metadata": {}
        },
        {
          "output_type": "display_data",
          "data": {
            "text/plain": [
              "<PIL.Image.Image image mode=RGB size=10x10>"
            ],
            "image/png": "[encoded data removed]"
          },
          "metadata": {}
        },
        {
          "output_type": "display_data",
          "data": {
            "text/plain": [
              "<PIL.Image.Image image mode=RGB size=10x10>"
            ],
            "image/png": "[encoded data removed]"
          },
          "metadata": {}
        },
        {
          "output_type": "display_data",
          "data": {
            "text/plain": [
              "<PIL.Image.Image image mode=RGB size=10x10>"
            ],
            "image/png": "[encoded data removed]"
          },
          "metadata": {}
        },
        {
          "output_type": "display_data",
          "data": {
            "text/plain": [
              "<PIL.Image.Image image mode=RGB size=10x10>"
            ],
            "image/png": "[encoded data removed]"
          },
          "metadata": {}
        },
        {
          "output_type": "display_data",
          "data": {
            "text/plain": [
              "<PIL.Image.Image image mode=RGB size=10x10>"
            ],
            "image/png": "[encoded data removed]"
          },
          "metadata": {}
        },
        {
          "output_type": "display_data",
          "data": {
            "text/plain": [
              "<PIL.Image.Image image mode=RGB size=10x10>"
            ],
            "image/png": "[encoded data removed]"
          },
          "metadata": {}
        },
        {
          "output_type": "display_data",
          "data": {
            "text/plain": [
              "<PIL.Image.Image image mode=RGB size=10x10>"
            ],
            "image/png": "[encoded data removed]"
          },
          "metadata": {}
        },
        {
          "output_type": "display_data",
          "data": {
            "text/plain": [
              "<PIL.Image.Image image mode=RGB size=10x10>"
            ],
            "image/png": "[encoded data removed]"
          },
          "metadata": {}
        },
        {
          "output_type": "display_data",
          "data": {
            "text/plain": [
              "<PIL.Image.Image image mode=RGB size=10x10>"
            ],
            "image/png": "[encoded data removed]"
          },
          "metadata": {}
        },
        {
          "output_type": "display_data",
          "data": {
            "text/plain": [
              "<PIL.Image.Image image mode=RGB size=10x10>"
            ],
            "image/png": "[encoded data removed]"
          },
          "metadata": {}
        },
        {
          "output_type": "display_data",
          "data": {
            "text/plain": [
              "<PIL.Image.Image image mode=RGB size=10x10>"
            ],
            "image/png": "[encoded data removed]"
          },
          "metadata": {}
        },
        {
          "output_type": "display_data",
          "data": {
            "text/plain": [
              "<PIL.Image.Image image mode=RGB size=10x10>"
            ],
            "image/png": "[encoded data removed]"
          },
          "metadata": {}
        },
        {
          "output_type": "display_data",
          "data": {
            "text/plain": [
              "<PIL.Image.Image image mode=RGB size=10x10>"
            ],
            "image/png": "[encoded data removed]"
          },
          "metadata": {}
        },
        {
          "output_type": "display_data",
          "data": {
            "text/plain": [
              "<PIL.Image.Image image mode=RGB size=10x10>"
            ],
            "image/png": "[encoded data removed]"
          },
          "metadata": {}
        },
        {
          "output_type": "display_data",
          "data": {
            "text/plain": [
              "<PIL.Image.Image image mode=RGB size=10x10>"
            ],
            "image/png": "[encoded data removed]"
          },
          "metadata": {}
        },
        {
          "output_type": "display_data",
          "data": {
            "text/plain": [
              "<PIL.Image.Image image mode=RGB size=10x10>"
            ],
            "image/png": "[encoded data removed]"
          },
          "metadata": {}
        },
        {
          "output_type": "display_data",
          "data": {
            "text/plain": [
              "<PIL.Image.Image image mode=RGB size=10x10>"
            ],
            "image/png": "[encoded data removed]"
          },
          "metadata": {}
        },
        {
          "output_type": "display_data",
          "data": {
            "text/plain": [
              "<PIL.Image.Image image mode=RGB size=10x10>"
            ],
            "image/png": "[encoded data removed]"
          },
          "metadata": {}
        },
        {
          "output_type": "display_data",
          "data": {
            "text/plain": [
              "<PIL.Image.Image image mode=RGB size=10x10>"
            ],
            "image/png": "[encoded data removed]"
          },
          "metadata": {}
        },
        {
          "output_type": "display_data",
          "data": {
            "text/plain": [
              "<PIL.Image.Image image mode=RGB size=10x10>"
            ],
            "image/png": "[encoded data removed]"
          },
          "metadata": {}
        },
        {
          "output_type": "display_data",
          "data": {
            "text/plain": [
              "<PIL.Image.Image image mode=RGB size=10x10>"
            ],
            "image/png": "[encoded data removed]"
          },
          "metadata": {}
        },
        {
          "output_type": "display_data",
          "data": {
            "text/plain": [
              "<PIL.Image.Image image mode=RGB size=10x10>"
            ],
            "image/png": "[encoded data removed]"
          },
          "metadata": {}
        },
        {
          "output_type": "display_data",
          "data": {
            "text/plain": [
              "<PIL.Image.Image image mode=RGB size=10x10>"
            ],
            "image/png": "[encoded data removed]"
          },
          "metadata": {}
        },
        {
          "output_type": "display_data",
          "data": {
            "text/plain": [
              "<PIL.Image.Image image mode=RGB size=10x10>"
            ],
            "image/png": "[encoded data removed]"
          },
          "metadata": {}
        },
        {
          "output_type": "display_data",
          "data": {
            "text/plain": [
              "<PIL.Image.Image image mode=RGB size=10x10>"
            ],
            "image/png": "[encoded data removed]"
          },
          "metadata": {}
        },
        {
          "output_type": "display_data",
          "data": {
            "text/plain": [
              "<PIL.Image.Image image mode=RGB size=10x10>"
            ],
            "image/png": "[encoded data removed]"
          },
          "metadata": {}
        },
        {
          "output_type": "display_data",
          "data": {
            "text/plain": [
              "<PIL.Image.Image image mode=RGB size=10x10>"
            ],
            "image/png": "[encoded data removed]"
          },
          "metadata": {}
        },
        {
          "output_type": "display_data",
          "data": {
            "text/plain": [
              "<PIL.Image.Image image mode=RGB size=10x10>"
            ],
            "image/png": "[encoded data removed]"
          },
          "metadata": {}
        },
        {
          "output_type": "display_data",
          "data": {
            "text/plain": [
              "<PIL.Image.Image image mode=RGB size=10x10>"
            ],
            "image/png": "[encoded data removed]"
          },
          "metadata": {}
        },
        {
          "output_type": "display_data",
          "data": {
            "text/plain": [
              "<PIL.Image.Image image mode=RGB size=10x10>"
            ],
            "image/png": "[encoded data removed]"
          },
          "metadata": {}
        },
        {
          "output_type": "display_data",
          "data": {
            "text/plain": [
              "<PIL.Image.Image image mode=RGB size=10x10>"
            ],
            "image/png": "[encoded data removed]"
          },
          "metadata": {}
        },
        {
          "output_type": "display_data",
          "data": {
            "text/plain": [
              "<PIL.Image.Image image mode=RGB size=10x10>"
            ],
            "image/png": "[encoded data removed]"
          },
          "metadata": {}
        },
        {
          "output_type": "display_data",
          "data": {
            "text/plain": [
              "<PIL.Image.Image image mode=RGB size=10x10>"
            ],
            "image/png": "[encoded data removed]"
          },
          "metadata": {}
        },
        {
          "output_type": "display_data",
          "data": {
            "text/plain": [
              "<PIL.Image.Image image mode=RGB size=10x10>"
            ],
            "image/png": "[encoded data removed]"
          },
          "metadata": {}
        },
        {
          "output_type": "display_data",
          "data": {
            "text/plain": [
              "<PIL.Image.Image image mode=RGB size=10x10>"
            ],
            "image/png": "[encoded data removed]"
          },
          "metadata": {}
        },
        {
          "output_type": "display_data",
          "data": {
            "text/plain": [
              "<PIL.Image.Image image mode=RGB size=10x10>"
            ],
            "image/png": "[encoded data removed]"
          },
          "metadata": {}
        },
        {
          "output_type": "display_data",
          "data": {
            "text/plain": [
              "<PIL.Image.Image image mode=RGB size=10x10>"
            ],
            "image/png": "[encoded data removed]"
          },
          "metadata": {}
        },
        {
          "output_type": "display_data",
          "data": {
            "text/plain": [
              "<PIL.Image.Image image mode=RGB size=10x10>"
            ],
            "image/png": "[encoded data removed]"
          },
          "metadata": {}
        },
        {
          "output_type": "display_data",
          "data": {
            "text/plain": [
              "<PIL.Image.Image image mode=RGB size=10x10>"
            ],
            "image/png": "[encoded data removed]"
          },
          "metadata": {}
        },
        {
          "output_type": "display_data",
          "data": {
            "text/plain": [
              "<PIL.Image.Image image mode=RGB size=10x10>"
            ],
            "image/png": "[encoded data removed]"
          },
          "metadata": {}
        },
        {
          "output_type": "display_data",
          "data": {
            "text/plain": [
              "<PIL.Image.Image image mode=RGB size=10x10>"
            ],
            "image/png": "[encoded data removed]"
          },
          "metadata": {}
        },
        {
          "output_type": "display_data",
          "data": {
            "text/plain": [
              "<PIL.Image.Image image mode=RGB size=10x10>"
            ],
            "image/png": "[encoded data removed]"
          },
          "metadata": {}
        },
        {
          "output_type": "display_data",
          "data": {
            "text/plain": [
              "<PIL.Image.Image image mode=RGB size=10x10>"
            ],
            "image/png": "[encoded data removed]"
          },
          "metadata": {}
        },
        {
          "output_type": "display_data",
          "data": {
            "text/plain": [
              "<PIL.Image.Image image mode=RGB size=10x10>"
            ],
            "image/png": "[encoded data removed]"
          },
          "metadata": {}
        },
        {
          "output_type": "display_data",
          "data": {
            "text/plain": [
              "<PIL.Image.Image image mode=RGB size=10x10>"
            ],
            "image/png": "[encoded data removed]"
          },
          "metadata": {}
        },
        {
          "output_type": "display_data",
          "data": {
            "text/plain": [
              "<PIL.Image.Image image mode=RGB size=10x10>"
            ],
            "image/png": "[encoded data removed]"
          },
          "metadata": {}
        },
        {
          "output_type": "display_data",
          "data": {
            "text/plain": [
              "<PIL.Image.Image image mode=RGB size=10x10>"
            ],
            "image/png": "[encoded data removed]"
          },
          "metadata": {}
        },
        {
          "output_type": "display_data",
          "data": {
            "text/plain": [
              "<PIL.Image.Image image mode=RGB size=10x10>"
            ],
            "image/png": "[encoded data removed]"
          },
          "metadata": {}
        },
        {
          "output_type": "display_data",
          "data": {
            "text/plain": [
              "<PIL.Image.Image image mode=RGB size=10x10>"
            ],
            "image/png": "[encoded data removed]"
          },
          "metadata": {}
        },
        {
          "output_type": "display_data",
          "data": {
            "text/plain": [
              "<PIL.Image.Image image mode=RGB size=10x10>"
            ],
            "image/png": "[encoded data removed]"
          },
          "metadata": {}
        },
        {
          "output_type": "display_data",
          "data": {
            "text/plain": [
              "<PIL.Image.Image image mode=RGB size=10x10>"
            ],
            "image/png": "[encoded data removed]"
          },
          "metadata": {}
        },
        {
          "output_type": "display_data",
          "data": {
            "text/plain": [
              "<PIL.Image.Image image mode=RGB size=10x10>"
            ],
            "image/png": "[encoded data removed]"
          },
          "metadata": {}
        },
        {
          "output_type": "display_data",
          "data": {
            "text/plain": [
              "<PIL.Image.Image image mode=RGB size=10x10>"
            ],
            "image/png": "[encoded data removed]"
          },
          "metadata": {}
        },
        {
          "output_type": "display_data",
          "data": {
            "text/plain": [
              "<PIL.Image.Image image mode=RGB size=10x10>"
            ],
            "image/png": "[encoded data removed]"
          },
          "metadata": {}
        },
        {
          "output_type": "display_data",
          "data": {
            "text/plain": [
              "<PIL.Image.Image image mode=RGB size=10x10>"
            ],
            "image/png": "[encoded data removed]"
          },
          "metadata": {}
        },
        {
          "output_type": "display_data",
          "data": {
            "text/plain": [
              "<PIL.Image.Image image mode=RGB size=10x10>"
            ],
            "image/png": "[encoded data removed]"
          },
          "metadata": {}
        },
        {
          "output_type": "display_data",
          "data": {
            "text/plain": [
              "<PIL.Image.Image image mode=RGB size=10x10>"
            ],
            "image/png": "[encoded data removed]"
          },
          "metadata": {}
        },
        {
          "output_type": "display_data",
          "data": {
            "text/plain": [
              "<PIL.Image.Image image mode=RGB size=10x10>"
            ],
            "image/png": "[encoded data removed]"
          },
          "metadata": {}
        },
        {
          "output_type": "display_data",
          "data": {
            "text/plain": [
              "<PIL.Image.Image image mode=RGB size=10x10>"
            ],
            "image/png": "[encoded data removed]"
          },
          "metadata": {}
        },
        {
          "output_type": "display_data",
          "data": {
            "text/plain": [
              "<PIL.Image.Image image mode=RGB size=10x10>"
            ],
            "image/png": "[encoded data removed]"
          },
          "metadata": {}
        },
        {
          "output_type": "display_data",
          "data": {
            "text/plain": [
              "<PIL.Image.Image image mode=RGB size=10x10>"
            ],
            "image/png": "[encoded data removed]"
          },
          "metadata": {}
        },
        {
          "output_type": "display_data",
          "data": {
            "text/plain": [
              "<PIL.Image.Image image mode=RGB size=10x10>"
            ],
            "image/png": "[encoded data removed]"
          },
          "metadata": {}
        },
        {
          "output_type": "display_data",
          "data": {
            "text/plain": [
              "<PIL.Image.Image image mode=RGB size=10x10>"
            ],
            "image/png": "[encoded data removed]"
          },
          "metadata": {}
        },
        {
          "output_type": "display_data",
          "data": {
            "text/plain": [
              "<PIL.Image.Image image mode=RGB size=10x10>"
            ],
            "image/png": "[encoded data removed]"
          },
          "metadata": {}
        },
        {
          "output_type": "display_data",
          "data": {
            "text/plain": [
              "<PIL.Image.Image image mode=RGB size=10x10>"
            ],
            "image/png": "[encoded data removed]"
          },
          "metadata": {}
        },
        {
          "output_type": "display_data",
          "data": {
            "text/plain": [
              "<PIL.Image.Image image mode=RGB size=10x10>"
            ],
            "image/png": "[encoded data removed]"
          },
          "metadata": {}
        },
        {
          "output_type": "display_data",
          "data": {
            "text/plain": [
              "<PIL.Image.Image image mode=RGB size=10x10>"
            ],
            "image/png": "[encoded data removed]"
          },
          "metadata": {}
        },
        {
          "output_type": "display_data",
          "data": {
            "text/plain": [
              "<PIL.Image.Image image mode=RGB size=10x10>"
            ],
            "image/png": "[encoded data removed]"
          },
          "metadata": {}
        },
        {
          "output_type": "display_data",
          "data": {
            "text/plain": [
              "<PIL.Image.Image image mode=RGB size=10x10>"
            ],
            "image/png": "[encoded data removed]"
          },
          "metadata": {}
        },
        {
          "output_type": "display_data",
          "data": {
            "text/plain": [
              "<PIL.Image.Image image mode=RGB size=10x10>"
            ],
            "image/png": "[encoded data removed]"
          },
          "metadata": {}
        },
        {
          "output_type": "display_data",
          "data": {
            "text/plain": [
              "<PIL.Image.Image image mode=RGB size=10x10>"
            ],
            "image/png": "[encoded data removed]"
          },
          "metadata": {}
        },
        {
          "output_type": "display_data",
          "data": {
            "text/plain": [
              "<PIL.Image.Image image mode=RGB size=10x10>"
            ],
            "image/png": "[encoded data removed]"
          },
          "metadata": {}
        },
        {
          "output_type": "display_data",
          "data": {
            "text/plain": [
              "<PIL.Image.Image image mode=RGB size=10x10>"
            ],
            "image/png": "[encoded data removed]"
          },
          "metadata": {}
        },
        {
          "output_type": "display_data",
          "data": {
            "text/plain": [
              "<PIL.Image.Image image mode=RGB size=10x10>"
            ],
            "image/png": "[encoded data removed]"
          },
          "metadata": {}
        },
        {
          "output_type": "display_data",
          "data": {
            "text/plain": [
              "<PIL.Image.Image image mode=RGB size=10x10>"
            ],
            "image/png": "[encoded data removed]"
          },
          "metadata": {}
        },
        {
          "output_type": "display_data",
          "data": {
            "text/plain": [
              "<PIL.Image.Image image mode=RGB size=10x10>"
            ],
            "image/png": "[encoded data removed]"
          },
          "metadata": {}
        },
        {
          "output_type": "display_data",
          "data": {
            "text/plain": [
              "<PIL.Image.Image image mode=RGB size=10x10>"
            ],
            "image/png": "[encoded data removed]"
          },
          "metadata": {}
        },
        {
          "output_type": "display_data",
          "data": {
            "text/plain": [
              "<PIL.Image.Image image mode=RGB size=10x10>"
            ],
            "image/png": "[encoded data removed]"
          },
          "metadata": {}
        },
        {
          "output_type": "display_data",
          "data": {
            "text/plain": [
              "<PIL.Image.Image image mode=RGB size=10x10>"
            ],
            "image/png": "[encoded data removed]"
          },
          "metadata": {}
        },
        {
          "output_type": "display_data",
          "data": {
            "text/plain": [
              "<PIL.Image.Image image mode=RGB size=10x10>"
            ],
            "image/png": "[encoded data removed]"
          },
          "metadata": {}
        },
        {
          "output_type": "display_data",
          "data": {
            "text/plain": [
              "<PIL.Image.Image image mode=RGB size=10x10>"
            ],
            "image/png": "[encoded data removed]"
          },
          "metadata": {}
        },
        {
          "output_type": "display_data",
          "data": {
            "text/plain": [
              "<PIL.Image.Image image mode=RGB size=10x10>"
            ],
            "image/png": "[encoded data removed]"
          },
          "metadata": {}
        },
        {
          "output_type": "display_data",
          "data": {
            "text/plain": [
              "<PIL.Image.Image image mode=RGB size=10x10>"
            ],
            "image/png": "[encoded data removed]"
          },
          "metadata": {}
        },
        {
          "output_type": "display_data",
          "data": {
            "text/plain": [
              "<PIL.Image.Image image mode=RGB size=10x10>"
            ],
            "image/png": "[encoded data removed]"
          },
          "metadata": {}
        },
        {
          "output_type": "display_data",
          "data": {
            "text/plain": [
              "<PIL.Image.Image image mode=RGB size=10x10>"
            ],
            "image/png": "[encoded data removed]"
          },
          "metadata": {}
        },
        {
          "output_type": "display_data",
          "data": {
            "text/plain": [
              "<PIL.Image.Image image mode=RGB size=10x10>"
            ],
            "image/png": "[encoded data removed]"
          },
          "metadata": {}
        },
        {
          "output_type": "display_data",
          "data": {
            "text/plain": [
              "<PIL.Image.Image image mode=RGB size=10x10>"
            ],
            "image/png": "[encoded data removed]"
          },
          "metadata": {}
        },
        {
          "output_type": "display_data",
          "data": {
            "text/plain": [
              "<PIL.Image.Image image mode=RGB size=10x10>"
            ],
            "image/png": "[encoded data removed]"
          },
          "metadata": {}
        },
        {
          "output_type": "display_data",
          "data": {
            "text/plain": [
              "<PIL.Image.Image image mode=RGB size=10x10>"
            ],
            "image/png": "[encoded data removed]"
          },
          "metadata": {}
        },
        {
          "output_type": "display_data",
          "data": {
            "text/plain": [
              "<PIL.Image.Image image mode=RGB size=10x10>"
            ],
            "image/png": "[encoded data removed]"
          },
          "metadata": {}
        },
        {
          "output_type": "display_data",
          "data": {
            "text/plain": [
              "<PIL.Image.Image image mode=RGB size=10x10>"
            ],
            "image/png": "[encoded data removed]"
          },
          "metadata": {}
        },
        {
          "output_type": "display_data",
          "data": {
            "text/plain": [
              "<PIL.Image.Image image mode=RGB size=10x10>"
            ],
            "image/png": "[encoded data removed]"
          },
          "metadata": {}
        },
        {
          "output_type": "display_data",
          "data": {
            "text/plain": [
              "<PIL.Image.Image image mode=RGB size=10x10>"
            ],
            "image/png": "[encoded data removed]"
          },
          "metadata": {}
        },
        {
          "output_type": "display_data",
          "data": {
            "text/plain": [
              "<PIL.Image.Image image mode=RGB size=10x10>"
            ],
            "image/png": "[encoded data removed]"
          },
          "metadata": {}
        },
        {
          "output_type": "display_data",
          "data": {
            "text/plain": [
              "<PIL.Image.Image image mode=RGB size=10x10>"
            ],
            "image/png": "[encoded data removed]"
          },
          "metadata": {}
        },
        {
          "output_type": "display_data",
          "data": {
            "text/plain": [
              "<PIL.Image.Image image mode=RGB size=10x10>"
            ],
            "image/png": "[encoded data removed]"
          },
          "metadata": {}
        },
        {
          "output_type": "display_data",
          "data": {
            "text/plain": [
              "<PIL.Image.Image image mode=RGB size=10x10>"
            ],
            "image/png": "[encoded data removed]"
          },
          "metadata": {}
        },
        {
          "output_type": "display_data",
          "data": {
            "text/plain": [
              "<PIL.Image.Image image mode=RGB size=10x10>"
            ],
            "image/png": "[encoded data removed]"
          },
          "metadata": {}
        },
        {
          "output_type": "display_data",
          "data": {
            "text/plain": [
              "<PIL.Image.Image image mode=RGB size=10x10>"
            ],
            "image/png": "[encoded data removed]"
          },
          "metadata": {}
        },
        {
          "output_type": "display_data",
          "data": {
            "text/plain": [
              "<PIL.Image.Image image mode=RGB size=10x10>"
            ],
            "image/png": "[encoded data removed]"
          },
          "metadata": {}
        },
        {
          "output_type": "display_data",
          "data": {
            "text/plain": [
              "<PIL.Image.Image image mode=RGB size=10x10>"
            ],
            "image/png": "[encoded data removed]"
          },
          "metadata": {}
        },
        {
          "output_type": "display_data",
          "data": {
            "text/plain": [
              "<PIL.Image.Image image mode=RGB size=10x10>"
            ],
            "image/png": "[encoded data removed]"
          },
          "metadata": {}
        },
        {
          "output_type": "display_data",
          "data": {
            "text/plain": [
              "<PIL.Image.Image image mode=RGB size=10x10>"
            ],
            "image/png": "[encoded data removed]"
          },
          "metadata": {}
        },
        {
          "output_type": "display_data",
          "data": {
            "text/plain": [
              "<PIL.Image.Image image mode=RGB size=10x10>"
            ],
            "image/png": "[encoded data removed]"
          },
          "metadata": {}
        },
        {
          "output_type": "display_data",
          "data": {
            "text/plain": [
              "<PIL.Image.Image image mode=RGB size=10x10>"
            ],
            "image/png": "[encoded data removed]"
          },
          "metadata": {}
        },
        {
          "output_type": "display_data",
          "data": {
            "text/plain": [
              "<PIL.Image.Image image mode=RGB size=10x10>"
            ],
            "image/png": "[encoded data removed]"
          },
          "metadata": {}
        },
        {
          "output_type": "display_data",
          "data": {
            "text/plain": [
              "<PIL.Image.Image image mode=RGB size=10x10>"
            ],
            "image/png": "[encoded data removed]"
          },
          "metadata": {}
        },
        {
          "output_type": "display_data",
          "data": {
            "text/plain": [
              "<PIL.Image.Image image mode=RGB size=10x10>"
            ],
            "image/png": "[encoded data removed]"
          },
          "metadata": {}
        },
        {
          "output_type": "display_data",
          "data": {
            "text/plain": [
              "<PIL.Image.Image image mode=RGB size=10x10>"
            ],
            "image/png": "[encoded data removed]"
          },
          "metadata": {}
        },
        {
          "output_type": "display_data",
          "data": {
            "text/plain": [
              "<PIL.Image.Image image mode=RGB size=10x10>"
            ],
            "image/png": "[encoded data removed]"
          },
          "metadata": {}
        },
        {
          "output_type": "display_data",
          "data": {
            "text/plain": [
              "<PIL.Image.Image image mode=RGB size=10x10>"
            ],
            "image/png": "[encoded data removed]"
          },
          "metadata": {}
        },
        {
          "output_type": "display_data",
          "data": {
            "text/plain": [
              "<PIL.Image.Image image mode=RGB size=10x10>"
            ],
            "image/png": "[encoded data removed]"
          },
          "metadata": {}
        },
        {
          "output_type": "display_data",
          "data": {
            "text/plain": [
              "<PIL.Image.Image image mode=RGB size=10x10>"
            ],
            "image/png": "[encoded data removed]"
          },
          "metadata": {}
        },
        {
          "output_type": "display_data",
          "data": {
            "text/plain": [
              "<PIL.Image.Image image mode=RGB size=10x10>"
            ],
            "image/png": "[encoded data removed]"
          },
          "metadata": {}
        },
        {
          "output_type": "display_data",
          "data": {
            "text/plain": [
              "<PIL.Image.Image image mode=RGB size=10x10>"
            ],
            "image/png": "[encoded data removed]"
          },
          "metadata": {}
        },
        {
          "output_type": "display_data",
          "data": {
            "text/plain": [
              "<PIL.Image.Image image mode=RGB size=10x10>"
            ],
            "image/png": "[encoded data removed]"
          },
          "metadata": {}
        },
        {
          "output_type": "display_data",
          "data": {
            "text/plain": [
              "<PIL.Image.Image image mode=RGB size=10x10>"
            ],
            "image/png": "[encoded data removed]"
          },
          "metadata": {}
        },
        {
          "output_type": "display_data",
          "data": {
            "text/plain": [
              "<PIL.Image.Image image mode=RGB size=10x10>"
            ],
            "image/png": "[encoded data removed]"
          },
          "metadata": {}
        },
        {
          "output_type": "display_data",
          "data": {
            "text/plain": [
              "<PIL.Image.Image image mode=RGB size=10x10>"
            ],
            "image/png": "[encoded data removed]"
          },
          "metadata": {}
        },
        {
          "output_type": "display_data",
          "data": {
            "text/plain": [
              "<PIL.Image.Image image mode=RGB size=10x10>"
            ],
            "image/png": "[encoded data removed]"
          },
          "metadata": {}
        },
        {
          "output_type": "display_data",
          "data": {
            "text/plain": [
              "<PIL.Image.Image image mode=RGB size=10x10>"
            ],
            "image/png": "[encoded data removed]"
          },
          "metadata": {}
        },
        {
          "output_type": "display_data",
          "data": {
            "text/plain": [
              "<PIL.Image.Image image mode=RGB size=10x10>"
            ],
            "image/png": "[encoded data removed]"
          },
          "metadata": {}
        },
        {
          "output_type": "display_data",
          "data": {
            "text/plain": [
              "<PIL.Image.Image image mode=RGB size=10x10>"
            ],
            "image/png": "[encoded data removed]"
          },
          "metadata": {}
        },
        {
          "output_type": "display_data",
          "data": {
            "text/plain": [
              "<PIL.Image.Image image mode=RGB size=10x10>"
            ],
            "image/png": "[encoded data removed]"
          },
          "metadata": {}
        },
        {
          "output_type": "display_data",
          "data": {
            "text/plain": [
              "<PIL.Image.Image image mode=RGB size=10x10>"
            ],
            "image/png": "[encoded data removed]"
          },
          "metadata": {}
        },
        {
          "output_type": "display_data",
          "data": {
            "text/plain": [
              "<PIL.Image.Image image mode=RGB size=10x10>"
            ],
            "image/png": "[encoded data removed]"
          },
          "metadata": {}
        },
        {
          "output_type": "display_data",
          "data": {
            "text/plain": [
              "<PIL.Image.Image image mode=RGB size=10x10>"
            ],
            "image/png": "[encoded data removed]"
          },
          "metadata": {}
        },
        {
          "output_type": "display_data",
          "data": {
            "text/plain": [
              "<PIL.Image.Image image mode=RGB size=10x10>"
            ],
            "image/png": "[encoded data removed]"
          },
          "metadata": {}
        },
        {
          "output_type": "display_data",
          "data": {
            "text/plain": [
              "<PIL.Image.Image image mode=RGB size=10x10>"
            ],
            "image/png": "[encoded data removed]"
          },
          "metadata": {}
        },
        {
          "output_type": "display_data",
          "data": {
            "text/plain": [
              "<PIL.Image.Image image mode=RGB size=10x10>"
            ],
            "image/png": "[encoded data removed]"
          },
          "metadata": {}
        },
        {
          "output_type": "display_data",
          "data": {
            "text/plain": [
              "<PIL.Image.Image image mode=RGB size=10x10>"
            ],
            "image/png": "[encoded data removed]"
          },
          "metadata": {}
        },
        {
          "output_type": "display_data",
          "data": {
            "text/plain": [
              "<PIL.Image.Image image mode=RGB size=10x10>"
            ],
            "image/png": "[encoded data removed]"
          },
          "metadata": {}
        },
        {
          "output_type": "display_data",
          "data": {
            "text/plain": [
              "<PIL.Image.Image image mode=RGB size=10x10>"
            ],
            "image/png": "[encoded data removed]"
          },
          "metadata": {}
        },
        {
          "output_type": "display_data",
          "data": {
            "text/plain": [
              "<PIL.Image.Image image mode=RGB size=10x10>"
            ],
            "image/png": "[encoded data removed]"
          },
          "metadata": {}
        },
        {
          "output_type": "display_data",
          "data": {
            "text/plain": [
              "<PIL.Image.Image image mode=RGB size=10x10>"
            ],
            "image/png": "[encoded data removed]"
          },
          "metadata": {}
        },
        {
          "output_type": "display_data",
          "data": {
            "text/plain": [
              "<PIL.Image.Image image mode=RGB size=10x10>"
            ],
            "image/png": "[encoded data removed]"
          },
          "metadata": {}
        },
        {
          "output_type": "display_data",
          "data": {
            "text/plain": [
              "<PIL.Image.Image image mode=RGB size=10x10>"
            ],
            "image/png": "[encoded data removed]"
          },
          "metadata": {}
        },
        {
          "output_type": "display_data",
          "data": {
            "text/plain": [
              "<PIL.Image.Image image mode=RGB size=10x10>"
            ],
            "image/png": "[encoded data removed]"
          },
          "metadata": {}
        },
        {
          "output_type": "display_data",
          "data": {
            "text/plain": [
              "<PIL.Image.Image image mode=RGB size=10x10>"
            ],
            "image/png": "[encoded data removed]"
          },
          "metadata": {}
        },
        {
          "output_type": "display_data",
          "data": {
            "text/plain": [
              "<PIL.Image.Image image mode=RGB size=10x10>"
            ],
            "image/png": "[encoded data removed]"
          },
          "metadata": {}
        },
        {
          "output_type": "display_data",
          "data": {
            "text/plain": [
              "<PIL.Image.Image image mode=RGB size=10x10>"
            ],
            "image/png": "[encoded data removed]"
          },
          "metadata": {}
        },
        {
          "output_type": "display_data",
          "data": {
            "text/plain": [
              "<PIL.Image.Image image mode=RGB size=10x10>"
            ],
            "image/png": "[encoded data removed]"
          },
          "metadata": {}
        },
        {
          "output_type": "display_data",
          "data": {
            "text/plain": [
              "<PIL.Image.Image image mode=RGB size=10x10>"
            ],
            "image/png": "[encoded data removed]"
          },
          "metadata": {}
        },
        {
          "output_type": "display_data",
          "data": {
            "text/plain": [
              "<PIL.Image.Image image mode=RGB size=10x10>"
            ],
            "image/png": "[encoded data removed]"
          },
          "metadata": {}
        },
        {
          "output_type": "display_data",
          "data": {
            "text/plain": [
              "<PIL.Image.Image image mode=RGB size=10x10>"
            ],
            "image/png": "[encoded data removed]"
          },
          "metadata": {}
        },
        {
          "output_type": "display_data",
          "data": {
            "text/plain": [
              "<PIL.Image.Image image mode=RGB size=10x10>"
            ],
            "image/png": "[encoded data removed]"
          },
          "metadata": {}
        },
        {
          "output_type": "display_data",
          "data": {
            "text/plain": [
              "<PIL.Image.Image image mode=RGB size=10x10>"
            ],
            "image/png": "[encoded data removed]"
          },
          "metadata": {}
        },
        {
          "output_type": "display_data",
          "data": {
            "text/plain": [
              "<PIL.Image.Image image mode=RGB size=10x10>"
            ],
            "image/png": "[encoded data removed]"
          },
          "metadata": {}
        },
        {
          "output_type": "display_data",
          "data": {
            "text/plain": [
              "<PIL.Image.Image image mode=RGB size=10x10>"
            ],
            "image/png": "[encoded data removed]"
          },
          "metadata": {}
        },
        {
          "output_type": "display_data",
          "data": {
            "text/plain": [
              "<PIL.Image.Image image mode=RGB size=10x10>"
            ],
            "image/png": "[encoded data removed]"
          },
          "metadata": {}
        },
        {
          "output_type": "display_data",
          "data": {
            "text/plain": [
              "<PIL.Image.Image image mode=RGB size=10x10>"
            ],
            "image/png": "[encoded data removed]"
          },
          "metadata": {}
        },
        {
          "output_type": "display_data",
          "data": {
            "text/plain": [
              "<PIL.Image.Image image mode=RGB size=10x10>"
            ],
            "image/png": "[encoded data removed]"
          },
          "metadata": {}
        },
        {
          "output_type": "display_data",
          "data": {
            "text/plain": [
              "<PIL.Image.Image image mode=RGB size=10x10>"
            ],
            "image/png": "[encoded data removed]"
          },
          "metadata": {}
        },
        {
          "output_type": "display_data",
          "data": {
            "text/plain": [
              "<PIL.Image.Image image mode=RGB size=10x10>"
            ],
            "image/png": "[encoded data removed]"
          },
          "metadata": {}
        },
        {
          "output_type": "display_data",
          "data": {
            "text/plain": [
              "<PIL.Image.Image image mode=RGB size=10x10>"
            ],
            "image/png": "[encoded data removed]"
          },
          "metadata": {}
        },
        {
          "output_type": "display_data",
          "data": {
            "text/plain": [
              "<PIL.Image.Image image mode=RGB size=10x10>"
            ],
            "image/png": "[encoded data removed]"
          },
          "metadata": {}
        },
        {
          "output_type": "display_data",
          "data": {
            "text/plain": [
              "<PIL.Image.Image image mode=RGB size=10x10>"
            ],
            "image/png": "[encoded data removed]"
          },
          "metadata": {}
        },
        {
          "output_type": "display_data",
          "data": {
            "text/plain": [
              "<PIL.Image.Image image mode=RGB size=10x10>"
            ],
            "image/png": "[encoded data removed]"
          },
          "metadata": {}
        },
        {
          "output_type": "display_data",
          "data": {
            "text/plain": [
              "<PIL.Image.Image image mode=RGB size=10x10>"
            ],
            "image/png": "[encoded data removed]"
          },
          "metadata": {}
        },
        {
          "output_type": "display_data",
          "data": {
            "text/plain": [
              "<PIL.Image.Image image mode=RGB size=10x10>"
            ],
            "image/png": "[encoded data removed]"
          },
          "metadata": {}
        },
        {
          "output_type": "display_data",
          "data": {
            "text/plain": [
              "<PIL.Image.Image image mode=RGB size=10x10>"
            ],
            "image/png": "[encoded data removed]"
          },
          "metadata": {}
        },
        {
          "output_type": "display_data",
          "data": {
            "text/plain": [
              "<PIL.Image.Image image mode=RGB size=10x10>"
            ],
            "image/png": "[encoded data removed]"
          },
          "metadata": {}
        },
        {
          "output_type": "display_data",
          "data": {
            "text/plain": [
              "<PIL.Image.Image image mode=RGB size=10x10>"
            ],
            "image/png": "[encoded data removed]"
          },
          "metadata": {}
        },
        {
          "output_type": "display_data",
          "data": {
            "text/plain": [
              "<PIL.Image.Image image mode=RGB size=10x10>"
            ],
            "image/png": "[encoded data removed]"
          },
          "metadata": {}
        },
        {
          "output_type": "display_data",
          "data": {
            "text/plain": [
              "<PIL.Image.Image image mode=RGB size=10x10>"
            ],
            "image/png": "[encoded data removed]"
          },
          "metadata": {}
        },
        {
          "output_type": "display_data",
          "data": {
            "text/plain": [
              "<PIL.Image.Image image mode=RGB size=10x10>"
            ],
            "image/png": "[encoded data removed]"
          },
          "metadata": {}
        },
        {
          "output_type": "display_data",
          "data": {
            "text/plain": [
              "<PIL.Image.Image image mode=RGB size=10x10>"
            ],
            "image/png": "[encoded data removed]"
          },
          "metadata": {}
        },
        {
          "output_type": "display_data",
          "data": {
            "text/plain": [
              "<PIL.Image.Image image mode=RGB size=10x10>"
            ],
            "image/png": "[encoded data removed]"
          },
          "metadata": {}
        },
        {
          "output_type": "display_data",
          "data": {
            "text/plain": [
              "<PIL.Image.Image image mode=RGB size=10x10>"
            ],
            "image/png": "[encoded data removed]"
          },
          "metadata": {}
        },
        {
          "output_type": "display_data",
          "data": {
            "text/plain": [
              "<PIL.Image.Image image mode=RGB size=10x10>"
            ],
            "image/png": "[encoded data removed]"
          },
          "metadata": {}
        },
        {
          "output_type": "display_data",
          "data": {
            "text/plain": [
              "<PIL.Image.Image image mode=RGB size=10x10>"
            ],
            "image/png": "[encoded data removed]"
          },
          "metadata": {}
        },
        {
          "output_type": "display_data",
          "data": {
            "text/plain": [
              "<PIL.Image.Image image mode=RGB size=10x10>"
            ],
            "image/png": "[encoded data removed]"
          },
          "metadata": {}
        },
        {
          "output_type": "display_data",
          "data": {
            "text/plain": [
              "<PIL.Image.Image image mode=RGB size=10x10>"
            ],
            "image/png": "[encoded data removed]"
          },
          "metadata": {}
        },
        {
          "output_type": "display_data",
          "data": {
            "text/plain": [
              "<PIL.Image.Image image mode=RGB size=10x10>"
            ],
            "image/png": "[encoded data removed]"
          },
          "metadata": {}
        },
        {
          "output_type": "display_data",
          "data": {
            "text/plain": [
              "<PIL.Image.Image image mode=RGB size=10x10>"
            ],
            "image/png": "[encoded data removed]"
          },
          "metadata": {}
        },
        {
          "output_type": "display_data",
          "data": {
            "text/plain": [
              "<PIL.Image.Image image mode=RGB size=10x10>"
            ],
            "image/png": "[encoded data removed]"
          },
          "metadata": {}
        },
        {
          "output_type": "display_data",
          "data": {
            "text/plain": [
              "<PIL.Image.Image image mode=RGB size=10x10>"
            ],
            "image/png": "[encoded data removed]"
          },
          "metadata": {}
        },
        {
          "output_type": "display_data",
          "data": {
            "text/plain": [
              "<PIL.Image.Image image mode=RGB size=10x10>"
            ],
            "image/png": "[encoded data removed]"
          },
          "metadata": {}
        },
        {
          "output_type": "display_data",
          "data": {
            "text/plain": [
              "<PIL.Image.Image image mode=RGB size=10x10>"
            ],
            "image/png": "[encoded data removed]"
          },
          "metadata": {}
        },
        {
          "output_type": "display_data",
          "data": {
            "text/plain": [
              "<PIL.Image.Image image mode=RGB size=10x10>"
            ],
            "image/png": "[encoded data removed]"
          },
          "metadata": {}
        },
        {
          "output_type": "display_data",
          "data": {
            "text/plain": [
              "<PIL.Image.Image image mode=RGB size=10x10>"
            ],
            "image/png": "[encoded data removed]"
          },
          "metadata": {}
        },
        {
          "output_type": "display_data",
          "data": {
            "text/plain": [
              "<PIL.Image.Image image mode=RGB size=10x10>"
            ],
            "image/png": "[encoded data removed]"
          },
          "metadata": {}
        },
        {
          "output_type": "display_data",
          "data": {
            "text/plain": [
              "<PIL.Image.Image image mode=RGB size=10x10>"
            ],
            "image/png": "[encoded data removed]"
          },
          "metadata": {}
        },
        {
          "output_type": "display_data",
          "data": {
            "text/plain": [
              "<PIL.Image.Image image mode=RGB size=10x10>"
            ],
            "image/png": "[encoded data removed]"
          },
          "metadata": {}
        },
        {
          "output_type": "display_data",
          "data": {
            "text/plain": [
              "<PIL.Image.Image image mode=RGB size=10x10>"
            ],
            "image/png": "[encoded data removed]"
          },
          "metadata": {}
        },
        {
          "output_type": "display_data",
          "data": {
            "text/plain": [
              "<PIL.Image.Image image mode=RGB size=10x10>"
            ],
            "image/png": "[encoded data removed]"
          },
          "metadata": {}
        },
        {
          "output_type": "display_data",
          "data": {
            "text/plain": [
              "<PIL.Image.Image image mode=RGB size=10x10>"
            ],
            "image/png": "[encoded data removed]"
          },
          "metadata": {}
        },
        {
          "output_type": "display_data",
          "data": {
            "text/plain": [
              "<PIL.Image.Image image mode=RGB size=10x10>"
            ],
            "image/png": "[encoded data removed]"
          },
          "metadata": {}
        },
        {
          "output_type": "display_data",
          "data": {
            "text/plain": [
              "<PIL.Image.Image image mode=RGB size=10x10>"
            ],
            "image/png": "[encoded data removed]"
          },
          "metadata": {}
        },
        {
          "output_type": "display_data",
          "data": {
            "text/plain": [
              "<PIL.Image.Image image mode=RGB size=10x10>"
            ],
            "image/png": "[encoded data removed]"
          },
          "metadata": {}
        },
        {
          "output_type": "display_data",
          "data": {
            "text/plain": [
              "<PIL.Image.Image image mode=RGB size=10x10>"
            ],
            "image/png": "[encoded data removed]"
          },
          "metadata": {}
        },
        {
          "output_type": "display_data",
          "data": {
            "text/plain": [
              "<PIL.Image.Image image mode=RGB size=10x10>"
            ],
            "image/png": "[encoded data removed]"
          },
          "metadata": {}
        },
        {
          "output_type": "display_data",
          "data": {
            "text/plain": [
              "<PIL.Image.Image image mode=RGB size=10x10>"
            ],
            "image/png": "[encoded data removed]"
          },
          "metadata": {}
        },
        {
          "output_type": "display_data",
          "data": {
            "text/plain": [
              "<PIL.Image.Image image mode=RGB size=10x10>"
            ],
            "image/png": "[encoded data removed]"
          },
          "metadata": {}
        },
        {
          "output_type": "display_data",
          "data": {
            "text/plain": [
              "<PIL.Image.Image image mode=RGB size=10x10>"
            ],
            "image/png": "[encoded data removed]"
          },
          "metadata": {}
        },
        {
          "output_type": "display_data",
          "data": {
            "text/plain": [
              "<PIL.Image.Image image mode=RGB size=10x10>"
            ],
            "image/png": "[encoded data removed]"
          },
          "metadata": {}
        },
        {
          "output_type": "display_data",
          "data": {
            "text/plain": [
              "<PIL.Image.Image image mode=RGB size=10x10>"
            ],
            "image/png": "[encoded data removed]"
          },
          "metadata": {}
        },
        {
          "output_type": "display_data",
          "data": {
            "text/plain": [
              "<PIL.Image.Image image mode=RGB size=10x10>"
            ],
            "image/png": "[encoded data removed]"
          },
          "metadata": {}
        },
        {
          "output_type": "display_data",
          "data": {
            "text/plain": [
              "<PIL.Image.Image image mode=RGB size=10x10>"
            ],
            "image/png": "[encoded data removed]"
          },
          "metadata": {}
        },
        {
          "output_type": "display_data",
          "data": {
            "text/plain": [
              "<PIL.Image.Image image mode=RGB size=10x10>"
            ],
            "image/png": "[encoded data removed]"
          },
          "metadata": {}
        },
        {
          "output_type": "display_data",
          "data": {
            "text/plain": [
              "<PIL.Image.Image image mode=RGB size=10x10>"
            ],
            "image/png": "[encoded data removed]"
          },
          "metadata": {}
        },
        {
          "output_type": "display_data",
          "data": {
            "text/plain": [
              "<PIL.Image.Image image mode=RGB size=10x10>"
            ],
            "image/png": "[encoded data removed]"
          },
          "metadata": {}
        },
        {
          "output_type": "display_data",
          "data": {
            "text/plain": [
              "<PIL.Image.Image image mode=RGB size=10x10>"
            ],
            "image/png": "[encoded data removed]"
          },
          "metadata": {}
        },
        {
          "output_type": "display_data",
          "data": {
            "text/plain": [
              "<PIL.Image.Image image mode=RGB size=10x10>"
            ],
            "image/png": "[encoded data removed]"
          },
          "metadata": {}
        },
        {
          "output_type": "display_data",
          "data": {
            "text/plain": [
              "<PIL.Image.Image image mode=RGB size=10x10>"
            ],
            "image/png": "[encoded data removed]"
          },
          "metadata": {}
        },
        {
          "output_type": "display_data",
          "data": {
            "text/plain": [
              "<PIL.Image.Image image mode=RGB size=10x10>"
            ],
            "image/png": "[encoded data removed]"
          },
          "metadata": {}
        },
        {
          "output_type": "display_data",
          "data": {
            "text/plain": [
              "<PIL.Image.Image image mode=RGB size=10x10>"
            ],
            "image/png": "[encoded data removed]"
          },
          "metadata": {}
        },
        {
          "output_type": "display_data",
          "data": {
            "text/plain": [
              "<PIL.Image.Image image mode=RGB size=10x10>"
            ],
            "image/png": "[encoded data removed]"
          },
          "metadata": {}
        },
        {
          "output_type": "display_data",
          "data": {
            "text/plain": [
              "<PIL.Image.Image image mode=RGB size=10x10>"
            ],
            "image/png": "[encoded data removed]"
          },
          "metadata": {}
        },
        {
          "output_type": "display_data",
          "data": {
            "text/plain": [
              "<PIL.Image.Image image mode=RGB size=10x10>"
            ],
            "image/png": "[encoded data removed]"
          },
          "metadata": {}
        },
        {
          "output_type": "display_data",
          "data": {
            "text/plain": [
              "<PIL.Image.Image image mode=RGB size=10x10>"
            ],
            "image/png": "[encoded data removed]"
          },
          "metadata": {}
        },
        {
          "output_type": "display_data",
          "data": {
            "text/plain": [
              "<PIL.Image.Image image mode=RGB size=10x10>"
            ],
            "image/png": "[encoded data removed]"
          },
          "metadata": {}
        },
        {
          "output_type": "display_data",
          "data": {
            "text/plain": [
              "<PIL.Image.Image image mode=RGB size=10x10>"
            ],
            "image/png": "[encoded data removed]"
          },
          "metadata": {}
        },
        {
          "output_type": "display_data",
          "data": {
            "text/plain": [
              "<PIL.Image.Image image mode=RGB size=10x10>"
            ],
            "image/png": "[encoded data removed]"
          },
          "metadata": {}
        },
        {
          "output_type": "display_data",
          "data": {
            "text/plain": [
              "<PIL.Image.Image image mode=RGB size=10x10>"
            ],
            "image/png": "[encoded data removed]"
          },
          "metadata": {}
        },
        {
          "output_type": "display_data",
          "data": {
            "text/plain": [
              "<PIL.Image.Image image mode=RGB size=10x10>"
            ],
            "image/png": "[encoded data removed]"
          },
          "metadata": {}
        },
        {
          "output_type": "display_data",
          "data": {
            "text/plain": [
              "<PIL.Image.Image image mode=RGB size=10x10>"
            ],
            "image/png": "[encoded data removed]"
          },
          "metadata": {}
        },
        {
          "output_type": "display_data",
          "data": {
            "text/plain": [
              "<PIL.Image.Image image mode=RGB size=10x10>"
            ],
            "image/png": "[encoded data removed]"
          },
          "metadata": {}
        },
        {
          "output_type": "display_data",
          "data": {
            "text/plain": [
              "<PIL.Image.Image image mode=RGB size=10x10>"
            ],
            "image/png": "[encoded data removed]"
          },
          "metadata": {}
        },
        {
          "output_type": "display_data",
          "data": {
            "text/plain": [
              "<PIL.Image.Image image mode=RGB size=10x10>"
            ],
            "image/png": "[encoded data removed]"
          },
          "metadata": {}
        },
        {
          "output_type": "display_data",
          "data": {
            "text/plain": [
              "<PIL.Image.Image image mode=RGB size=10x10>"
            ],
            "image/png": "[encoded data removed]"
          },
          "metadata": {}
        },
        {
          "output_type": "display_data",
          "data": {
            "text/plain": [
              "<PIL.Image.Image image mode=RGB size=10x10>"
            ],
            "image/png": "[encoded data removed]"
          },
          "metadata": {}
        },
        {
          "output_type": "display_data",
          "data": {
            "text/plain": [
              "<PIL.Image.Image image mode=RGB size=10x10>"
            ],
            "image/png": "[encoded data removed]"
          },
          "metadata": {}
        }
      ]
    },
    {
      "cell_type": "code",
      "source": [
        "test_img_file = files.upload()\n",
        "\n",
        "test_img_filename = next(iter(test_img_file))\n",
        "library_img = Image.open(test_img_filename)"
      ],
      "metadata": {
        "colab": {
          "base_uri": "https://localhost:8080/",
          "height": 73
        },
        "id": "4hbsFQvC4c52",
        "outputId": "4e4f45fb-5c92-4cd7-f1ca-634ab5c62f5d"
      },
      "execution_count": 89,
      "outputs": [
        {
          "output_type": "display_data",
          "data": {
            "text/plain": [
              "<IPython.core.display.HTML object>"
            ],
            "text/html": [
              "\n",
              "     <input type=\"file\" id=\"files-21e5da13-0cae-43a0-bd6d-3c601a4441d8\" name=\"files[]\" multiple disabled\n",
              "        style=\"border:none\" />\n",
              "     <output id=\"result-21e5da13-0cae-43a0-bd6d-3c601a4441d8\">\n",
              "      Upload widget is only available when the cell has been executed in the\n",
              "      current browser session. Please rerun this cell to enable.\n",
              "      </output>\n",
              "      <script>// Copyright 2017 Google LLC\n",
              "//\n",
              "// Licensed under the Apache License, Version 2.0 (the \"License\");\n",
              "// you may not use this file except in compliance with the License.\n",
              "// You may obtain a copy of the License at\n",
              "//\n",
              "//      http://www.apache.org/licenses/LICENSE-2.0\n",
              "//\n",
              "// Unless required by applicable law or agreed to in writing, software\n",
              "// distributed under the License is distributed on an \"AS IS\" BASIS,\n",
              "// WITHOUT WARRANTIES OR CONDITIONS OF ANY KIND, either express or implied.\n",
              "// See the License for the specific language governing permissions and\n",
              "// limitations under the License.\n",
              "\n",
              "/**\n",
              " * @fileoverview Helpers for google.colab Python module.\n",
              " */\n",
              "(function(scope) {\n",
              "function span(text, styleAttributes = {}) {\n",
              "  const element = document.createElement('span');\n",
              "  element.textContent = text;\n",
              "  for (const key of Object.keys(styleAttributes)) {\n",
              "    element.style[key] = styleAttributes[key];\n",
              "  }\n",
              "  return element;\n",
              "}\n",
              "\n",
              "// Max number of bytes which will be uploaded at a time.\n",
              "const MAX_PAYLOAD_SIZE = 100 * 1024;\n",
              "\n",
              "function _uploadFiles(inputId, outputId) {\n",
              "  const steps = uploadFilesStep(inputId, outputId);\n",
              "  const outputElement = document.getElementById(outputId);\n",
              "  // Cache steps on the outputElement to make it available for the next call\n",
              "  // to uploadFilesContinue from Python.\n",
              "  outputElement.steps = steps;\n",
              "\n",
              "  return _uploadFilesContinue(outputId);\n",
              "}\n",
              "\n",
              "// This is roughly an async generator (not supported in the browser yet),\n",
              "// where there are multiple asynchronous steps and the Python side is going\n",
              "// to poll for completion of each step.\n",
              "// This uses a Promise to block the python side on completion of each step,\n",
              "// then passes the result of the previous step as the input to the next step.\n",
              "function _uploadFilesContinue(outputId) {\n",
              "  const outputElement = document.getElementById(outputId);\n",
              "  const steps = outputElement.steps;\n",
              "\n",
              "  const next = steps.next(outputElement.lastPromiseValue);\n",
              "  return Promise.resolve(next.value.promise).then((value) => {\n",
              "    // Cache the last promise value to make it available to the next\n",
              "    // step of the generator.\n",
              "    outputElement.lastPromiseValue = value;\n",
              "    return next.value.response;\n",
              "  });\n",
              "}\n",
              "\n",
              "/**\n",
              " * Generator function which is called between each async step of the upload\n",
              " * process.\n",
              " * @param {string} inputId Element ID of the input file picker element.\n",
              " * @param {string} outputId Element ID of the output display.\n",
              " * @return {!Iterable<!Object>} Iterable of next steps.\n",
              " */\n",
              "function* uploadFilesStep(inputId, outputId) {\n",
              "  const inputElement = document.getElementById(inputId);\n",
              "  inputElement.disabled = false;\n",
              "\n",
              "  const outputElement = document.getElementById(outputId);\n",
              "  outputElement.innerHTML = '';\n",
              "\n",
              "  const pickedPromise = new Promise((resolve) => {\n",
              "    inputElement.addEventListener('change', (e) => {\n",
              "      resolve(e.target.files);\n",
              "    });\n",
              "  });\n",
              "\n",
              "  const cancel = document.createElement('button');\n",
              "  inputElement.parentElement.appendChild(cancel);\n",
              "  cancel.textContent = 'Cancel upload';\n",
              "  const cancelPromise = new Promise((resolve) => {\n",
              "    cancel.onclick = () => {\n",
              "      resolve(null);\n",
              "    };\n",
              "  });\n",
              "\n",
              "  // Wait for the user to pick the files.\n",
              "  const files = yield {\n",
              "    promise: Promise.race([pickedPromise, cancelPromise]),\n",
              "    response: {\n",
              "      action: 'starting',\n",
              "    }\n",
              "  };\n",
              "\n",
              "  cancel.remove();\n",
              "\n",
              "  // Disable the input element since further picks are not allowed.\n",
              "  inputElement.disabled = true;\n",
              "\n",
              "  if (!files) {\n",
              "    return {\n",
              "      response: {\n",
              "        action: 'complete',\n",
              "      }\n",
              "    };\n",
              "  }\n",
              "\n",
              "  for (const file of files) {\n",
              "    const li = document.createElement('li');\n",
              "    li.append(span(file.name, {fontWeight: 'bold'}));\n",
              "    li.append(span(\n",
              "        `(${file.type || 'n/a'}) - ${file.size} bytes, ` +\n",
              "        `last modified: ${\n",
              "            file.lastModifiedDate ? file.lastModifiedDate.toLocaleDateString() :\n",
              "                                    'n/a'} - `));\n",
              "    const percent = span('0% done');\n",
              "    li.appendChild(percent);\n",
              "\n",
              "    outputElement.appendChild(li);\n",
              "\n",
              "    const fileDataPromise = new Promise((resolve) => {\n",
              "      const reader = new FileReader();\n",
              "      reader.onload = (e) => {\n",
              "        resolve(e.target.result);\n",
              "      };\n",
              "      reader.readAsArrayBuffer(file);\n",
              "    });\n",
              "    // Wait for the data to be ready.\n",
              "    let fileData = yield {\n",
              "      promise: fileDataPromise,\n",
              "      response: {\n",
              "        action: 'continue',\n",
              "      }\n",
              "    };\n",
              "\n",
              "    // Use a chunked sending to avoid message size limits. See b/62115660.\n",
              "    let position = 0;\n",
              "    do {\n",
              "      const length = Math.min(fileData.byteLength - position, MAX_PAYLOAD_SIZE);\n",
              "      const chunk = new Uint8Array(fileData, position, length);\n",
              "      position += length;\n",
              "\n",
              "      const base64 = btoa(String.fromCharCode.apply(null, chunk));\n",
              "      yield {\n",
              "        response: {\n",
              "          action: 'append',\n",
              "          file: file.name,\n",
              "          data: base64,\n",
              "        },\n",
              "      };\n",
              "\n",
              "      let percentDone = fileData.byteLength === 0 ?\n",
              "          100 :\n",
              "          Math.round((position / fileData.byteLength) * 100);\n",
              "      percent.textContent = `${percentDone}% done`;\n",
              "\n",
              "    } while (position < fileData.byteLength);\n",
              "  }\n",
              "\n",
              "  // All done.\n",
              "  yield {\n",
              "    response: {\n",
              "      action: 'complete',\n",
              "    }\n",
              "  };\n",
              "}\n",
              "\n",
              "scope.google = scope.google || {};\n",
              "scope.google.colab = scope.google.colab || {};\n",
              "scope.google.colab._files = {\n",
              "  _uploadFiles,\n",
              "  _uploadFilesContinue,\n",
              "};\n",
              "})(self);\n",
              "</script> "
            ]
          },
          "metadata": {}
        },
        {
          "output_type": "stream",
          "name": "stdout",
          "text": [
            "Saving red-apple-isolated-on-white-600nw-1727544364.webp to red-apple-isolated-on-white-600nw-1727544364.webp\n"
          ]
        }
      ]
    },
    {
      "cell_type": "code",
      "source": [
        "## USING DOMINANT COLOR CODE\n",
        "\n",
        "\n",
        "copy = library_img.copy()\n",
        "library_arr = []\n",
        "\n",
        "copy1 = library_img.copy().convert('RGBA')\n",
        "png = np.array(copy1)\n",
        "\n",
        "counter = 0\n",
        "for i in range(0, library_img.height, detail):\n",
        "  for j in range(0, library_img.width, detail):\n",
        "    library_arr.append(library_img.crop((j, i, j+detail, i+detail)))\n",
        "    crop = library_img.crop((j, i, j+detail, i+detail))\n",
        "\n",
        "\n",
        "\n",
        "\n",
        "    new_img = listtest[find_Dominant_Color(crop, listtest)]\n",
        "    # Image.putdata(data, scale=1.0, offset=0.0)\n",
        "    # left, upper, right, and lower\n",
        "    Image.Image.paste(copy, new_img, (j, i, j+detail, i+detail))\n",
        "\n",
        "    counter+=1\n",
        "    print(\"progress: \" + str(counter) + \"/\" + str((((library_img.width)/detail) * ((library_img.height)/detail))))\n",
        "    ## searching the original picture for a similar color"
      ],
      "metadata": {
        "colab": {
          "base_uri": "https://localhost:8080/"
        },
        "collapsed": true,
        "id": "q4dAE7QzJk4-",
        "outputId": "6fad649b-6257-4a65-d20e-e0e6c52f8d27"
      },
      "execution_count": 90,
      "outputs": [
        {
          "output_type": "stream",
          "name": "stdout",
          "text": [
            "progress: 1/3444.0\n",
            "progress: 2/3444.0\n",
            "progress: 3/3444.0\n",
            "progress: 4/3444.0\n",
            "progress: 5/3444.0\n",
            "progress: 6/3444.0\n",
            "progress: 7/3444.0\n",
            "progress: 8/3444.0\n",
            "progress: 9/3444.0\n",
            "progress: 10/3444.0\n",
            "progress: 11/3444.0\n",
            "progress: 12/3444.0\n",
            "progress: 13/3444.0\n",
            "progress: 14/3444.0\n",
            "progress: 15/3444.0\n",
            "progress: 16/3444.0\n",
            "progress: 17/3444.0\n",
            "progress: 18/3444.0\n",
            "progress: 19/3444.0\n",
            "progress: 20/3444.0\n",
            "progress: 21/3444.0\n",
            "progress: 22/3444.0\n",
            "progress: 23/3444.0\n",
            "progress: 24/3444.0\n",
            "progress: 25/3444.0\n",
            "progress: 26/3444.0\n",
            "progress: 27/3444.0\n",
            "progress: 28/3444.0\n",
            "progress: 29/3444.0\n",
            "progress: 30/3444.0\n",
            "progress: 31/3444.0\n",
            "progress: 32/3444.0\n",
            "progress: 33/3444.0\n",
            "progress: 34/3444.0\n",
            "progress: 35/3444.0\n",
            "progress: 36/3444.0\n",
            "progress: 37/3444.0\n",
            "progress: 38/3444.0\n",
            "progress: 39/3444.0\n",
            "progress: 40/3444.0\n",
            "progress: 41/3444.0\n",
            "progress: 42/3444.0\n",
            "progress: 43/3444.0\n",
            "progress: 44/3444.0\n",
            "progress: 45/3444.0\n",
            "progress: 46/3444.0\n",
            "progress: 47/3444.0\n",
            "progress: 48/3444.0\n",
            "progress: 49/3444.0\n",
            "progress: 50/3444.0\n",
            "progress: 51/3444.0\n",
            "progress: 52/3444.0\n",
            "progress: 53/3444.0\n",
            "progress: 54/3444.0\n",
            "progress: 55/3444.0\n",
            "progress: 56/3444.0\n",
            "progress: 57/3444.0\n",
            "progress: 58/3444.0\n",
            "progress: 59/3444.0\n",
            "progress: 60/3444.0\n",
            "progress: 61/3444.0\n",
            "progress: 62/3444.0\n",
            "progress: 63/3444.0\n",
            "progress: 64/3444.0\n",
            "progress: 65/3444.0\n",
            "progress: 66/3444.0\n",
            "progress: 67/3444.0\n",
            "progress: 68/3444.0\n",
            "progress: 69/3444.0\n",
            "progress: 70/3444.0\n",
            "progress: 71/3444.0\n",
            "progress: 72/3444.0\n",
            "progress: 73/3444.0\n",
            "progress: 74/3444.0\n",
            "progress: 75/3444.0\n",
            "progress: 76/3444.0\n",
            "progress: 77/3444.0\n",
            "progress: 78/3444.0\n",
            "progress: 79/3444.0\n",
            "progress: 80/3444.0\n",
            "progress: 81/3444.0\n",
            "progress: 82/3444.0\n",
            "progress: 83/3444.0\n",
            "progress: 84/3444.0\n",
            "progress: 85/3444.0\n",
            "progress: 86/3444.0\n",
            "progress: 87/3444.0\n",
            "progress: 88/3444.0\n",
            "progress: 89/3444.0\n",
            "progress: 90/3444.0\n",
            "progress: 91/3444.0\n",
            "progress: 92/3444.0\n",
            "progress: 93/3444.0\n",
            "progress: 94/3444.0\n",
            "progress: 95/3444.0\n",
            "progress: 96/3444.0\n",
            "progress: 97/3444.0\n",
            "progress: 98/3444.0\n",
            "progress: 99/3444.0\n",
            "progress: 100/3444.0\n",
            "progress: 101/3444.0\n",
            "progress: 102/3444.0\n",
            "progress: 103/3444.0\n",
            "progress: 104/3444.0\n",
            "progress: 105/3444.0\n",
            "progress: 106/3444.0\n",
            "progress: 107/3444.0\n",
            "progress: 108/3444.0\n",
            "progress: 109/3444.0\n",
            "progress: 110/3444.0\n",
            "progress: 111/3444.0\n",
            "progress: 112/3444.0\n",
            "progress: 113/3444.0\n",
            "progress: 114/3444.0\n",
            "progress: 115/3444.0\n",
            "progress: 116/3444.0\n",
            "progress: 117/3444.0\n",
            "progress: 118/3444.0\n",
            "progress: 119/3444.0\n",
            "progress: 120/3444.0\n",
            "progress: 121/3444.0\n",
            "progress: 122/3444.0\n",
            "progress: 123/3444.0\n",
            "progress: 124/3444.0\n",
            "progress: 125/3444.0\n",
            "progress: 126/3444.0\n",
            "progress: 127/3444.0\n",
            "progress: 128/3444.0\n",
            "progress: 129/3444.0\n",
            "progress: 130/3444.0\n",
            "progress: 131/3444.0\n",
            "progress: 132/3444.0\n",
            "progress: 133/3444.0\n",
            "progress: 134/3444.0\n",
            "progress: 135/3444.0\n",
            "progress: 136/3444.0\n",
            "progress: 137/3444.0\n",
            "progress: 138/3444.0\n",
            "progress: 139/3444.0\n",
            "progress: 140/3444.0\n",
            "progress: 141/3444.0\n",
            "progress: 142/3444.0\n",
            "progress: 143/3444.0\n",
            "progress: 144/3444.0\n",
            "progress: 145/3444.0\n",
            "progress: 146/3444.0\n",
            "progress: 147/3444.0\n",
            "progress: 148/3444.0\n",
            "progress: 149/3444.0\n",
            "progress: 150/3444.0\n",
            "progress: 151/3444.0\n",
            "progress: 152/3444.0\n",
            "progress: 153/3444.0\n",
            "progress: 154/3444.0\n",
            "progress: 155/3444.0\n",
            "progress: 156/3444.0\n",
            "progress: 157/3444.0\n",
            "progress: 158/3444.0\n",
            "progress: 159/3444.0\n",
            "progress: 160/3444.0\n",
            "progress: 161/3444.0\n",
            "progress: 162/3444.0\n",
            "progress: 163/3444.0\n",
            "progress: 164/3444.0\n",
            "progress: 165/3444.0\n",
            "progress: 166/3444.0\n",
            "progress: 167/3444.0\n",
            "progress: 168/3444.0\n",
            "progress: 169/3444.0\n",
            "progress: 170/3444.0\n",
            "progress: 171/3444.0\n",
            "progress: 172/3444.0\n",
            "progress: 173/3444.0\n",
            "progress: 174/3444.0\n",
            "progress: 175/3444.0\n",
            "progress: 176/3444.0\n",
            "progress: 177/3444.0\n",
            "progress: 178/3444.0\n",
            "progress: 179/3444.0\n",
            "progress: 180/3444.0\n",
            "progress: 181/3444.0\n",
            "progress: 182/3444.0\n",
            "progress: 183/3444.0\n",
            "progress: 184/3444.0\n",
            "progress: 185/3444.0\n",
            "progress: 186/3444.0\n",
            "progress: 187/3444.0\n",
            "progress: 188/3444.0\n",
            "progress: 189/3444.0\n",
            "progress: 190/3444.0\n",
            "progress: 191/3444.0\n",
            "progress: 192/3444.0\n",
            "progress: 193/3444.0\n",
            "progress: 194/3444.0\n",
            "progress: 195/3444.0\n",
            "progress: 196/3444.0\n",
            "progress: 197/3444.0\n",
            "progress: 198/3444.0\n",
            "progress: 199/3444.0\n",
            "progress: 200/3444.0\n",
            "progress: 201/3444.0\n",
            "progress: 202/3444.0\n",
            "progress: 203/3444.0\n",
            "progress: 204/3444.0\n",
            "progress: 205/3444.0\n",
            "progress: 206/3444.0\n",
            "progress: 207/3444.0\n",
            "progress: 208/3444.0\n",
            "progress: 209/3444.0\n",
            "progress: 210/3444.0\n",
            "progress: 211/3444.0\n",
            "progress: 212/3444.0\n",
            "progress: 213/3444.0\n",
            "progress: 214/3444.0\n",
            "progress: 215/3444.0\n",
            "progress: 216/3444.0\n",
            "progress: 217/3444.0\n",
            "progress: 218/3444.0\n",
            "progress: 219/3444.0\n",
            "progress: 220/3444.0\n",
            "progress: 221/3444.0\n",
            "progress: 222/3444.0\n",
            "progress: 223/3444.0\n",
            "progress: 224/3444.0\n",
            "progress: 225/3444.0\n",
            "progress: 226/3444.0\n",
            "progress: 227/3444.0\n",
            "progress: 228/3444.0\n",
            "progress: 229/3444.0\n",
            "progress: 230/3444.0\n",
            "progress: 231/3444.0\n",
            "progress: 232/3444.0\n",
            "progress: 233/3444.0\n",
            "progress: 234/3444.0\n",
            "progress: 235/3444.0\n",
            "progress: 236/3444.0\n",
            "progress: 237/3444.0\n",
            "progress: 238/3444.0\n",
            "progress: 239/3444.0\n",
            "progress: 240/3444.0\n",
            "progress: 241/3444.0\n",
            "progress: 242/3444.0\n",
            "progress: 243/3444.0\n",
            "progress: 244/3444.0\n",
            "progress: 245/3444.0\n",
            "progress: 246/3444.0\n",
            "progress: 247/3444.0\n",
            "progress: 248/3444.0\n",
            "progress: 249/3444.0\n",
            "progress: 250/3444.0\n",
            "progress: 251/3444.0\n",
            "progress: 252/3444.0\n",
            "progress: 253/3444.0\n",
            "progress: 254/3444.0\n",
            "progress: 255/3444.0\n",
            "progress: 256/3444.0\n",
            "progress: 257/3444.0\n",
            "progress: 258/3444.0\n",
            "progress: 259/3444.0\n",
            "progress: 260/3444.0\n",
            "progress: 261/3444.0\n",
            "progress: 262/3444.0\n",
            "progress: 263/3444.0\n",
            "progress: 264/3444.0\n",
            "progress: 265/3444.0\n",
            "progress: 266/3444.0\n",
            "progress: 267/3444.0\n",
            "progress: 268/3444.0\n",
            "progress: 269/3444.0\n",
            "progress: 270/3444.0\n",
            "progress: 271/3444.0\n",
            "progress: 272/3444.0\n",
            "progress: 273/3444.0\n",
            "progress: 274/3444.0\n",
            "progress: 275/3444.0\n",
            "progress: 276/3444.0\n",
            "progress: 277/3444.0\n",
            "progress: 278/3444.0\n",
            "progress: 279/3444.0\n",
            "progress: 280/3444.0\n",
            "progress: 281/3444.0\n",
            "progress: 282/3444.0\n",
            "progress: 283/3444.0\n",
            "progress: 284/3444.0\n",
            "progress: 285/3444.0\n",
            "progress: 286/3444.0\n",
            "progress: 287/3444.0\n",
            "progress: 288/3444.0\n",
            "progress: 289/3444.0\n",
            "progress: 290/3444.0\n",
            "progress: 291/3444.0\n",
            "progress: 292/3444.0\n",
            "progress: 293/3444.0\n",
            "progress: 294/3444.0\n",
            "progress: 295/3444.0\n",
            "progress: 296/3444.0\n",
            "progress: 297/3444.0\n",
            "progress: 298/3444.0\n",
            "progress: 299/3444.0\n",
            "progress: 300/3444.0\n",
            "progress: 301/3444.0\n",
            "progress: 302/3444.0\n",
            "progress: 303/3444.0\n",
            "progress: 304/3444.0\n",
            "progress: 305/3444.0\n",
            "progress: 306/3444.0\n",
            "progress: 307/3444.0\n",
            "progress: 308/3444.0\n",
            "progress: 309/3444.0\n",
            "progress: 310/3444.0\n",
            "progress: 311/3444.0\n",
            "progress: 312/3444.0\n",
            "progress: 313/3444.0\n",
            "progress: 314/3444.0\n",
            "progress: 315/3444.0\n",
            "progress: 316/3444.0\n",
            "progress: 317/3444.0\n",
            "progress: 318/3444.0\n",
            "progress: 319/3444.0\n",
            "progress: 320/3444.0\n",
            "progress: 321/3444.0\n",
            "progress: 322/3444.0\n",
            "progress: 323/3444.0\n",
            "progress: 324/3444.0\n",
            "progress: 325/3444.0\n",
            "progress: 326/3444.0\n",
            "progress: 327/3444.0\n",
            "progress: 328/3444.0\n",
            "progress: 329/3444.0\n",
            "progress: 330/3444.0\n",
            "progress: 331/3444.0\n",
            "progress: 332/3444.0\n",
            "progress: 333/3444.0\n",
            "progress: 334/3444.0\n",
            "progress: 335/3444.0\n",
            "progress: 336/3444.0\n",
            "progress: 337/3444.0\n",
            "progress: 338/3444.0\n",
            "progress: 339/3444.0\n",
            "progress: 340/3444.0\n",
            "progress: 341/3444.0\n",
            "progress: 342/3444.0\n",
            "progress: 343/3444.0\n",
            "progress: 344/3444.0\n",
            "progress: 345/3444.0\n",
            "progress: 346/3444.0\n",
            "progress: 347/3444.0\n",
            "progress: 348/3444.0\n",
            "progress: 349/3444.0\n",
            "progress: 350/3444.0\n",
            "progress: 351/3444.0\n",
            "progress: 352/3444.0\n",
            "progress: 353/3444.0\n",
            "progress: 354/3444.0\n",
            "progress: 355/3444.0\n",
            "progress: 356/3444.0\n",
            "progress: 357/3444.0\n",
            "progress: 358/3444.0\n",
            "progress: 359/3444.0\n",
            "progress: 360/3444.0\n",
            "progress: 361/3444.0\n",
            "progress: 362/3444.0\n",
            "progress: 363/3444.0\n",
            "progress: 364/3444.0\n",
            "progress: 365/3444.0\n",
            "progress: 366/3444.0\n",
            "progress: 367/3444.0\n",
            "progress: 368/3444.0\n",
            "progress: 369/3444.0\n",
            "progress: 370/3444.0\n",
            "progress: 371/3444.0\n",
            "progress: 372/3444.0\n",
            "progress: 373/3444.0\n",
            "progress: 374/3444.0\n",
            "progress: 375/3444.0\n",
            "progress: 376/3444.0\n",
            "progress: 377/3444.0\n",
            "progress: 378/3444.0\n",
            "progress: 379/3444.0\n",
            "progress: 380/3444.0\n",
            "progress: 381/3444.0\n",
            "progress: 382/3444.0\n",
            "progress: 383/3444.0\n",
            "progress: 384/3444.0\n",
            "progress: 385/3444.0\n",
            "progress: 386/3444.0\n",
            "progress: 387/3444.0\n",
            "progress: 388/3444.0\n",
            "progress: 389/3444.0\n",
            "progress: 390/3444.0\n",
            "progress: 391/3444.0\n",
            "progress: 392/3444.0\n",
            "progress: 393/3444.0\n",
            "progress: 394/3444.0\n",
            "progress: 395/3444.0\n",
            "progress: 396/3444.0\n",
            "progress: 397/3444.0\n",
            "progress: 398/3444.0\n",
            "progress: 399/3444.0\n",
            "progress: 400/3444.0\n",
            "progress: 401/3444.0\n",
            "progress: 402/3444.0\n",
            "progress: 403/3444.0\n",
            "progress: 404/3444.0\n",
            "progress: 405/3444.0\n",
            "progress: 406/3444.0\n",
            "progress: 407/3444.0\n",
            "progress: 408/3444.0\n",
            "progress: 409/3444.0\n",
            "progress: 410/3444.0\n",
            "progress: 411/3444.0\n",
            "progress: 412/3444.0\n",
            "progress: 413/3444.0\n",
            "progress: 414/3444.0\n",
            "progress: 415/3444.0\n",
            "progress: 416/3444.0\n",
            "progress: 417/3444.0\n",
            "progress: 418/3444.0\n",
            "progress: 419/3444.0\n",
            "progress: 420/3444.0\n",
            "progress: 421/3444.0\n",
            "progress: 422/3444.0\n",
            "progress: 423/3444.0\n",
            "progress: 424/3444.0\n",
            "progress: 425/3444.0\n",
            "progress: 426/3444.0\n",
            "progress: 427/3444.0\n",
            "progress: 428/3444.0\n",
            "progress: 429/3444.0\n",
            "progress: 430/3444.0\n",
            "progress: 431/3444.0\n",
            "progress: 432/3444.0\n",
            "progress: 433/3444.0\n",
            "progress: 434/3444.0\n",
            "progress: 435/3444.0\n",
            "progress: 436/3444.0\n",
            "progress: 437/3444.0\n",
            "progress: 438/3444.0\n",
            "progress: 439/3444.0\n",
            "progress: 440/3444.0\n",
            "progress: 441/3444.0\n",
            "progress: 442/3444.0\n",
            "progress: 443/3444.0\n",
            "progress: 444/3444.0\n",
            "progress: 445/3444.0\n",
            "progress: 446/3444.0\n",
            "progress: 447/3444.0\n",
            "progress: 448/3444.0\n",
            "progress: 449/3444.0\n",
            "progress: 450/3444.0\n",
            "progress: 451/3444.0\n",
            "progress: 452/3444.0\n",
            "progress: 453/3444.0\n",
            "progress: 454/3444.0\n",
            "progress: 455/3444.0\n",
            "progress: 456/3444.0\n",
            "progress: 457/3444.0\n",
            "progress: 458/3444.0\n",
            "progress: 459/3444.0\n",
            "progress: 460/3444.0\n",
            "progress: 461/3444.0\n",
            "progress: 462/3444.0\n",
            "progress: 463/3444.0\n",
            "progress: 464/3444.0\n",
            "progress: 465/3444.0\n",
            "progress: 466/3444.0\n",
            "progress: 467/3444.0\n",
            "progress: 468/3444.0\n",
            "progress: 469/3444.0\n",
            "progress: 470/3444.0\n",
            "progress: 471/3444.0\n",
            "progress: 472/3444.0\n",
            "progress: 473/3444.0\n",
            "progress: 474/3444.0\n",
            "progress: 475/3444.0\n",
            "progress: 476/3444.0\n",
            "progress: 477/3444.0\n",
            "progress: 478/3444.0\n",
            "progress: 479/3444.0\n",
            "progress: 480/3444.0\n",
            "progress: 481/3444.0\n",
            "progress: 482/3444.0\n",
            "progress: 483/3444.0\n",
            "progress: 484/3444.0\n",
            "progress: 485/3444.0\n",
            "progress: 486/3444.0\n",
            "progress: 487/3444.0\n",
            "progress: 488/3444.0\n",
            "progress: 489/3444.0\n",
            "progress: 490/3444.0\n",
            "progress: 491/3444.0\n",
            "progress: 492/3444.0\n",
            "progress: 493/3444.0\n",
            "progress: 494/3444.0\n",
            "progress: 495/3444.0\n",
            "progress: 496/3444.0\n",
            "progress: 497/3444.0\n",
            "progress: 498/3444.0\n",
            "progress: 499/3444.0\n",
            "progress: 500/3444.0\n",
            "progress: 501/3444.0\n",
            "progress: 502/3444.0\n",
            "progress: 503/3444.0\n",
            "progress: 504/3444.0\n",
            "progress: 505/3444.0\n",
            "progress: 506/3444.0\n",
            "progress: 507/3444.0\n",
            "progress: 508/3444.0\n",
            "progress: 509/3444.0\n",
            "progress: 510/3444.0\n",
            "progress: 511/3444.0\n",
            "progress: 512/3444.0\n",
            "progress: 513/3444.0\n",
            "progress: 514/3444.0\n",
            "progress: 515/3444.0\n",
            "progress: 516/3444.0\n",
            "progress: 517/3444.0\n",
            "progress: 518/3444.0\n",
            "progress: 519/3444.0\n",
            "progress: 520/3444.0\n",
            "progress: 521/3444.0\n",
            "progress: 522/3444.0\n",
            "progress: 523/3444.0\n",
            "progress: 524/3444.0\n",
            "progress: 525/3444.0\n",
            "progress: 526/3444.0\n",
            "progress: 527/3444.0\n",
            "progress: 528/3444.0\n",
            "progress: 529/3444.0\n",
            "progress: 530/3444.0\n",
            "progress: 531/3444.0\n",
            "progress: 532/3444.0\n",
            "progress: 533/3444.0\n",
            "progress: 534/3444.0\n",
            "progress: 535/3444.0\n",
            "progress: 536/3444.0\n",
            "progress: 537/3444.0\n",
            "progress: 538/3444.0\n",
            "progress: 539/3444.0\n",
            "progress: 540/3444.0\n",
            "progress: 541/3444.0\n",
            "progress: 542/3444.0\n",
            "progress: 543/3444.0\n",
            "progress: 544/3444.0\n",
            "progress: 545/3444.0\n",
            "progress: 546/3444.0\n",
            "progress: 547/3444.0\n",
            "progress: 548/3444.0\n",
            "progress: 549/3444.0\n",
            "progress: 550/3444.0\n",
            "progress: 551/3444.0\n",
            "progress: 552/3444.0\n",
            "progress: 553/3444.0\n",
            "progress: 554/3444.0\n",
            "progress: 555/3444.0\n",
            "progress: 556/3444.0\n",
            "progress: 557/3444.0\n",
            "progress: 558/3444.0\n",
            "progress: 559/3444.0\n",
            "progress: 560/3444.0\n",
            "progress: 561/3444.0\n",
            "progress: 562/3444.0\n",
            "progress: 563/3444.0\n",
            "progress: 564/3444.0\n",
            "progress: 565/3444.0\n",
            "progress: 566/3444.0\n",
            "progress: 567/3444.0\n",
            "progress: 568/3444.0\n",
            "progress: 569/3444.0\n",
            "progress: 570/3444.0\n",
            "progress: 571/3444.0\n",
            "progress: 572/3444.0\n",
            "progress: 573/3444.0\n",
            "progress: 574/3444.0\n",
            "progress: 575/3444.0\n",
            "progress: 576/3444.0\n",
            "progress: 577/3444.0\n",
            "progress: 578/3444.0\n",
            "progress: 579/3444.0\n",
            "progress: 580/3444.0\n",
            "progress: 581/3444.0\n",
            "progress: 582/3444.0\n",
            "progress: 583/3444.0\n",
            "progress: 584/3444.0\n",
            "progress: 585/3444.0\n",
            "progress: 586/3444.0\n",
            "progress: 587/3444.0\n",
            "progress: 588/3444.0\n",
            "progress: 589/3444.0\n",
            "progress: 590/3444.0\n",
            "progress: 591/3444.0\n",
            "progress: 592/3444.0\n",
            "progress: 593/3444.0\n",
            "progress: 594/3444.0\n",
            "progress: 595/3444.0\n",
            "progress: 596/3444.0\n",
            "progress: 597/3444.0\n",
            "progress: 598/3444.0\n",
            "progress: 599/3444.0\n",
            "progress: 600/3444.0\n",
            "progress: 601/3444.0\n",
            "progress: 602/3444.0\n",
            "progress: 603/3444.0\n",
            "progress: 604/3444.0\n",
            "progress: 605/3444.0\n",
            "progress: 606/3444.0\n",
            "progress: 607/3444.0\n",
            "progress: 608/3444.0\n",
            "progress: 609/3444.0\n",
            "progress: 610/3444.0\n",
            "progress: 611/3444.0\n",
            "progress: 612/3444.0\n",
            "progress: 613/3444.0\n",
            "progress: 614/3444.0\n",
            "progress: 615/3444.0\n",
            "progress: 616/3444.0\n",
            "progress: 617/3444.0\n",
            "progress: 618/3444.0\n",
            "progress: 619/3444.0\n",
            "progress: 620/3444.0\n",
            "progress: 621/3444.0\n",
            "progress: 622/3444.0\n",
            "progress: 623/3444.0\n",
            "progress: 624/3444.0\n",
            "progress: 625/3444.0\n",
            "progress: 626/3444.0\n",
            "progress: 627/3444.0\n",
            "progress: 628/3444.0\n",
            "progress: 629/3444.0\n",
            "progress: 630/3444.0\n",
            "progress: 631/3444.0\n",
            "progress: 632/3444.0\n",
            "progress: 633/3444.0\n",
            "progress: 634/3444.0\n",
            "progress: 635/3444.0\n",
            "progress: 636/3444.0\n",
            "progress: 637/3444.0\n",
            "progress: 638/3444.0\n",
            "progress: 639/3444.0\n",
            "progress: 640/3444.0\n",
            "progress: 641/3444.0\n",
            "progress: 642/3444.0\n",
            "progress: 643/3444.0\n",
            "progress: 644/3444.0\n",
            "progress: 645/3444.0\n",
            "progress: 646/3444.0\n",
            "progress: 647/3444.0\n",
            "progress: 648/3444.0\n",
            "progress: 649/3444.0\n",
            "progress: 650/3444.0\n",
            "progress: 651/3444.0\n",
            "progress: 652/3444.0\n",
            "progress: 653/3444.0\n",
            "progress: 654/3444.0\n",
            "progress: 655/3444.0\n",
            "progress: 656/3444.0\n",
            "progress: 657/3444.0\n",
            "progress: 658/3444.0\n",
            "progress: 659/3444.0\n",
            "progress: 660/3444.0\n",
            "progress: 661/3444.0\n",
            "progress: 662/3444.0\n",
            "progress: 663/3444.0\n",
            "progress: 664/3444.0\n",
            "progress: 665/3444.0\n",
            "progress: 666/3444.0\n",
            "progress: 667/3444.0\n",
            "progress: 668/3444.0\n",
            "progress: 669/3444.0\n",
            "progress: 670/3444.0\n",
            "progress: 671/3444.0\n",
            "progress: 672/3444.0\n",
            "progress: 673/3444.0\n",
            "progress: 674/3444.0\n",
            "progress: 675/3444.0\n",
            "progress: 676/3444.0\n",
            "progress: 677/3444.0\n",
            "progress: 678/3444.0\n",
            "progress: 679/3444.0\n",
            "progress: 680/3444.0\n",
            "progress: 681/3444.0\n",
            "progress: 682/3444.0\n",
            "progress: 683/3444.0\n",
            "progress: 684/3444.0\n",
            "progress: 685/3444.0\n",
            "progress: 686/3444.0\n",
            "progress: 687/3444.0\n",
            "progress: 688/3444.0\n",
            "progress: 689/3444.0\n",
            "progress: 690/3444.0\n",
            "progress: 691/3444.0\n",
            "progress: 692/3444.0\n",
            "progress: 693/3444.0\n",
            "progress: 694/3444.0\n",
            "progress: 695/3444.0\n",
            "progress: 696/3444.0\n",
            "progress: 697/3444.0\n",
            "progress: 698/3444.0\n",
            "progress: 699/3444.0\n",
            "progress: 700/3444.0\n",
            "progress: 701/3444.0\n",
            "progress: 702/3444.0\n",
            "progress: 703/3444.0\n",
            "progress: 704/3444.0\n",
            "progress: 705/3444.0\n",
            "progress: 706/3444.0\n",
            "progress: 707/3444.0\n",
            "progress: 708/3444.0\n",
            "progress: 709/3444.0\n",
            "progress: 710/3444.0\n",
            "progress: 711/3444.0\n",
            "progress: 712/3444.0\n",
            "progress: 713/3444.0\n",
            "progress: 714/3444.0\n",
            "progress: 715/3444.0\n",
            "progress: 716/3444.0\n",
            "progress: 717/3444.0\n",
            "progress: 718/3444.0\n",
            "progress: 719/3444.0\n",
            "progress: 720/3444.0\n",
            "progress: 721/3444.0\n",
            "progress: 722/3444.0\n",
            "progress: 723/3444.0\n",
            "progress: 724/3444.0\n",
            "progress: 725/3444.0\n",
            "progress: 726/3444.0\n",
            "progress: 727/3444.0\n",
            "progress: 728/3444.0\n",
            "progress: 729/3444.0\n",
            "progress: 730/3444.0\n",
            "progress: 731/3444.0\n",
            "progress: 732/3444.0\n",
            "progress: 733/3444.0\n",
            "progress: 734/3444.0\n",
            "progress: 735/3444.0\n",
            "progress: 736/3444.0\n",
            "progress: 737/3444.0\n",
            "progress: 738/3444.0\n",
            "progress: 739/3444.0\n",
            "progress: 740/3444.0\n",
            "progress: 741/3444.0\n",
            "progress: 742/3444.0\n",
            "progress: 743/3444.0\n",
            "progress: 744/3444.0\n",
            "progress: 745/3444.0\n",
            "progress: 746/3444.0\n",
            "progress: 747/3444.0\n",
            "progress: 748/3444.0\n",
            "progress: 749/3444.0\n",
            "progress: 750/3444.0\n",
            "progress: 751/3444.0\n",
            "progress: 752/3444.0\n",
            "progress: 753/3444.0\n",
            "progress: 754/3444.0\n",
            "progress: 755/3444.0\n",
            "progress: 756/3444.0\n",
            "progress: 757/3444.0\n",
            "progress: 758/3444.0\n",
            "progress: 759/3444.0\n",
            "progress: 760/3444.0\n",
            "progress: 761/3444.0\n",
            "progress: 762/3444.0\n",
            "progress: 763/3444.0\n",
            "progress: 764/3444.0\n",
            "progress: 765/3444.0\n",
            "progress: 766/3444.0\n",
            "progress: 767/3444.0\n",
            "progress: 768/3444.0\n",
            "progress: 769/3444.0\n",
            "progress: 770/3444.0\n",
            "progress: 771/3444.0\n",
            "progress: 772/3444.0\n",
            "progress: 773/3444.0\n",
            "progress: 774/3444.0\n",
            "progress: 775/3444.0\n",
            "progress: 776/3444.0\n",
            "progress: 777/3444.0\n",
            "progress: 778/3444.0\n",
            "progress: 779/3444.0\n",
            "progress: 780/3444.0\n",
            "progress: 781/3444.0\n",
            "progress: 782/3444.0\n",
            "progress: 783/3444.0\n",
            "progress: 784/3444.0\n",
            "progress: 785/3444.0\n",
            "progress: 786/3444.0\n",
            "progress: 787/3444.0\n",
            "progress: 788/3444.0\n",
            "progress: 789/3444.0\n",
            "progress: 790/3444.0\n",
            "progress: 791/3444.0\n",
            "progress: 792/3444.0\n",
            "progress: 793/3444.0\n",
            "progress: 794/3444.0\n",
            "progress: 795/3444.0\n",
            "progress: 796/3444.0\n",
            "progress: 797/3444.0\n",
            "progress: 798/3444.0\n",
            "progress: 799/3444.0\n",
            "progress: 800/3444.0\n",
            "progress: 801/3444.0\n",
            "progress: 802/3444.0\n",
            "progress: 803/3444.0\n",
            "progress: 804/3444.0\n",
            "progress: 805/3444.0\n",
            "progress: 806/3444.0\n",
            "progress: 807/3444.0\n",
            "progress: 808/3444.0\n",
            "progress: 809/3444.0\n",
            "progress: 810/3444.0\n",
            "progress: 811/3444.0\n",
            "progress: 812/3444.0\n",
            "progress: 813/3444.0\n",
            "progress: 814/3444.0\n",
            "progress: 815/3444.0\n",
            "progress: 816/3444.0\n",
            "progress: 817/3444.0\n",
            "progress: 818/3444.0\n",
            "progress: 819/3444.0\n",
            "progress: 820/3444.0\n",
            "progress: 821/3444.0\n",
            "progress: 822/3444.0\n",
            "progress: 823/3444.0\n",
            "progress: 824/3444.0\n",
            "progress: 825/3444.0\n",
            "progress: 826/3444.0\n",
            "progress: 827/3444.0\n",
            "progress: 828/3444.0\n",
            "progress: 829/3444.0\n",
            "progress: 830/3444.0\n",
            "progress: 831/3444.0\n",
            "progress: 832/3444.0\n",
            "progress: 833/3444.0\n",
            "progress: 834/3444.0\n",
            "progress: 835/3444.0\n",
            "progress: 836/3444.0\n",
            "progress: 837/3444.0\n",
            "progress: 838/3444.0\n",
            "progress: 839/3444.0\n",
            "progress: 840/3444.0\n",
            "progress: 841/3444.0\n",
            "progress: 842/3444.0\n",
            "progress: 843/3444.0\n",
            "progress: 844/3444.0\n",
            "progress: 845/3444.0\n",
            "progress: 846/3444.0\n",
            "progress: 847/3444.0\n",
            "progress: 848/3444.0\n",
            "progress: 849/3444.0\n",
            "progress: 850/3444.0\n",
            "progress: 851/3444.0\n",
            "progress: 852/3444.0\n",
            "progress: 853/3444.0\n",
            "progress: 854/3444.0\n",
            "progress: 855/3444.0\n",
            "progress: 856/3444.0\n",
            "progress: 857/3444.0\n",
            "progress: 858/3444.0\n",
            "progress: 859/3444.0\n",
            "progress: 860/3444.0\n",
            "progress: 861/3444.0\n",
            "progress: 862/3444.0\n",
            "progress: 863/3444.0\n",
            "progress: 864/3444.0\n",
            "progress: 865/3444.0\n",
            "progress: 866/3444.0\n",
            "progress: 867/3444.0\n",
            "progress: 868/3444.0\n",
            "progress: 869/3444.0\n",
            "progress: 870/3444.0\n",
            "progress: 871/3444.0\n",
            "progress: 872/3444.0\n",
            "progress: 873/3444.0\n",
            "progress: 874/3444.0\n",
            "progress: 875/3444.0\n",
            "progress: 876/3444.0\n",
            "progress: 877/3444.0\n",
            "progress: 878/3444.0\n",
            "progress: 879/3444.0\n",
            "progress: 880/3444.0\n",
            "progress: 881/3444.0\n",
            "progress: 882/3444.0\n",
            "progress: 883/3444.0\n",
            "progress: 884/3444.0\n",
            "progress: 885/3444.0\n",
            "progress: 886/3444.0\n",
            "progress: 887/3444.0\n",
            "progress: 888/3444.0\n",
            "progress: 889/3444.0\n",
            "progress: 890/3444.0\n",
            "progress: 891/3444.0\n",
            "progress: 892/3444.0\n",
            "progress: 893/3444.0\n",
            "progress: 894/3444.0\n",
            "progress: 895/3444.0\n",
            "progress: 896/3444.0\n",
            "progress: 897/3444.0\n",
            "progress: 898/3444.0\n",
            "progress: 899/3444.0\n",
            "progress: 900/3444.0\n",
            "progress: 901/3444.0\n",
            "progress: 902/3444.0\n",
            "progress: 903/3444.0\n",
            "progress: 904/3444.0\n",
            "progress: 905/3444.0\n",
            "progress: 906/3444.0\n",
            "progress: 907/3444.0\n",
            "progress: 908/3444.0\n",
            "progress: 909/3444.0\n",
            "progress: 910/3444.0\n",
            "progress: 911/3444.0\n",
            "progress: 912/3444.0\n",
            "progress: 913/3444.0\n",
            "progress: 914/3444.0\n",
            "progress: 915/3444.0\n",
            "progress: 916/3444.0\n",
            "progress: 917/3444.0\n",
            "progress: 918/3444.0\n",
            "progress: 919/3444.0\n",
            "progress: 920/3444.0\n",
            "progress: 921/3444.0\n",
            "progress: 922/3444.0\n",
            "progress: 923/3444.0\n",
            "progress: 924/3444.0\n",
            "progress: 925/3444.0\n",
            "progress: 926/3444.0\n",
            "progress: 927/3444.0\n",
            "progress: 928/3444.0\n",
            "progress: 929/3444.0\n",
            "progress: 930/3444.0\n",
            "progress: 931/3444.0\n",
            "progress: 932/3444.0\n",
            "progress: 933/3444.0\n",
            "progress: 934/3444.0\n",
            "progress: 935/3444.0\n",
            "progress: 936/3444.0\n",
            "progress: 937/3444.0\n",
            "progress: 938/3444.0\n",
            "progress: 939/3444.0\n",
            "progress: 940/3444.0\n",
            "progress: 941/3444.0\n",
            "progress: 942/3444.0\n",
            "progress: 943/3444.0\n",
            "progress: 944/3444.0\n",
            "progress: 945/3444.0\n",
            "progress: 946/3444.0\n",
            "progress: 947/3444.0\n",
            "progress: 948/3444.0\n",
            "progress: 949/3444.0\n",
            "progress: 950/3444.0\n",
            "progress: 951/3444.0\n",
            "progress: 952/3444.0\n",
            "progress: 953/3444.0\n",
            "progress: 954/3444.0\n",
            "progress: 955/3444.0\n",
            "progress: 956/3444.0\n",
            "progress: 957/3444.0\n",
            "progress: 958/3444.0\n",
            "progress: 959/3444.0\n",
            "progress: 960/3444.0\n",
            "progress: 961/3444.0\n",
            "progress: 962/3444.0\n",
            "progress: 963/3444.0\n",
            "progress: 964/3444.0\n",
            "progress: 965/3444.0\n",
            "progress: 966/3444.0\n",
            "progress: 967/3444.0\n",
            "progress: 968/3444.0\n",
            "progress: 969/3444.0\n",
            "progress: 970/3444.0\n",
            "progress: 971/3444.0\n",
            "progress: 972/3444.0\n",
            "progress: 973/3444.0\n",
            "progress: 974/3444.0\n",
            "progress: 975/3444.0\n",
            "progress: 976/3444.0\n",
            "progress: 977/3444.0\n",
            "progress: 978/3444.0\n",
            "progress: 979/3444.0\n",
            "progress: 980/3444.0\n",
            "progress: 981/3444.0\n",
            "progress: 982/3444.0\n",
            "progress: 983/3444.0\n",
            "progress: 984/3444.0\n",
            "progress: 985/3444.0\n",
            "progress: 986/3444.0\n",
            "progress: 987/3444.0\n",
            "progress: 988/3444.0\n",
            "progress: 989/3444.0\n",
            "progress: 990/3444.0\n",
            "progress: 991/3444.0\n",
            "progress: 992/3444.0\n",
            "progress: 993/3444.0\n",
            "progress: 994/3444.0\n",
            "progress: 995/3444.0\n",
            "progress: 996/3444.0\n",
            "progress: 997/3444.0\n",
            "progress: 998/3444.0\n",
            "progress: 999/3444.0\n",
            "progress: 1000/3444.0\n",
            "progress: 1001/3444.0\n",
            "progress: 1002/3444.0\n",
            "progress: 1003/3444.0\n",
            "progress: 1004/3444.0\n",
            "progress: 1005/3444.0\n",
            "progress: 1006/3444.0\n",
            "progress: 1007/3444.0\n",
            "progress: 1008/3444.0\n",
            "progress: 1009/3444.0\n",
            "progress: 1010/3444.0\n",
            "progress: 1011/3444.0\n",
            "progress: 1012/3444.0\n",
            "progress: 1013/3444.0\n",
            "progress: 1014/3444.0\n",
            "progress: 1015/3444.0\n",
            "progress: 1016/3444.0\n",
            "progress: 1017/3444.0\n",
            "progress: 1018/3444.0\n",
            "progress: 1019/3444.0\n",
            "progress: 1020/3444.0\n",
            "progress: 1021/3444.0\n",
            "progress: 1022/3444.0\n",
            "progress: 1023/3444.0\n",
            "progress: 1024/3444.0\n",
            "progress: 1025/3444.0\n",
            "progress: 1026/3444.0\n",
            "progress: 1027/3444.0\n",
            "progress: 1028/3444.0\n",
            "progress: 1029/3444.0\n",
            "progress: 1030/3444.0\n",
            "progress: 1031/3444.0\n",
            "progress: 1032/3444.0\n",
            "progress: 1033/3444.0\n",
            "progress: 1034/3444.0\n",
            "progress: 1035/3444.0\n",
            "progress: 1036/3444.0\n",
            "progress: 1037/3444.0\n",
            "progress: 1038/3444.0\n",
            "progress: 1039/3444.0\n",
            "progress: 1040/3444.0\n",
            "progress: 1041/3444.0\n",
            "progress: 1042/3444.0\n",
            "progress: 1043/3444.0\n",
            "progress: 1044/3444.0\n",
            "progress: 1045/3444.0\n",
            "progress: 1046/3444.0\n",
            "progress: 1047/3444.0\n",
            "progress: 1048/3444.0\n",
            "progress: 1049/3444.0\n",
            "progress: 1050/3444.0\n",
            "progress: 1051/3444.0\n",
            "progress: 1052/3444.0\n",
            "progress: 1053/3444.0\n",
            "progress: 1054/3444.0\n",
            "progress: 1055/3444.0\n",
            "progress: 1056/3444.0\n",
            "progress: 1057/3444.0\n",
            "progress: 1058/3444.0\n",
            "progress: 1059/3444.0\n",
            "progress: 1060/3444.0\n",
            "progress: 1061/3444.0\n",
            "progress: 1062/3444.0\n",
            "progress: 1063/3444.0\n",
            "progress: 1064/3444.0\n",
            "progress: 1065/3444.0\n",
            "progress: 1066/3444.0\n",
            "progress: 1067/3444.0\n",
            "progress: 1068/3444.0\n",
            "progress: 1069/3444.0\n",
            "progress: 1070/3444.0\n",
            "progress: 1071/3444.0\n",
            "progress: 1072/3444.0\n",
            "progress: 1073/3444.0\n",
            "progress: 1074/3444.0\n",
            "progress: 1075/3444.0\n",
            "progress: 1076/3444.0\n",
            "progress: 1077/3444.0\n",
            "progress: 1078/3444.0\n",
            "progress: 1079/3444.0\n",
            "progress: 1080/3444.0\n",
            "progress: 1081/3444.0\n",
            "progress: 1082/3444.0\n",
            "progress: 1083/3444.0\n",
            "progress: 1084/3444.0\n",
            "progress: 1085/3444.0\n",
            "progress: 1086/3444.0\n",
            "progress: 1087/3444.0\n",
            "progress: 1088/3444.0\n",
            "progress: 1089/3444.0\n",
            "progress: 1090/3444.0\n",
            "progress: 1091/3444.0\n",
            "progress: 1092/3444.0\n",
            "progress: 1093/3444.0\n",
            "progress: 1094/3444.0\n",
            "progress: 1095/3444.0\n",
            "progress: 1096/3444.0\n",
            "progress: 1097/3444.0\n",
            "progress: 1098/3444.0\n",
            "progress: 1099/3444.0\n",
            "progress: 1100/3444.0\n",
            "progress: 1101/3444.0\n",
            "progress: 1102/3444.0\n",
            "progress: 1103/3444.0\n",
            "progress: 1104/3444.0\n",
            "progress: 1105/3444.0\n",
            "progress: 1106/3444.0\n",
            "progress: 1107/3444.0\n",
            "progress: 1108/3444.0\n",
            "progress: 1109/3444.0\n",
            "progress: 1110/3444.0\n",
            "progress: 1111/3444.0\n",
            "progress: 1112/3444.0\n",
            "progress: 1113/3444.0\n",
            "progress: 1114/3444.0\n",
            "progress: 1115/3444.0\n",
            "progress: 1116/3444.0\n",
            "progress: 1117/3444.0\n",
            "progress: 1118/3444.0\n",
            "progress: 1119/3444.0\n",
            "progress: 1120/3444.0\n",
            "progress: 1121/3444.0\n",
            "progress: 1122/3444.0\n",
            "progress: 1123/3444.0\n",
            "progress: 1124/3444.0\n",
            "progress: 1125/3444.0\n",
            "progress: 1126/3444.0\n",
            "progress: 1127/3444.0\n",
            "progress: 1128/3444.0\n",
            "progress: 1129/3444.0\n",
            "progress: 1130/3444.0\n",
            "progress: 1131/3444.0\n",
            "progress: 1132/3444.0\n",
            "progress: 1133/3444.0\n",
            "progress: 1134/3444.0\n",
            "progress: 1135/3444.0\n",
            "progress: 1136/3444.0\n",
            "progress: 1137/3444.0\n",
            "progress: 1138/3444.0\n",
            "progress: 1139/3444.0\n",
            "progress: 1140/3444.0\n",
            "progress: 1141/3444.0\n",
            "progress: 1142/3444.0\n",
            "progress: 1143/3444.0\n",
            "progress: 1144/3444.0\n",
            "progress: 1145/3444.0\n",
            "progress: 1146/3444.0\n",
            "progress: 1147/3444.0\n",
            "progress: 1148/3444.0\n",
            "progress: 1149/3444.0\n",
            "progress: 1150/3444.0\n",
            "progress: 1151/3444.0\n",
            "progress: 1152/3444.0\n",
            "progress: 1153/3444.0\n",
            "progress: 1154/3444.0\n",
            "progress: 1155/3444.0\n",
            "progress: 1156/3444.0\n",
            "progress: 1157/3444.0\n",
            "progress: 1158/3444.0\n",
            "progress: 1159/3444.0\n",
            "progress: 1160/3444.0\n",
            "progress: 1161/3444.0\n",
            "progress: 1162/3444.0\n",
            "progress: 1163/3444.0\n",
            "progress: 1164/3444.0\n",
            "progress: 1165/3444.0\n",
            "progress: 1166/3444.0\n",
            "progress: 1167/3444.0\n",
            "progress: 1168/3444.0\n",
            "progress: 1169/3444.0\n",
            "progress: 1170/3444.0\n",
            "progress: 1171/3444.0\n",
            "progress: 1172/3444.0\n",
            "progress: 1173/3444.0\n",
            "progress: 1174/3444.0\n",
            "progress: 1175/3444.0\n",
            "progress: 1176/3444.0\n",
            "progress: 1177/3444.0\n",
            "progress: 1178/3444.0\n",
            "progress: 1179/3444.0\n",
            "progress: 1180/3444.0\n",
            "progress: 1181/3444.0\n",
            "progress: 1182/3444.0\n",
            "progress: 1183/3444.0\n",
            "progress: 1184/3444.0\n",
            "progress: 1185/3444.0\n",
            "progress: 1186/3444.0\n",
            "progress: 1187/3444.0\n",
            "progress: 1188/3444.0\n",
            "progress: 1189/3444.0\n",
            "progress: 1190/3444.0\n",
            "progress: 1191/3444.0\n",
            "progress: 1192/3444.0\n",
            "progress: 1193/3444.0\n",
            "progress: 1194/3444.0\n",
            "progress: 1195/3444.0\n",
            "progress: 1196/3444.0\n",
            "progress: 1197/3444.0\n",
            "progress: 1198/3444.0\n",
            "progress: 1199/3444.0\n",
            "progress: 1200/3444.0\n",
            "progress: 1201/3444.0\n",
            "progress: 1202/3444.0\n",
            "progress: 1203/3444.0\n",
            "progress: 1204/3444.0\n",
            "progress: 1205/3444.0\n",
            "progress: 1206/3444.0\n",
            "progress: 1207/3444.0\n",
            "progress: 1208/3444.0\n",
            "progress: 1209/3444.0\n",
            "progress: 1210/3444.0\n",
            "progress: 1211/3444.0\n",
            "progress: 1212/3444.0\n",
            "progress: 1213/3444.0\n",
            "progress: 1214/3444.0\n",
            "progress: 1215/3444.0\n",
            "progress: 1216/3444.0\n",
            "progress: 1217/3444.0\n",
            "progress: 1218/3444.0\n",
            "progress: 1219/3444.0\n",
            "progress: 1220/3444.0\n",
            "progress: 1221/3444.0\n",
            "progress: 1222/3444.0\n",
            "progress: 1223/3444.0\n",
            "progress: 1224/3444.0\n",
            "progress: 1225/3444.0\n",
            "progress: 1226/3444.0\n",
            "progress: 1227/3444.0\n",
            "progress: 1228/3444.0\n",
            "progress: 1229/3444.0\n",
            "progress: 1230/3444.0\n",
            "progress: 1231/3444.0\n",
            "progress: 1232/3444.0\n",
            "progress: 1233/3444.0\n",
            "progress: 1234/3444.0\n",
            "progress: 1235/3444.0\n",
            "progress: 1236/3444.0\n",
            "progress: 1237/3444.0\n",
            "progress: 1238/3444.0\n",
            "progress: 1239/3444.0\n",
            "progress: 1240/3444.0\n",
            "progress: 1241/3444.0\n",
            "progress: 1242/3444.0\n",
            "progress: 1243/3444.0\n",
            "progress: 1244/3444.0\n",
            "progress: 1245/3444.0\n",
            "progress: 1246/3444.0\n",
            "progress: 1247/3444.0\n",
            "progress: 1248/3444.0\n",
            "progress: 1249/3444.0\n",
            "progress: 1250/3444.0\n",
            "progress: 1251/3444.0\n",
            "progress: 1252/3444.0\n",
            "progress: 1253/3444.0\n",
            "progress: 1254/3444.0\n",
            "progress: 1255/3444.0\n",
            "progress: 1256/3444.0\n",
            "progress: 1257/3444.0\n",
            "progress: 1258/3444.0\n",
            "progress: 1259/3444.0\n",
            "progress: 1260/3444.0\n",
            "progress: 1261/3444.0\n",
            "progress: 1262/3444.0\n",
            "progress: 1263/3444.0\n",
            "progress: 1264/3444.0\n",
            "progress: 1265/3444.0\n",
            "progress: 1266/3444.0\n",
            "progress: 1267/3444.0\n",
            "progress: 1268/3444.0\n",
            "progress: 1269/3444.0\n",
            "progress: 1270/3444.0\n",
            "progress: 1271/3444.0\n",
            "progress: 1272/3444.0\n",
            "progress: 1273/3444.0\n",
            "progress: 1274/3444.0\n",
            "progress: 1275/3444.0\n",
            "progress: 1276/3444.0\n",
            "progress: 1277/3444.0\n",
            "progress: 1278/3444.0\n",
            "progress: 1279/3444.0\n",
            "progress: 1280/3444.0\n",
            "progress: 1281/3444.0\n",
            "progress: 1282/3444.0\n",
            "progress: 1283/3444.0\n",
            "progress: 1284/3444.0\n",
            "progress: 1285/3444.0\n",
            "progress: 1286/3444.0\n",
            "progress: 1287/3444.0\n",
            "progress: 1288/3444.0\n",
            "progress: 1289/3444.0\n",
            "progress: 1290/3444.0\n",
            "progress: 1291/3444.0\n",
            "progress: 1292/3444.0\n",
            "progress: 1293/3444.0\n",
            "progress: 1294/3444.0\n",
            "progress: 1295/3444.0\n",
            "progress: 1296/3444.0\n",
            "progress: 1297/3444.0\n",
            "progress: 1298/3444.0\n",
            "progress: 1299/3444.0\n",
            "progress: 1300/3444.0\n",
            "progress: 1301/3444.0\n",
            "progress: 1302/3444.0\n",
            "progress: 1303/3444.0\n",
            "progress: 1304/3444.0\n",
            "progress: 1305/3444.0\n",
            "progress: 1306/3444.0\n",
            "progress: 1307/3444.0\n",
            "progress: 1308/3444.0\n",
            "progress: 1309/3444.0\n",
            "progress: 1310/3444.0\n",
            "progress: 1311/3444.0\n",
            "progress: 1312/3444.0\n",
            "progress: 1313/3444.0\n",
            "progress: 1314/3444.0\n",
            "progress: 1315/3444.0\n",
            "progress: 1316/3444.0\n",
            "progress: 1317/3444.0\n",
            "progress: 1318/3444.0\n",
            "progress: 1319/3444.0\n",
            "progress: 1320/3444.0\n",
            "progress: 1321/3444.0\n",
            "progress: 1322/3444.0\n",
            "progress: 1323/3444.0\n",
            "progress: 1324/3444.0\n",
            "progress: 1325/3444.0\n",
            "progress: 1326/3444.0\n",
            "progress: 1327/3444.0\n",
            "progress: 1328/3444.0\n",
            "progress: 1329/3444.0\n",
            "progress: 1330/3444.0\n",
            "progress: 1331/3444.0\n",
            "progress: 1332/3444.0\n",
            "progress: 1333/3444.0\n",
            "progress: 1334/3444.0\n",
            "progress: 1335/3444.0\n",
            "progress: 1336/3444.0\n",
            "progress: 1337/3444.0\n",
            "progress: 1338/3444.0\n",
            "progress: 1339/3444.0\n",
            "progress: 1340/3444.0\n",
            "progress: 1341/3444.0\n",
            "progress: 1342/3444.0\n",
            "progress: 1343/3444.0\n",
            "progress: 1344/3444.0\n",
            "progress: 1345/3444.0\n",
            "progress: 1346/3444.0\n",
            "progress: 1347/3444.0\n",
            "progress: 1348/3444.0\n",
            "progress: 1349/3444.0\n",
            "progress: 1350/3444.0\n",
            "progress: 1351/3444.0\n",
            "progress: 1352/3444.0\n",
            "progress: 1353/3444.0\n",
            "progress: 1354/3444.0\n",
            "progress: 1355/3444.0\n",
            "progress: 1356/3444.0\n",
            "progress: 1357/3444.0\n",
            "progress: 1358/3444.0\n",
            "progress: 1359/3444.0\n",
            "progress: 1360/3444.0\n",
            "progress: 1361/3444.0\n",
            "progress: 1362/3444.0\n",
            "progress: 1363/3444.0\n",
            "progress: 1364/3444.0\n",
            "progress: 1365/3444.0\n",
            "progress: 1366/3444.0\n",
            "progress: 1367/3444.0\n",
            "progress: 1368/3444.0\n",
            "progress: 1369/3444.0\n",
            "progress: 1370/3444.0\n",
            "progress: 1371/3444.0\n",
            "progress: 1372/3444.0\n",
            "progress: 1373/3444.0\n",
            "progress: 1374/3444.0\n",
            "progress: 1375/3444.0\n",
            "progress: 1376/3444.0\n",
            "progress: 1377/3444.0\n",
            "progress: 1378/3444.0\n",
            "progress: 1379/3444.0\n",
            "progress: 1380/3444.0\n",
            "progress: 1381/3444.0\n",
            "progress: 1382/3444.0\n",
            "progress: 1383/3444.0\n",
            "progress: 1384/3444.0\n",
            "progress: 1385/3444.0\n",
            "progress: 1386/3444.0\n",
            "progress: 1387/3444.0\n",
            "progress: 1388/3444.0\n",
            "progress: 1389/3444.0\n",
            "progress: 1390/3444.0\n",
            "progress: 1391/3444.0\n",
            "progress: 1392/3444.0\n",
            "progress: 1393/3444.0\n",
            "progress: 1394/3444.0\n",
            "progress: 1395/3444.0\n",
            "progress: 1396/3444.0\n",
            "progress: 1397/3444.0\n",
            "progress: 1398/3444.0\n",
            "progress: 1399/3444.0\n",
            "progress: 1400/3444.0\n",
            "progress: 1401/3444.0\n",
            "progress: 1402/3444.0\n",
            "progress: 1403/3444.0\n",
            "progress: 1404/3444.0\n",
            "progress: 1405/3444.0\n",
            "progress: 1406/3444.0\n",
            "progress: 1407/3444.0\n",
            "progress: 1408/3444.0\n",
            "progress: 1409/3444.0\n",
            "progress: 1410/3444.0\n",
            "progress: 1411/3444.0\n",
            "progress: 1412/3444.0\n",
            "progress: 1413/3444.0\n",
            "progress: 1414/3444.0\n",
            "progress: 1415/3444.0\n",
            "progress: 1416/3444.0\n",
            "progress: 1417/3444.0\n",
            "progress: 1418/3444.0\n",
            "progress: 1419/3444.0\n",
            "progress: 1420/3444.0\n",
            "progress: 1421/3444.0\n",
            "progress: 1422/3444.0\n",
            "progress: 1423/3444.0\n",
            "progress: 1424/3444.0\n",
            "progress: 1425/3444.0\n",
            "progress: 1426/3444.0\n",
            "progress: 1427/3444.0\n",
            "progress: 1428/3444.0\n",
            "progress: 1429/3444.0\n",
            "progress: 1430/3444.0\n",
            "progress: 1431/3444.0\n",
            "progress: 1432/3444.0\n",
            "progress: 1433/3444.0\n",
            "progress: 1434/3444.0\n",
            "progress: 1435/3444.0\n",
            "progress: 1436/3444.0\n",
            "progress: 1437/3444.0\n",
            "progress: 1438/3444.0\n",
            "progress: 1439/3444.0\n",
            "progress: 1440/3444.0\n",
            "progress: 1441/3444.0\n",
            "progress: 1442/3444.0\n",
            "progress: 1443/3444.0\n",
            "progress: 1444/3444.0\n",
            "progress: 1445/3444.0\n",
            "progress: 1446/3444.0\n",
            "progress: 1447/3444.0\n",
            "progress: 1448/3444.0\n",
            "progress: 1449/3444.0\n",
            "progress: 1450/3444.0\n",
            "progress: 1451/3444.0\n",
            "progress: 1452/3444.0\n",
            "progress: 1453/3444.0\n",
            "progress: 1454/3444.0\n",
            "progress: 1455/3444.0\n",
            "progress: 1456/3444.0\n",
            "progress: 1457/3444.0\n",
            "progress: 1458/3444.0\n",
            "progress: 1459/3444.0\n",
            "progress: 1460/3444.0\n",
            "progress: 1461/3444.0\n",
            "progress: 1462/3444.0\n",
            "progress: 1463/3444.0\n",
            "progress: 1464/3444.0\n",
            "progress: 1465/3444.0\n",
            "progress: 1466/3444.0\n",
            "progress: 1467/3444.0\n",
            "progress: 1468/3444.0\n",
            "progress: 1469/3444.0\n",
            "progress: 1470/3444.0\n",
            "progress: 1471/3444.0\n",
            "progress: 1472/3444.0\n",
            "progress: 1473/3444.0\n",
            "progress: 1474/3444.0\n",
            "progress: 1475/3444.0\n",
            "progress: 1476/3444.0\n",
            "progress: 1477/3444.0\n",
            "progress: 1478/3444.0\n",
            "progress: 1479/3444.0\n",
            "progress: 1480/3444.0\n",
            "progress: 1481/3444.0\n",
            "progress: 1482/3444.0\n",
            "progress: 1483/3444.0\n",
            "progress: 1484/3444.0\n",
            "progress: 1485/3444.0\n",
            "progress: 1486/3444.0\n",
            "progress: 1487/3444.0\n",
            "progress: 1488/3444.0\n",
            "progress: 1489/3444.0\n",
            "progress: 1490/3444.0\n",
            "progress: 1491/3444.0\n",
            "progress: 1492/3444.0\n",
            "progress: 1493/3444.0\n",
            "progress: 1494/3444.0\n",
            "progress: 1495/3444.0\n",
            "progress: 1496/3444.0\n",
            "progress: 1497/3444.0\n",
            "progress: 1498/3444.0\n",
            "progress: 1499/3444.0\n",
            "progress: 1500/3444.0\n",
            "progress: 1501/3444.0\n",
            "progress: 1502/3444.0\n",
            "progress: 1503/3444.0\n",
            "progress: 1504/3444.0\n",
            "progress: 1505/3444.0\n",
            "progress: 1506/3444.0\n",
            "progress: 1507/3444.0\n",
            "progress: 1508/3444.0\n",
            "progress: 1509/3444.0\n",
            "progress: 1510/3444.0\n",
            "progress: 1511/3444.0\n",
            "progress: 1512/3444.0\n",
            "progress: 1513/3444.0\n",
            "progress: 1514/3444.0\n",
            "progress: 1515/3444.0\n",
            "progress: 1516/3444.0\n",
            "progress: 1517/3444.0\n",
            "progress: 1518/3444.0\n",
            "progress: 1519/3444.0\n",
            "progress: 1520/3444.0\n",
            "progress: 1521/3444.0\n",
            "progress: 1522/3444.0\n",
            "progress: 1523/3444.0\n",
            "progress: 1524/3444.0\n",
            "progress: 1525/3444.0\n",
            "progress: 1526/3444.0\n",
            "progress: 1527/3444.0\n",
            "progress: 1528/3444.0\n",
            "progress: 1529/3444.0\n",
            "progress: 1530/3444.0\n",
            "progress: 1531/3444.0\n",
            "progress: 1532/3444.0\n",
            "progress: 1533/3444.0\n",
            "progress: 1534/3444.0\n",
            "progress: 1535/3444.0\n",
            "progress: 1536/3444.0\n",
            "progress: 1537/3444.0\n",
            "progress: 1538/3444.0\n",
            "progress: 1539/3444.0\n",
            "progress: 1540/3444.0\n",
            "progress: 1541/3444.0\n",
            "progress: 1542/3444.0\n",
            "progress: 1543/3444.0\n",
            "progress: 1544/3444.0\n",
            "progress: 1545/3444.0\n",
            "progress: 1546/3444.0\n",
            "progress: 1547/3444.0\n",
            "progress: 1548/3444.0\n",
            "progress: 1549/3444.0\n",
            "progress: 1550/3444.0\n",
            "progress: 1551/3444.0\n",
            "progress: 1552/3444.0\n",
            "progress: 1553/3444.0\n",
            "progress: 1554/3444.0\n",
            "progress: 1555/3444.0\n",
            "progress: 1556/3444.0\n",
            "progress: 1557/3444.0\n",
            "progress: 1558/3444.0\n",
            "progress: 1559/3444.0\n",
            "progress: 1560/3444.0\n",
            "progress: 1561/3444.0\n",
            "progress: 1562/3444.0\n",
            "progress: 1563/3444.0\n",
            "progress: 1564/3444.0\n",
            "progress: 1565/3444.0\n",
            "progress: 1566/3444.0\n",
            "progress: 1567/3444.0\n",
            "progress: 1568/3444.0\n",
            "progress: 1569/3444.0\n",
            "progress: 1570/3444.0\n",
            "progress: 1571/3444.0\n",
            "progress: 1572/3444.0\n",
            "progress: 1573/3444.0\n",
            "progress: 1574/3444.0\n",
            "progress: 1575/3444.0\n",
            "progress: 1576/3444.0\n",
            "progress: 1577/3444.0\n",
            "progress: 1578/3444.0\n",
            "progress: 1579/3444.0\n",
            "progress: 1580/3444.0\n",
            "progress: 1581/3444.0\n",
            "progress: 1582/3444.0\n",
            "progress: 1583/3444.0\n",
            "progress: 1584/3444.0\n",
            "progress: 1585/3444.0\n",
            "progress: 1586/3444.0\n",
            "progress: 1587/3444.0\n",
            "progress: 1588/3444.0\n",
            "progress: 1589/3444.0\n",
            "progress: 1590/3444.0\n",
            "progress: 1591/3444.0\n",
            "progress: 1592/3444.0\n",
            "progress: 1593/3444.0\n",
            "progress: 1594/3444.0\n",
            "progress: 1595/3444.0\n",
            "progress: 1596/3444.0\n",
            "progress: 1597/3444.0\n",
            "progress: 1598/3444.0\n",
            "progress: 1599/3444.0\n",
            "progress: 1600/3444.0\n",
            "progress: 1601/3444.0\n",
            "progress: 1602/3444.0\n",
            "progress: 1603/3444.0\n",
            "progress: 1604/3444.0\n",
            "progress: 1605/3444.0\n",
            "progress: 1606/3444.0\n",
            "progress: 1607/3444.0\n",
            "progress: 1608/3444.0\n",
            "progress: 1609/3444.0\n",
            "progress: 1610/3444.0\n",
            "progress: 1611/3444.0\n",
            "progress: 1612/3444.0\n",
            "progress: 1613/3444.0\n",
            "progress: 1614/3444.0\n",
            "progress: 1615/3444.0\n",
            "progress: 1616/3444.0\n",
            "progress: 1617/3444.0\n",
            "progress: 1618/3444.0\n",
            "progress: 1619/3444.0\n",
            "progress: 1620/3444.0\n",
            "progress: 1621/3444.0\n",
            "progress: 1622/3444.0\n",
            "progress: 1623/3444.0\n",
            "progress: 1624/3444.0\n",
            "progress: 1625/3444.0\n",
            "progress: 1626/3444.0\n",
            "progress: 1627/3444.0\n",
            "progress: 1628/3444.0\n",
            "progress: 1629/3444.0\n",
            "progress: 1630/3444.0\n",
            "progress: 1631/3444.0\n",
            "progress: 1632/3444.0\n",
            "progress: 1633/3444.0\n",
            "progress: 1634/3444.0\n",
            "progress: 1635/3444.0\n",
            "progress: 1636/3444.0\n",
            "progress: 1637/3444.0\n",
            "progress: 1638/3444.0\n",
            "progress: 1639/3444.0\n",
            "progress: 1640/3444.0\n",
            "progress: 1641/3444.0\n",
            "progress: 1642/3444.0\n",
            "progress: 1643/3444.0\n",
            "progress: 1644/3444.0\n",
            "progress: 1645/3444.0\n",
            "progress: 1646/3444.0\n",
            "progress: 1647/3444.0\n",
            "progress: 1648/3444.0\n",
            "progress: 1649/3444.0\n",
            "progress: 1650/3444.0\n",
            "progress: 1651/3444.0\n",
            "progress: 1652/3444.0\n",
            "progress: 1653/3444.0\n",
            "progress: 1654/3444.0\n",
            "progress: 1655/3444.0\n",
            "progress: 1656/3444.0\n",
            "progress: 1657/3444.0\n",
            "progress: 1658/3444.0\n",
            "progress: 1659/3444.0\n",
            "progress: 1660/3444.0\n",
            "progress: 1661/3444.0\n",
            "progress: 1662/3444.0\n",
            "progress: 1663/3444.0\n",
            "progress: 1664/3444.0\n",
            "progress: 1665/3444.0\n",
            "progress: 1666/3444.0\n",
            "progress: 1667/3444.0\n",
            "progress: 1668/3444.0\n",
            "progress: 1669/3444.0\n",
            "progress: 1670/3444.0\n",
            "progress: 1671/3444.0\n",
            "progress: 1672/3444.0\n",
            "progress: 1673/3444.0\n",
            "progress: 1674/3444.0\n",
            "progress: 1675/3444.0\n",
            "progress: 1676/3444.0\n",
            "progress: 1677/3444.0\n",
            "progress: 1678/3444.0\n",
            "progress: 1679/3444.0\n",
            "progress: 1680/3444.0\n",
            "progress: 1681/3444.0\n",
            "progress: 1682/3444.0\n",
            "progress: 1683/3444.0\n",
            "progress: 1684/3444.0\n",
            "progress: 1685/3444.0\n",
            "progress: 1686/3444.0\n",
            "progress: 1687/3444.0\n",
            "progress: 1688/3444.0\n",
            "progress: 1689/3444.0\n",
            "progress: 1690/3444.0\n",
            "progress: 1691/3444.0\n",
            "progress: 1692/3444.0\n",
            "progress: 1693/3444.0\n",
            "progress: 1694/3444.0\n",
            "progress: 1695/3444.0\n",
            "progress: 1696/3444.0\n",
            "progress: 1697/3444.0\n",
            "progress: 1698/3444.0\n",
            "progress: 1699/3444.0\n",
            "progress: 1700/3444.0\n",
            "progress: 1701/3444.0\n",
            "progress: 1702/3444.0\n",
            "progress: 1703/3444.0\n",
            "progress: 1704/3444.0\n",
            "progress: 1705/3444.0\n",
            "progress: 1706/3444.0\n",
            "progress: 1707/3444.0\n",
            "progress: 1708/3444.0\n",
            "progress: 1709/3444.0\n",
            "progress: 1710/3444.0\n",
            "progress: 1711/3444.0\n",
            "progress: 1712/3444.0\n",
            "progress: 1713/3444.0\n",
            "progress: 1714/3444.0\n",
            "progress: 1715/3444.0\n",
            "progress: 1716/3444.0\n",
            "progress: 1717/3444.0\n",
            "progress: 1718/3444.0\n",
            "progress: 1719/3444.0\n",
            "progress: 1720/3444.0\n",
            "progress: 1721/3444.0\n",
            "progress: 1722/3444.0\n",
            "progress: 1723/3444.0\n",
            "progress: 1724/3444.0\n",
            "progress: 1725/3444.0\n",
            "progress: 1726/3444.0\n",
            "progress: 1727/3444.0\n",
            "progress: 1728/3444.0\n",
            "progress: 1729/3444.0\n",
            "progress: 1730/3444.0\n",
            "progress: 1731/3444.0\n",
            "progress: 1732/3444.0\n",
            "progress: 1733/3444.0\n",
            "progress: 1734/3444.0\n",
            "progress: 1735/3444.0\n",
            "progress: 1736/3444.0\n",
            "progress: 1737/3444.0\n",
            "progress: 1738/3444.0\n",
            "progress: 1739/3444.0\n",
            "progress: 1740/3444.0\n",
            "progress: 1741/3444.0\n",
            "progress: 1742/3444.0\n",
            "progress: 1743/3444.0\n",
            "progress: 1744/3444.0\n",
            "progress: 1745/3444.0\n",
            "progress: 1746/3444.0\n",
            "progress: 1747/3444.0\n",
            "progress: 1748/3444.0\n",
            "progress: 1749/3444.0\n",
            "progress: 1750/3444.0\n",
            "progress: 1751/3444.0\n",
            "progress: 1752/3444.0\n",
            "progress: 1753/3444.0\n",
            "progress: 1754/3444.0\n",
            "progress: 1755/3444.0\n",
            "progress: 1756/3444.0\n",
            "progress: 1757/3444.0\n",
            "progress: 1758/3444.0\n",
            "progress: 1759/3444.0\n",
            "progress: 1760/3444.0\n",
            "progress: 1761/3444.0\n",
            "progress: 1762/3444.0\n",
            "progress: 1763/3444.0\n",
            "progress: 1764/3444.0\n",
            "progress: 1765/3444.0\n",
            "progress: 1766/3444.0\n",
            "progress: 1767/3444.0\n",
            "progress: 1768/3444.0\n",
            "progress: 1769/3444.0\n",
            "progress: 1770/3444.0\n",
            "progress: 1771/3444.0\n",
            "progress: 1772/3444.0\n",
            "progress: 1773/3444.0\n",
            "progress: 1774/3444.0\n",
            "progress: 1775/3444.0\n",
            "progress: 1776/3444.0\n",
            "progress: 1777/3444.0\n",
            "progress: 1778/3444.0\n",
            "progress: 1779/3444.0\n",
            "progress: 1780/3444.0\n",
            "progress: 1781/3444.0\n",
            "progress: 1782/3444.0\n",
            "progress: 1783/3444.0\n",
            "progress: 1784/3444.0\n",
            "progress: 1785/3444.0\n",
            "progress: 1786/3444.0\n",
            "progress: 1787/3444.0\n",
            "progress: 1788/3444.0\n",
            "progress: 1789/3444.0\n",
            "progress: 1790/3444.0\n",
            "progress: 1791/3444.0\n",
            "progress: 1792/3444.0\n",
            "progress: 1793/3444.0\n",
            "progress: 1794/3444.0\n",
            "progress: 1795/3444.0\n",
            "progress: 1796/3444.0\n",
            "progress: 1797/3444.0\n",
            "progress: 1798/3444.0\n",
            "progress: 1799/3444.0\n",
            "progress: 1800/3444.0\n",
            "progress: 1801/3444.0\n",
            "progress: 1802/3444.0\n",
            "progress: 1803/3444.0\n",
            "progress: 1804/3444.0\n",
            "progress: 1805/3444.0\n",
            "progress: 1806/3444.0\n",
            "progress: 1807/3444.0\n",
            "progress: 1808/3444.0\n",
            "progress: 1809/3444.0\n",
            "progress: 1810/3444.0\n",
            "progress: 1811/3444.0\n",
            "progress: 1812/3444.0\n",
            "progress: 1813/3444.0\n",
            "progress: 1814/3444.0\n",
            "progress: 1815/3444.0\n",
            "progress: 1816/3444.0\n",
            "progress: 1817/3444.0\n",
            "progress: 1818/3444.0\n",
            "progress: 1819/3444.0\n",
            "progress: 1820/3444.0\n",
            "progress: 1821/3444.0\n",
            "progress: 1822/3444.0\n",
            "progress: 1823/3444.0\n",
            "progress: 1824/3444.0\n",
            "progress: 1825/3444.0\n",
            "progress: 1826/3444.0\n",
            "progress: 1827/3444.0\n",
            "progress: 1828/3444.0\n",
            "progress: 1829/3444.0\n",
            "progress: 1830/3444.0\n",
            "progress: 1831/3444.0\n",
            "progress: 1832/3444.0\n",
            "progress: 1833/3444.0\n",
            "progress: 1834/3444.0\n",
            "progress: 1835/3444.0\n",
            "progress: 1836/3444.0\n",
            "progress: 1837/3444.0\n",
            "progress: 1838/3444.0\n",
            "progress: 1839/3444.0\n",
            "progress: 1840/3444.0\n",
            "progress: 1841/3444.0\n",
            "progress: 1842/3444.0\n",
            "progress: 1843/3444.0\n",
            "progress: 1844/3444.0\n",
            "progress: 1845/3444.0\n",
            "progress: 1846/3444.0\n",
            "progress: 1847/3444.0\n",
            "progress: 1848/3444.0\n",
            "progress: 1849/3444.0\n",
            "progress: 1850/3444.0\n",
            "progress: 1851/3444.0\n",
            "progress: 1852/3444.0\n",
            "progress: 1853/3444.0\n",
            "progress: 1854/3444.0\n",
            "progress: 1855/3444.0\n",
            "progress: 1856/3444.0\n",
            "progress: 1857/3444.0\n",
            "progress: 1858/3444.0\n",
            "progress: 1859/3444.0\n",
            "progress: 1860/3444.0\n",
            "progress: 1861/3444.0\n",
            "progress: 1862/3444.0\n",
            "progress: 1863/3444.0\n",
            "progress: 1864/3444.0\n",
            "progress: 1865/3444.0\n",
            "progress: 1866/3444.0\n",
            "progress: 1867/3444.0\n",
            "progress: 1868/3444.0\n",
            "progress: 1869/3444.0\n",
            "progress: 1870/3444.0\n",
            "progress: 1871/3444.0\n",
            "progress: 1872/3444.0\n",
            "progress: 1873/3444.0\n",
            "progress: 1874/3444.0\n",
            "progress: 1875/3444.0\n",
            "progress: 1876/3444.0\n",
            "progress: 1877/3444.0\n",
            "progress: 1878/3444.0\n",
            "progress: 1879/3444.0\n",
            "progress: 1880/3444.0\n",
            "progress: 1881/3444.0\n",
            "progress: 1882/3444.0\n",
            "progress: 1883/3444.0\n",
            "progress: 1884/3444.0\n",
            "progress: 1885/3444.0\n",
            "progress: 1886/3444.0\n",
            "progress: 1887/3444.0\n",
            "progress: 1888/3444.0\n",
            "progress: 1889/3444.0\n",
            "progress: 1890/3444.0\n",
            "progress: 1891/3444.0\n",
            "progress: 1892/3444.0\n",
            "progress: 1893/3444.0\n",
            "progress: 1894/3444.0\n",
            "progress: 1895/3444.0\n",
            "progress: 1896/3444.0\n",
            "progress: 1897/3444.0\n",
            "progress: 1898/3444.0\n",
            "progress: 1899/3444.0\n",
            "progress: 1900/3444.0\n",
            "progress: 1901/3444.0\n",
            "progress: 1902/3444.0\n",
            "progress: 1903/3444.0\n",
            "progress: 1904/3444.0\n",
            "progress: 1905/3444.0\n",
            "progress: 1906/3444.0\n",
            "progress: 1907/3444.0\n",
            "progress: 1908/3444.0\n",
            "progress: 1909/3444.0\n",
            "progress: 1910/3444.0\n",
            "progress: 1911/3444.0\n",
            "progress: 1912/3444.0\n",
            "progress: 1913/3444.0\n",
            "progress: 1914/3444.0\n",
            "progress: 1915/3444.0\n",
            "progress: 1916/3444.0\n",
            "progress: 1917/3444.0\n",
            "progress: 1918/3444.0\n",
            "progress: 1919/3444.0\n",
            "progress: 1920/3444.0\n",
            "progress: 1921/3444.0\n",
            "progress: 1922/3444.0\n",
            "progress: 1923/3444.0\n",
            "progress: 1924/3444.0\n",
            "progress: 1925/3444.0\n",
            "progress: 1926/3444.0\n",
            "progress: 1927/3444.0\n",
            "progress: 1928/3444.0\n",
            "progress: 1929/3444.0\n",
            "progress: 1930/3444.0\n",
            "progress: 1931/3444.0\n",
            "progress: 1932/3444.0\n",
            "progress: 1933/3444.0\n",
            "progress: 1934/3444.0\n",
            "progress: 1935/3444.0\n",
            "progress: 1936/3444.0\n",
            "progress: 1937/3444.0\n",
            "progress: 1938/3444.0\n",
            "progress: 1939/3444.0\n",
            "progress: 1940/3444.0\n",
            "progress: 1941/3444.0\n",
            "progress: 1942/3444.0\n",
            "progress: 1943/3444.0\n",
            "progress: 1944/3444.0\n",
            "progress: 1945/3444.0\n",
            "progress: 1946/3444.0\n",
            "progress: 1947/3444.0\n",
            "progress: 1948/3444.0\n",
            "progress: 1949/3444.0\n",
            "progress: 1950/3444.0\n",
            "progress: 1951/3444.0\n",
            "progress: 1952/3444.0\n",
            "progress: 1953/3444.0\n",
            "progress: 1954/3444.0\n",
            "progress: 1955/3444.0\n",
            "progress: 1956/3444.0\n",
            "progress: 1957/3444.0\n",
            "progress: 1958/3444.0\n",
            "progress: 1959/3444.0\n",
            "progress: 1960/3444.0\n",
            "progress: 1961/3444.0\n",
            "progress: 1962/3444.0\n",
            "progress: 1963/3444.0\n",
            "progress: 1964/3444.0\n",
            "progress: 1965/3444.0\n",
            "progress: 1966/3444.0\n",
            "progress: 1967/3444.0\n",
            "progress: 1968/3444.0\n",
            "progress: 1969/3444.0\n",
            "progress: 1970/3444.0\n",
            "progress: 1971/3444.0\n",
            "progress: 1972/3444.0\n",
            "progress: 1973/3444.0\n",
            "progress: 1974/3444.0\n",
            "progress: 1975/3444.0\n",
            "progress: 1976/3444.0\n",
            "progress: 1977/3444.0\n",
            "progress: 1978/3444.0\n",
            "progress: 1979/3444.0\n",
            "progress: 1980/3444.0\n",
            "progress: 1981/3444.0\n",
            "progress: 1982/3444.0\n",
            "progress: 1983/3444.0\n",
            "progress: 1984/3444.0\n",
            "progress: 1985/3444.0\n",
            "progress: 1986/3444.0\n",
            "progress: 1987/3444.0\n",
            "progress: 1988/3444.0\n",
            "progress: 1989/3444.0\n",
            "progress: 1990/3444.0\n",
            "progress: 1991/3444.0\n",
            "progress: 1992/3444.0\n",
            "progress: 1993/3444.0\n",
            "progress: 1994/3444.0\n",
            "progress: 1995/3444.0\n",
            "progress: 1996/3444.0\n",
            "progress: 1997/3444.0\n",
            "progress: 1998/3444.0\n",
            "progress: 1999/3444.0\n",
            "progress: 2000/3444.0\n",
            "progress: 2001/3444.0\n",
            "progress: 2002/3444.0\n",
            "progress: 2003/3444.0\n",
            "progress: 2004/3444.0\n",
            "progress: 2005/3444.0\n",
            "progress: 2006/3444.0\n",
            "progress: 2007/3444.0\n",
            "progress: 2008/3444.0\n",
            "progress: 2009/3444.0\n",
            "progress: 2010/3444.0\n",
            "progress: 2011/3444.0\n",
            "progress: 2012/3444.0\n",
            "progress: 2013/3444.0\n",
            "progress: 2014/3444.0\n",
            "progress: 2015/3444.0\n",
            "progress: 2016/3444.0\n",
            "progress: 2017/3444.0\n",
            "progress: 2018/3444.0\n",
            "progress: 2019/3444.0\n",
            "progress: 2020/3444.0\n",
            "progress: 2021/3444.0\n",
            "progress: 2022/3444.0\n",
            "progress: 2023/3444.0\n",
            "progress: 2024/3444.0\n",
            "progress: 2025/3444.0\n",
            "progress: 2026/3444.0\n",
            "progress: 2027/3444.0\n",
            "progress: 2028/3444.0\n",
            "progress: 2029/3444.0\n",
            "progress: 2030/3444.0\n",
            "progress: 2031/3444.0\n",
            "progress: 2032/3444.0\n",
            "progress: 2033/3444.0\n",
            "progress: 2034/3444.0\n",
            "progress: 2035/3444.0\n",
            "progress: 2036/3444.0\n",
            "progress: 2037/3444.0\n",
            "progress: 2038/3444.0\n",
            "progress: 2039/3444.0\n",
            "progress: 2040/3444.0\n",
            "progress: 2041/3444.0\n",
            "progress: 2042/3444.0\n",
            "progress: 2043/3444.0\n",
            "progress: 2044/3444.0\n",
            "progress: 2045/3444.0\n",
            "progress: 2046/3444.0\n",
            "progress: 2047/3444.0\n",
            "progress: 2048/3444.0\n",
            "progress: 2049/3444.0\n",
            "progress: 2050/3444.0\n",
            "progress: 2051/3444.0\n",
            "progress: 2052/3444.0\n",
            "progress: 2053/3444.0\n",
            "progress: 2054/3444.0\n",
            "progress: 2055/3444.0\n",
            "progress: 2056/3444.0\n",
            "progress: 2057/3444.0\n",
            "progress: 2058/3444.0\n",
            "progress: 2059/3444.0\n",
            "progress: 2060/3444.0\n",
            "progress: 2061/3444.0\n",
            "progress: 2062/3444.0\n",
            "progress: 2063/3444.0\n",
            "progress: 2064/3444.0\n",
            "progress: 2065/3444.0\n",
            "progress: 2066/3444.0\n",
            "progress: 2067/3444.0\n",
            "progress: 2068/3444.0\n",
            "progress: 2069/3444.0\n",
            "progress: 2070/3444.0\n",
            "progress: 2071/3444.0\n",
            "progress: 2072/3444.0\n",
            "progress: 2073/3444.0\n",
            "progress: 2074/3444.0\n",
            "progress: 2075/3444.0\n",
            "progress: 2076/3444.0\n",
            "progress: 2077/3444.0\n",
            "progress: 2078/3444.0\n",
            "progress: 2079/3444.0\n",
            "progress: 2080/3444.0\n",
            "progress: 2081/3444.0\n",
            "progress: 2082/3444.0\n",
            "progress: 2083/3444.0\n",
            "progress: 2084/3444.0\n",
            "progress: 2085/3444.0\n",
            "progress: 2086/3444.0\n",
            "progress: 2087/3444.0\n",
            "progress: 2088/3444.0\n",
            "progress: 2089/3444.0\n",
            "progress: 2090/3444.0\n",
            "progress: 2091/3444.0\n",
            "progress: 2092/3444.0\n",
            "progress: 2093/3444.0\n",
            "progress: 2094/3444.0\n",
            "progress: 2095/3444.0\n",
            "progress: 2096/3444.0\n",
            "progress: 2097/3444.0\n",
            "progress: 2098/3444.0\n",
            "progress: 2099/3444.0\n",
            "progress: 2100/3444.0\n",
            "progress: 2101/3444.0\n",
            "progress: 2102/3444.0\n",
            "progress: 2103/3444.0\n",
            "progress: 2104/3444.0\n",
            "progress: 2105/3444.0\n",
            "progress: 2106/3444.0\n",
            "progress: 2107/3444.0\n",
            "progress: 2108/3444.0\n",
            "progress: 2109/3444.0\n",
            "progress: 2110/3444.0\n",
            "progress: 2111/3444.0\n",
            "progress: 2112/3444.0\n",
            "progress: 2113/3444.0\n",
            "progress: 2114/3444.0\n",
            "progress: 2115/3444.0\n",
            "progress: 2116/3444.0\n",
            "progress: 2117/3444.0\n",
            "progress: 2118/3444.0\n",
            "progress: 2119/3444.0\n",
            "progress: 2120/3444.0\n",
            "progress: 2121/3444.0\n",
            "progress: 2122/3444.0\n",
            "progress: 2123/3444.0\n",
            "progress: 2124/3444.0\n",
            "progress: 2125/3444.0\n",
            "progress: 2126/3444.0\n",
            "progress: 2127/3444.0\n",
            "progress: 2128/3444.0\n",
            "progress: 2129/3444.0\n",
            "progress: 2130/3444.0\n",
            "progress: 2131/3444.0\n",
            "progress: 2132/3444.0\n",
            "progress: 2133/3444.0\n",
            "progress: 2134/3444.0\n",
            "progress: 2135/3444.0\n",
            "progress: 2136/3444.0\n",
            "progress: 2137/3444.0\n",
            "progress: 2138/3444.0\n",
            "progress: 2139/3444.0\n",
            "progress: 2140/3444.0\n",
            "progress: 2141/3444.0\n",
            "progress: 2142/3444.0\n",
            "progress: 2143/3444.0\n",
            "progress: 2144/3444.0\n",
            "progress: 2145/3444.0\n",
            "progress: 2146/3444.0\n",
            "progress: 2147/3444.0\n",
            "progress: 2148/3444.0\n",
            "progress: 2149/3444.0\n",
            "progress: 2150/3444.0\n",
            "progress: 2151/3444.0\n",
            "progress: 2152/3444.0\n",
            "progress: 2153/3444.0\n",
            "progress: 2154/3444.0\n",
            "progress: 2155/3444.0\n",
            "progress: 2156/3444.0\n",
            "progress: 2157/3444.0\n",
            "progress: 2158/3444.0\n",
            "progress: 2159/3444.0\n",
            "progress: 2160/3444.0\n",
            "progress: 2161/3444.0\n",
            "progress: 2162/3444.0\n",
            "progress: 2163/3444.0\n",
            "progress: 2164/3444.0\n",
            "progress: 2165/3444.0\n",
            "progress: 2166/3444.0\n",
            "progress: 2167/3444.0\n",
            "progress: 2168/3444.0\n",
            "progress: 2169/3444.0\n",
            "progress: 2170/3444.0\n",
            "progress: 2171/3444.0\n",
            "progress: 2172/3444.0\n",
            "progress: 2173/3444.0\n",
            "progress: 2174/3444.0\n",
            "progress: 2175/3444.0\n",
            "progress: 2176/3444.0\n",
            "progress: 2177/3444.0\n",
            "progress: 2178/3444.0\n",
            "progress: 2179/3444.0\n",
            "progress: 2180/3444.0\n",
            "progress: 2181/3444.0\n",
            "progress: 2182/3444.0\n",
            "progress: 2183/3444.0\n",
            "progress: 2184/3444.0\n",
            "progress: 2185/3444.0\n",
            "progress: 2186/3444.0\n",
            "progress: 2187/3444.0\n",
            "progress: 2188/3444.0\n",
            "progress: 2189/3444.0\n",
            "progress: 2190/3444.0\n",
            "progress: 2191/3444.0\n",
            "progress: 2192/3444.0\n",
            "progress: 2193/3444.0\n",
            "progress: 2194/3444.0\n",
            "progress: 2195/3444.0\n",
            "progress: 2196/3444.0\n",
            "progress: 2197/3444.0\n",
            "progress: 2198/3444.0\n",
            "progress: 2199/3444.0\n",
            "progress: 2200/3444.0\n",
            "progress: 2201/3444.0\n",
            "progress: 2202/3444.0\n",
            "progress: 2203/3444.0\n",
            "progress: 2204/3444.0\n",
            "progress: 2205/3444.0\n",
            "progress: 2206/3444.0\n",
            "progress: 2207/3444.0\n",
            "progress: 2208/3444.0\n",
            "progress: 2209/3444.0\n",
            "progress: 2210/3444.0\n",
            "progress: 2211/3444.0\n",
            "progress: 2212/3444.0\n",
            "progress: 2213/3444.0\n",
            "progress: 2214/3444.0\n",
            "progress: 2215/3444.0\n",
            "progress: 2216/3444.0\n",
            "progress: 2217/3444.0\n",
            "progress: 2218/3444.0\n",
            "progress: 2219/3444.0\n",
            "progress: 2220/3444.0\n",
            "progress: 2221/3444.0\n",
            "progress: 2222/3444.0\n",
            "progress: 2223/3444.0\n",
            "progress: 2224/3444.0\n",
            "progress: 2225/3444.0\n",
            "progress: 2226/3444.0\n",
            "progress: 2227/3444.0\n",
            "progress: 2228/3444.0\n",
            "progress: 2229/3444.0\n",
            "progress: 2230/3444.0\n",
            "progress: 2231/3444.0\n",
            "progress: 2232/3444.0\n",
            "progress: 2233/3444.0\n",
            "progress: 2234/3444.0\n",
            "progress: 2235/3444.0\n",
            "progress: 2236/3444.0\n",
            "progress: 2237/3444.0\n",
            "progress: 2238/3444.0\n",
            "progress: 2239/3444.0\n",
            "progress: 2240/3444.0\n",
            "progress: 2241/3444.0\n",
            "progress: 2242/3444.0\n",
            "progress: 2243/3444.0\n",
            "progress: 2244/3444.0\n",
            "progress: 2245/3444.0\n",
            "progress: 2246/3444.0\n",
            "progress: 2247/3444.0\n",
            "progress: 2248/3444.0\n",
            "progress: 2249/3444.0\n",
            "progress: 2250/3444.0\n",
            "progress: 2251/3444.0\n",
            "progress: 2252/3444.0\n",
            "progress: 2253/3444.0\n",
            "progress: 2254/3444.0\n",
            "progress: 2255/3444.0\n",
            "progress: 2256/3444.0\n",
            "progress: 2257/3444.0\n",
            "progress: 2258/3444.0\n",
            "progress: 2259/3444.0\n",
            "progress: 2260/3444.0\n",
            "progress: 2261/3444.0\n",
            "progress: 2262/3444.0\n",
            "progress: 2263/3444.0\n",
            "progress: 2264/3444.0\n",
            "progress: 2265/3444.0\n",
            "progress: 2266/3444.0\n",
            "progress: 2267/3444.0\n",
            "progress: 2268/3444.0\n",
            "progress: 2269/3444.0\n",
            "progress: 2270/3444.0\n",
            "progress: 2271/3444.0\n",
            "progress: 2272/3444.0\n",
            "progress: 2273/3444.0\n",
            "progress: 2274/3444.0\n",
            "progress: 2275/3444.0\n",
            "progress: 2276/3444.0\n",
            "progress: 2277/3444.0\n",
            "progress: 2278/3444.0\n",
            "progress: 2279/3444.0\n",
            "progress: 2280/3444.0\n",
            "progress: 2281/3444.0\n",
            "progress: 2282/3444.0\n",
            "progress: 2283/3444.0\n",
            "progress: 2284/3444.0\n",
            "progress: 2285/3444.0\n",
            "progress: 2286/3444.0\n",
            "progress: 2287/3444.0\n",
            "progress: 2288/3444.0\n",
            "progress: 2289/3444.0\n",
            "progress: 2290/3444.0\n",
            "progress: 2291/3444.0\n",
            "progress: 2292/3444.0\n",
            "progress: 2293/3444.0\n",
            "progress: 2294/3444.0\n",
            "progress: 2295/3444.0\n",
            "progress: 2296/3444.0\n",
            "progress: 2297/3444.0\n",
            "progress: 2298/3444.0\n",
            "progress: 2299/3444.0\n",
            "progress: 2300/3444.0\n",
            "progress: 2301/3444.0\n",
            "progress: 2302/3444.0\n",
            "progress: 2303/3444.0\n",
            "progress: 2304/3444.0\n",
            "progress: 2305/3444.0\n",
            "progress: 2306/3444.0\n",
            "progress: 2307/3444.0\n",
            "progress: 2308/3444.0\n",
            "progress: 2309/3444.0\n",
            "progress: 2310/3444.0\n",
            "progress: 2311/3444.0\n",
            "progress: 2312/3444.0\n",
            "progress: 2313/3444.0\n",
            "progress: 2314/3444.0\n",
            "progress: 2315/3444.0\n",
            "progress: 2316/3444.0\n",
            "progress: 2317/3444.0\n",
            "progress: 2318/3444.0\n",
            "progress: 2319/3444.0\n",
            "progress: 2320/3444.0\n",
            "progress: 2321/3444.0\n",
            "progress: 2322/3444.0\n",
            "progress: 2323/3444.0\n",
            "progress: 2324/3444.0\n",
            "progress: 2325/3444.0\n",
            "progress: 2326/3444.0\n",
            "progress: 2327/3444.0\n",
            "progress: 2328/3444.0\n",
            "progress: 2329/3444.0\n",
            "progress: 2330/3444.0\n",
            "progress: 2331/3444.0\n",
            "progress: 2332/3444.0\n",
            "progress: 2333/3444.0\n",
            "progress: 2334/3444.0\n",
            "progress: 2335/3444.0\n",
            "progress: 2336/3444.0\n",
            "progress: 2337/3444.0\n",
            "progress: 2338/3444.0\n",
            "progress: 2339/3444.0\n",
            "progress: 2340/3444.0\n",
            "progress: 2341/3444.0\n",
            "progress: 2342/3444.0\n",
            "progress: 2343/3444.0\n",
            "progress: 2344/3444.0\n",
            "progress: 2345/3444.0\n",
            "progress: 2346/3444.0\n",
            "progress: 2347/3444.0\n",
            "progress: 2348/3444.0\n",
            "progress: 2349/3444.0\n",
            "progress: 2350/3444.0\n",
            "progress: 2351/3444.0\n",
            "progress: 2352/3444.0\n",
            "progress: 2353/3444.0\n",
            "progress: 2354/3444.0\n",
            "progress: 2355/3444.0\n",
            "progress: 2356/3444.0\n",
            "progress: 2357/3444.0\n",
            "progress: 2358/3444.0\n",
            "progress: 2359/3444.0\n",
            "progress: 2360/3444.0\n",
            "progress: 2361/3444.0\n",
            "progress: 2362/3444.0\n",
            "progress: 2363/3444.0\n",
            "progress: 2364/3444.0\n",
            "progress: 2365/3444.0\n",
            "progress: 2366/3444.0\n",
            "progress: 2367/3444.0\n",
            "progress: 2368/3444.0\n",
            "progress: 2369/3444.0\n",
            "progress: 2370/3444.0\n",
            "progress: 2371/3444.0\n",
            "progress: 2372/3444.0\n",
            "progress: 2373/3444.0\n",
            "progress: 2374/3444.0\n",
            "progress: 2375/3444.0\n",
            "progress: 2376/3444.0\n",
            "progress: 2377/3444.0\n",
            "progress: 2378/3444.0\n",
            "progress: 2379/3444.0\n",
            "progress: 2380/3444.0\n",
            "progress: 2381/3444.0\n",
            "progress: 2382/3444.0\n",
            "progress: 2383/3444.0\n",
            "progress: 2384/3444.0\n",
            "progress: 2385/3444.0\n",
            "progress: 2386/3444.0\n",
            "progress: 2387/3444.0\n",
            "progress: 2388/3444.0\n",
            "progress: 2389/3444.0\n",
            "progress: 2390/3444.0\n",
            "progress: 2391/3444.0\n",
            "progress: 2392/3444.0\n",
            "progress: 2393/3444.0\n",
            "progress: 2394/3444.0\n",
            "progress: 2395/3444.0\n",
            "progress: 2396/3444.0\n",
            "progress: 2397/3444.0\n",
            "progress: 2398/3444.0\n",
            "progress: 2399/3444.0\n",
            "progress: 2400/3444.0\n",
            "progress: 2401/3444.0\n",
            "progress: 2402/3444.0\n",
            "progress: 2403/3444.0\n",
            "progress: 2404/3444.0\n",
            "progress: 2405/3444.0\n",
            "progress: 2406/3444.0\n",
            "progress: 2407/3444.0\n",
            "progress: 2408/3444.0\n",
            "progress: 2409/3444.0\n",
            "progress: 2410/3444.0\n",
            "progress: 2411/3444.0\n",
            "progress: 2412/3444.0\n",
            "progress: 2413/3444.0\n",
            "progress: 2414/3444.0\n",
            "progress: 2415/3444.0\n",
            "progress: 2416/3444.0\n",
            "progress: 2417/3444.0\n",
            "progress: 2418/3444.0\n",
            "progress: 2419/3444.0\n",
            "progress: 2420/3444.0\n",
            "progress: 2421/3444.0\n",
            "progress: 2422/3444.0\n",
            "progress: 2423/3444.0\n",
            "progress: 2424/3444.0\n",
            "progress: 2425/3444.0\n",
            "progress: 2426/3444.0\n",
            "progress: 2427/3444.0\n",
            "progress: 2428/3444.0\n",
            "progress: 2429/3444.0\n",
            "progress: 2430/3444.0\n",
            "progress: 2431/3444.0\n",
            "progress: 2432/3444.0\n",
            "progress: 2433/3444.0\n",
            "progress: 2434/3444.0\n",
            "progress: 2435/3444.0\n",
            "progress: 2436/3444.0\n",
            "progress: 2437/3444.0\n",
            "progress: 2438/3444.0\n",
            "progress: 2439/3444.0\n",
            "progress: 2440/3444.0\n",
            "progress: 2441/3444.0\n",
            "progress: 2442/3444.0\n",
            "progress: 2443/3444.0\n",
            "progress: 2444/3444.0\n",
            "progress: 2445/3444.0\n",
            "progress: 2446/3444.0\n",
            "progress: 2447/3444.0\n",
            "progress: 2448/3444.0\n",
            "progress: 2449/3444.0\n",
            "progress: 2450/3444.0\n",
            "progress: 2451/3444.0\n",
            "progress: 2452/3444.0\n",
            "progress: 2453/3444.0\n",
            "progress: 2454/3444.0\n",
            "progress: 2455/3444.0\n",
            "progress: 2456/3444.0\n",
            "progress: 2457/3444.0\n",
            "progress: 2458/3444.0\n",
            "progress: 2459/3444.0\n",
            "progress: 2460/3444.0\n",
            "progress: 2461/3444.0\n",
            "progress: 2462/3444.0\n",
            "progress: 2463/3444.0\n",
            "progress: 2464/3444.0\n",
            "progress: 2465/3444.0\n",
            "progress: 2466/3444.0\n",
            "progress: 2467/3444.0\n",
            "progress: 2468/3444.0\n",
            "progress: 2469/3444.0\n",
            "progress: 2470/3444.0\n",
            "progress: 2471/3444.0\n",
            "progress: 2472/3444.0\n",
            "progress: 2473/3444.0\n",
            "progress: 2474/3444.0\n",
            "progress: 2475/3444.0\n",
            "progress: 2476/3444.0\n",
            "progress: 2477/3444.0\n",
            "progress: 2478/3444.0\n",
            "progress: 2479/3444.0\n",
            "progress: 2480/3444.0\n",
            "progress: 2481/3444.0\n",
            "progress: 2482/3444.0\n",
            "progress: 2483/3444.0\n",
            "progress: 2484/3444.0\n",
            "progress: 2485/3444.0\n",
            "progress: 2486/3444.0\n",
            "progress: 2487/3444.0\n",
            "progress: 2488/3444.0\n",
            "progress: 2489/3444.0\n",
            "progress: 2490/3444.0\n",
            "progress: 2491/3444.0\n",
            "progress: 2492/3444.0\n",
            "progress: 2493/3444.0\n",
            "progress: 2494/3444.0\n",
            "progress: 2495/3444.0\n",
            "progress: 2496/3444.0\n",
            "progress: 2497/3444.0\n",
            "progress: 2498/3444.0\n",
            "progress: 2499/3444.0\n",
            "progress: 2500/3444.0\n",
            "progress: 2501/3444.0\n",
            "progress: 2502/3444.0\n",
            "progress: 2503/3444.0\n",
            "progress: 2504/3444.0\n",
            "progress: 2505/3444.0\n",
            "progress: 2506/3444.0\n",
            "progress: 2507/3444.0\n",
            "progress: 2508/3444.0\n",
            "progress: 2509/3444.0\n",
            "progress: 2510/3444.0\n",
            "progress: 2511/3444.0\n",
            "progress: 2512/3444.0\n",
            "progress: 2513/3444.0\n",
            "progress: 2514/3444.0\n",
            "progress: 2515/3444.0\n",
            "progress: 2516/3444.0\n",
            "progress: 2517/3444.0\n",
            "progress: 2518/3444.0\n",
            "progress: 2519/3444.0\n",
            "progress: 2520/3444.0\n",
            "progress: 2521/3444.0\n",
            "progress: 2522/3444.0\n",
            "progress: 2523/3444.0\n",
            "progress: 2524/3444.0\n",
            "progress: 2525/3444.0\n",
            "progress: 2526/3444.0\n",
            "progress: 2527/3444.0\n",
            "progress: 2528/3444.0\n",
            "progress: 2529/3444.0\n",
            "progress: 2530/3444.0\n",
            "progress: 2531/3444.0\n",
            "progress: 2532/3444.0\n",
            "progress: 2533/3444.0\n",
            "progress: 2534/3444.0\n",
            "progress: 2535/3444.0\n",
            "progress: 2536/3444.0\n",
            "progress: 2537/3444.0\n",
            "progress: 2538/3444.0\n",
            "progress: 2539/3444.0\n",
            "progress: 2540/3444.0\n",
            "progress: 2541/3444.0\n",
            "progress: 2542/3444.0\n",
            "progress: 2543/3444.0\n",
            "progress: 2544/3444.0\n",
            "progress: 2545/3444.0\n",
            "progress: 2546/3444.0\n",
            "progress: 2547/3444.0\n",
            "progress: 2548/3444.0\n",
            "progress: 2549/3444.0\n",
            "progress: 2550/3444.0\n",
            "progress: 2551/3444.0\n",
            "progress: 2552/3444.0\n",
            "progress: 2553/3444.0\n",
            "progress: 2554/3444.0\n",
            "progress: 2555/3444.0\n",
            "progress: 2556/3444.0\n",
            "progress: 2557/3444.0\n",
            "progress: 2558/3444.0\n",
            "progress: 2559/3444.0\n",
            "progress: 2560/3444.0\n",
            "progress: 2561/3444.0\n",
            "progress: 2562/3444.0\n",
            "progress: 2563/3444.0\n",
            "progress: 2564/3444.0\n",
            "progress: 2565/3444.0\n",
            "progress: 2566/3444.0\n",
            "progress: 2567/3444.0\n",
            "progress: 2568/3444.0\n",
            "progress: 2569/3444.0\n",
            "progress: 2570/3444.0\n",
            "progress: 2571/3444.0\n",
            "progress: 2572/3444.0\n",
            "progress: 2573/3444.0\n",
            "progress: 2574/3444.0\n",
            "progress: 2575/3444.0\n",
            "progress: 2576/3444.0\n",
            "progress: 2577/3444.0\n",
            "progress: 2578/3444.0\n",
            "progress: 2579/3444.0\n",
            "progress: 2580/3444.0\n",
            "progress: 2581/3444.0\n",
            "progress: 2582/3444.0\n",
            "progress: 2583/3444.0\n",
            "progress: 2584/3444.0\n",
            "progress: 2585/3444.0\n",
            "progress: 2586/3444.0\n",
            "progress: 2587/3444.0\n",
            "progress: 2588/3444.0\n",
            "progress: 2589/3444.0\n",
            "progress: 2590/3444.0\n",
            "progress: 2591/3444.0\n",
            "progress: 2592/3444.0\n",
            "progress: 2593/3444.0\n",
            "progress: 2594/3444.0\n",
            "progress: 2595/3444.0\n",
            "progress: 2596/3444.0\n",
            "progress: 2597/3444.0\n",
            "progress: 2598/3444.0\n",
            "progress: 2599/3444.0\n",
            "progress: 2600/3444.0\n",
            "progress: 2601/3444.0\n",
            "progress: 2602/3444.0\n",
            "progress: 2603/3444.0\n",
            "progress: 2604/3444.0\n",
            "progress: 2605/3444.0\n",
            "progress: 2606/3444.0\n",
            "progress: 2607/3444.0\n",
            "progress: 2608/3444.0\n",
            "progress: 2609/3444.0\n",
            "progress: 2610/3444.0\n",
            "progress: 2611/3444.0\n",
            "progress: 2612/3444.0\n",
            "progress: 2613/3444.0\n",
            "progress: 2614/3444.0\n",
            "progress: 2615/3444.0\n",
            "progress: 2616/3444.0\n",
            "progress: 2617/3444.0\n",
            "progress: 2618/3444.0\n",
            "progress: 2619/3444.0\n",
            "progress: 2620/3444.0\n",
            "progress: 2621/3444.0\n",
            "progress: 2622/3444.0\n",
            "progress: 2623/3444.0\n",
            "progress: 2624/3444.0\n",
            "progress: 2625/3444.0\n",
            "progress: 2626/3444.0\n",
            "progress: 2627/3444.0\n",
            "progress: 2628/3444.0\n",
            "progress: 2629/3444.0\n",
            "progress: 2630/3444.0\n",
            "progress: 2631/3444.0\n",
            "progress: 2632/3444.0\n",
            "progress: 2633/3444.0\n",
            "progress: 2634/3444.0\n",
            "progress: 2635/3444.0\n",
            "progress: 2636/3444.0\n",
            "progress: 2637/3444.0\n",
            "progress: 2638/3444.0\n",
            "progress: 2639/3444.0\n",
            "progress: 2640/3444.0\n",
            "progress: 2641/3444.0\n",
            "progress: 2642/3444.0\n",
            "progress: 2643/3444.0\n",
            "progress: 2644/3444.0\n",
            "progress: 2645/3444.0\n",
            "progress: 2646/3444.0\n",
            "progress: 2647/3444.0\n",
            "progress: 2648/3444.0\n",
            "progress: 2649/3444.0\n",
            "progress: 2650/3444.0\n",
            "progress: 2651/3444.0\n",
            "progress: 2652/3444.0\n",
            "progress: 2653/3444.0\n",
            "progress: 2654/3444.0\n",
            "progress: 2655/3444.0\n",
            "progress: 2656/3444.0\n",
            "progress: 2657/3444.0\n",
            "progress: 2658/3444.0\n",
            "progress: 2659/3444.0\n",
            "progress: 2660/3444.0\n",
            "progress: 2661/3444.0\n",
            "progress: 2662/3444.0\n",
            "progress: 2663/3444.0\n",
            "progress: 2664/3444.0\n",
            "progress: 2665/3444.0\n",
            "progress: 2666/3444.0\n",
            "progress: 2667/3444.0\n",
            "progress: 2668/3444.0\n",
            "progress: 2669/3444.0\n",
            "progress: 2670/3444.0\n",
            "progress: 2671/3444.0\n",
            "progress: 2672/3444.0\n",
            "progress: 2673/3444.0\n",
            "progress: 2674/3444.0\n",
            "progress: 2675/3444.0\n",
            "progress: 2676/3444.0\n",
            "progress: 2677/3444.0\n",
            "progress: 2678/3444.0\n",
            "progress: 2679/3444.0\n",
            "progress: 2680/3444.0\n",
            "progress: 2681/3444.0\n",
            "progress: 2682/3444.0\n",
            "progress: 2683/3444.0\n",
            "progress: 2684/3444.0\n",
            "progress: 2685/3444.0\n",
            "progress: 2686/3444.0\n",
            "progress: 2687/3444.0\n",
            "progress: 2688/3444.0\n",
            "progress: 2689/3444.0\n",
            "progress: 2690/3444.0\n",
            "progress: 2691/3444.0\n",
            "progress: 2692/3444.0\n",
            "progress: 2693/3444.0\n",
            "progress: 2694/3444.0\n",
            "progress: 2695/3444.0\n",
            "progress: 2696/3444.0\n",
            "progress: 2697/3444.0\n",
            "progress: 2698/3444.0\n",
            "progress: 2699/3444.0\n",
            "progress: 2700/3444.0\n",
            "progress: 2701/3444.0\n",
            "progress: 2702/3444.0\n",
            "progress: 2703/3444.0\n",
            "progress: 2704/3444.0\n",
            "progress: 2705/3444.0\n",
            "progress: 2706/3444.0\n",
            "progress: 2707/3444.0\n",
            "progress: 2708/3444.0\n",
            "progress: 2709/3444.0\n",
            "progress: 2710/3444.0\n",
            "progress: 2711/3444.0\n",
            "progress: 2712/3444.0\n",
            "progress: 2713/3444.0\n",
            "progress: 2714/3444.0\n",
            "progress: 2715/3444.0\n",
            "progress: 2716/3444.0\n",
            "progress: 2717/3444.0\n",
            "progress: 2718/3444.0\n",
            "progress: 2719/3444.0\n",
            "progress: 2720/3444.0\n",
            "progress: 2721/3444.0\n",
            "progress: 2722/3444.0\n",
            "progress: 2723/3444.0\n",
            "progress: 2724/3444.0\n",
            "progress: 2725/3444.0\n",
            "progress: 2726/3444.0\n",
            "progress: 2727/3444.0\n",
            "progress: 2728/3444.0\n",
            "progress: 2729/3444.0\n",
            "progress: 2730/3444.0\n",
            "progress: 2731/3444.0\n",
            "progress: 2732/3444.0\n",
            "progress: 2733/3444.0\n",
            "progress: 2734/3444.0\n",
            "progress: 2735/3444.0\n",
            "progress: 2736/3444.0\n",
            "progress: 2737/3444.0\n",
            "progress: 2738/3444.0\n",
            "progress: 2739/3444.0\n",
            "progress: 2740/3444.0\n",
            "progress: 2741/3444.0\n",
            "progress: 2742/3444.0\n",
            "progress: 2743/3444.0\n",
            "progress: 2744/3444.0\n",
            "progress: 2745/3444.0\n",
            "progress: 2746/3444.0\n",
            "progress: 2747/3444.0\n",
            "progress: 2748/3444.0\n",
            "progress: 2749/3444.0\n",
            "progress: 2750/3444.0\n",
            "progress: 2751/3444.0\n",
            "progress: 2752/3444.0\n",
            "progress: 2753/3444.0\n",
            "progress: 2754/3444.0\n",
            "progress: 2755/3444.0\n",
            "progress: 2756/3444.0\n",
            "progress: 2757/3444.0\n",
            "progress: 2758/3444.0\n",
            "progress: 2759/3444.0\n",
            "progress: 2760/3444.0\n",
            "progress: 2761/3444.0\n",
            "progress: 2762/3444.0\n",
            "progress: 2763/3444.0\n",
            "progress: 2764/3444.0\n",
            "progress: 2765/3444.0\n",
            "progress: 2766/3444.0\n",
            "progress: 2767/3444.0\n",
            "progress: 2768/3444.0\n",
            "progress: 2769/3444.0\n",
            "progress: 2770/3444.0\n",
            "progress: 2771/3444.0\n",
            "progress: 2772/3444.0\n",
            "progress: 2773/3444.0\n",
            "progress: 2774/3444.0\n",
            "progress: 2775/3444.0\n",
            "progress: 2776/3444.0\n",
            "progress: 2777/3444.0\n",
            "progress: 2778/3444.0\n",
            "progress: 2779/3444.0\n",
            "progress: 2780/3444.0\n",
            "progress: 2781/3444.0\n",
            "progress: 2782/3444.0\n",
            "progress: 2783/3444.0\n",
            "progress: 2784/3444.0\n",
            "progress: 2785/3444.0\n",
            "progress: 2786/3444.0\n",
            "progress: 2787/3444.0\n",
            "progress: 2788/3444.0\n",
            "progress: 2789/3444.0\n",
            "progress: 2790/3444.0\n",
            "progress: 2791/3444.0\n",
            "progress: 2792/3444.0\n",
            "progress: 2793/3444.0\n",
            "progress: 2794/3444.0\n",
            "progress: 2795/3444.0\n",
            "progress: 2796/3444.0\n",
            "progress: 2797/3444.0\n",
            "progress: 2798/3444.0\n",
            "progress: 2799/3444.0\n",
            "progress: 2800/3444.0\n",
            "progress: 2801/3444.0\n",
            "progress: 2802/3444.0\n",
            "progress: 2803/3444.0\n",
            "progress: 2804/3444.0\n",
            "progress: 2805/3444.0\n",
            "progress: 2806/3444.0\n",
            "progress: 2807/3444.0\n",
            "progress: 2808/3444.0\n",
            "progress: 2809/3444.0\n",
            "progress: 2810/3444.0\n",
            "progress: 2811/3444.0\n",
            "progress: 2812/3444.0\n",
            "progress: 2813/3444.0\n",
            "progress: 2814/3444.0\n",
            "progress: 2815/3444.0\n",
            "progress: 2816/3444.0\n",
            "progress: 2817/3444.0\n",
            "progress: 2818/3444.0\n",
            "progress: 2819/3444.0\n",
            "progress: 2820/3444.0\n",
            "progress: 2821/3444.0\n",
            "progress: 2822/3444.0\n",
            "progress: 2823/3444.0\n",
            "progress: 2824/3444.0\n",
            "progress: 2825/3444.0\n",
            "progress: 2826/3444.0\n",
            "progress: 2827/3444.0\n",
            "progress: 2828/3444.0\n",
            "progress: 2829/3444.0\n",
            "progress: 2830/3444.0\n",
            "progress: 2831/3444.0\n",
            "progress: 2832/3444.0\n",
            "progress: 2833/3444.0\n",
            "progress: 2834/3444.0\n",
            "progress: 2835/3444.0\n",
            "progress: 2836/3444.0\n",
            "progress: 2837/3444.0\n",
            "progress: 2838/3444.0\n",
            "progress: 2839/3444.0\n",
            "progress: 2840/3444.0\n",
            "progress: 2841/3444.0\n",
            "progress: 2842/3444.0\n",
            "progress: 2843/3444.0\n",
            "progress: 2844/3444.0\n",
            "progress: 2845/3444.0\n",
            "progress: 2846/3444.0\n",
            "progress: 2847/3444.0\n",
            "progress: 2848/3444.0\n",
            "progress: 2849/3444.0\n",
            "progress: 2850/3444.0\n",
            "progress: 2851/3444.0\n",
            "progress: 2852/3444.0\n",
            "progress: 2853/3444.0\n",
            "progress: 2854/3444.0\n",
            "progress: 2855/3444.0\n",
            "progress: 2856/3444.0\n",
            "progress: 2857/3444.0\n",
            "progress: 2858/3444.0\n",
            "progress: 2859/3444.0\n",
            "progress: 2860/3444.0\n",
            "progress: 2861/3444.0\n",
            "progress: 2862/3444.0\n",
            "progress: 2863/3444.0\n",
            "progress: 2864/3444.0\n",
            "progress: 2865/3444.0\n",
            "progress: 2866/3444.0\n",
            "progress: 2867/3444.0\n",
            "progress: 2868/3444.0\n",
            "progress: 2869/3444.0\n",
            "progress: 2870/3444.0\n",
            "progress: 2871/3444.0\n",
            "progress: 2872/3444.0\n",
            "progress: 2873/3444.0\n",
            "progress: 2874/3444.0\n",
            "progress: 2875/3444.0\n",
            "progress: 2876/3444.0\n",
            "progress: 2877/3444.0\n",
            "progress: 2878/3444.0\n",
            "progress: 2879/3444.0\n",
            "progress: 2880/3444.0\n",
            "progress: 2881/3444.0\n",
            "progress: 2882/3444.0\n",
            "progress: 2883/3444.0\n",
            "progress: 2884/3444.0\n",
            "progress: 2885/3444.0\n",
            "progress: 2886/3444.0\n",
            "progress: 2887/3444.0\n",
            "progress: 2888/3444.0\n",
            "progress: 2889/3444.0\n",
            "progress: 2890/3444.0\n",
            "progress: 2891/3444.0\n",
            "progress: 2892/3444.0\n",
            "progress: 2893/3444.0\n",
            "progress: 2894/3444.0\n",
            "progress: 2895/3444.0\n",
            "progress: 2896/3444.0\n",
            "progress: 2897/3444.0\n",
            "progress: 2898/3444.0\n",
            "progress: 2899/3444.0\n",
            "progress: 2900/3444.0\n",
            "progress: 2901/3444.0\n",
            "progress: 2902/3444.0\n",
            "progress: 2903/3444.0\n",
            "progress: 2904/3444.0\n",
            "progress: 2905/3444.0\n",
            "progress: 2906/3444.0\n",
            "progress: 2907/3444.0\n",
            "progress: 2908/3444.0\n",
            "progress: 2909/3444.0\n",
            "progress: 2910/3444.0\n",
            "progress: 2911/3444.0\n",
            "progress: 2912/3444.0\n",
            "progress: 2913/3444.0\n",
            "progress: 2914/3444.0\n",
            "progress: 2915/3444.0\n",
            "progress: 2916/3444.0\n",
            "progress: 2917/3444.0\n",
            "progress: 2918/3444.0\n",
            "progress: 2919/3444.0\n",
            "progress: 2920/3444.0\n",
            "progress: 2921/3444.0\n",
            "progress: 2922/3444.0\n",
            "progress: 2923/3444.0\n",
            "progress: 2924/3444.0\n",
            "progress: 2925/3444.0\n",
            "progress: 2926/3444.0\n",
            "progress: 2927/3444.0\n",
            "progress: 2928/3444.0\n",
            "progress: 2929/3444.0\n",
            "progress: 2930/3444.0\n",
            "progress: 2931/3444.0\n",
            "progress: 2932/3444.0\n",
            "progress: 2933/3444.0\n",
            "progress: 2934/3444.0\n",
            "progress: 2935/3444.0\n",
            "progress: 2936/3444.0\n",
            "progress: 2937/3444.0\n",
            "progress: 2938/3444.0\n",
            "progress: 2939/3444.0\n",
            "progress: 2940/3444.0\n",
            "progress: 2941/3444.0\n",
            "progress: 2942/3444.0\n",
            "progress: 2943/3444.0\n",
            "progress: 2944/3444.0\n",
            "progress: 2945/3444.0\n",
            "progress: 2946/3444.0\n",
            "progress: 2947/3444.0\n",
            "progress: 2948/3444.0\n",
            "progress: 2949/3444.0\n",
            "progress: 2950/3444.0\n",
            "progress: 2951/3444.0\n",
            "progress: 2952/3444.0\n",
            "progress: 2953/3444.0\n",
            "progress: 2954/3444.0\n",
            "progress: 2955/3444.0\n",
            "progress: 2956/3444.0\n",
            "progress: 2957/3444.0\n",
            "progress: 2958/3444.0\n",
            "progress: 2959/3444.0\n",
            "progress: 2960/3444.0\n",
            "progress: 2961/3444.0\n",
            "progress: 2962/3444.0\n",
            "progress: 2963/3444.0\n",
            "progress: 2964/3444.0\n",
            "progress: 2965/3444.0\n",
            "progress: 2966/3444.0\n",
            "progress: 2967/3444.0\n",
            "progress: 2968/3444.0\n",
            "progress: 2969/3444.0\n",
            "progress: 2970/3444.0\n",
            "progress: 2971/3444.0\n",
            "progress: 2972/3444.0\n",
            "progress: 2973/3444.0\n",
            "progress: 2974/3444.0\n",
            "progress: 2975/3444.0\n",
            "progress: 2976/3444.0\n",
            "progress: 2977/3444.0\n",
            "progress: 2978/3444.0\n",
            "progress: 2979/3444.0\n",
            "progress: 2980/3444.0\n",
            "progress: 2981/3444.0\n",
            "progress: 2982/3444.0\n",
            "progress: 2983/3444.0\n",
            "progress: 2984/3444.0\n",
            "progress: 2985/3444.0\n",
            "progress: 2986/3444.0\n",
            "progress: 2987/3444.0\n",
            "progress: 2988/3444.0\n",
            "progress: 2989/3444.0\n",
            "progress: 2990/3444.0\n",
            "progress: 2991/3444.0\n",
            "progress: 2992/3444.0\n",
            "progress: 2993/3444.0\n",
            "progress: 2994/3444.0\n",
            "progress: 2995/3444.0\n",
            "progress: 2996/3444.0\n",
            "progress: 2997/3444.0\n",
            "progress: 2998/3444.0\n",
            "progress: 2999/3444.0\n",
            "progress: 3000/3444.0\n",
            "progress: 3001/3444.0\n",
            "progress: 3002/3444.0\n",
            "progress: 3003/3444.0\n",
            "progress: 3004/3444.0\n",
            "progress: 3005/3444.0\n",
            "progress: 3006/3444.0\n",
            "progress: 3007/3444.0\n",
            "progress: 3008/3444.0\n",
            "progress: 3009/3444.0\n",
            "progress: 3010/3444.0\n",
            "progress: 3011/3444.0\n",
            "progress: 3012/3444.0\n",
            "progress: 3013/3444.0\n",
            "progress: 3014/3444.0\n",
            "progress: 3015/3444.0\n",
            "progress: 3016/3444.0\n",
            "progress: 3017/3444.0\n",
            "progress: 3018/3444.0\n",
            "progress: 3019/3444.0\n",
            "progress: 3020/3444.0\n",
            "progress: 3021/3444.0\n",
            "progress: 3022/3444.0\n",
            "progress: 3023/3444.0\n",
            "progress: 3024/3444.0\n",
            "progress: 3025/3444.0\n",
            "progress: 3026/3444.0\n",
            "progress: 3027/3444.0\n",
            "progress: 3028/3444.0\n",
            "progress: 3029/3444.0\n",
            "progress: 3030/3444.0\n",
            "progress: 3031/3444.0\n",
            "progress: 3032/3444.0\n",
            "progress: 3033/3444.0\n",
            "progress: 3034/3444.0\n",
            "progress: 3035/3444.0\n",
            "progress: 3036/3444.0\n",
            "progress: 3037/3444.0\n",
            "progress: 3038/3444.0\n",
            "progress: 3039/3444.0\n",
            "progress: 3040/3444.0\n",
            "progress: 3041/3444.0\n",
            "progress: 3042/3444.0\n",
            "progress: 3043/3444.0\n",
            "progress: 3044/3444.0\n",
            "progress: 3045/3444.0\n",
            "progress: 3046/3444.0\n",
            "progress: 3047/3444.0\n",
            "progress: 3048/3444.0\n",
            "progress: 3049/3444.0\n",
            "progress: 3050/3444.0\n",
            "progress: 3051/3444.0\n",
            "progress: 3052/3444.0\n",
            "progress: 3053/3444.0\n",
            "progress: 3054/3444.0\n",
            "progress: 3055/3444.0\n",
            "progress: 3056/3444.0\n",
            "progress: 3057/3444.0\n",
            "progress: 3058/3444.0\n",
            "progress: 3059/3444.0\n",
            "progress: 3060/3444.0\n",
            "progress: 3061/3444.0\n",
            "progress: 3062/3444.0\n",
            "progress: 3063/3444.0\n",
            "progress: 3064/3444.0\n",
            "progress: 3065/3444.0\n",
            "progress: 3066/3444.0\n",
            "progress: 3067/3444.0\n",
            "progress: 3068/3444.0\n",
            "progress: 3069/3444.0\n",
            "progress: 3070/3444.0\n",
            "progress: 3071/3444.0\n",
            "progress: 3072/3444.0\n",
            "progress: 3073/3444.0\n",
            "progress: 3074/3444.0\n",
            "progress: 3075/3444.0\n",
            "progress: 3076/3444.0\n",
            "progress: 3077/3444.0\n",
            "progress: 3078/3444.0\n",
            "progress: 3079/3444.0\n",
            "progress: 3080/3444.0\n",
            "progress: 3081/3444.0\n",
            "progress: 3082/3444.0\n",
            "progress: 3083/3444.0\n",
            "progress: 3084/3444.0\n",
            "progress: 3085/3444.0\n",
            "progress: 3086/3444.0\n",
            "progress: 3087/3444.0\n",
            "progress: 3088/3444.0\n",
            "progress: 3089/3444.0\n",
            "progress: 3090/3444.0\n",
            "progress: 3091/3444.0\n",
            "progress: 3092/3444.0\n",
            "progress: 3093/3444.0\n",
            "progress: 3094/3444.0\n",
            "progress: 3095/3444.0\n",
            "progress: 3096/3444.0\n",
            "progress: 3097/3444.0\n",
            "progress: 3098/3444.0\n",
            "progress: 3099/3444.0\n",
            "progress: 3100/3444.0\n",
            "progress: 3101/3444.0\n",
            "progress: 3102/3444.0\n",
            "progress: 3103/3444.0\n",
            "progress: 3104/3444.0\n",
            "progress: 3105/3444.0\n",
            "progress: 3106/3444.0\n",
            "progress: 3107/3444.0\n",
            "progress: 3108/3444.0\n",
            "progress: 3109/3444.0\n",
            "progress: 3110/3444.0\n",
            "progress: 3111/3444.0\n",
            "progress: 3112/3444.0\n",
            "progress: 3113/3444.0\n",
            "progress: 3114/3444.0\n",
            "progress: 3115/3444.0\n",
            "progress: 3116/3444.0\n",
            "progress: 3117/3444.0\n",
            "progress: 3118/3444.0\n",
            "progress: 3119/3444.0\n",
            "progress: 3120/3444.0\n",
            "progress: 3121/3444.0\n",
            "progress: 3122/3444.0\n",
            "progress: 3123/3444.0\n",
            "progress: 3124/3444.0\n",
            "progress: 3125/3444.0\n",
            "progress: 3126/3444.0\n",
            "progress: 3127/3444.0\n",
            "progress: 3128/3444.0\n",
            "progress: 3129/3444.0\n",
            "progress: 3130/3444.0\n",
            "progress: 3131/3444.0\n",
            "progress: 3132/3444.0\n",
            "progress: 3133/3444.0\n",
            "progress: 3134/3444.0\n",
            "progress: 3135/3444.0\n",
            "progress: 3136/3444.0\n",
            "progress: 3137/3444.0\n",
            "progress: 3138/3444.0\n",
            "progress: 3139/3444.0\n",
            "progress: 3140/3444.0\n",
            "progress: 3141/3444.0\n",
            "progress: 3142/3444.0\n",
            "progress: 3143/3444.0\n",
            "progress: 3144/3444.0\n",
            "progress: 3145/3444.0\n",
            "progress: 3146/3444.0\n",
            "progress: 3147/3444.0\n",
            "progress: 3148/3444.0\n",
            "progress: 3149/3444.0\n",
            "progress: 3150/3444.0\n",
            "progress: 3151/3444.0\n",
            "progress: 3152/3444.0\n",
            "progress: 3153/3444.0\n",
            "progress: 3154/3444.0\n",
            "progress: 3155/3444.0\n",
            "progress: 3156/3444.0\n",
            "progress: 3157/3444.0\n",
            "progress: 3158/3444.0\n",
            "progress: 3159/3444.0\n",
            "progress: 3160/3444.0\n",
            "progress: 3161/3444.0\n",
            "progress: 3162/3444.0\n",
            "progress: 3163/3444.0\n",
            "progress: 3164/3444.0\n",
            "progress: 3165/3444.0\n",
            "progress: 3166/3444.0\n",
            "progress: 3167/3444.0\n",
            "progress: 3168/3444.0\n",
            "progress: 3169/3444.0\n",
            "progress: 3170/3444.0\n",
            "progress: 3171/3444.0\n",
            "progress: 3172/3444.0\n",
            "progress: 3173/3444.0\n",
            "progress: 3174/3444.0\n",
            "progress: 3175/3444.0\n",
            "progress: 3176/3444.0\n",
            "progress: 3177/3444.0\n",
            "progress: 3178/3444.0\n",
            "progress: 3179/3444.0\n",
            "progress: 3180/3444.0\n",
            "progress: 3181/3444.0\n",
            "progress: 3182/3444.0\n",
            "progress: 3183/3444.0\n",
            "progress: 3184/3444.0\n",
            "progress: 3185/3444.0\n",
            "progress: 3186/3444.0\n",
            "progress: 3187/3444.0\n",
            "progress: 3188/3444.0\n",
            "progress: 3189/3444.0\n",
            "progress: 3190/3444.0\n",
            "progress: 3191/3444.0\n",
            "progress: 3192/3444.0\n",
            "progress: 3193/3444.0\n",
            "progress: 3194/3444.0\n",
            "progress: 3195/3444.0\n",
            "progress: 3196/3444.0\n",
            "progress: 3197/3444.0\n",
            "progress: 3198/3444.0\n",
            "progress: 3199/3444.0\n",
            "progress: 3200/3444.0\n",
            "progress: 3201/3444.0\n",
            "progress: 3202/3444.0\n",
            "progress: 3203/3444.0\n",
            "progress: 3204/3444.0\n",
            "progress: 3205/3444.0\n",
            "progress: 3206/3444.0\n",
            "progress: 3207/3444.0\n",
            "progress: 3208/3444.0\n",
            "progress: 3209/3444.0\n",
            "progress: 3210/3444.0\n",
            "progress: 3211/3444.0\n",
            "progress: 3212/3444.0\n",
            "progress: 3213/3444.0\n",
            "progress: 3214/3444.0\n",
            "progress: 3215/3444.0\n",
            "progress: 3216/3444.0\n",
            "progress: 3217/3444.0\n",
            "progress: 3218/3444.0\n",
            "progress: 3219/3444.0\n",
            "progress: 3220/3444.0\n",
            "progress: 3221/3444.0\n",
            "progress: 3222/3444.0\n",
            "progress: 3223/3444.0\n",
            "progress: 3224/3444.0\n",
            "progress: 3225/3444.0\n",
            "progress: 3226/3444.0\n",
            "progress: 3227/3444.0\n",
            "progress: 3228/3444.0\n",
            "progress: 3229/3444.0\n",
            "progress: 3230/3444.0\n",
            "progress: 3231/3444.0\n",
            "progress: 3232/3444.0\n",
            "progress: 3233/3444.0\n",
            "progress: 3234/3444.0\n",
            "progress: 3235/3444.0\n",
            "progress: 3236/3444.0\n",
            "progress: 3237/3444.0\n",
            "progress: 3238/3444.0\n",
            "progress: 3239/3444.0\n",
            "progress: 3240/3444.0\n",
            "progress: 3241/3444.0\n",
            "progress: 3242/3444.0\n",
            "progress: 3243/3444.0\n",
            "progress: 3244/3444.0\n",
            "progress: 3245/3444.0\n",
            "progress: 3246/3444.0\n",
            "progress: 3247/3444.0\n",
            "progress: 3248/3444.0\n",
            "progress: 3249/3444.0\n",
            "progress: 3250/3444.0\n",
            "progress: 3251/3444.0\n",
            "progress: 3252/3444.0\n",
            "progress: 3253/3444.0\n",
            "progress: 3254/3444.0\n",
            "progress: 3255/3444.0\n",
            "progress: 3256/3444.0\n",
            "progress: 3257/3444.0\n",
            "progress: 3258/3444.0\n",
            "progress: 3259/3444.0\n",
            "progress: 3260/3444.0\n",
            "progress: 3261/3444.0\n",
            "progress: 3262/3444.0\n",
            "progress: 3263/3444.0\n",
            "progress: 3264/3444.0\n",
            "progress: 3265/3444.0\n",
            "progress: 3266/3444.0\n",
            "progress: 3267/3444.0\n",
            "progress: 3268/3444.0\n",
            "progress: 3269/3444.0\n",
            "progress: 3270/3444.0\n",
            "progress: 3271/3444.0\n",
            "progress: 3272/3444.0\n",
            "progress: 3273/3444.0\n",
            "progress: 3274/3444.0\n",
            "progress: 3275/3444.0\n",
            "progress: 3276/3444.0\n",
            "progress: 3277/3444.0\n",
            "progress: 3278/3444.0\n",
            "progress: 3279/3444.0\n",
            "progress: 3280/3444.0\n",
            "progress: 3281/3444.0\n",
            "progress: 3282/3444.0\n",
            "progress: 3283/3444.0\n",
            "progress: 3284/3444.0\n",
            "progress: 3285/3444.0\n",
            "progress: 3286/3444.0\n",
            "progress: 3287/3444.0\n",
            "progress: 3288/3444.0\n",
            "progress: 3289/3444.0\n",
            "progress: 3290/3444.0\n",
            "progress: 3291/3444.0\n",
            "progress: 3292/3444.0\n",
            "progress: 3293/3444.0\n",
            "progress: 3294/3444.0\n",
            "progress: 3295/3444.0\n",
            "progress: 3296/3444.0\n",
            "progress: 3297/3444.0\n",
            "progress: 3298/3444.0\n",
            "progress: 3299/3444.0\n",
            "progress: 3300/3444.0\n",
            "progress: 3301/3444.0\n",
            "progress: 3302/3444.0\n",
            "progress: 3303/3444.0\n",
            "progress: 3304/3444.0\n",
            "progress: 3305/3444.0\n",
            "progress: 3306/3444.0\n",
            "progress: 3307/3444.0\n",
            "progress: 3308/3444.0\n",
            "progress: 3309/3444.0\n",
            "progress: 3310/3444.0\n",
            "progress: 3311/3444.0\n",
            "progress: 3312/3444.0\n",
            "progress: 3313/3444.0\n",
            "progress: 3314/3444.0\n",
            "progress: 3315/3444.0\n",
            "progress: 3316/3444.0\n",
            "progress: 3317/3444.0\n",
            "progress: 3318/3444.0\n",
            "progress: 3319/3444.0\n",
            "progress: 3320/3444.0\n",
            "progress: 3321/3444.0\n",
            "progress: 3322/3444.0\n",
            "progress: 3323/3444.0\n",
            "progress: 3324/3444.0\n",
            "progress: 3325/3444.0\n",
            "progress: 3326/3444.0\n",
            "progress: 3327/3444.0\n",
            "progress: 3328/3444.0\n",
            "progress: 3329/3444.0\n",
            "progress: 3330/3444.0\n",
            "progress: 3331/3444.0\n",
            "progress: 3332/3444.0\n",
            "progress: 3333/3444.0\n",
            "progress: 3334/3444.0\n",
            "progress: 3335/3444.0\n",
            "progress: 3336/3444.0\n",
            "progress: 3337/3444.0\n",
            "progress: 3338/3444.0\n",
            "progress: 3339/3444.0\n",
            "progress: 3340/3444.0\n",
            "progress: 3341/3444.0\n",
            "progress: 3342/3444.0\n",
            "progress: 3343/3444.0\n",
            "progress: 3344/3444.0\n",
            "progress: 3345/3444.0\n",
            "progress: 3346/3444.0\n",
            "progress: 3347/3444.0\n",
            "progress: 3348/3444.0\n",
            "progress: 3349/3444.0\n",
            "progress: 3350/3444.0\n",
            "progress: 3351/3444.0\n",
            "progress: 3352/3444.0\n",
            "progress: 3353/3444.0\n",
            "progress: 3354/3444.0\n",
            "progress: 3355/3444.0\n",
            "progress: 3356/3444.0\n",
            "progress: 3357/3444.0\n",
            "progress: 3358/3444.0\n",
            "progress: 3359/3444.0\n",
            "progress: 3360/3444.0\n",
            "progress: 3361/3444.0\n",
            "progress: 3362/3444.0\n",
            "progress: 3363/3444.0\n",
            "progress: 3364/3444.0\n",
            "progress: 3365/3444.0\n",
            "progress: 3366/3444.0\n",
            "progress: 3367/3444.0\n",
            "progress: 3368/3444.0\n",
            "progress: 3369/3444.0\n",
            "progress: 3370/3444.0\n",
            "progress: 3371/3444.0\n",
            "progress: 3372/3444.0\n",
            "progress: 3373/3444.0\n",
            "progress: 3374/3444.0\n",
            "progress: 3375/3444.0\n",
            "progress: 3376/3444.0\n",
            "progress: 3377/3444.0\n",
            "progress: 3378/3444.0\n",
            "progress: 3379/3444.0\n",
            "progress: 3380/3444.0\n",
            "progress: 3381/3444.0\n",
            "progress: 3382/3444.0\n",
            "progress: 3383/3444.0\n",
            "progress: 3384/3444.0\n",
            "progress: 3385/3444.0\n",
            "progress: 3386/3444.0\n",
            "progress: 3387/3444.0\n",
            "progress: 3388/3444.0\n",
            "progress: 3389/3444.0\n",
            "progress: 3390/3444.0\n",
            "progress: 3391/3444.0\n",
            "progress: 3392/3444.0\n",
            "progress: 3393/3444.0\n",
            "progress: 3394/3444.0\n",
            "progress: 3395/3444.0\n",
            "progress: 3396/3444.0\n",
            "progress: 3397/3444.0\n",
            "progress: 3398/3444.0\n",
            "progress: 3399/3444.0\n",
            "progress: 3400/3444.0\n",
            "progress: 3401/3444.0\n",
            "progress: 3402/3444.0\n",
            "progress: 3403/3444.0\n",
            "progress: 3404/3444.0\n",
            "progress: 3405/3444.0\n",
            "progress: 3406/3444.0\n",
            "progress: 3407/3444.0\n",
            "progress: 3408/3444.0\n",
            "progress: 3409/3444.0\n",
            "progress: 3410/3444.0\n",
            "progress: 3411/3444.0\n",
            "progress: 3412/3444.0\n",
            "progress: 3413/3444.0\n",
            "progress: 3414/3444.0\n",
            "progress: 3415/3444.0\n",
            "progress: 3416/3444.0\n",
            "progress: 3417/3444.0\n",
            "progress: 3418/3444.0\n",
            "progress: 3419/3444.0\n",
            "progress: 3420/3444.0\n",
            "progress: 3421/3444.0\n",
            "progress: 3422/3444.0\n",
            "progress: 3423/3444.0\n",
            "progress: 3424/3444.0\n",
            "progress: 3425/3444.0\n",
            "progress: 3426/3444.0\n",
            "progress: 3427/3444.0\n",
            "progress: 3428/3444.0\n",
            "progress: 3429/3444.0\n",
            "progress: 3430/3444.0\n",
            "progress: 3431/3444.0\n",
            "progress: 3432/3444.0\n",
            "progress: 3433/3444.0\n",
            "progress: 3434/3444.0\n",
            "progress: 3435/3444.0\n",
            "progress: 3436/3444.0\n",
            "progress: 3437/3444.0\n",
            "progress: 3438/3444.0\n",
            "progress: 3439/3444.0\n",
            "progress: 3440/3444.0\n",
            "progress: 3441/3444.0\n",
            "progress: 3442/3444.0\n",
            "progress: 3443/3444.0\n",
            "progress: 3444/3444.0\n",
            "progress: 3445/3444.0\n",
            "progress: 3446/3444.0\n",
            "progress: 3447/3444.0\n",
            "progress: 3448/3444.0\n",
            "progress: 3449/3444.0\n",
            "progress: 3450/3444.0\n",
            "progress: 3451/3444.0\n",
            "progress: 3452/3444.0\n",
            "progress: 3453/3444.0\n",
            "progress: 3454/3444.0\n",
            "progress: 3455/3444.0\n",
            "progress: 3456/3444.0\n",
            "progress: 3457/3444.0\n",
            "progress: 3458/3444.0\n",
            "progress: 3459/3444.0\n",
            "progress: 3460/3444.0\n",
            "progress: 3461/3444.0\n",
            "progress: 3462/3444.0\n",
            "progress: 3463/3444.0\n",
            "progress: 3464/3444.0\n",
            "progress: 3465/3444.0\n",
            "progress: 3466/3444.0\n",
            "progress: 3467/3444.0\n",
            "progress: 3468/3444.0\n",
            "progress: 3469/3444.0\n",
            "progress: 3470/3444.0\n",
            "progress: 3471/3444.0\n",
            "progress: 3472/3444.0\n",
            "progress: 3473/3444.0\n",
            "progress: 3474/3444.0\n",
            "progress: 3475/3444.0\n",
            "progress: 3476/3444.0\n",
            "progress: 3477/3444.0\n",
            "progress: 3478/3444.0\n",
            "progress: 3479/3444.0\n",
            "progress: 3480/3444.0\n"
          ]
        }
      ]
    },
    {
      "cell_type": "code",
      "source": [
        "## USING AVERAGE COLOR CODE\n",
        "\n",
        "copy = library_img.copy()\n",
        "library_arr = []\n",
        "\n",
        "copy1 = library_img.copy().convert('RGB')\n",
        "png = np.array(copy1)\n",
        "\n",
        "counter = 0\n",
        "for i in range(0, library_img.height, detail):\n",
        "  for j in range(0, library_img.width, detail):\n",
        "    library_arr.append(library_img.crop((j, i, j+detail, i+detail)))\n",
        "    crop = library_img.crop((j, i, j+detail, i+detail))\n",
        "    curr_avg = np.average(crop, axis=(0,1))\n",
        "\n",
        "\n",
        "\n",
        "    new_img = listtest[find_Avg_Color(curr_avg, listtest)]\n",
        "    # Image.putdata(data, scale=1.0, offset=0.0)\n",
        "    # left, upper, right, and lower\n",
        "    Image.Image.paste(copy, new_img, (j, i, j+detail, i+detail))\n",
        "\n",
        "    counter+=1\n",
        "    print(\"progress: \" + str(counter) + \"/\" + str((((library_img.width)/detail) * ((library_img.height)/detail))))\n",
        "    ## searching the original picture for a similar color"
      ],
      "metadata": {
        "id": "ElVmjqQ94kvW",
        "colab": {
          "base_uri": "https://localhost:8080/"
        },
        "outputId": "f906b6a7-b518-47e2-933f-d27437cd01f1",
        "collapsed": true
      },
      "execution_count": 92,
      "outputs": [
        {
          "output_type": "stream",
          "name": "stdout",
          "text": [
            "progress: 1/3444.0\n",
            "progress: 2/3444.0\n",
            "progress: 3/3444.0\n",
            "progress: 4/3444.0\n",
            "progress: 5/3444.0\n",
            "progress: 6/3444.0\n",
            "progress: 7/3444.0\n",
            "progress: 8/3444.0\n",
            "progress: 9/3444.0\n",
            "progress: 10/3444.0\n",
            "progress: 11/3444.0\n",
            "progress: 12/3444.0\n",
            "progress: 13/3444.0\n",
            "progress: 14/3444.0\n",
            "progress: 15/3444.0\n",
            "progress: 16/3444.0\n",
            "progress: 17/3444.0\n",
            "progress: 18/3444.0\n",
            "progress: 19/3444.0\n",
            "progress: 20/3444.0\n",
            "progress: 21/3444.0\n",
            "progress: 22/3444.0\n",
            "progress: 23/3444.0\n",
            "progress: 24/3444.0\n",
            "progress: 25/3444.0\n",
            "progress: 26/3444.0\n",
            "progress: 27/3444.0\n",
            "progress: 28/3444.0\n",
            "progress: 29/3444.0\n",
            "progress: 30/3444.0\n",
            "progress: 31/3444.0\n",
            "progress: 32/3444.0\n",
            "progress: 33/3444.0\n",
            "progress: 34/3444.0\n",
            "progress: 35/3444.0\n",
            "progress: 36/3444.0\n",
            "progress: 37/3444.0\n",
            "progress: 38/3444.0\n",
            "progress: 39/3444.0\n",
            "progress: 40/3444.0\n",
            "progress: 41/3444.0\n",
            "progress: 42/3444.0\n",
            "progress: 43/3444.0\n",
            "progress: 44/3444.0\n",
            "progress: 45/3444.0\n",
            "progress: 46/3444.0\n",
            "progress: 47/3444.0\n",
            "progress: 48/3444.0\n",
            "progress: 49/3444.0\n",
            "progress: 50/3444.0\n",
            "progress: 51/3444.0\n",
            "progress: 52/3444.0\n",
            "progress: 53/3444.0\n",
            "progress: 54/3444.0\n",
            "progress: 55/3444.0\n",
            "progress: 56/3444.0\n",
            "progress: 57/3444.0\n",
            "progress: 58/3444.0\n",
            "progress: 59/3444.0\n",
            "progress: 60/3444.0\n",
            "progress: 61/3444.0\n",
            "progress: 62/3444.0\n",
            "progress: 63/3444.0\n",
            "progress: 64/3444.0\n",
            "progress: 65/3444.0\n",
            "progress: 66/3444.0\n",
            "progress: 67/3444.0\n",
            "progress: 68/3444.0\n",
            "progress: 69/3444.0\n",
            "progress: 70/3444.0\n",
            "progress: 71/3444.0\n",
            "progress: 72/3444.0\n",
            "progress: 73/3444.0\n",
            "progress: 74/3444.0\n",
            "progress: 75/3444.0\n",
            "progress: 76/3444.0\n",
            "progress: 77/3444.0\n",
            "progress: 78/3444.0\n",
            "progress: 79/3444.0\n",
            "progress: 80/3444.0\n",
            "progress: 81/3444.0\n",
            "progress: 82/3444.0\n",
            "progress: 83/3444.0\n",
            "progress: 84/3444.0\n",
            "progress: 85/3444.0\n",
            "progress: 86/3444.0\n",
            "progress: 87/3444.0\n",
            "progress: 88/3444.0\n",
            "progress: 89/3444.0\n",
            "progress: 90/3444.0\n",
            "progress: 91/3444.0\n",
            "progress: 92/3444.0\n",
            "progress: 93/3444.0\n",
            "progress: 94/3444.0\n",
            "progress: 95/3444.0\n",
            "progress: 96/3444.0\n",
            "progress: 97/3444.0\n",
            "progress: 98/3444.0\n",
            "progress: 99/3444.0\n",
            "progress: 100/3444.0\n",
            "progress: 101/3444.0\n",
            "progress: 102/3444.0\n",
            "progress: 103/3444.0\n",
            "progress: 104/3444.0\n",
            "progress: 105/3444.0\n",
            "progress: 106/3444.0\n",
            "progress: 107/3444.0\n",
            "progress: 108/3444.0\n",
            "progress: 109/3444.0\n",
            "progress: 110/3444.0\n",
            "progress: 111/3444.0\n",
            "progress: 112/3444.0\n",
            "progress: 113/3444.0\n",
            "progress: 114/3444.0\n",
            "progress: 115/3444.0\n",
            "progress: 116/3444.0\n",
            "progress: 117/3444.0\n",
            "progress: 118/3444.0\n",
            "progress: 119/3444.0\n",
            "progress: 120/3444.0\n",
            "progress: 121/3444.0\n",
            "progress: 122/3444.0\n",
            "progress: 123/3444.0\n",
            "progress: 124/3444.0\n",
            "progress: 125/3444.0\n",
            "progress: 126/3444.0\n",
            "progress: 127/3444.0\n",
            "progress: 128/3444.0\n",
            "progress: 129/3444.0\n",
            "progress: 130/3444.0\n",
            "progress: 131/3444.0\n",
            "progress: 132/3444.0\n",
            "progress: 133/3444.0\n",
            "progress: 134/3444.0\n",
            "progress: 135/3444.0\n",
            "progress: 136/3444.0\n",
            "progress: 137/3444.0\n",
            "progress: 138/3444.0\n",
            "progress: 139/3444.0\n",
            "progress: 140/3444.0\n",
            "progress: 141/3444.0\n",
            "progress: 142/3444.0\n",
            "progress: 143/3444.0\n",
            "progress: 144/3444.0\n",
            "progress: 145/3444.0\n",
            "progress: 146/3444.0\n",
            "progress: 147/3444.0\n",
            "progress: 148/3444.0\n",
            "progress: 149/3444.0\n",
            "progress: 150/3444.0\n",
            "progress: 151/3444.0\n",
            "progress: 152/3444.0\n",
            "progress: 153/3444.0\n",
            "progress: 154/3444.0\n",
            "progress: 155/3444.0\n",
            "progress: 156/3444.0\n",
            "progress: 157/3444.0\n",
            "progress: 158/3444.0\n",
            "progress: 159/3444.0\n",
            "progress: 160/3444.0\n",
            "progress: 161/3444.0\n",
            "progress: 162/3444.0\n",
            "progress: 163/3444.0\n",
            "progress: 164/3444.0\n",
            "progress: 165/3444.0\n",
            "progress: 166/3444.0\n",
            "progress: 167/3444.0\n",
            "progress: 168/3444.0\n",
            "progress: 169/3444.0\n",
            "progress: 170/3444.0\n",
            "progress: 171/3444.0\n",
            "progress: 172/3444.0\n",
            "progress: 173/3444.0\n",
            "progress: 174/3444.0\n",
            "progress: 175/3444.0\n",
            "progress: 176/3444.0\n",
            "progress: 177/3444.0\n",
            "progress: 178/3444.0\n",
            "progress: 179/3444.0\n",
            "progress: 180/3444.0\n",
            "progress: 181/3444.0\n",
            "progress: 182/3444.0\n",
            "progress: 183/3444.0\n",
            "progress: 184/3444.0\n",
            "progress: 185/3444.0\n",
            "progress: 186/3444.0\n",
            "progress: 187/3444.0\n",
            "progress: 188/3444.0\n",
            "progress: 189/3444.0\n",
            "progress: 190/3444.0\n",
            "progress: 191/3444.0\n",
            "progress: 192/3444.0\n",
            "progress: 193/3444.0\n",
            "progress: 194/3444.0\n",
            "progress: 195/3444.0\n",
            "progress: 196/3444.0\n",
            "progress: 197/3444.0\n",
            "progress: 198/3444.0\n",
            "progress: 199/3444.0\n",
            "progress: 200/3444.0\n",
            "progress: 201/3444.0\n",
            "progress: 202/3444.0\n",
            "progress: 203/3444.0\n",
            "progress: 204/3444.0\n",
            "progress: 205/3444.0\n",
            "progress: 206/3444.0\n",
            "progress: 207/3444.0\n",
            "progress: 208/3444.0\n",
            "progress: 209/3444.0\n",
            "progress: 210/3444.0\n",
            "progress: 211/3444.0\n",
            "progress: 212/3444.0\n",
            "progress: 213/3444.0\n",
            "progress: 214/3444.0\n",
            "progress: 215/3444.0\n",
            "progress: 216/3444.0\n",
            "progress: 217/3444.0\n",
            "progress: 218/3444.0\n",
            "progress: 219/3444.0\n",
            "progress: 220/3444.0\n",
            "progress: 221/3444.0\n",
            "progress: 222/3444.0\n",
            "progress: 223/3444.0\n",
            "progress: 224/3444.0\n",
            "progress: 225/3444.0\n",
            "progress: 226/3444.0\n",
            "progress: 227/3444.0\n",
            "progress: 228/3444.0\n",
            "progress: 229/3444.0\n",
            "progress: 230/3444.0\n",
            "progress: 231/3444.0\n",
            "progress: 232/3444.0\n",
            "progress: 233/3444.0\n",
            "progress: 234/3444.0\n",
            "progress: 235/3444.0\n",
            "progress: 236/3444.0\n",
            "progress: 237/3444.0\n",
            "progress: 238/3444.0\n",
            "progress: 239/3444.0\n",
            "progress: 240/3444.0\n",
            "progress: 241/3444.0\n",
            "progress: 242/3444.0\n",
            "progress: 243/3444.0\n",
            "progress: 244/3444.0\n",
            "progress: 245/3444.0\n",
            "progress: 246/3444.0\n",
            "progress: 247/3444.0\n",
            "progress: 248/3444.0\n",
            "progress: 249/3444.0\n",
            "progress: 250/3444.0\n",
            "progress: 251/3444.0\n",
            "progress: 252/3444.0\n",
            "progress: 253/3444.0\n",
            "progress: 254/3444.0\n",
            "progress: 255/3444.0\n",
            "progress: 256/3444.0\n",
            "progress: 257/3444.0\n",
            "progress: 258/3444.0\n",
            "progress: 259/3444.0\n",
            "progress: 260/3444.0\n",
            "progress: 261/3444.0\n",
            "progress: 262/3444.0\n",
            "progress: 263/3444.0\n",
            "progress: 264/3444.0\n",
            "progress: 265/3444.0\n",
            "progress: 266/3444.0\n",
            "progress: 267/3444.0\n",
            "progress: 268/3444.0\n",
            "progress: 269/3444.0\n",
            "progress: 270/3444.0\n",
            "progress: 271/3444.0\n",
            "progress: 272/3444.0\n",
            "progress: 273/3444.0\n",
            "progress: 274/3444.0\n",
            "progress: 275/3444.0\n",
            "progress: 276/3444.0\n",
            "progress: 277/3444.0\n",
            "progress: 278/3444.0\n",
            "progress: 279/3444.0\n",
            "progress: 280/3444.0\n",
            "progress: 281/3444.0\n",
            "progress: 282/3444.0\n",
            "progress: 283/3444.0\n",
            "progress: 284/3444.0\n",
            "progress: 285/3444.0\n",
            "progress: 286/3444.0\n",
            "progress: 287/3444.0\n",
            "progress: 288/3444.0\n",
            "progress: 289/3444.0\n",
            "progress: 290/3444.0\n",
            "progress: 291/3444.0\n",
            "progress: 292/3444.0\n",
            "progress: 293/3444.0\n",
            "progress: 294/3444.0\n",
            "progress: 295/3444.0\n",
            "progress: 296/3444.0\n",
            "progress: 297/3444.0\n",
            "progress: 298/3444.0\n",
            "progress: 299/3444.0\n",
            "progress: 300/3444.0\n",
            "progress: 301/3444.0\n",
            "progress: 302/3444.0\n",
            "progress: 303/3444.0\n",
            "progress: 304/3444.0\n",
            "progress: 305/3444.0\n",
            "progress: 306/3444.0\n",
            "progress: 307/3444.0\n",
            "progress: 308/3444.0\n",
            "progress: 309/3444.0\n",
            "progress: 310/3444.0\n",
            "progress: 311/3444.0\n",
            "progress: 312/3444.0\n",
            "progress: 313/3444.0\n",
            "progress: 314/3444.0\n",
            "progress: 315/3444.0\n",
            "progress: 316/3444.0\n",
            "progress: 317/3444.0\n",
            "progress: 318/3444.0\n",
            "progress: 319/3444.0\n",
            "progress: 320/3444.0\n",
            "progress: 321/3444.0\n",
            "progress: 322/3444.0\n",
            "progress: 323/3444.0\n",
            "progress: 324/3444.0\n",
            "progress: 325/3444.0\n",
            "progress: 326/3444.0\n",
            "progress: 327/3444.0\n",
            "progress: 328/3444.0\n",
            "progress: 329/3444.0\n",
            "progress: 330/3444.0\n",
            "progress: 331/3444.0\n",
            "progress: 332/3444.0\n",
            "progress: 333/3444.0\n",
            "progress: 334/3444.0\n",
            "progress: 335/3444.0\n",
            "progress: 336/3444.0\n",
            "progress: 337/3444.0\n",
            "progress: 338/3444.0\n",
            "progress: 339/3444.0\n",
            "progress: 340/3444.0\n",
            "progress: 341/3444.0\n",
            "progress: 342/3444.0\n",
            "progress: 343/3444.0\n",
            "progress: 344/3444.0\n",
            "progress: 345/3444.0\n",
            "progress: 346/3444.0\n",
            "progress: 347/3444.0\n",
            "progress: 348/3444.0\n",
            "progress: 349/3444.0\n",
            "progress: 350/3444.0\n",
            "progress: 351/3444.0\n",
            "progress: 352/3444.0\n",
            "progress: 353/3444.0\n",
            "progress: 354/3444.0\n",
            "progress: 355/3444.0\n",
            "progress: 356/3444.0\n",
            "progress: 357/3444.0\n",
            "progress: 358/3444.0\n",
            "progress: 359/3444.0\n",
            "progress: 360/3444.0\n",
            "progress: 361/3444.0\n",
            "progress: 362/3444.0\n",
            "progress: 363/3444.0\n",
            "progress: 364/3444.0\n",
            "progress: 365/3444.0\n",
            "progress: 366/3444.0\n",
            "progress: 367/3444.0\n",
            "progress: 368/3444.0\n",
            "progress: 369/3444.0\n",
            "progress: 370/3444.0\n",
            "progress: 371/3444.0\n",
            "progress: 372/3444.0\n",
            "progress: 373/3444.0\n",
            "progress: 374/3444.0\n",
            "progress: 375/3444.0\n",
            "progress: 376/3444.0\n",
            "progress: 377/3444.0\n",
            "progress: 378/3444.0\n",
            "progress: 379/3444.0\n",
            "progress: 380/3444.0\n",
            "progress: 381/3444.0\n",
            "progress: 382/3444.0\n",
            "progress: 383/3444.0\n",
            "progress: 384/3444.0\n",
            "progress: 385/3444.0\n",
            "progress: 386/3444.0\n",
            "progress: 387/3444.0\n",
            "progress: 388/3444.0\n",
            "progress: 389/3444.0\n",
            "progress: 390/3444.0\n",
            "progress: 391/3444.0\n",
            "progress: 392/3444.0\n",
            "progress: 393/3444.0\n",
            "progress: 394/3444.0\n",
            "progress: 395/3444.0\n",
            "progress: 396/3444.0\n",
            "progress: 397/3444.0\n",
            "progress: 398/3444.0\n",
            "progress: 399/3444.0\n",
            "progress: 400/3444.0\n",
            "progress: 401/3444.0\n",
            "progress: 402/3444.0\n",
            "progress: 403/3444.0\n",
            "progress: 404/3444.0\n",
            "progress: 405/3444.0\n",
            "progress: 406/3444.0\n",
            "progress: 407/3444.0\n",
            "progress: 408/3444.0\n",
            "progress: 409/3444.0\n",
            "progress: 410/3444.0\n",
            "progress: 411/3444.0\n",
            "progress: 412/3444.0\n",
            "progress: 413/3444.0\n",
            "progress: 414/3444.0\n",
            "progress: 415/3444.0\n",
            "progress: 416/3444.0\n",
            "progress: 417/3444.0\n",
            "progress: 418/3444.0\n",
            "progress: 419/3444.0\n",
            "progress: 420/3444.0\n",
            "progress: 421/3444.0\n",
            "progress: 422/3444.0\n",
            "progress: 423/3444.0\n",
            "progress: 424/3444.0\n",
            "progress: 425/3444.0\n",
            "progress: 426/3444.0\n",
            "progress: 427/3444.0\n",
            "progress: 428/3444.0\n",
            "progress: 429/3444.0\n",
            "progress: 430/3444.0\n",
            "progress: 431/3444.0\n",
            "progress: 432/3444.0\n",
            "progress: 433/3444.0\n",
            "progress: 434/3444.0\n",
            "progress: 435/3444.0\n",
            "progress: 436/3444.0\n",
            "progress: 437/3444.0\n",
            "progress: 438/3444.0\n",
            "progress: 439/3444.0\n",
            "progress: 440/3444.0\n",
            "progress: 441/3444.0\n",
            "progress: 442/3444.0\n",
            "progress: 443/3444.0\n",
            "progress: 444/3444.0\n",
            "progress: 445/3444.0\n",
            "progress: 446/3444.0\n",
            "progress: 447/3444.0\n",
            "progress: 448/3444.0\n",
            "progress: 449/3444.0\n",
            "progress: 450/3444.0\n",
            "progress: 451/3444.0\n",
            "progress: 452/3444.0\n",
            "progress: 453/3444.0\n",
            "progress: 454/3444.0\n",
            "progress: 455/3444.0\n",
            "progress: 456/3444.0\n",
            "progress: 457/3444.0\n",
            "progress: 458/3444.0\n",
            "progress: 459/3444.0\n",
            "progress: 460/3444.0\n",
            "progress: 461/3444.0\n",
            "progress: 462/3444.0\n",
            "progress: 463/3444.0\n",
            "progress: 464/3444.0\n",
            "progress: 465/3444.0\n",
            "progress: 466/3444.0\n",
            "progress: 467/3444.0\n",
            "progress: 468/3444.0\n",
            "progress: 469/3444.0\n",
            "progress: 470/3444.0\n",
            "progress: 471/3444.0\n",
            "progress: 472/3444.0\n",
            "progress: 473/3444.0\n",
            "progress: 474/3444.0\n",
            "progress: 475/3444.0\n",
            "progress: 476/3444.0\n",
            "progress: 477/3444.0\n",
            "progress: 478/3444.0\n",
            "progress: 479/3444.0\n",
            "progress: 480/3444.0\n",
            "progress: 481/3444.0\n",
            "progress: 482/3444.0\n",
            "progress: 483/3444.0\n",
            "progress: 484/3444.0\n",
            "progress: 485/3444.0\n",
            "progress: 486/3444.0\n",
            "progress: 487/3444.0\n",
            "progress: 488/3444.0\n",
            "progress: 489/3444.0\n",
            "progress: 490/3444.0\n",
            "progress: 491/3444.0\n",
            "progress: 492/3444.0\n",
            "progress: 493/3444.0\n",
            "progress: 494/3444.0\n",
            "progress: 495/3444.0\n",
            "progress: 496/3444.0\n",
            "progress: 497/3444.0\n",
            "progress: 498/3444.0\n",
            "progress: 499/3444.0\n",
            "progress: 500/3444.0\n",
            "progress: 501/3444.0\n",
            "progress: 502/3444.0\n",
            "progress: 503/3444.0\n",
            "progress: 504/3444.0\n",
            "progress: 505/3444.0\n",
            "progress: 506/3444.0\n",
            "progress: 507/3444.0\n",
            "progress: 508/3444.0\n",
            "progress: 509/3444.0\n",
            "progress: 510/3444.0\n",
            "progress: 511/3444.0\n",
            "progress: 512/3444.0\n",
            "progress: 513/3444.0\n",
            "progress: 514/3444.0\n",
            "progress: 515/3444.0\n",
            "progress: 516/3444.0\n",
            "progress: 517/3444.0\n",
            "progress: 518/3444.0\n",
            "progress: 519/3444.0\n",
            "progress: 520/3444.0\n",
            "progress: 521/3444.0\n",
            "progress: 522/3444.0\n",
            "progress: 523/3444.0\n",
            "progress: 524/3444.0\n",
            "progress: 525/3444.0\n",
            "progress: 526/3444.0\n",
            "progress: 527/3444.0\n",
            "progress: 528/3444.0\n",
            "progress: 529/3444.0\n",
            "progress: 530/3444.0\n",
            "progress: 531/3444.0\n",
            "progress: 532/3444.0\n",
            "progress: 533/3444.0\n",
            "progress: 534/3444.0\n",
            "progress: 535/3444.0\n",
            "progress: 536/3444.0\n",
            "progress: 537/3444.0\n",
            "progress: 538/3444.0\n",
            "progress: 539/3444.0\n",
            "progress: 540/3444.0\n",
            "progress: 541/3444.0\n",
            "progress: 542/3444.0\n",
            "progress: 543/3444.0\n",
            "progress: 544/3444.0\n",
            "progress: 545/3444.0\n",
            "progress: 546/3444.0\n",
            "progress: 547/3444.0\n",
            "progress: 548/3444.0\n",
            "progress: 549/3444.0\n",
            "progress: 550/3444.0\n",
            "progress: 551/3444.0\n",
            "progress: 552/3444.0\n",
            "progress: 553/3444.0\n",
            "progress: 554/3444.0\n",
            "progress: 555/3444.0\n",
            "progress: 556/3444.0\n",
            "progress: 557/3444.0\n",
            "progress: 558/3444.0\n",
            "progress: 559/3444.0\n",
            "progress: 560/3444.0\n",
            "progress: 561/3444.0\n",
            "progress: 562/3444.0\n",
            "progress: 563/3444.0\n",
            "progress: 564/3444.0\n",
            "progress: 565/3444.0\n",
            "progress: 566/3444.0\n",
            "progress: 567/3444.0\n",
            "progress: 568/3444.0\n",
            "progress: 569/3444.0\n",
            "progress: 570/3444.0\n",
            "progress: 571/3444.0\n",
            "progress: 572/3444.0\n",
            "progress: 573/3444.0\n",
            "progress: 574/3444.0\n",
            "progress: 575/3444.0\n",
            "progress: 576/3444.0\n",
            "progress: 577/3444.0\n",
            "progress: 578/3444.0\n",
            "progress: 579/3444.0\n",
            "progress: 580/3444.0\n",
            "progress: 581/3444.0\n",
            "progress: 582/3444.0\n",
            "progress: 583/3444.0\n",
            "progress: 584/3444.0\n",
            "progress: 585/3444.0\n",
            "progress: 586/3444.0\n",
            "progress: 587/3444.0\n",
            "progress: 588/3444.0\n",
            "progress: 589/3444.0\n",
            "progress: 590/3444.0\n",
            "progress: 591/3444.0\n",
            "progress: 592/3444.0\n",
            "progress: 593/3444.0\n",
            "progress: 594/3444.0\n",
            "progress: 595/3444.0\n",
            "progress: 596/3444.0\n",
            "progress: 597/3444.0\n",
            "progress: 598/3444.0\n",
            "progress: 599/3444.0\n",
            "progress: 600/3444.0\n",
            "progress: 601/3444.0\n",
            "progress: 602/3444.0\n",
            "progress: 603/3444.0\n",
            "progress: 604/3444.0\n",
            "progress: 605/3444.0\n",
            "progress: 606/3444.0\n",
            "progress: 607/3444.0\n",
            "progress: 608/3444.0\n",
            "progress: 609/3444.0\n",
            "progress: 610/3444.0\n",
            "progress: 611/3444.0\n",
            "progress: 612/3444.0\n",
            "progress: 613/3444.0\n",
            "progress: 614/3444.0\n",
            "progress: 615/3444.0\n",
            "progress: 616/3444.0\n",
            "progress: 617/3444.0\n",
            "progress: 618/3444.0\n",
            "progress: 619/3444.0\n",
            "progress: 620/3444.0\n",
            "progress: 621/3444.0\n",
            "progress: 622/3444.0\n",
            "progress: 623/3444.0\n",
            "progress: 624/3444.0\n",
            "progress: 625/3444.0\n",
            "progress: 626/3444.0\n",
            "progress: 627/3444.0\n",
            "progress: 628/3444.0\n",
            "progress: 629/3444.0\n",
            "progress: 630/3444.0\n",
            "progress: 631/3444.0\n",
            "progress: 632/3444.0\n",
            "progress: 633/3444.0\n",
            "progress: 634/3444.0\n",
            "progress: 635/3444.0\n",
            "progress: 636/3444.0\n",
            "progress: 637/3444.0\n",
            "progress: 638/3444.0\n",
            "progress: 639/3444.0\n",
            "progress: 640/3444.0\n",
            "progress: 641/3444.0\n",
            "progress: 642/3444.0\n",
            "progress: 643/3444.0\n",
            "progress: 644/3444.0\n",
            "progress: 645/3444.0\n",
            "progress: 646/3444.0\n",
            "progress: 647/3444.0\n",
            "progress: 648/3444.0\n",
            "progress: 649/3444.0\n",
            "progress: 650/3444.0\n",
            "progress: 651/3444.0\n",
            "progress: 652/3444.0\n",
            "progress: 653/3444.0\n",
            "progress: 654/3444.0\n",
            "progress: 655/3444.0\n",
            "progress: 656/3444.0\n",
            "progress: 657/3444.0\n",
            "progress: 658/3444.0\n",
            "progress: 659/3444.0\n",
            "progress: 660/3444.0\n",
            "progress: 661/3444.0\n",
            "progress: 662/3444.0\n",
            "progress: 663/3444.0\n",
            "progress: 664/3444.0\n",
            "progress: 665/3444.0\n",
            "progress: 666/3444.0\n",
            "progress: 667/3444.0\n",
            "progress: 668/3444.0\n",
            "progress: 669/3444.0\n",
            "progress: 670/3444.0\n",
            "progress: 671/3444.0\n",
            "progress: 672/3444.0\n",
            "progress: 673/3444.0\n",
            "progress: 674/3444.0\n",
            "progress: 675/3444.0\n",
            "progress: 676/3444.0\n",
            "progress: 677/3444.0\n",
            "progress: 678/3444.0\n",
            "progress: 679/3444.0\n",
            "progress: 680/3444.0\n",
            "progress: 681/3444.0\n",
            "progress: 682/3444.0\n",
            "progress: 683/3444.0\n",
            "progress: 684/3444.0\n",
            "progress: 685/3444.0\n",
            "progress: 686/3444.0\n",
            "progress: 687/3444.0\n",
            "progress: 688/3444.0\n",
            "progress: 689/3444.0\n",
            "progress: 690/3444.0\n",
            "progress: 691/3444.0\n",
            "progress: 692/3444.0\n",
            "progress: 693/3444.0\n",
            "progress: 694/3444.0\n",
            "progress: 695/3444.0\n",
            "progress: 696/3444.0\n",
            "progress: 697/3444.0\n",
            "progress: 698/3444.0\n",
            "progress: 699/3444.0\n",
            "progress: 700/3444.0\n",
            "progress: 701/3444.0\n",
            "progress: 702/3444.0\n",
            "progress: 703/3444.0\n",
            "progress: 704/3444.0\n",
            "progress: 705/3444.0\n",
            "progress: 706/3444.0\n",
            "progress: 707/3444.0\n",
            "progress: 708/3444.0\n",
            "progress: 709/3444.0\n",
            "progress: 710/3444.0\n",
            "progress: 711/3444.0\n",
            "progress: 712/3444.0\n",
            "progress: 713/3444.0\n",
            "progress: 714/3444.0\n",
            "progress: 715/3444.0\n",
            "progress: 716/3444.0\n",
            "progress: 717/3444.0\n",
            "progress: 718/3444.0\n",
            "progress: 719/3444.0\n",
            "progress: 720/3444.0\n",
            "progress: 721/3444.0\n",
            "progress: 722/3444.0\n",
            "progress: 723/3444.0\n",
            "progress: 724/3444.0\n",
            "progress: 725/3444.0\n",
            "progress: 726/3444.0\n",
            "progress: 727/3444.0\n",
            "progress: 728/3444.0\n",
            "progress: 729/3444.0\n",
            "progress: 730/3444.0\n",
            "progress: 731/3444.0\n",
            "progress: 732/3444.0\n",
            "progress: 733/3444.0\n",
            "progress: 734/3444.0\n",
            "progress: 735/3444.0\n",
            "progress: 736/3444.0\n",
            "progress: 737/3444.0\n",
            "progress: 738/3444.0\n",
            "progress: 739/3444.0\n",
            "progress: 740/3444.0\n",
            "progress: 741/3444.0\n",
            "progress: 742/3444.0\n",
            "progress: 743/3444.0\n",
            "progress: 744/3444.0\n",
            "progress: 745/3444.0\n",
            "progress: 746/3444.0\n",
            "progress: 747/3444.0\n",
            "progress: 748/3444.0\n",
            "progress: 749/3444.0\n",
            "progress: 750/3444.0\n",
            "progress: 751/3444.0\n",
            "progress: 752/3444.0\n",
            "progress: 753/3444.0\n",
            "progress: 754/3444.0\n",
            "progress: 755/3444.0\n",
            "progress: 756/3444.0\n",
            "progress: 757/3444.0\n",
            "progress: 758/3444.0\n",
            "progress: 759/3444.0\n",
            "progress: 760/3444.0\n",
            "progress: 761/3444.0\n",
            "progress: 762/3444.0\n",
            "progress: 763/3444.0\n",
            "progress: 764/3444.0\n",
            "progress: 765/3444.0\n",
            "progress: 766/3444.0\n",
            "progress: 767/3444.0\n",
            "progress: 768/3444.0\n",
            "progress: 769/3444.0\n",
            "progress: 770/3444.0\n",
            "progress: 771/3444.0\n",
            "progress: 772/3444.0\n",
            "progress: 773/3444.0\n",
            "progress: 774/3444.0\n",
            "progress: 775/3444.0\n",
            "progress: 776/3444.0\n",
            "progress: 777/3444.0\n",
            "progress: 778/3444.0\n",
            "progress: 779/3444.0\n",
            "progress: 780/3444.0\n",
            "progress: 781/3444.0\n",
            "progress: 782/3444.0\n",
            "progress: 783/3444.0\n",
            "progress: 784/3444.0\n",
            "progress: 785/3444.0\n",
            "progress: 786/3444.0\n",
            "progress: 787/3444.0\n",
            "progress: 788/3444.0\n",
            "progress: 789/3444.0\n",
            "progress: 790/3444.0\n",
            "progress: 791/3444.0\n",
            "progress: 792/3444.0\n",
            "progress: 793/3444.0\n",
            "progress: 794/3444.0\n",
            "progress: 795/3444.0\n",
            "progress: 796/3444.0\n",
            "progress: 797/3444.0\n",
            "progress: 798/3444.0\n",
            "progress: 799/3444.0\n",
            "progress: 800/3444.0\n",
            "progress: 801/3444.0\n",
            "progress: 802/3444.0\n",
            "progress: 803/3444.0\n",
            "progress: 804/3444.0\n",
            "progress: 805/3444.0\n",
            "progress: 806/3444.0\n",
            "progress: 807/3444.0\n",
            "progress: 808/3444.0\n",
            "progress: 809/3444.0\n",
            "progress: 810/3444.0\n",
            "progress: 811/3444.0\n",
            "progress: 812/3444.0\n",
            "progress: 813/3444.0\n",
            "progress: 814/3444.0\n",
            "progress: 815/3444.0\n",
            "progress: 816/3444.0\n",
            "progress: 817/3444.0\n",
            "progress: 818/3444.0\n",
            "progress: 819/3444.0\n",
            "progress: 820/3444.0\n",
            "progress: 821/3444.0\n",
            "progress: 822/3444.0\n",
            "progress: 823/3444.0\n",
            "progress: 824/3444.0\n",
            "progress: 825/3444.0\n",
            "progress: 826/3444.0\n",
            "progress: 827/3444.0\n",
            "progress: 828/3444.0\n",
            "progress: 829/3444.0\n",
            "progress: 830/3444.0\n",
            "progress: 831/3444.0\n",
            "progress: 832/3444.0\n",
            "progress: 833/3444.0\n",
            "progress: 834/3444.0\n",
            "progress: 835/3444.0\n",
            "progress: 836/3444.0\n",
            "progress: 837/3444.0\n",
            "progress: 838/3444.0\n",
            "progress: 839/3444.0\n",
            "progress: 840/3444.0\n",
            "progress: 841/3444.0\n",
            "progress: 842/3444.0\n",
            "progress: 843/3444.0\n",
            "progress: 844/3444.0\n",
            "progress: 845/3444.0\n",
            "progress: 846/3444.0\n",
            "progress: 847/3444.0\n",
            "progress: 848/3444.0\n",
            "progress: 849/3444.0\n",
            "progress: 850/3444.0\n",
            "progress: 851/3444.0\n",
            "progress: 852/3444.0\n",
            "progress: 853/3444.0\n",
            "progress: 854/3444.0\n",
            "progress: 855/3444.0\n",
            "progress: 856/3444.0\n",
            "progress: 857/3444.0\n",
            "progress: 858/3444.0\n",
            "progress: 859/3444.0\n",
            "progress: 860/3444.0\n",
            "progress: 861/3444.0\n",
            "progress: 862/3444.0\n",
            "progress: 863/3444.0\n",
            "progress: 864/3444.0\n",
            "progress: 865/3444.0\n",
            "progress: 866/3444.0\n",
            "progress: 867/3444.0\n",
            "progress: 868/3444.0\n",
            "progress: 869/3444.0\n",
            "progress: 870/3444.0\n",
            "progress: 871/3444.0\n",
            "progress: 872/3444.0\n",
            "progress: 873/3444.0\n",
            "progress: 874/3444.0\n",
            "progress: 875/3444.0\n",
            "progress: 876/3444.0\n",
            "progress: 877/3444.0\n",
            "progress: 878/3444.0\n",
            "progress: 879/3444.0\n",
            "progress: 880/3444.0\n",
            "progress: 881/3444.0\n",
            "progress: 882/3444.0\n",
            "progress: 883/3444.0\n",
            "progress: 884/3444.0\n",
            "progress: 885/3444.0\n",
            "progress: 886/3444.0\n",
            "progress: 887/3444.0\n",
            "progress: 888/3444.0\n",
            "progress: 889/3444.0\n",
            "progress: 890/3444.0\n",
            "progress: 891/3444.0\n",
            "progress: 892/3444.0\n",
            "progress: 893/3444.0\n",
            "progress: 894/3444.0\n",
            "progress: 895/3444.0\n",
            "progress: 896/3444.0\n",
            "progress: 897/3444.0\n",
            "progress: 898/3444.0\n",
            "progress: 899/3444.0\n",
            "progress: 900/3444.0\n",
            "progress: 901/3444.0\n",
            "progress: 902/3444.0\n",
            "progress: 903/3444.0\n",
            "progress: 904/3444.0\n",
            "progress: 905/3444.0\n",
            "progress: 906/3444.0\n",
            "progress: 907/3444.0\n",
            "progress: 908/3444.0\n",
            "progress: 909/3444.0\n",
            "progress: 910/3444.0\n",
            "progress: 911/3444.0\n",
            "progress: 912/3444.0\n",
            "progress: 913/3444.0\n",
            "progress: 914/3444.0\n",
            "progress: 915/3444.0\n",
            "progress: 916/3444.0\n",
            "progress: 917/3444.0\n",
            "progress: 918/3444.0\n",
            "progress: 919/3444.0\n",
            "progress: 920/3444.0\n",
            "progress: 921/3444.0\n",
            "progress: 922/3444.0\n",
            "progress: 923/3444.0\n",
            "progress: 924/3444.0\n",
            "progress: 925/3444.0\n",
            "progress: 926/3444.0\n",
            "progress: 927/3444.0\n",
            "progress: 928/3444.0\n",
            "progress: 929/3444.0\n",
            "progress: 930/3444.0\n",
            "progress: 931/3444.0\n",
            "progress: 932/3444.0\n",
            "progress: 933/3444.0\n",
            "progress: 934/3444.0\n",
            "progress: 935/3444.0\n",
            "progress: 936/3444.0\n",
            "progress: 937/3444.0\n",
            "progress: 938/3444.0\n",
            "progress: 939/3444.0\n",
            "progress: 940/3444.0\n",
            "progress: 941/3444.0\n",
            "progress: 942/3444.0\n",
            "progress: 943/3444.0\n",
            "progress: 944/3444.0\n",
            "progress: 945/3444.0\n",
            "progress: 946/3444.0\n",
            "progress: 947/3444.0\n",
            "progress: 948/3444.0\n",
            "progress: 949/3444.0\n",
            "progress: 950/3444.0\n",
            "progress: 951/3444.0\n",
            "progress: 952/3444.0\n",
            "progress: 953/3444.0\n",
            "progress: 954/3444.0\n",
            "progress: 955/3444.0\n",
            "progress: 956/3444.0\n",
            "progress: 957/3444.0\n",
            "progress: 958/3444.0\n",
            "progress: 959/3444.0\n",
            "progress: 960/3444.0\n",
            "progress: 961/3444.0\n",
            "progress: 962/3444.0\n",
            "progress: 963/3444.0\n",
            "progress: 964/3444.0\n",
            "progress: 965/3444.0\n",
            "progress: 966/3444.0\n",
            "progress: 967/3444.0\n",
            "progress: 968/3444.0\n",
            "progress: 969/3444.0\n",
            "progress: 970/3444.0\n",
            "progress: 971/3444.0\n",
            "progress: 972/3444.0\n",
            "progress: 973/3444.0\n",
            "progress: 974/3444.0\n",
            "progress: 975/3444.0\n",
            "progress: 976/3444.0\n",
            "progress: 977/3444.0\n",
            "progress: 978/3444.0\n",
            "progress: 979/3444.0\n",
            "progress: 980/3444.0\n",
            "progress: 981/3444.0\n",
            "progress: 982/3444.0\n",
            "progress: 983/3444.0\n",
            "progress: 984/3444.0\n",
            "progress: 985/3444.0\n",
            "progress: 986/3444.0\n",
            "progress: 987/3444.0\n",
            "progress: 988/3444.0\n",
            "progress: 989/3444.0\n",
            "progress: 990/3444.0\n",
            "progress: 991/3444.0\n",
            "progress: 992/3444.0\n",
            "progress: 993/3444.0\n",
            "progress: 994/3444.0\n",
            "progress: 995/3444.0\n",
            "progress: 996/3444.0\n",
            "progress: 997/3444.0\n",
            "progress: 998/3444.0\n",
            "progress: 999/3444.0\n",
            "progress: 1000/3444.0\n",
            "progress: 1001/3444.0\n",
            "progress: 1002/3444.0\n",
            "progress: 1003/3444.0\n",
            "progress: 1004/3444.0\n",
            "progress: 1005/3444.0\n",
            "progress: 1006/3444.0\n",
            "progress: 1007/3444.0\n",
            "progress: 1008/3444.0\n",
            "progress: 1009/3444.0\n",
            "progress: 1010/3444.0\n",
            "progress: 1011/3444.0\n",
            "progress: 1012/3444.0\n",
            "progress: 1013/3444.0\n",
            "progress: 1014/3444.0\n",
            "progress: 1015/3444.0\n",
            "progress: 1016/3444.0\n",
            "progress: 1017/3444.0\n",
            "progress: 1018/3444.0\n",
            "progress: 1019/3444.0\n",
            "progress: 1020/3444.0\n",
            "progress: 1021/3444.0\n",
            "progress: 1022/3444.0\n",
            "progress: 1023/3444.0\n",
            "progress: 1024/3444.0\n",
            "progress: 1025/3444.0\n",
            "progress: 1026/3444.0\n",
            "progress: 1027/3444.0\n",
            "progress: 1028/3444.0\n",
            "progress: 1029/3444.0\n",
            "progress: 1030/3444.0\n",
            "progress: 1031/3444.0\n",
            "progress: 1032/3444.0\n",
            "progress: 1033/3444.0\n",
            "progress: 1034/3444.0\n",
            "progress: 1035/3444.0\n",
            "progress: 1036/3444.0\n",
            "progress: 1037/3444.0\n",
            "progress: 1038/3444.0\n",
            "progress: 1039/3444.0\n",
            "progress: 1040/3444.0\n",
            "progress: 1041/3444.0\n",
            "progress: 1042/3444.0\n",
            "progress: 1043/3444.0\n",
            "progress: 1044/3444.0\n",
            "progress: 1045/3444.0\n",
            "progress: 1046/3444.0\n",
            "progress: 1047/3444.0\n",
            "progress: 1048/3444.0\n",
            "progress: 1049/3444.0\n",
            "progress: 1050/3444.0\n",
            "progress: 1051/3444.0\n",
            "progress: 1052/3444.0\n",
            "progress: 1053/3444.0\n",
            "progress: 1054/3444.0\n",
            "progress: 1055/3444.0\n",
            "progress: 1056/3444.0\n",
            "progress: 1057/3444.0\n",
            "progress: 1058/3444.0\n",
            "progress: 1059/3444.0\n",
            "progress: 1060/3444.0\n",
            "progress: 1061/3444.0\n",
            "progress: 1062/3444.0\n",
            "progress: 1063/3444.0\n",
            "progress: 1064/3444.0\n",
            "progress: 1065/3444.0\n",
            "progress: 1066/3444.0\n",
            "progress: 1067/3444.0\n",
            "progress: 1068/3444.0\n",
            "progress: 1069/3444.0\n",
            "progress: 1070/3444.0\n",
            "progress: 1071/3444.0\n",
            "progress: 1072/3444.0\n",
            "progress: 1073/3444.0\n",
            "progress: 1074/3444.0\n",
            "progress: 1075/3444.0\n",
            "progress: 1076/3444.0\n",
            "progress: 1077/3444.0\n",
            "progress: 1078/3444.0\n",
            "progress: 1079/3444.0\n",
            "progress: 1080/3444.0\n",
            "progress: 1081/3444.0\n",
            "progress: 1082/3444.0\n",
            "progress: 1083/3444.0\n",
            "progress: 1084/3444.0\n",
            "progress: 1085/3444.0\n",
            "progress: 1086/3444.0\n",
            "progress: 1087/3444.0\n",
            "progress: 1088/3444.0\n",
            "progress: 1089/3444.0\n",
            "progress: 1090/3444.0\n",
            "progress: 1091/3444.0\n",
            "progress: 1092/3444.0\n",
            "progress: 1093/3444.0\n",
            "progress: 1094/3444.0\n",
            "progress: 1095/3444.0\n",
            "progress: 1096/3444.0\n",
            "progress: 1097/3444.0\n",
            "progress: 1098/3444.0\n",
            "progress: 1099/3444.0\n",
            "progress: 1100/3444.0\n",
            "progress: 1101/3444.0\n",
            "progress: 1102/3444.0\n",
            "progress: 1103/3444.0\n",
            "progress: 1104/3444.0\n",
            "progress: 1105/3444.0\n",
            "progress: 1106/3444.0\n",
            "progress: 1107/3444.0\n",
            "progress: 1108/3444.0\n",
            "progress: 1109/3444.0\n",
            "progress: 1110/3444.0\n",
            "progress: 1111/3444.0\n",
            "progress: 1112/3444.0\n",
            "progress: 1113/3444.0\n",
            "progress: 1114/3444.0\n",
            "progress: 1115/3444.0\n",
            "progress: 1116/3444.0\n",
            "progress: 1117/3444.0\n",
            "progress: 1118/3444.0\n",
            "progress: 1119/3444.0\n",
            "progress: 1120/3444.0\n",
            "progress: 1121/3444.0\n",
            "progress: 1122/3444.0\n",
            "progress: 1123/3444.0\n",
            "progress: 1124/3444.0\n",
            "progress: 1125/3444.0\n",
            "progress: 1126/3444.0\n",
            "progress: 1127/3444.0\n",
            "progress: 1128/3444.0\n",
            "progress: 1129/3444.0\n",
            "progress: 1130/3444.0\n",
            "progress: 1131/3444.0\n",
            "progress: 1132/3444.0\n",
            "progress: 1133/3444.0\n",
            "progress: 1134/3444.0\n",
            "progress: 1135/3444.0\n",
            "progress: 1136/3444.0\n",
            "progress: 1137/3444.0\n",
            "progress: 1138/3444.0\n",
            "progress: 1139/3444.0\n",
            "progress: 1140/3444.0\n",
            "progress: 1141/3444.0\n",
            "progress: 1142/3444.0\n",
            "progress: 1143/3444.0\n",
            "progress: 1144/3444.0\n",
            "progress: 1145/3444.0\n",
            "progress: 1146/3444.0\n",
            "progress: 1147/3444.0\n",
            "progress: 1148/3444.0\n",
            "progress: 1149/3444.0\n",
            "progress: 1150/3444.0\n",
            "progress: 1151/3444.0\n",
            "progress: 1152/3444.0\n",
            "progress: 1153/3444.0\n",
            "progress: 1154/3444.0\n",
            "progress: 1155/3444.0\n",
            "progress: 1156/3444.0\n",
            "progress: 1157/3444.0\n",
            "progress: 1158/3444.0\n",
            "progress: 1159/3444.0\n",
            "progress: 1160/3444.0\n",
            "progress: 1161/3444.0\n",
            "progress: 1162/3444.0\n",
            "progress: 1163/3444.0\n",
            "progress: 1164/3444.0\n",
            "progress: 1165/3444.0\n",
            "progress: 1166/3444.0\n",
            "progress: 1167/3444.0\n",
            "progress: 1168/3444.0\n",
            "progress: 1169/3444.0\n",
            "progress: 1170/3444.0\n",
            "progress: 1171/3444.0\n",
            "progress: 1172/3444.0\n",
            "progress: 1173/3444.0\n",
            "progress: 1174/3444.0\n",
            "progress: 1175/3444.0\n",
            "progress: 1176/3444.0\n",
            "progress: 1177/3444.0\n",
            "progress: 1178/3444.0\n",
            "progress: 1179/3444.0\n",
            "progress: 1180/3444.0\n",
            "progress: 1181/3444.0\n",
            "progress: 1182/3444.0\n",
            "progress: 1183/3444.0\n",
            "progress: 1184/3444.0\n",
            "progress: 1185/3444.0\n",
            "progress: 1186/3444.0\n",
            "progress: 1187/3444.0\n",
            "progress: 1188/3444.0\n",
            "progress: 1189/3444.0\n",
            "progress: 1190/3444.0\n",
            "progress: 1191/3444.0\n",
            "progress: 1192/3444.0\n",
            "progress: 1193/3444.0\n",
            "progress: 1194/3444.0\n",
            "progress: 1195/3444.0\n",
            "progress: 1196/3444.0\n",
            "progress: 1197/3444.0\n",
            "progress: 1198/3444.0\n",
            "progress: 1199/3444.0\n",
            "progress: 1200/3444.0\n",
            "progress: 1201/3444.0\n",
            "progress: 1202/3444.0\n",
            "progress: 1203/3444.0\n",
            "progress: 1204/3444.0\n",
            "progress: 1205/3444.0\n",
            "progress: 1206/3444.0\n",
            "progress: 1207/3444.0\n",
            "progress: 1208/3444.0\n",
            "progress: 1209/3444.0\n",
            "progress: 1210/3444.0\n",
            "progress: 1211/3444.0\n",
            "progress: 1212/3444.0\n",
            "progress: 1213/3444.0\n",
            "progress: 1214/3444.0\n",
            "progress: 1215/3444.0\n",
            "progress: 1216/3444.0\n",
            "progress: 1217/3444.0\n",
            "progress: 1218/3444.0\n",
            "progress: 1219/3444.0\n",
            "progress: 1220/3444.0\n",
            "progress: 1221/3444.0\n",
            "progress: 1222/3444.0\n",
            "progress: 1223/3444.0\n",
            "progress: 1224/3444.0\n",
            "progress: 1225/3444.0\n",
            "progress: 1226/3444.0\n",
            "progress: 1227/3444.0\n",
            "progress: 1228/3444.0\n",
            "progress: 1229/3444.0\n",
            "progress: 1230/3444.0\n",
            "progress: 1231/3444.0\n",
            "progress: 1232/3444.0\n",
            "progress: 1233/3444.0\n",
            "progress: 1234/3444.0\n",
            "progress: 1235/3444.0\n",
            "progress: 1236/3444.0\n",
            "progress: 1237/3444.0\n",
            "progress: 1238/3444.0\n",
            "progress: 1239/3444.0\n",
            "progress: 1240/3444.0\n",
            "progress: 1241/3444.0\n",
            "progress: 1242/3444.0\n",
            "progress: 1243/3444.0\n",
            "progress: 1244/3444.0\n",
            "progress: 1245/3444.0\n",
            "progress: 1246/3444.0\n",
            "progress: 1247/3444.0\n",
            "progress: 1248/3444.0\n",
            "progress: 1249/3444.0\n",
            "progress: 1250/3444.0\n",
            "progress: 1251/3444.0\n",
            "progress: 1252/3444.0\n",
            "progress: 1253/3444.0\n",
            "progress: 1254/3444.0\n",
            "progress: 1255/3444.0\n",
            "progress: 1256/3444.0\n",
            "progress: 1257/3444.0\n",
            "progress: 1258/3444.0\n",
            "progress: 1259/3444.0\n",
            "progress: 1260/3444.0\n",
            "progress: 1261/3444.0\n",
            "progress: 1262/3444.0\n",
            "progress: 1263/3444.0\n",
            "progress: 1264/3444.0\n",
            "progress: 1265/3444.0\n",
            "progress: 1266/3444.0\n",
            "progress: 1267/3444.0\n",
            "progress: 1268/3444.0\n",
            "progress: 1269/3444.0\n",
            "progress: 1270/3444.0\n",
            "progress: 1271/3444.0\n",
            "progress: 1272/3444.0\n",
            "progress: 1273/3444.0\n",
            "progress: 1274/3444.0\n",
            "progress: 1275/3444.0\n",
            "progress: 1276/3444.0\n",
            "progress: 1277/3444.0\n",
            "progress: 1278/3444.0\n",
            "progress: 1279/3444.0\n",
            "progress: 1280/3444.0\n",
            "progress: 1281/3444.0\n",
            "progress: 1282/3444.0\n",
            "progress: 1283/3444.0\n",
            "progress: 1284/3444.0\n",
            "progress: 1285/3444.0\n",
            "progress: 1286/3444.0\n",
            "progress: 1287/3444.0\n",
            "progress: 1288/3444.0\n",
            "progress: 1289/3444.0\n",
            "progress: 1290/3444.0\n",
            "progress: 1291/3444.0\n",
            "progress: 1292/3444.0\n",
            "progress: 1293/3444.0\n",
            "progress: 1294/3444.0\n",
            "progress: 1295/3444.0\n",
            "progress: 1296/3444.0\n",
            "progress: 1297/3444.0\n",
            "progress: 1298/3444.0\n",
            "progress: 1299/3444.0\n",
            "progress: 1300/3444.0\n",
            "progress: 1301/3444.0\n",
            "progress: 1302/3444.0\n",
            "progress: 1303/3444.0\n",
            "progress: 1304/3444.0\n",
            "progress: 1305/3444.0\n",
            "progress: 1306/3444.0\n",
            "progress: 1307/3444.0\n",
            "progress: 1308/3444.0\n",
            "progress: 1309/3444.0\n",
            "progress: 1310/3444.0\n",
            "progress: 1311/3444.0\n",
            "progress: 1312/3444.0\n",
            "progress: 1313/3444.0\n",
            "progress: 1314/3444.0\n",
            "progress: 1315/3444.0\n",
            "progress: 1316/3444.0\n",
            "progress: 1317/3444.0\n",
            "progress: 1318/3444.0\n",
            "progress: 1319/3444.0\n",
            "progress: 1320/3444.0\n",
            "progress: 1321/3444.0\n",
            "progress: 1322/3444.0\n",
            "progress: 1323/3444.0\n",
            "progress: 1324/3444.0\n",
            "progress: 1325/3444.0\n",
            "progress: 1326/3444.0\n",
            "progress: 1327/3444.0\n",
            "progress: 1328/3444.0\n",
            "progress: 1329/3444.0\n",
            "progress: 1330/3444.0\n",
            "progress: 1331/3444.0\n",
            "progress: 1332/3444.0\n",
            "progress: 1333/3444.0\n",
            "progress: 1334/3444.0\n",
            "progress: 1335/3444.0\n",
            "progress: 1336/3444.0\n",
            "progress: 1337/3444.0\n",
            "progress: 1338/3444.0\n",
            "progress: 1339/3444.0\n",
            "progress: 1340/3444.0\n",
            "progress: 1341/3444.0\n",
            "progress: 1342/3444.0\n",
            "progress: 1343/3444.0\n",
            "progress: 1344/3444.0\n",
            "progress: 1345/3444.0\n",
            "progress: 1346/3444.0\n",
            "progress: 1347/3444.0\n",
            "progress: 1348/3444.0\n",
            "progress: 1349/3444.0\n",
            "progress: 1350/3444.0\n",
            "progress: 1351/3444.0\n",
            "progress: 1352/3444.0\n",
            "progress: 1353/3444.0\n",
            "progress: 1354/3444.0\n",
            "progress: 1355/3444.0\n",
            "progress: 1356/3444.0\n",
            "progress: 1357/3444.0\n",
            "progress: 1358/3444.0\n",
            "progress: 1359/3444.0\n",
            "progress: 1360/3444.0\n",
            "progress: 1361/3444.0\n",
            "progress: 1362/3444.0\n",
            "progress: 1363/3444.0\n",
            "progress: 1364/3444.0\n",
            "progress: 1365/3444.0\n",
            "progress: 1366/3444.0\n",
            "progress: 1367/3444.0\n",
            "progress: 1368/3444.0\n",
            "progress: 1369/3444.0\n",
            "progress: 1370/3444.0\n",
            "progress: 1371/3444.0\n",
            "progress: 1372/3444.0\n",
            "progress: 1373/3444.0\n",
            "progress: 1374/3444.0\n",
            "progress: 1375/3444.0\n",
            "progress: 1376/3444.0\n",
            "progress: 1377/3444.0\n",
            "progress: 1378/3444.0\n",
            "progress: 1379/3444.0\n",
            "progress: 1380/3444.0\n",
            "progress: 1381/3444.0\n",
            "progress: 1382/3444.0\n",
            "progress: 1383/3444.0\n",
            "progress: 1384/3444.0\n",
            "progress: 1385/3444.0\n",
            "progress: 1386/3444.0\n",
            "progress: 1387/3444.0\n",
            "progress: 1388/3444.0\n",
            "progress: 1389/3444.0\n",
            "progress: 1390/3444.0\n",
            "progress: 1391/3444.0\n",
            "progress: 1392/3444.0\n",
            "progress: 1393/3444.0\n",
            "progress: 1394/3444.0\n",
            "progress: 1395/3444.0\n",
            "progress: 1396/3444.0\n",
            "progress: 1397/3444.0\n",
            "progress: 1398/3444.0\n",
            "progress: 1399/3444.0\n",
            "progress: 1400/3444.0\n",
            "progress: 1401/3444.0\n",
            "progress: 1402/3444.0\n",
            "progress: 1403/3444.0\n",
            "progress: 1404/3444.0\n",
            "progress: 1405/3444.0\n",
            "progress: 1406/3444.0\n",
            "progress: 1407/3444.0\n",
            "progress: 1408/3444.0\n",
            "progress: 1409/3444.0\n",
            "progress: 1410/3444.0\n",
            "progress: 1411/3444.0\n",
            "progress: 1412/3444.0\n",
            "progress: 1413/3444.0\n",
            "progress: 1414/3444.0\n",
            "progress: 1415/3444.0\n",
            "progress: 1416/3444.0\n",
            "progress: 1417/3444.0\n",
            "progress: 1418/3444.0\n",
            "progress: 1419/3444.0\n",
            "progress: 1420/3444.0\n",
            "progress: 1421/3444.0\n",
            "progress: 1422/3444.0\n",
            "progress: 1423/3444.0\n",
            "progress: 1424/3444.0\n",
            "progress: 1425/3444.0\n",
            "progress: 1426/3444.0\n",
            "progress: 1427/3444.0\n",
            "progress: 1428/3444.0\n",
            "progress: 1429/3444.0\n",
            "progress: 1430/3444.0\n",
            "progress: 1431/3444.0\n",
            "progress: 1432/3444.0\n",
            "progress: 1433/3444.0\n",
            "progress: 1434/3444.0\n",
            "progress: 1435/3444.0\n",
            "progress: 1436/3444.0\n",
            "progress: 1437/3444.0\n",
            "progress: 1438/3444.0\n",
            "progress: 1439/3444.0\n",
            "progress: 1440/3444.0\n",
            "progress: 1441/3444.0\n",
            "progress: 1442/3444.0\n",
            "progress: 1443/3444.0\n",
            "progress: 1444/3444.0\n",
            "progress: 1445/3444.0\n",
            "progress: 1446/3444.0\n",
            "progress: 1447/3444.0\n",
            "progress: 1448/3444.0\n",
            "progress: 1449/3444.0\n",
            "progress: 1450/3444.0\n",
            "progress: 1451/3444.0\n",
            "progress: 1452/3444.0\n",
            "progress: 1453/3444.0\n",
            "progress: 1454/3444.0\n",
            "progress: 1455/3444.0\n",
            "progress: 1456/3444.0\n",
            "progress: 1457/3444.0\n",
            "progress: 1458/3444.0\n",
            "progress: 1459/3444.0\n",
            "progress: 1460/3444.0\n",
            "progress: 1461/3444.0\n",
            "progress: 1462/3444.0\n",
            "progress: 1463/3444.0\n",
            "progress: 1464/3444.0\n",
            "progress: 1465/3444.0\n",
            "progress: 1466/3444.0\n",
            "progress: 1467/3444.0\n",
            "progress: 1468/3444.0\n",
            "progress: 1469/3444.0\n",
            "progress: 1470/3444.0\n",
            "progress: 1471/3444.0\n",
            "progress: 1472/3444.0\n",
            "progress: 1473/3444.0\n",
            "progress: 1474/3444.0\n",
            "progress: 1475/3444.0\n",
            "progress: 1476/3444.0\n",
            "progress: 1477/3444.0\n",
            "progress: 1478/3444.0\n",
            "progress: 1479/3444.0\n",
            "progress: 1480/3444.0\n",
            "progress: 1481/3444.0\n",
            "progress: 1482/3444.0\n",
            "progress: 1483/3444.0\n",
            "progress: 1484/3444.0\n",
            "progress: 1485/3444.0\n",
            "progress: 1486/3444.0\n",
            "progress: 1487/3444.0\n",
            "progress: 1488/3444.0\n",
            "progress: 1489/3444.0\n",
            "progress: 1490/3444.0\n",
            "progress: 1491/3444.0\n",
            "progress: 1492/3444.0\n",
            "progress: 1493/3444.0\n",
            "progress: 1494/3444.0\n",
            "progress: 1495/3444.0\n",
            "progress: 1496/3444.0\n",
            "progress: 1497/3444.0\n",
            "progress: 1498/3444.0\n",
            "progress: 1499/3444.0\n",
            "progress: 1500/3444.0\n",
            "progress: 1501/3444.0\n",
            "progress: 1502/3444.0\n",
            "progress: 1503/3444.0\n",
            "progress: 1504/3444.0\n",
            "progress: 1505/3444.0\n",
            "progress: 1506/3444.0\n",
            "progress: 1507/3444.0\n",
            "progress: 1508/3444.0\n",
            "progress: 1509/3444.0\n",
            "progress: 1510/3444.0\n",
            "progress: 1511/3444.0\n",
            "progress: 1512/3444.0\n",
            "progress: 1513/3444.0\n",
            "progress: 1514/3444.0\n",
            "progress: 1515/3444.0\n",
            "progress: 1516/3444.0\n",
            "progress: 1517/3444.0\n",
            "progress: 1518/3444.0\n",
            "progress: 1519/3444.0\n",
            "progress: 1520/3444.0\n",
            "progress: 1521/3444.0\n",
            "progress: 1522/3444.0\n",
            "progress: 1523/3444.0\n",
            "progress: 1524/3444.0\n",
            "progress: 1525/3444.0\n",
            "progress: 1526/3444.0\n",
            "progress: 1527/3444.0\n",
            "progress: 1528/3444.0\n",
            "progress: 1529/3444.0\n",
            "progress: 1530/3444.0\n",
            "progress: 1531/3444.0\n",
            "progress: 1532/3444.0\n",
            "progress: 1533/3444.0\n",
            "progress: 1534/3444.0\n",
            "progress: 1535/3444.0\n",
            "progress: 1536/3444.0\n",
            "progress: 1537/3444.0\n",
            "progress: 1538/3444.0\n",
            "progress: 1539/3444.0\n",
            "progress: 1540/3444.0\n",
            "progress: 1541/3444.0\n",
            "progress: 1542/3444.0\n",
            "progress: 1543/3444.0\n",
            "progress: 1544/3444.0\n",
            "progress: 1545/3444.0\n",
            "progress: 1546/3444.0\n",
            "progress: 1547/3444.0\n",
            "progress: 1548/3444.0\n",
            "progress: 1549/3444.0\n",
            "progress: 1550/3444.0\n",
            "progress: 1551/3444.0\n",
            "progress: 1552/3444.0\n",
            "progress: 1553/3444.0\n",
            "progress: 1554/3444.0\n",
            "progress: 1555/3444.0\n",
            "progress: 1556/3444.0\n",
            "progress: 1557/3444.0\n",
            "progress: 1558/3444.0\n",
            "progress: 1559/3444.0\n",
            "progress: 1560/3444.0\n",
            "progress: 1561/3444.0\n",
            "progress: 1562/3444.0\n",
            "progress: 1563/3444.0\n",
            "progress: 1564/3444.0\n",
            "progress: 1565/3444.0\n",
            "progress: 1566/3444.0\n",
            "progress: 1567/3444.0\n",
            "progress: 1568/3444.0\n",
            "progress: 1569/3444.0\n",
            "progress: 1570/3444.0\n",
            "progress: 1571/3444.0\n",
            "progress: 1572/3444.0\n",
            "progress: 1573/3444.0\n",
            "progress: 1574/3444.0\n",
            "progress: 1575/3444.0\n",
            "progress: 1576/3444.0\n",
            "progress: 1577/3444.0\n",
            "progress: 1578/3444.0\n",
            "progress: 1579/3444.0\n",
            "progress: 1580/3444.0\n",
            "progress: 1581/3444.0\n",
            "progress: 1582/3444.0\n",
            "progress: 1583/3444.0\n",
            "progress: 1584/3444.0\n",
            "progress: 1585/3444.0\n",
            "progress: 1586/3444.0\n",
            "progress: 1587/3444.0\n",
            "progress: 1588/3444.0\n",
            "progress: 1589/3444.0\n",
            "progress: 1590/3444.0\n",
            "progress: 1591/3444.0\n",
            "progress: 1592/3444.0\n",
            "progress: 1593/3444.0\n",
            "progress: 1594/3444.0\n",
            "progress: 1595/3444.0\n",
            "progress: 1596/3444.0\n",
            "progress: 1597/3444.0\n",
            "progress: 1598/3444.0\n",
            "progress: 1599/3444.0\n",
            "progress: 1600/3444.0\n",
            "progress: 1601/3444.0\n",
            "progress: 1602/3444.0\n",
            "progress: 1603/3444.0\n",
            "progress: 1604/3444.0\n",
            "progress: 1605/3444.0\n",
            "progress: 1606/3444.0\n",
            "progress: 1607/3444.0\n",
            "progress: 1608/3444.0\n",
            "progress: 1609/3444.0\n",
            "progress: 1610/3444.0\n",
            "progress: 1611/3444.0\n",
            "progress: 1612/3444.0\n",
            "progress: 1613/3444.0\n",
            "progress: 1614/3444.0\n",
            "progress: 1615/3444.0\n",
            "progress: 1616/3444.0\n",
            "progress: 1617/3444.0\n",
            "progress: 1618/3444.0\n",
            "progress: 1619/3444.0\n",
            "progress: 1620/3444.0\n",
            "progress: 1621/3444.0\n",
            "progress: 1622/3444.0\n",
            "progress: 1623/3444.0\n",
            "progress: 1624/3444.0\n",
            "progress: 1625/3444.0\n",
            "progress: 1626/3444.0\n",
            "progress: 1627/3444.0\n",
            "progress: 1628/3444.0\n",
            "progress: 1629/3444.0\n",
            "progress: 1630/3444.0\n",
            "progress: 1631/3444.0\n",
            "progress: 1632/3444.0\n",
            "progress: 1633/3444.0\n",
            "progress: 1634/3444.0\n",
            "progress: 1635/3444.0\n",
            "progress: 1636/3444.0\n",
            "progress: 1637/3444.0\n",
            "progress: 1638/3444.0\n",
            "progress: 1639/3444.0\n",
            "progress: 1640/3444.0\n",
            "progress: 1641/3444.0\n",
            "progress: 1642/3444.0\n",
            "progress: 1643/3444.0\n",
            "progress: 1644/3444.0\n",
            "progress: 1645/3444.0\n",
            "progress: 1646/3444.0\n",
            "progress: 1647/3444.0\n",
            "progress: 1648/3444.0\n",
            "progress: 1649/3444.0\n",
            "progress: 1650/3444.0\n",
            "progress: 1651/3444.0\n",
            "progress: 1652/3444.0\n",
            "progress: 1653/3444.0\n",
            "progress: 1654/3444.0\n",
            "progress: 1655/3444.0\n",
            "progress: 1656/3444.0\n",
            "progress: 1657/3444.0\n",
            "progress: 1658/3444.0\n",
            "progress: 1659/3444.0\n",
            "progress: 1660/3444.0\n",
            "progress: 1661/3444.0\n",
            "progress: 1662/3444.0\n",
            "progress: 1663/3444.0\n",
            "progress: 1664/3444.0\n",
            "progress: 1665/3444.0\n",
            "progress: 1666/3444.0\n",
            "progress: 1667/3444.0\n",
            "progress: 1668/3444.0\n",
            "progress: 1669/3444.0\n",
            "progress: 1670/3444.0\n",
            "progress: 1671/3444.0\n",
            "progress: 1672/3444.0\n",
            "progress: 1673/3444.0\n",
            "progress: 1674/3444.0\n",
            "progress: 1675/3444.0\n",
            "progress: 1676/3444.0\n",
            "progress: 1677/3444.0\n",
            "progress: 1678/3444.0\n",
            "progress: 1679/3444.0\n",
            "progress: 1680/3444.0\n",
            "progress: 1681/3444.0\n",
            "progress: 1682/3444.0\n",
            "progress: 1683/3444.0\n",
            "progress: 1684/3444.0\n",
            "progress: 1685/3444.0\n",
            "progress: 1686/3444.0\n",
            "progress: 1687/3444.0\n",
            "progress: 1688/3444.0\n",
            "progress: 1689/3444.0\n",
            "progress: 1690/3444.0\n",
            "progress: 1691/3444.0\n",
            "progress: 1692/3444.0\n",
            "progress: 1693/3444.0\n",
            "progress: 1694/3444.0\n",
            "progress: 1695/3444.0\n",
            "progress: 1696/3444.0\n",
            "progress: 1697/3444.0\n",
            "progress: 1698/3444.0\n",
            "progress: 1699/3444.0\n",
            "progress: 1700/3444.0\n",
            "progress: 1701/3444.0\n",
            "progress: 1702/3444.0\n",
            "progress: 1703/3444.0\n",
            "progress: 1704/3444.0\n",
            "progress: 1705/3444.0\n",
            "progress: 1706/3444.0\n",
            "progress: 1707/3444.0\n",
            "progress: 1708/3444.0\n",
            "progress: 1709/3444.0\n",
            "progress: 1710/3444.0\n",
            "progress: 1711/3444.0\n",
            "progress: 1712/3444.0\n",
            "progress: 1713/3444.0\n",
            "progress: 1714/3444.0\n",
            "progress: 1715/3444.0\n",
            "progress: 1716/3444.0\n",
            "progress: 1717/3444.0\n",
            "progress: 1718/3444.0\n",
            "progress: 1719/3444.0\n",
            "progress: 1720/3444.0\n",
            "progress: 1721/3444.0\n",
            "progress: 1722/3444.0\n",
            "progress: 1723/3444.0\n",
            "progress: 1724/3444.0\n",
            "progress: 1725/3444.0\n",
            "progress: 1726/3444.0\n",
            "progress: 1727/3444.0\n",
            "progress: 1728/3444.0\n",
            "progress: 1729/3444.0\n",
            "progress: 1730/3444.0\n",
            "progress: 1731/3444.0\n",
            "progress: 1732/3444.0\n",
            "progress: 1733/3444.0\n",
            "progress: 1734/3444.0\n",
            "progress: 1735/3444.0\n",
            "progress: 1736/3444.0\n",
            "progress: 1737/3444.0\n",
            "progress: 1738/3444.0\n",
            "progress: 1739/3444.0\n",
            "progress: 1740/3444.0\n",
            "progress: 1741/3444.0\n",
            "progress: 1742/3444.0\n",
            "progress: 1743/3444.0\n",
            "progress: 1744/3444.0\n",
            "progress: 1745/3444.0\n",
            "progress: 1746/3444.0\n",
            "progress: 1747/3444.0\n",
            "progress: 1748/3444.0\n",
            "progress: 1749/3444.0\n",
            "progress: 1750/3444.0\n",
            "progress: 1751/3444.0\n",
            "progress: 1752/3444.0\n",
            "progress: 1753/3444.0\n",
            "progress: 1754/3444.0\n",
            "progress: 1755/3444.0\n",
            "progress: 1756/3444.0\n",
            "progress: 1757/3444.0\n",
            "progress: 1758/3444.0\n",
            "progress: 1759/3444.0\n",
            "progress: 1760/3444.0\n",
            "progress: 1761/3444.0\n",
            "progress: 1762/3444.0\n",
            "progress: 1763/3444.0\n",
            "progress: 1764/3444.0\n",
            "progress: 1765/3444.0\n",
            "progress: 1766/3444.0\n",
            "progress: 1767/3444.0\n",
            "progress: 1768/3444.0\n",
            "progress: 1769/3444.0\n",
            "progress: 1770/3444.0\n",
            "progress: 1771/3444.0\n",
            "progress: 1772/3444.0\n",
            "progress: 1773/3444.0\n",
            "progress: 1774/3444.0\n",
            "progress: 1775/3444.0\n",
            "progress: 1776/3444.0\n",
            "progress: 1777/3444.0\n",
            "progress: 1778/3444.0\n",
            "progress: 1779/3444.0\n",
            "progress: 1780/3444.0\n",
            "progress: 1781/3444.0\n",
            "progress: 1782/3444.0\n",
            "progress: 1783/3444.0\n",
            "progress: 1784/3444.0\n",
            "progress: 1785/3444.0\n",
            "progress: 1786/3444.0\n",
            "progress: 1787/3444.0\n",
            "progress: 1788/3444.0\n",
            "progress: 1789/3444.0\n",
            "progress: 1790/3444.0\n",
            "progress: 1791/3444.0\n",
            "progress: 1792/3444.0\n",
            "progress: 1793/3444.0\n",
            "progress: 1794/3444.0\n",
            "progress: 1795/3444.0\n",
            "progress: 1796/3444.0\n",
            "progress: 1797/3444.0\n",
            "progress: 1798/3444.0\n",
            "progress: 1799/3444.0\n",
            "progress: 1800/3444.0\n",
            "progress: 1801/3444.0\n",
            "progress: 1802/3444.0\n",
            "progress: 1803/3444.0\n",
            "progress: 1804/3444.0\n",
            "progress: 1805/3444.0\n",
            "progress: 1806/3444.0\n",
            "progress: 1807/3444.0\n",
            "progress: 1808/3444.0\n",
            "progress: 1809/3444.0\n",
            "progress: 1810/3444.0\n",
            "progress: 1811/3444.0\n",
            "progress: 1812/3444.0\n",
            "progress: 1813/3444.0\n",
            "progress: 1814/3444.0\n",
            "progress: 1815/3444.0\n",
            "progress: 1816/3444.0\n",
            "progress: 1817/3444.0\n",
            "progress: 1818/3444.0\n",
            "progress: 1819/3444.0\n",
            "progress: 1820/3444.0\n",
            "progress: 1821/3444.0\n",
            "progress: 1822/3444.0\n",
            "progress: 1823/3444.0\n",
            "progress: 1824/3444.0\n",
            "progress: 1825/3444.0\n",
            "progress: 1826/3444.0\n",
            "progress: 1827/3444.0\n",
            "progress: 1828/3444.0\n",
            "progress: 1829/3444.0\n",
            "progress: 1830/3444.0\n",
            "progress: 1831/3444.0\n",
            "progress: 1832/3444.0\n",
            "progress: 1833/3444.0\n",
            "progress: 1834/3444.0\n",
            "progress: 1835/3444.0\n",
            "progress: 1836/3444.0\n",
            "progress: 1837/3444.0\n",
            "progress: 1838/3444.0\n",
            "progress: 1839/3444.0\n",
            "progress: 1840/3444.0\n",
            "progress: 1841/3444.0\n",
            "progress: 1842/3444.0\n",
            "progress: 1843/3444.0\n",
            "progress: 1844/3444.0\n",
            "progress: 1845/3444.0\n",
            "progress: 1846/3444.0\n",
            "progress: 1847/3444.0\n",
            "progress: 1848/3444.0\n",
            "progress: 1849/3444.0\n",
            "progress: 1850/3444.0\n",
            "progress: 1851/3444.0\n",
            "progress: 1852/3444.0\n",
            "progress: 1853/3444.0\n",
            "progress: 1854/3444.0\n",
            "progress: 1855/3444.0\n",
            "progress: 1856/3444.0\n",
            "progress: 1857/3444.0\n",
            "progress: 1858/3444.0\n",
            "progress: 1859/3444.0\n",
            "progress: 1860/3444.0\n",
            "progress: 1861/3444.0\n",
            "progress: 1862/3444.0\n",
            "progress: 1863/3444.0\n",
            "progress: 1864/3444.0\n",
            "progress: 1865/3444.0\n",
            "progress: 1866/3444.0\n",
            "progress: 1867/3444.0\n",
            "progress: 1868/3444.0\n",
            "progress: 1869/3444.0\n",
            "progress: 1870/3444.0\n",
            "progress: 1871/3444.0\n",
            "progress: 1872/3444.0\n",
            "progress: 1873/3444.0\n",
            "progress: 1874/3444.0\n",
            "progress: 1875/3444.0\n",
            "progress: 1876/3444.0\n",
            "progress: 1877/3444.0\n",
            "progress: 1878/3444.0\n",
            "progress: 1879/3444.0\n",
            "progress: 1880/3444.0\n",
            "progress: 1881/3444.0\n",
            "progress: 1882/3444.0\n",
            "progress: 1883/3444.0\n",
            "progress: 1884/3444.0\n",
            "progress: 1885/3444.0\n",
            "progress: 1886/3444.0\n",
            "progress: 1887/3444.0\n",
            "progress: 1888/3444.0\n",
            "progress: 1889/3444.0\n",
            "progress: 1890/3444.0\n",
            "progress: 1891/3444.0\n",
            "progress: 1892/3444.0\n",
            "progress: 1893/3444.0\n",
            "progress: 1894/3444.0\n",
            "progress: 1895/3444.0\n",
            "progress: 1896/3444.0\n",
            "progress: 1897/3444.0\n",
            "progress: 1898/3444.0\n",
            "progress: 1899/3444.0\n",
            "progress: 1900/3444.0\n",
            "progress: 1901/3444.0\n",
            "progress: 1902/3444.0\n",
            "progress: 1903/3444.0\n",
            "progress: 1904/3444.0\n",
            "progress: 1905/3444.0\n",
            "progress: 1906/3444.0\n",
            "progress: 1907/3444.0\n",
            "progress: 1908/3444.0\n",
            "progress: 1909/3444.0\n",
            "progress: 1910/3444.0\n",
            "progress: 1911/3444.0\n",
            "progress: 1912/3444.0\n",
            "progress: 1913/3444.0\n",
            "progress: 1914/3444.0\n",
            "progress: 1915/3444.0\n",
            "progress: 1916/3444.0\n",
            "progress: 1917/3444.0\n",
            "progress: 1918/3444.0\n",
            "progress: 1919/3444.0\n",
            "progress: 1920/3444.0\n",
            "progress: 1921/3444.0\n",
            "progress: 1922/3444.0\n",
            "progress: 1923/3444.0\n",
            "progress: 1924/3444.0\n",
            "progress: 1925/3444.0\n",
            "progress: 1926/3444.0\n",
            "progress: 1927/3444.0\n",
            "progress: 1928/3444.0\n",
            "progress: 1929/3444.0\n",
            "progress: 1930/3444.0\n",
            "progress: 1931/3444.0\n",
            "progress: 1932/3444.0\n",
            "progress: 1933/3444.0\n",
            "progress: 1934/3444.0\n",
            "progress: 1935/3444.0\n",
            "progress: 1936/3444.0\n",
            "progress: 1937/3444.0\n",
            "progress: 1938/3444.0\n",
            "progress: 1939/3444.0\n",
            "progress: 1940/3444.0\n",
            "progress: 1941/3444.0\n",
            "progress: 1942/3444.0\n",
            "progress: 1943/3444.0\n",
            "progress: 1944/3444.0\n",
            "progress: 1945/3444.0\n",
            "progress: 1946/3444.0\n",
            "progress: 1947/3444.0\n",
            "progress: 1948/3444.0\n",
            "progress: 1949/3444.0\n",
            "progress: 1950/3444.0\n",
            "progress: 1951/3444.0\n",
            "progress: 1952/3444.0\n",
            "progress: 1953/3444.0\n",
            "progress: 1954/3444.0\n",
            "progress: 1955/3444.0\n",
            "progress: 1956/3444.0\n",
            "progress: 1957/3444.0\n",
            "progress: 1958/3444.0\n",
            "progress: 1959/3444.0\n",
            "progress: 1960/3444.0\n",
            "progress: 1961/3444.0\n",
            "progress: 1962/3444.0\n",
            "progress: 1963/3444.0\n",
            "progress: 1964/3444.0\n",
            "progress: 1965/3444.0\n",
            "progress: 1966/3444.0\n",
            "progress: 1967/3444.0\n",
            "progress: 1968/3444.0\n",
            "progress: 1969/3444.0\n",
            "progress: 1970/3444.0\n",
            "progress: 1971/3444.0\n",
            "progress: 1972/3444.0\n",
            "progress: 1973/3444.0\n",
            "progress: 1974/3444.0\n",
            "progress: 1975/3444.0\n",
            "progress: 1976/3444.0\n",
            "progress: 1977/3444.0\n",
            "progress: 1978/3444.0\n",
            "progress: 1979/3444.0\n",
            "progress: 1980/3444.0\n",
            "progress: 1981/3444.0\n",
            "progress: 1982/3444.0\n",
            "progress: 1983/3444.0\n",
            "progress: 1984/3444.0\n",
            "progress: 1985/3444.0\n",
            "progress: 1986/3444.0\n",
            "progress: 1987/3444.0\n",
            "progress: 1988/3444.0\n",
            "progress: 1989/3444.0\n",
            "progress: 1990/3444.0\n",
            "progress: 1991/3444.0\n",
            "progress: 1992/3444.0\n",
            "progress: 1993/3444.0\n",
            "progress: 1994/3444.0\n",
            "progress: 1995/3444.0\n",
            "progress: 1996/3444.0\n",
            "progress: 1997/3444.0\n",
            "progress: 1998/3444.0\n",
            "progress: 1999/3444.0\n",
            "progress: 2000/3444.0\n",
            "progress: 2001/3444.0\n",
            "progress: 2002/3444.0\n",
            "progress: 2003/3444.0\n",
            "progress: 2004/3444.0\n",
            "progress: 2005/3444.0\n",
            "progress: 2006/3444.0\n",
            "progress: 2007/3444.0\n",
            "progress: 2008/3444.0\n",
            "progress: 2009/3444.0\n",
            "progress: 2010/3444.0\n",
            "progress: 2011/3444.0\n",
            "progress: 2012/3444.0\n",
            "progress: 2013/3444.0\n",
            "progress: 2014/3444.0\n",
            "progress: 2015/3444.0\n",
            "progress: 2016/3444.0\n",
            "progress: 2017/3444.0\n",
            "progress: 2018/3444.0\n",
            "progress: 2019/3444.0\n",
            "progress: 2020/3444.0\n",
            "progress: 2021/3444.0\n",
            "progress: 2022/3444.0\n",
            "progress: 2023/3444.0\n",
            "progress: 2024/3444.0\n",
            "progress: 2025/3444.0\n",
            "progress: 2026/3444.0\n",
            "progress: 2027/3444.0\n",
            "progress: 2028/3444.0\n",
            "progress: 2029/3444.0\n",
            "progress: 2030/3444.0\n",
            "progress: 2031/3444.0\n",
            "progress: 2032/3444.0\n",
            "progress: 2033/3444.0\n",
            "progress: 2034/3444.0\n",
            "progress: 2035/3444.0\n",
            "progress: 2036/3444.0\n",
            "progress: 2037/3444.0\n",
            "progress: 2038/3444.0\n",
            "progress: 2039/3444.0\n",
            "progress: 2040/3444.0\n",
            "progress: 2041/3444.0\n",
            "progress: 2042/3444.0\n",
            "progress: 2043/3444.0\n",
            "progress: 2044/3444.0\n",
            "progress: 2045/3444.0\n",
            "progress: 2046/3444.0\n",
            "progress: 2047/3444.0\n",
            "progress: 2048/3444.0\n",
            "progress: 2049/3444.0\n",
            "progress: 2050/3444.0\n",
            "progress: 2051/3444.0\n",
            "progress: 2052/3444.0\n",
            "progress: 2053/3444.0\n",
            "progress: 2054/3444.0\n",
            "progress: 2055/3444.0\n",
            "progress: 2056/3444.0\n",
            "progress: 2057/3444.0\n",
            "progress: 2058/3444.0\n",
            "progress: 2059/3444.0\n",
            "progress: 2060/3444.0\n",
            "progress: 2061/3444.0\n",
            "progress: 2062/3444.0\n",
            "progress: 2063/3444.0\n",
            "progress: 2064/3444.0\n",
            "progress: 2065/3444.0\n",
            "progress: 2066/3444.0\n",
            "progress: 2067/3444.0\n",
            "progress: 2068/3444.0\n",
            "progress: 2069/3444.0\n",
            "progress: 2070/3444.0\n",
            "progress: 2071/3444.0\n",
            "progress: 2072/3444.0\n",
            "progress: 2073/3444.0\n",
            "progress: 2074/3444.0\n",
            "progress: 2075/3444.0\n",
            "progress: 2076/3444.0\n",
            "progress: 2077/3444.0\n",
            "progress: 2078/3444.0\n",
            "progress: 2079/3444.0\n",
            "progress: 2080/3444.0\n",
            "progress: 2081/3444.0\n",
            "progress: 2082/3444.0\n",
            "progress: 2083/3444.0\n",
            "progress: 2084/3444.0\n",
            "progress: 2085/3444.0\n",
            "progress: 2086/3444.0\n",
            "progress: 2087/3444.0\n",
            "progress: 2088/3444.0\n",
            "progress: 2089/3444.0\n",
            "progress: 2090/3444.0\n",
            "progress: 2091/3444.0\n",
            "progress: 2092/3444.0\n",
            "progress: 2093/3444.0\n",
            "progress: 2094/3444.0\n",
            "progress: 2095/3444.0\n",
            "progress: 2096/3444.0\n",
            "progress: 2097/3444.0\n",
            "progress: 2098/3444.0\n",
            "progress: 2099/3444.0\n",
            "progress: 2100/3444.0\n",
            "progress: 2101/3444.0\n",
            "progress: 2102/3444.0\n",
            "progress: 2103/3444.0\n",
            "progress: 2104/3444.0\n",
            "progress: 2105/3444.0\n",
            "progress: 2106/3444.0\n",
            "progress: 2107/3444.0\n",
            "progress: 2108/3444.0\n",
            "progress: 2109/3444.0\n",
            "progress: 2110/3444.0\n",
            "progress: 2111/3444.0\n",
            "progress: 2112/3444.0\n",
            "progress: 2113/3444.0\n",
            "progress: 2114/3444.0\n",
            "progress: 2115/3444.0\n",
            "progress: 2116/3444.0\n",
            "progress: 2117/3444.0\n",
            "progress: 2118/3444.0\n",
            "progress: 2119/3444.0\n",
            "progress: 2120/3444.0\n",
            "progress: 2121/3444.0\n",
            "progress: 2122/3444.0\n",
            "progress: 2123/3444.0\n",
            "progress: 2124/3444.0\n",
            "progress: 2125/3444.0\n",
            "progress: 2126/3444.0\n",
            "progress: 2127/3444.0\n",
            "progress: 2128/3444.0\n",
            "progress: 2129/3444.0\n",
            "progress: 2130/3444.0\n",
            "progress: 2131/3444.0\n",
            "progress: 2132/3444.0\n",
            "progress: 2133/3444.0\n",
            "progress: 2134/3444.0\n",
            "progress: 2135/3444.0\n",
            "progress: 2136/3444.0\n",
            "progress: 2137/3444.0\n",
            "progress: 2138/3444.0\n",
            "progress: 2139/3444.0\n",
            "progress: 2140/3444.0\n",
            "progress: 2141/3444.0\n",
            "progress: 2142/3444.0\n",
            "progress: 2143/3444.0\n",
            "progress: 2144/3444.0\n",
            "progress: 2145/3444.0\n",
            "progress: 2146/3444.0\n",
            "progress: 2147/3444.0\n",
            "progress: 2148/3444.0\n",
            "progress: 2149/3444.0\n",
            "progress: 2150/3444.0\n",
            "progress: 2151/3444.0\n",
            "progress: 2152/3444.0\n",
            "progress: 2153/3444.0\n",
            "progress: 2154/3444.0\n",
            "progress: 2155/3444.0\n",
            "progress: 2156/3444.0\n",
            "progress: 2157/3444.0\n",
            "progress: 2158/3444.0\n",
            "progress: 2159/3444.0\n",
            "progress: 2160/3444.0\n",
            "progress: 2161/3444.0\n",
            "progress: 2162/3444.0\n",
            "progress: 2163/3444.0\n",
            "progress: 2164/3444.0\n",
            "progress: 2165/3444.0\n",
            "progress: 2166/3444.0\n",
            "progress: 2167/3444.0\n",
            "progress: 2168/3444.0\n",
            "progress: 2169/3444.0\n",
            "progress: 2170/3444.0\n",
            "progress: 2171/3444.0\n",
            "progress: 2172/3444.0\n",
            "progress: 2173/3444.0\n",
            "progress: 2174/3444.0\n",
            "progress: 2175/3444.0\n",
            "progress: 2176/3444.0\n",
            "progress: 2177/3444.0\n",
            "progress: 2178/3444.0\n",
            "progress: 2179/3444.0\n",
            "progress: 2180/3444.0\n",
            "progress: 2181/3444.0\n",
            "progress: 2182/3444.0\n",
            "progress: 2183/3444.0\n",
            "progress: 2184/3444.0\n",
            "progress: 2185/3444.0\n",
            "progress: 2186/3444.0\n",
            "progress: 2187/3444.0\n",
            "progress: 2188/3444.0\n",
            "progress: 2189/3444.0\n",
            "progress: 2190/3444.0\n",
            "progress: 2191/3444.0\n",
            "progress: 2192/3444.0\n",
            "progress: 2193/3444.0\n",
            "progress: 2194/3444.0\n",
            "progress: 2195/3444.0\n",
            "progress: 2196/3444.0\n",
            "progress: 2197/3444.0\n",
            "progress: 2198/3444.0\n",
            "progress: 2199/3444.0\n",
            "progress: 2200/3444.0\n",
            "progress: 2201/3444.0\n",
            "progress: 2202/3444.0\n",
            "progress: 2203/3444.0\n",
            "progress: 2204/3444.0\n",
            "progress: 2205/3444.0\n",
            "progress: 2206/3444.0\n",
            "progress: 2207/3444.0\n",
            "progress: 2208/3444.0\n",
            "progress: 2209/3444.0\n",
            "progress: 2210/3444.0\n",
            "progress: 2211/3444.0\n",
            "progress: 2212/3444.0\n",
            "progress: 2213/3444.0\n",
            "progress: 2214/3444.0\n",
            "progress: 2215/3444.0\n",
            "progress: 2216/3444.0\n",
            "progress: 2217/3444.0\n",
            "progress: 2218/3444.0\n",
            "progress: 2219/3444.0\n",
            "progress: 2220/3444.0\n",
            "progress: 2221/3444.0\n",
            "progress: 2222/3444.0\n",
            "progress: 2223/3444.0\n",
            "progress: 2224/3444.0\n",
            "progress: 2225/3444.0\n",
            "progress: 2226/3444.0\n",
            "progress: 2227/3444.0\n",
            "progress: 2228/3444.0\n",
            "progress: 2229/3444.0\n",
            "progress: 2230/3444.0\n",
            "progress: 2231/3444.0\n",
            "progress: 2232/3444.0\n",
            "progress: 2233/3444.0\n",
            "progress: 2234/3444.0\n",
            "progress: 2235/3444.0\n",
            "progress: 2236/3444.0\n",
            "progress: 2237/3444.0\n",
            "progress: 2238/3444.0\n",
            "progress: 2239/3444.0\n",
            "progress: 2240/3444.0\n",
            "progress: 2241/3444.0\n",
            "progress: 2242/3444.0\n",
            "progress: 2243/3444.0\n",
            "progress: 2244/3444.0\n",
            "progress: 2245/3444.0\n",
            "progress: 2246/3444.0\n",
            "progress: 2247/3444.0\n",
            "progress: 2248/3444.0\n",
            "progress: 2249/3444.0\n",
            "progress: 2250/3444.0\n",
            "progress: 2251/3444.0\n",
            "progress: 2252/3444.0\n",
            "progress: 2253/3444.0\n",
            "progress: 2254/3444.0\n",
            "progress: 2255/3444.0\n",
            "progress: 2256/3444.0\n",
            "progress: 2257/3444.0\n",
            "progress: 2258/3444.0\n",
            "progress: 2259/3444.0\n",
            "progress: 2260/3444.0\n",
            "progress: 2261/3444.0\n",
            "progress: 2262/3444.0\n",
            "progress: 2263/3444.0\n",
            "progress: 2264/3444.0\n",
            "progress: 2265/3444.0\n",
            "progress: 2266/3444.0\n",
            "progress: 2267/3444.0\n",
            "progress: 2268/3444.0\n",
            "progress: 2269/3444.0\n",
            "progress: 2270/3444.0\n",
            "progress: 2271/3444.0\n",
            "progress: 2272/3444.0\n",
            "progress: 2273/3444.0\n",
            "progress: 2274/3444.0\n",
            "progress: 2275/3444.0\n",
            "progress: 2276/3444.0\n",
            "progress: 2277/3444.0\n",
            "progress: 2278/3444.0\n",
            "progress: 2279/3444.0\n",
            "progress: 2280/3444.0\n",
            "progress: 2281/3444.0\n",
            "progress: 2282/3444.0\n",
            "progress: 2283/3444.0\n",
            "progress: 2284/3444.0\n",
            "progress: 2285/3444.0\n",
            "progress: 2286/3444.0\n",
            "progress: 2287/3444.0\n",
            "progress: 2288/3444.0\n",
            "progress: 2289/3444.0\n",
            "progress: 2290/3444.0\n",
            "progress: 2291/3444.0\n",
            "progress: 2292/3444.0\n",
            "progress: 2293/3444.0\n",
            "progress: 2294/3444.0\n",
            "progress: 2295/3444.0\n",
            "progress: 2296/3444.0\n",
            "progress: 2297/3444.0\n",
            "progress: 2298/3444.0\n",
            "progress: 2299/3444.0\n",
            "progress: 2300/3444.0\n",
            "progress: 2301/3444.0\n",
            "progress: 2302/3444.0\n",
            "progress: 2303/3444.0\n",
            "progress: 2304/3444.0\n",
            "progress: 2305/3444.0\n",
            "progress: 2306/3444.0\n",
            "progress: 2307/3444.0\n",
            "progress: 2308/3444.0\n",
            "progress: 2309/3444.0\n",
            "progress: 2310/3444.0\n",
            "progress: 2311/3444.0\n",
            "progress: 2312/3444.0\n",
            "progress: 2313/3444.0\n",
            "progress: 2314/3444.0\n",
            "progress: 2315/3444.0\n",
            "progress: 2316/3444.0\n",
            "progress: 2317/3444.0\n",
            "progress: 2318/3444.0\n",
            "progress: 2319/3444.0\n",
            "progress: 2320/3444.0\n",
            "progress: 2321/3444.0\n",
            "progress: 2322/3444.0\n",
            "progress: 2323/3444.0\n",
            "progress: 2324/3444.0\n",
            "progress: 2325/3444.0\n",
            "progress: 2326/3444.0\n",
            "progress: 2327/3444.0\n",
            "progress: 2328/3444.0\n",
            "progress: 2329/3444.0\n",
            "progress: 2330/3444.0\n",
            "progress: 2331/3444.0\n",
            "progress: 2332/3444.0\n",
            "progress: 2333/3444.0\n",
            "progress: 2334/3444.0\n",
            "progress: 2335/3444.0\n",
            "progress: 2336/3444.0\n",
            "progress: 2337/3444.0\n",
            "progress: 2338/3444.0\n",
            "progress: 2339/3444.0\n",
            "progress: 2340/3444.0\n",
            "progress: 2341/3444.0\n",
            "progress: 2342/3444.0\n",
            "progress: 2343/3444.0\n",
            "progress: 2344/3444.0\n",
            "progress: 2345/3444.0\n",
            "progress: 2346/3444.0\n",
            "progress: 2347/3444.0\n",
            "progress: 2348/3444.0\n",
            "progress: 2349/3444.0\n",
            "progress: 2350/3444.0\n",
            "progress: 2351/3444.0\n",
            "progress: 2352/3444.0\n",
            "progress: 2353/3444.0\n",
            "progress: 2354/3444.0\n",
            "progress: 2355/3444.0\n",
            "progress: 2356/3444.0\n",
            "progress: 2357/3444.0\n",
            "progress: 2358/3444.0\n",
            "progress: 2359/3444.0\n",
            "progress: 2360/3444.0\n",
            "progress: 2361/3444.0\n",
            "progress: 2362/3444.0\n",
            "progress: 2363/3444.0\n",
            "progress: 2364/3444.0\n",
            "progress: 2365/3444.0\n",
            "progress: 2366/3444.0\n",
            "progress: 2367/3444.0\n",
            "progress: 2368/3444.0\n",
            "progress: 2369/3444.0\n",
            "progress: 2370/3444.0\n",
            "progress: 2371/3444.0\n",
            "progress: 2372/3444.0\n",
            "progress: 2373/3444.0\n",
            "progress: 2374/3444.0\n",
            "progress: 2375/3444.0\n",
            "progress: 2376/3444.0\n",
            "progress: 2377/3444.0\n",
            "progress: 2378/3444.0\n",
            "progress: 2379/3444.0\n",
            "progress: 2380/3444.0\n",
            "progress: 2381/3444.0\n",
            "progress: 2382/3444.0\n",
            "progress: 2383/3444.0\n",
            "progress: 2384/3444.0\n",
            "progress: 2385/3444.0\n",
            "progress: 2386/3444.0\n",
            "progress: 2387/3444.0\n",
            "progress: 2388/3444.0\n",
            "progress: 2389/3444.0\n",
            "progress: 2390/3444.0\n",
            "progress: 2391/3444.0\n",
            "progress: 2392/3444.0\n",
            "progress: 2393/3444.0\n",
            "progress: 2394/3444.0\n",
            "progress: 2395/3444.0\n",
            "progress: 2396/3444.0\n",
            "progress: 2397/3444.0\n",
            "progress: 2398/3444.0\n",
            "progress: 2399/3444.0\n",
            "progress: 2400/3444.0\n",
            "progress: 2401/3444.0\n",
            "progress: 2402/3444.0\n",
            "progress: 2403/3444.0\n",
            "progress: 2404/3444.0\n",
            "progress: 2405/3444.0\n",
            "progress: 2406/3444.0\n",
            "progress: 2407/3444.0\n",
            "progress: 2408/3444.0\n",
            "progress: 2409/3444.0\n",
            "progress: 2410/3444.0\n",
            "progress: 2411/3444.0\n",
            "progress: 2412/3444.0\n",
            "progress: 2413/3444.0\n",
            "progress: 2414/3444.0\n",
            "progress: 2415/3444.0\n",
            "progress: 2416/3444.0\n",
            "progress: 2417/3444.0\n",
            "progress: 2418/3444.0\n",
            "progress: 2419/3444.0\n",
            "progress: 2420/3444.0\n",
            "progress: 2421/3444.0\n",
            "progress: 2422/3444.0\n",
            "progress: 2423/3444.0\n",
            "progress: 2424/3444.0\n",
            "progress: 2425/3444.0\n",
            "progress: 2426/3444.0\n",
            "progress: 2427/3444.0\n",
            "progress: 2428/3444.0\n",
            "progress: 2429/3444.0\n",
            "progress: 2430/3444.0\n",
            "progress: 2431/3444.0\n",
            "progress: 2432/3444.0\n",
            "progress: 2433/3444.0\n",
            "progress: 2434/3444.0\n",
            "progress: 2435/3444.0\n",
            "progress: 2436/3444.0\n",
            "progress: 2437/3444.0\n",
            "progress: 2438/3444.0\n",
            "progress: 2439/3444.0\n",
            "progress: 2440/3444.0\n",
            "progress: 2441/3444.0\n",
            "progress: 2442/3444.0\n",
            "progress: 2443/3444.0\n",
            "progress: 2444/3444.0\n",
            "progress: 2445/3444.0\n",
            "progress: 2446/3444.0\n",
            "progress: 2447/3444.0\n",
            "progress: 2448/3444.0\n",
            "progress: 2449/3444.0\n",
            "progress: 2450/3444.0\n",
            "progress: 2451/3444.0\n",
            "progress: 2452/3444.0\n",
            "progress: 2453/3444.0\n",
            "progress: 2454/3444.0\n",
            "progress: 2455/3444.0\n",
            "progress: 2456/3444.0\n",
            "progress: 2457/3444.0\n",
            "progress: 2458/3444.0\n",
            "progress: 2459/3444.0\n",
            "progress: 2460/3444.0\n",
            "progress: 2461/3444.0\n",
            "progress: 2462/3444.0\n",
            "progress: 2463/3444.0\n",
            "progress: 2464/3444.0\n",
            "progress: 2465/3444.0\n",
            "progress: 2466/3444.0\n",
            "progress: 2467/3444.0\n",
            "progress: 2468/3444.0\n",
            "progress: 2469/3444.0\n",
            "progress: 2470/3444.0\n",
            "progress: 2471/3444.0\n",
            "progress: 2472/3444.0\n",
            "progress: 2473/3444.0\n",
            "progress: 2474/3444.0\n",
            "progress: 2475/3444.0\n",
            "progress: 2476/3444.0\n",
            "progress: 2477/3444.0\n",
            "progress: 2478/3444.0\n",
            "progress: 2479/3444.0\n",
            "progress: 2480/3444.0\n",
            "progress: 2481/3444.0\n",
            "progress: 2482/3444.0\n",
            "progress: 2483/3444.0\n",
            "progress: 2484/3444.0\n",
            "progress: 2485/3444.0\n",
            "progress: 2486/3444.0\n",
            "progress: 2487/3444.0\n",
            "progress: 2488/3444.0\n",
            "progress: 2489/3444.0\n",
            "progress: 2490/3444.0\n",
            "progress: 2491/3444.0\n",
            "progress: 2492/3444.0\n",
            "progress: 2493/3444.0\n",
            "progress: 2494/3444.0\n",
            "progress: 2495/3444.0\n",
            "progress: 2496/3444.0\n",
            "progress: 2497/3444.0\n",
            "progress: 2498/3444.0\n",
            "progress: 2499/3444.0\n",
            "progress: 2500/3444.0\n",
            "progress: 2501/3444.0\n",
            "progress: 2502/3444.0\n",
            "progress: 2503/3444.0\n",
            "progress: 2504/3444.0\n",
            "progress: 2505/3444.0\n",
            "progress: 2506/3444.0\n",
            "progress: 2507/3444.0\n",
            "progress: 2508/3444.0\n",
            "progress: 2509/3444.0\n",
            "progress: 2510/3444.0\n",
            "progress: 2511/3444.0\n",
            "progress: 2512/3444.0\n",
            "progress: 2513/3444.0\n",
            "progress: 2514/3444.0\n",
            "progress: 2515/3444.0\n",
            "progress: 2516/3444.0\n",
            "progress: 2517/3444.0\n",
            "progress: 2518/3444.0\n",
            "progress: 2519/3444.0\n",
            "progress: 2520/3444.0\n",
            "progress: 2521/3444.0\n",
            "progress: 2522/3444.0\n",
            "progress: 2523/3444.0\n",
            "progress: 2524/3444.0\n",
            "progress: 2525/3444.0\n",
            "progress: 2526/3444.0\n",
            "progress: 2527/3444.0\n",
            "progress: 2528/3444.0\n",
            "progress: 2529/3444.0\n",
            "progress: 2530/3444.0\n",
            "progress: 2531/3444.0\n",
            "progress: 2532/3444.0\n",
            "progress: 2533/3444.0\n",
            "progress: 2534/3444.0\n",
            "progress: 2535/3444.0\n",
            "progress: 2536/3444.0\n",
            "progress: 2537/3444.0\n",
            "progress: 2538/3444.0\n",
            "progress: 2539/3444.0\n",
            "progress: 2540/3444.0\n",
            "progress: 2541/3444.0\n",
            "progress: 2542/3444.0\n",
            "progress: 2543/3444.0\n",
            "progress: 2544/3444.0\n",
            "progress: 2545/3444.0\n",
            "progress: 2546/3444.0\n",
            "progress: 2547/3444.0\n",
            "progress: 2548/3444.0\n",
            "progress: 2549/3444.0\n",
            "progress: 2550/3444.0\n",
            "progress: 2551/3444.0\n",
            "progress: 2552/3444.0\n",
            "progress: 2553/3444.0\n",
            "progress: 2554/3444.0\n",
            "progress: 2555/3444.0\n",
            "progress: 2556/3444.0\n",
            "progress: 2557/3444.0\n",
            "progress: 2558/3444.0\n",
            "progress: 2559/3444.0\n",
            "progress: 2560/3444.0\n",
            "progress: 2561/3444.0\n",
            "progress: 2562/3444.0\n",
            "progress: 2563/3444.0\n",
            "progress: 2564/3444.0\n",
            "progress: 2565/3444.0\n",
            "progress: 2566/3444.0\n",
            "progress: 2567/3444.0\n",
            "progress: 2568/3444.0\n",
            "progress: 2569/3444.0\n",
            "progress: 2570/3444.0\n",
            "progress: 2571/3444.0\n",
            "progress: 2572/3444.0\n",
            "progress: 2573/3444.0\n",
            "progress: 2574/3444.0\n",
            "progress: 2575/3444.0\n",
            "progress: 2576/3444.0\n",
            "progress: 2577/3444.0\n",
            "progress: 2578/3444.0\n",
            "progress: 2579/3444.0\n",
            "progress: 2580/3444.0\n",
            "progress: 2581/3444.0\n",
            "progress: 2582/3444.0\n",
            "progress: 2583/3444.0\n",
            "progress: 2584/3444.0\n",
            "progress: 2585/3444.0\n",
            "progress: 2586/3444.0\n",
            "progress: 2587/3444.0\n",
            "progress: 2588/3444.0\n",
            "progress: 2589/3444.0\n",
            "progress: 2590/3444.0\n",
            "progress: 2591/3444.0\n",
            "progress: 2592/3444.0\n",
            "progress: 2593/3444.0\n",
            "progress: 2594/3444.0\n",
            "progress: 2595/3444.0\n",
            "progress: 2596/3444.0\n",
            "progress: 2597/3444.0\n",
            "progress: 2598/3444.0\n",
            "progress: 2599/3444.0\n",
            "progress: 2600/3444.0\n",
            "progress: 2601/3444.0\n",
            "progress: 2602/3444.0\n",
            "progress: 2603/3444.0\n",
            "progress: 2604/3444.0\n",
            "progress: 2605/3444.0\n",
            "progress: 2606/3444.0\n",
            "progress: 2607/3444.0\n",
            "progress: 2608/3444.0\n",
            "progress: 2609/3444.0\n",
            "progress: 2610/3444.0\n",
            "progress: 2611/3444.0\n",
            "progress: 2612/3444.0\n",
            "progress: 2613/3444.0\n",
            "progress: 2614/3444.0\n",
            "progress: 2615/3444.0\n",
            "progress: 2616/3444.0\n",
            "progress: 2617/3444.0\n",
            "progress: 2618/3444.0\n",
            "progress: 2619/3444.0\n",
            "progress: 2620/3444.0\n",
            "progress: 2621/3444.0\n",
            "progress: 2622/3444.0\n",
            "progress: 2623/3444.0\n",
            "progress: 2624/3444.0\n",
            "progress: 2625/3444.0\n",
            "progress: 2626/3444.0\n",
            "progress: 2627/3444.0\n",
            "progress: 2628/3444.0\n",
            "progress: 2629/3444.0\n",
            "progress: 2630/3444.0\n",
            "progress: 2631/3444.0\n",
            "progress: 2632/3444.0\n",
            "progress: 2633/3444.0\n",
            "progress: 2634/3444.0\n",
            "progress: 2635/3444.0\n",
            "progress: 2636/3444.0\n",
            "progress: 2637/3444.0\n",
            "progress: 2638/3444.0\n",
            "progress: 2639/3444.0\n",
            "progress: 2640/3444.0\n",
            "progress: 2641/3444.0\n",
            "progress: 2642/3444.0\n",
            "progress: 2643/3444.0\n",
            "progress: 2644/3444.0\n",
            "progress: 2645/3444.0\n",
            "progress: 2646/3444.0\n",
            "progress: 2647/3444.0\n",
            "progress: 2648/3444.0\n",
            "progress: 2649/3444.0\n",
            "progress: 2650/3444.0\n",
            "progress: 2651/3444.0\n",
            "progress: 2652/3444.0\n",
            "progress: 2653/3444.0\n",
            "progress: 2654/3444.0\n",
            "progress: 2655/3444.0\n",
            "progress: 2656/3444.0\n",
            "progress: 2657/3444.0\n",
            "progress: 2658/3444.0\n",
            "progress: 2659/3444.0\n",
            "progress: 2660/3444.0\n",
            "progress: 2661/3444.0\n",
            "progress: 2662/3444.0\n",
            "progress: 2663/3444.0\n",
            "progress: 2664/3444.0\n",
            "progress: 2665/3444.0\n",
            "progress: 2666/3444.0\n",
            "progress: 2667/3444.0\n",
            "progress: 2668/3444.0\n",
            "progress: 2669/3444.0\n",
            "progress: 2670/3444.0\n",
            "progress: 2671/3444.0\n",
            "progress: 2672/3444.0\n",
            "progress: 2673/3444.0\n",
            "progress: 2674/3444.0\n",
            "progress: 2675/3444.0\n",
            "progress: 2676/3444.0\n",
            "progress: 2677/3444.0\n",
            "progress: 2678/3444.0\n",
            "progress: 2679/3444.0\n",
            "progress: 2680/3444.0\n",
            "progress: 2681/3444.0\n",
            "progress: 2682/3444.0\n",
            "progress: 2683/3444.0\n",
            "progress: 2684/3444.0\n",
            "progress: 2685/3444.0\n",
            "progress: 2686/3444.0\n",
            "progress: 2687/3444.0\n",
            "progress: 2688/3444.0\n",
            "progress: 2689/3444.0\n",
            "progress: 2690/3444.0\n",
            "progress: 2691/3444.0\n",
            "progress: 2692/3444.0\n",
            "progress: 2693/3444.0\n",
            "progress: 2694/3444.0\n",
            "progress: 2695/3444.0\n",
            "progress: 2696/3444.0\n",
            "progress: 2697/3444.0\n",
            "progress: 2698/3444.0\n",
            "progress: 2699/3444.0\n",
            "progress: 2700/3444.0\n",
            "progress: 2701/3444.0\n",
            "progress: 2702/3444.0\n",
            "progress: 2703/3444.0\n",
            "progress: 2704/3444.0\n",
            "progress: 2705/3444.0\n",
            "progress: 2706/3444.0\n",
            "progress: 2707/3444.0\n",
            "progress: 2708/3444.0\n",
            "progress: 2709/3444.0\n",
            "progress: 2710/3444.0\n",
            "progress: 2711/3444.0\n",
            "progress: 2712/3444.0\n",
            "progress: 2713/3444.0\n",
            "progress: 2714/3444.0\n",
            "progress: 2715/3444.0\n",
            "progress: 2716/3444.0\n",
            "progress: 2717/3444.0\n",
            "progress: 2718/3444.0\n",
            "progress: 2719/3444.0\n",
            "progress: 2720/3444.0\n",
            "progress: 2721/3444.0\n",
            "progress: 2722/3444.0\n",
            "progress: 2723/3444.0\n",
            "progress: 2724/3444.0\n",
            "progress: 2725/3444.0\n",
            "progress: 2726/3444.0\n",
            "progress: 2727/3444.0\n",
            "progress: 2728/3444.0\n",
            "progress: 2729/3444.0\n",
            "progress: 2730/3444.0\n",
            "progress: 2731/3444.0\n",
            "progress: 2732/3444.0\n",
            "progress: 2733/3444.0\n",
            "progress: 2734/3444.0\n",
            "progress: 2735/3444.0\n",
            "progress: 2736/3444.0\n",
            "progress: 2737/3444.0\n",
            "progress: 2738/3444.0\n",
            "progress: 2739/3444.0\n",
            "progress: 2740/3444.0\n",
            "progress: 2741/3444.0\n",
            "progress: 2742/3444.0\n",
            "progress: 2743/3444.0\n",
            "progress: 2744/3444.0\n",
            "progress: 2745/3444.0\n",
            "progress: 2746/3444.0\n",
            "progress: 2747/3444.0\n",
            "progress: 2748/3444.0\n",
            "progress: 2749/3444.0\n",
            "progress: 2750/3444.0\n",
            "progress: 2751/3444.0\n",
            "progress: 2752/3444.0\n",
            "progress: 2753/3444.0\n",
            "progress: 2754/3444.0\n",
            "progress: 2755/3444.0\n",
            "progress: 2756/3444.0\n",
            "progress: 2757/3444.0\n",
            "progress: 2758/3444.0\n",
            "progress: 2759/3444.0\n",
            "progress: 2760/3444.0\n",
            "progress: 2761/3444.0\n",
            "progress: 2762/3444.0\n",
            "progress: 2763/3444.0\n",
            "progress: 2764/3444.0\n",
            "progress: 2765/3444.0\n",
            "progress: 2766/3444.0\n",
            "progress: 2767/3444.0\n",
            "progress: 2768/3444.0\n",
            "progress: 2769/3444.0\n",
            "progress: 2770/3444.0\n",
            "progress: 2771/3444.0\n",
            "progress: 2772/3444.0\n",
            "progress: 2773/3444.0\n",
            "progress: 2774/3444.0\n",
            "progress: 2775/3444.0\n",
            "progress: 2776/3444.0\n",
            "progress: 2777/3444.0\n",
            "progress: 2778/3444.0\n",
            "progress: 2779/3444.0\n",
            "progress: 2780/3444.0\n",
            "progress: 2781/3444.0\n",
            "progress: 2782/3444.0\n",
            "progress: 2783/3444.0\n",
            "progress: 2784/3444.0\n",
            "progress: 2785/3444.0\n",
            "progress: 2786/3444.0\n",
            "progress: 2787/3444.0\n",
            "progress: 2788/3444.0\n",
            "progress: 2789/3444.0\n",
            "progress: 2790/3444.0\n",
            "progress: 2791/3444.0\n",
            "progress: 2792/3444.0\n",
            "progress: 2793/3444.0\n",
            "progress: 2794/3444.0\n",
            "progress: 2795/3444.0\n",
            "progress: 2796/3444.0\n",
            "progress: 2797/3444.0\n",
            "progress: 2798/3444.0\n",
            "progress: 2799/3444.0\n",
            "progress: 2800/3444.0\n",
            "progress: 2801/3444.0\n",
            "progress: 2802/3444.0\n",
            "progress: 2803/3444.0\n",
            "progress: 2804/3444.0\n",
            "progress: 2805/3444.0\n",
            "progress: 2806/3444.0\n",
            "progress: 2807/3444.0\n",
            "progress: 2808/3444.0\n",
            "progress: 2809/3444.0\n",
            "progress: 2810/3444.0\n",
            "progress: 2811/3444.0\n",
            "progress: 2812/3444.0\n",
            "progress: 2813/3444.0\n",
            "progress: 2814/3444.0\n",
            "progress: 2815/3444.0\n",
            "progress: 2816/3444.0\n",
            "progress: 2817/3444.0\n",
            "progress: 2818/3444.0\n",
            "progress: 2819/3444.0\n",
            "progress: 2820/3444.0\n",
            "progress: 2821/3444.0\n",
            "progress: 2822/3444.0\n",
            "progress: 2823/3444.0\n",
            "progress: 2824/3444.0\n",
            "progress: 2825/3444.0\n",
            "progress: 2826/3444.0\n",
            "progress: 2827/3444.0\n",
            "progress: 2828/3444.0\n",
            "progress: 2829/3444.0\n",
            "progress: 2830/3444.0\n",
            "progress: 2831/3444.0\n",
            "progress: 2832/3444.0\n",
            "progress: 2833/3444.0\n",
            "progress: 2834/3444.0\n",
            "progress: 2835/3444.0\n",
            "progress: 2836/3444.0\n",
            "progress: 2837/3444.0\n",
            "progress: 2838/3444.0\n",
            "progress: 2839/3444.0\n",
            "progress: 2840/3444.0\n",
            "progress: 2841/3444.0\n",
            "progress: 2842/3444.0\n",
            "progress: 2843/3444.0\n",
            "progress: 2844/3444.0\n",
            "progress: 2845/3444.0\n",
            "progress: 2846/3444.0\n",
            "progress: 2847/3444.0\n",
            "progress: 2848/3444.0\n",
            "progress: 2849/3444.0\n",
            "progress: 2850/3444.0\n",
            "progress: 2851/3444.0\n",
            "progress: 2852/3444.0\n",
            "progress: 2853/3444.0\n",
            "progress: 2854/3444.0\n",
            "progress: 2855/3444.0\n",
            "progress: 2856/3444.0\n",
            "progress: 2857/3444.0\n",
            "progress: 2858/3444.0\n",
            "progress: 2859/3444.0\n",
            "progress: 2860/3444.0\n",
            "progress: 2861/3444.0\n",
            "progress: 2862/3444.0\n",
            "progress: 2863/3444.0\n",
            "progress: 2864/3444.0\n",
            "progress: 2865/3444.0\n",
            "progress: 2866/3444.0\n",
            "progress: 2867/3444.0\n",
            "progress: 2868/3444.0\n",
            "progress: 2869/3444.0\n",
            "progress: 2870/3444.0\n",
            "progress: 2871/3444.0\n",
            "progress: 2872/3444.0\n",
            "progress: 2873/3444.0\n",
            "progress: 2874/3444.0\n",
            "progress: 2875/3444.0\n",
            "progress: 2876/3444.0\n",
            "progress: 2877/3444.0\n",
            "progress: 2878/3444.0\n",
            "progress: 2879/3444.0\n",
            "progress: 2880/3444.0\n",
            "progress: 2881/3444.0\n",
            "progress: 2882/3444.0\n",
            "progress: 2883/3444.0\n",
            "progress: 2884/3444.0\n",
            "progress: 2885/3444.0\n",
            "progress: 2886/3444.0\n",
            "progress: 2887/3444.0\n",
            "progress: 2888/3444.0\n",
            "progress: 2889/3444.0\n",
            "progress: 2890/3444.0\n",
            "progress: 2891/3444.0\n",
            "progress: 2892/3444.0\n",
            "progress: 2893/3444.0\n",
            "progress: 2894/3444.0\n",
            "progress: 2895/3444.0\n",
            "progress: 2896/3444.0\n",
            "progress: 2897/3444.0\n",
            "progress: 2898/3444.0\n",
            "progress: 2899/3444.0\n",
            "progress: 2900/3444.0\n",
            "progress: 2901/3444.0\n",
            "progress: 2902/3444.0\n",
            "progress: 2903/3444.0\n",
            "progress: 2904/3444.0\n",
            "progress: 2905/3444.0\n",
            "progress: 2906/3444.0\n",
            "progress: 2907/3444.0\n",
            "progress: 2908/3444.0\n",
            "progress: 2909/3444.0\n",
            "progress: 2910/3444.0\n",
            "progress: 2911/3444.0\n",
            "progress: 2912/3444.0\n",
            "progress: 2913/3444.0\n",
            "progress: 2914/3444.0\n",
            "progress: 2915/3444.0\n",
            "progress: 2916/3444.0\n",
            "progress: 2917/3444.0\n",
            "progress: 2918/3444.0\n",
            "progress: 2919/3444.0\n",
            "progress: 2920/3444.0\n",
            "progress: 2921/3444.0\n",
            "progress: 2922/3444.0\n",
            "progress: 2923/3444.0\n",
            "progress: 2924/3444.0\n",
            "progress: 2925/3444.0\n",
            "progress: 2926/3444.0\n",
            "progress: 2927/3444.0\n",
            "progress: 2928/3444.0\n",
            "progress: 2929/3444.0\n",
            "progress: 2930/3444.0\n",
            "progress: 2931/3444.0\n",
            "progress: 2932/3444.0\n",
            "progress: 2933/3444.0\n",
            "progress: 2934/3444.0\n",
            "progress: 2935/3444.0\n",
            "progress: 2936/3444.0\n",
            "progress: 2937/3444.0\n",
            "progress: 2938/3444.0\n",
            "progress: 2939/3444.0\n",
            "progress: 2940/3444.0\n",
            "progress: 2941/3444.0\n",
            "progress: 2942/3444.0\n",
            "progress: 2943/3444.0\n",
            "progress: 2944/3444.0\n",
            "progress: 2945/3444.0\n",
            "progress: 2946/3444.0\n",
            "progress: 2947/3444.0\n",
            "progress: 2948/3444.0\n",
            "progress: 2949/3444.0\n",
            "progress: 2950/3444.0\n",
            "progress: 2951/3444.0\n",
            "progress: 2952/3444.0\n",
            "progress: 2953/3444.0\n",
            "progress: 2954/3444.0\n",
            "progress: 2955/3444.0\n",
            "progress: 2956/3444.0\n",
            "progress: 2957/3444.0\n",
            "progress: 2958/3444.0\n",
            "progress: 2959/3444.0\n",
            "progress: 2960/3444.0\n",
            "progress: 2961/3444.0\n",
            "progress: 2962/3444.0\n",
            "progress: 2963/3444.0\n",
            "progress: 2964/3444.0\n",
            "progress: 2965/3444.0\n",
            "progress: 2966/3444.0\n",
            "progress: 2967/3444.0\n",
            "progress: 2968/3444.0\n",
            "progress: 2969/3444.0\n",
            "progress: 2970/3444.0\n",
            "progress: 2971/3444.0\n",
            "progress: 2972/3444.0\n",
            "progress: 2973/3444.0\n",
            "progress: 2974/3444.0\n",
            "progress: 2975/3444.0\n",
            "progress: 2976/3444.0\n",
            "progress: 2977/3444.0\n",
            "progress: 2978/3444.0\n",
            "progress: 2979/3444.0\n",
            "progress: 2980/3444.0\n",
            "progress: 2981/3444.0\n",
            "progress: 2982/3444.0\n",
            "progress: 2983/3444.0\n",
            "progress: 2984/3444.0\n",
            "progress: 2985/3444.0\n",
            "progress: 2986/3444.0\n",
            "progress: 2987/3444.0\n",
            "progress: 2988/3444.0\n",
            "progress: 2989/3444.0\n",
            "progress: 2990/3444.0\n",
            "progress: 2991/3444.0\n",
            "progress: 2992/3444.0\n",
            "progress: 2993/3444.0\n",
            "progress: 2994/3444.0\n",
            "progress: 2995/3444.0\n",
            "progress: 2996/3444.0\n",
            "progress: 2997/3444.0\n",
            "progress: 2998/3444.0\n",
            "progress: 2999/3444.0\n",
            "progress: 3000/3444.0\n",
            "progress: 3001/3444.0\n",
            "progress: 3002/3444.0\n",
            "progress: 3003/3444.0\n",
            "progress: 3004/3444.0\n",
            "progress: 3005/3444.0\n",
            "progress: 3006/3444.0\n",
            "progress: 3007/3444.0\n",
            "progress: 3008/3444.0\n",
            "progress: 3009/3444.0\n",
            "progress: 3010/3444.0\n",
            "progress: 3011/3444.0\n",
            "progress: 3012/3444.0\n",
            "progress: 3013/3444.0\n",
            "progress: 3014/3444.0\n",
            "progress: 3015/3444.0\n",
            "progress: 3016/3444.0\n",
            "progress: 3017/3444.0\n",
            "progress: 3018/3444.0\n",
            "progress: 3019/3444.0\n",
            "progress: 3020/3444.0\n",
            "progress: 3021/3444.0\n",
            "progress: 3022/3444.0\n",
            "progress: 3023/3444.0\n",
            "progress: 3024/3444.0\n",
            "progress: 3025/3444.0\n",
            "progress: 3026/3444.0\n",
            "progress: 3027/3444.0\n",
            "progress: 3028/3444.0\n",
            "progress: 3029/3444.0\n",
            "progress: 3030/3444.0\n",
            "progress: 3031/3444.0\n",
            "progress: 3032/3444.0\n",
            "progress: 3033/3444.0\n",
            "progress: 3034/3444.0\n",
            "progress: 3035/3444.0\n",
            "progress: 3036/3444.0\n",
            "progress: 3037/3444.0\n",
            "progress: 3038/3444.0\n",
            "progress: 3039/3444.0\n",
            "progress: 3040/3444.0\n",
            "progress: 3041/3444.0\n",
            "progress: 3042/3444.0\n",
            "progress: 3043/3444.0\n",
            "progress: 3044/3444.0\n",
            "progress: 3045/3444.0\n",
            "progress: 3046/3444.0\n",
            "progress: 3047/3444.0\n",
            "progress: 3048/3444.0\n",
            "progress: 3049/3444.0\n",
            "progress: 3050/3444.0\n",
            "progress: 3051/3444.0\n",
            "progress: 3052/3444.0\n",
            "progress: 3053/3444.0\n",
            "progress: 3054/3444.0\n",
            "progress: 3055/3444.0\n",
            "progress: 3056/3444.0\n",
            "progress: 3057/3444.0\n",
            "progress: 3058/3444.0\n",
            "progress: 3059/3444.0\n",
            "progress: 3060/3444.0\n",
            "progress: 3061/3444.0\n",
            "progress: 3062/3444.0\n",
            "progress: 3063/3444.0\n",
            "progress: 3064/3444.0\n",
            "progress: 3065/3444.0\n",
            "progress: 3066/3444.0\n",
            "progress: 3067/3444.0\n",
            "progress: 3068/3444.0\n",
            "progress: 3069/3444.0\n",
            "progress: 3070/3444.0\n",
            "progress: 3071/3444.0\n",
            "progress: 3072/3444.0\n",
            "progress: 3073/3444.0\n",
            "progress: 3074/3444.0\n",
            "progress: 3075/3444.0\n",
            "progress: 3076/3444.0\n",
            "progress: 3077/3444.0\n",
            "progress: 3078/3444.0\n",
            "progress: 3079/3444.0\n",
            "progress: 3080/3444.0\n",
            "progress: 3081/3444.0\n",
            "progress: 3082/3444.0\n",
            "progress: 3083/3444.0\n",
            "progress: 3084/3444.0\n",
            "progress: 3085/3444.0\n",
            "progress: 3086/3444.0\n",
            "progress: 3087/3444.0\n",
            "progress: 3088/3444.0\n",
            "progress: 3089/3444.0\n",
            "progress: 3090/3444.0\n",
            "progress: 3091/3444.0\n",
            "progress: 3092/3444.0\n",
            "progress: 3093/3444.0\n",
            "progress: 3094/3444.0\n",
            "progress: 3095/3444.0\n",
            "progress: 3096/3444.0\n",
            "progress: 3097/3444.0\n",
            "progress: 3098/3444.0\n",
            "progress: 3099/3444.0\n",
            "progress: 3100/3444.0\n",
            "progress: 3101/3444.0\n",
            "progress: 3102/3444.0\n",
            "progress: 3103/3444.0\n",
            "progress: 3104/3444.0\n",
            "progress: 3105/3444.0\n",
            "progress: 3106/3444.0\n",
            "progress: 3107/3444.0\n",
            "progress: 3108/3444.0\n",
            "progress: 3109/3444.0\n",
            "progress: 3110/3444.0\n",
            "progress: 3111/3444.0\n",
            "progress: 3112/3444.0\n",
            "progress: 3113/3444.0\n",
            "progress: 3114/3444.0\n",
            "progress: 3115/3444.0\n",
            "progress: 3116/3444.0\n",
            "progress: 3117/3444.0\n",
            "progress: 3118/3444.0\n",
            "progress: 3119/3444.0\n",
            "progress: 3120/3444.0\n",
            "progress: 3121/3444.0\n",
            "progress: 3122/3444.0\n",
            "progress: 3123/3444.0\n",
            "progress: 3124/3444.0\n",
            "progress: 3125/3444.0\n",
            "progress: 3126/3444.0\n",
            "progress: 3127/3444.0\n",
            "progress: 3128/3444.0\n",
            "progress: 3129/3444.0\n",
            "progress: 3130/3444.0\n",
            "progress: 3131/3444.0\n",
            "progress: 3132/3444.0\n",
            "progress: 3133/3444.0\n",
            "progress: 3134/3444.0\n",
            "progress: 3135/3444.0\n",
            "progress: 3136/3444.0\n",
            "progress: 3137/3444.0\n",
            "progress: 3138/3444.0\n",
            "progress: 3139/3444.0\n",
            "progress: 3140/3444.0\n",
            "progress: 3141/3444.0\n",
            "progress: 3142/3444.0\n",
            "progress: 3143/3444.0\n",
            "progress: 3144/3444.0\n",
            "progress: 3145/3444.0\n",
            "progress: 3146/3444.0\n",
            "progress: 3147/3444.0\n",
            "progress: 3148/3444.0\n",
            "progress: 3149/3444.0\n",
            "progress: 3150/3444.0\n",
            "progress: 3151/3444.0\n",
            "progress: 3152/3444.0\n",
            "progress: 3153/3444.0\n",
            "progress: 3154/3444.0\n",
            "progress: 3155/3444.0\n",
            "progress: 3156/3444.0\n",
            "progress: 3157/3444.0\n",
            "progress: 3158/3444.0\n",
            "progress: 3159/3444.0\n",
            "progress: 3160/3444.0\n",
            "progress: 3161/3444.0\n",
            "progress: 3162/3444.0\n",
            "progress: 3163/3444.0\n",
            "progress: 3164/3444.0\n",
            "progress: 3165/3444.0\n",
            "progress: 3166/3444.0\n",
            "progress: 3167/3444.0\n",
            "progress: 3168/3444.0\n",
            "progress: 3169/3444.0\n",
            "progress: 3170/3444.0\n",
            "progress: 3171/3444.0\n",
            "progress: 3172/3444.0\n",
            "progress: 3173/3444.0\n",
            "progress: 3174/3444.0\n",
            "progress: 3175/3444.0\n",
            "progress: 3176/3444.0\n",
            "progress: 3177/3444.0\n",
            "progress: 3178/3444.0\n",
            "progress: 3179/3444.0\n",
            "progress: 3180/3444.0\n",
            "progress: 3181/3444.0\n",
            "progress: 3182/3444.0\n",
            "progress: 3183/3444.0\n",
            "progress: 3184/3444.0\n",
            "progress: 3185/3444.0\n",
            "progress: 3186/3444.0\n",
            "progress: 3187/3444.0\n",
            "progress: 3188/3444.0\n",
            "progress: 3189/3444.0\n",
            "progress: 3190/3444.0\n",
            "progress: 3191/3444.0\n",
            "progress: 3192/3444.0\n",
            "progress: 3193/3444.0\n",
            "progress: 3194/3444.0\n",
            "progress: 3195/3444.0\n",
            "progress: 3196/3444.0\n",
            "progress: 3197/3444.0\n",
            "progress: 3198/3444.0\n",
            "progress: 3199/3444.0\n",
            "progress: 3200/3444.0\n",
            "progress: 3201/3444.0\n",
            "progress: 3202/3444.0\n",
            "progress: 3203/3444.0\n",
            "progress: 3204/3444.0\n",
            "progress: 3205/3444.0\n",
            "progress: 3206/3444.0\n",
            "progress: 3207/3444.0\n",
            "progress: 3208/3444.0\n",
            "progress: 3209/3444.0\n",
            "progress: 3210/3444.0\n",
            "progress: 3211/3444.0\n",
            "progress: 3212/3444.0\n",
            "progress: 3213/3444.0\n",
            "progress: 3214/3444.0\n",
            "progress: 3215/3444.0\n",
            "progress: 3216/3444.0\n",
            "progress: 3217/3444.0\n",
            "progress: 3218/3444.0\n",
            "progress: 3219/3444.0\n",
            "progress: 3220/3444.0\n",
            "progress: 3221/3444.0\n",
            "progress: 3222/3444.0\n",
            "progress: 3223/3444.0\n",
            "progress: 3224/3444.0\n",
            "progress: 3225/3444.0\n",
            "progress: 3226/3444.0\n",
            "progress: 3227/3444.0\n",
            "progress: 3228/3444.0\n",
            "progress: 3229/3444.0\n",
            "progress: 3230/3444.0\n",
            "progress: 3231/3444.0\n",
            "progress: 3232/3444.0\n",
            "progress: 3233/3444.0\n",
            "progress: 3234/3444.0\n",
            "progress: 3235/3444.0\n",
            "progress: 3236/3444.0\n",
            "progress: 3237/3444.0\n",
            "progress: 3238/3444.0\n",
            "progress: 3239/3444.0\n",
            "progress: 3240/3444.0\n",
            "progress: 3241/3444.0\n",
            "progress: 3242/3444.0\n",
            "progress: 3243/3444.0\n",
            "progress: 3244/3444.0\n",
            "progress: 3245/3444.0\n",
            "progress: 3246/3444.0\n",
            "progress: 3247/3444.0\n",
            "progress: 3248/3444.0\n",
            "progress: 3249/3444.0\n",
            "progress: 3250/3444.0\n",
            "progress: 3251/3444.0\n",
            "progress: 3252/3444.0\n",
            "progress: 3253/3444.0\n",
            "progress: 3254/3444.0\n",
            "progress: 3255/3444.0\n",
            "progress: 3256/3444.0\n",
            "progress: 3257/3444.0\n",
            "progress: 3258/3444.0\n",
            "progress: 3259/3444.0\n",
            "progress: 3260/3444.0\n",
            "progress: 3261/3444.0\n",
            "progress: 3262/3444.0\n",
            "progress: 3263/3444.0\n",
            "progress: 3264/3444.0\n",
            "progress: 3265/3444.0\n",
            "progress: 3266/3444.0\n",
            "progress: 3267/3444.0\n",
            "progress: 3268/3444.0\n",
            "progress: 3269/3444.0\n",
            "progress: 3270/3444.0\n",
            "progress: 3271/3444.0\n",
            "progress: 3272/3444.0\n",
            "progress: 3273/3444.0\n",
            "progress: 3274/3444.0\n",
            "progress: 3275/3444.0\n",
            "progress: 3276/3444.0\n",
            "progress: 3277/3444.0\n",
            "progress: 3278/3444.0\n",
            "progress: 3279/3444.0\n",
            "progress: 3280/3444.0\n",
            "progress: 3281/3444.0\n",
            "progress: 3282/3444.0\n",
            "progress: 3283/3444.0\n",
            "progress: 3284/3444.0\n",
            "progress: 3285/3444.0\n",
            "progress: 3286/3444.0\n",
            "progress: 3287/3444.0\n",
            "progress: 3288/3444.0\n",
            "progress: 3289/3444.0\n",
            "progress: 3290/3444.0\n",
            "progress: 3291/3444.0\n",
            "progress: 3292/3444.0\n",
            "progress: 3293/3444.0\n",
            "progress: 3294/3444.0\n",
            "progress: 3295/3444.0\n",
            "progress: 3296/3444.0\n",
            "progress: 3297/3444.0\n",
            "progress: 3298/3444.0\n",
            "progress: 3299/3444.0\n",
            "progress: 3300/3444.0\n",
            "progress: 3301/3444.0\n",
            "progress: 3302/3444.0\n",
            "progress: 3303/3444.0\n",
            "progress: 3304/3444.0\n",
            "progress: 3305/3444.0\n",
            "progress: 3306/3444.0\n",
            "progress: 3307/3444.0\n",
            "progress: 3308/3444.0\n",
            "progress: 3309/3444.0\n",
            "progress: 3310/3444.0\n",
            "progress: 3311/3444.0\n",
            "progress: 3312/3444.0\n",
            "progress: 3313/3444.0\n",
            "progress: 3314/3444.0\n",
            "progress: 3315/3444.0\n",
            "progress: 3316/3444.0\n",
            "progress: 3317/3444.0\n",
            "progress: 3318/3444.0\n",
            "progress: 3319/3444.0\n",
            "progress: 3320/3444.0\n",
            "progress: 3321/3444.0\n",
            "progress: 3322/3444.0\n",
            "progress: 3323/3444.0\n",
            "progress: 3324/3444.0\n",
            "progress: 3325/3444.0\n",
            "progress: 3326/3444.0\n",
            "progress: 3327/3444.0\n",
            "progress: 3328/3444.0\n",
            "progress: 3329/3444.0\n",
            "progress: 3330/3444.0\n",
            "progress: 3331/3444.0\n",
            "progress: 3332/3444.0\n",
            "progress: 3333/3444.0\n",
            "progress: 3334/3444.0\n",
            "progress: 3335/3444.0\n",
            "progress: 3336/3444.0\n",
            "progress: 3337/3444.0\n",
            "progress: 3338/3444.0\n",
            "progress: 3339/3444.0\n",
            "progress: 3340/3444.0\n",
            "progress: 3341/3444.0\n",
            "progress: 3342/3444.0\n",
            "progress: 3343/3444.0\n",
            "progress: 3344/3444.0\n",
            "progress: 3345/3444.0\n",
            "progress: 3346/3444.0\n",
            "progress: 3347/3444.0\n",
            "progress: 3348/3444.0\n",
            "progress: 3349/3444.0\n",
            "progress: 3350/3444.0\n",
            "progress: 3351/3444.0\n",
            "progress: 3352/3444.0\n",
            "progress: 3353/3444.0\n",
            "progress: 3354/3444.0\n",
            "progress: 3355/3444.0\n",
            "progress: 3356/3444.0\n",
            "progress: 3357/3444.0\n",
            "progress: 3358/3444.0\n",
            "progress: 3359/3444.0\n",
            "progress: 3360/3444.0\n",
            "progress: 3361/3444.0\n",
            "progress: 3362/3444.0\n",
            "progress: 3363/3444.0\n",
            "progress: 3364/3444.0\n",
            "progress: 3365/3444.0\n",
            "progress: 3366/3444.0\n",
            "progress: 3367/3444.0\n",
            "progress: 3368/3444.0\n",
            "progress: 3369/3444.0\n",
            "progress: 3370/3444.0\n",
            "progress: 3371/3444.0\n",
            "progress: 3372/3444.0\n",
            "progress: 3373/3444.0\n",
            "progress: 3374/3444.0\n",
            "progress: 3375/3444.0\n",
            "progress: 3376/3444.0\n",
            "progress: 3377/3444.0\n",
            "progress: 3378/3444.0\n",
            "progress: 3379/3444.0\n",
            "progress: 3380/3444.0\n",
            "progress: 3381/3444.0\n",
            "progress: 3382/3444.0\n",
            "progress: 3383/3444.0\n",
            "progress: 3384/3444.0\n",
            "progress: 3385/3444.0\n",
            "progress: 3386/3444.0\n",
            "progress: 3387/3444.0\n",
            "progress: 3388/3444.0\n",
            "progress: 3389/3444.0\n",
            "progress: 3390/3444.0\n",
            "progress: 3391/3444.0\n",
            "progress: 3392/3444.0\n",
            "progress: 3393/3444.0\n",
            "progress: 3394/3444.0\n",
            "progress: 3395/3444.0\n",
            "progress: 3396/3444.0\n",
            "progress: 3397/3444.0\n",
            "progress: 3398/3444.0\n",
            "progress: 3399/3444.0\n",
            "progress: 3400/3444.0\n",
            "progress: 3401/3444.0\n",
            "progress: 3402/3444.0\n",
            "progress: 3403/3444.0\n",
            "progress: 3404/3444.0\n",
            "progress: 3405/3444.0\n",
            "progress: 3406/3444.0\n",
            "progress: 3407/3444.0\n",
            "progress: 3408/3444.0\n",
            "progress: 3409/3444.0\n",
            "progress: 3410/3444.0\n",
            "progress: 3411/3444.0\n",
            "progress: 3412/3444.0\n",
            "progress: 3413/3444.0\n",
            "progress: 3414/3444.0\n",
            "progress: 3415/3444.0\n",
            "progress: 3416/3444.0\n",
            "progress: 3417/3444.0\n",
            "progress: 3418/3444.0\n",
            "progress: 3419/3444.0\n",
            "progress: 3420/3444.0\n",
            "progress: 3421/3444.0\n",
            "progress: 3422/3444.0\n",
            "progress: 3423/3444.0\n",
            "progress: 3424/3444.0\n",
            "progress: 3425/3444.0\n",
            "progress: 3426/3444.0\n",
            "progress: 3427/3444.0\n",
            "progress: 3428/3444.0\n",
            "progress: 3429/3444.0\n",
            "progress: 3430/3444.0\n",
            "progress: 3431/3444.0\n",
            "progress: 3432/3444.0\n",
            "progress: 3433/3444.0\n",
            "progress: 3434/3444.0\n",
            "progress: 3435/3444.0\n",
            "progress: 3436/3444.0\n",
            "progress: 3437/3444.0\n",
            "progress: 3438/3444.0\n",
            "progress: 3439/3444.0\n",
            "progress: 3440/3444.0\n",
            "progress: 3441/3444.0\n",
            "progress: 3442/3444.0\n",
            "progress: 3443/3444.0\n",
            "progress: 3444/3444.0\n",
            "progress: 3445/3444.0\n",
            "progress: 3446/3444.0\n",
            "progress: 3447/3444.0\n",
            "progress: 3448/3444.0\n",
            "progress: 3449/3444.0\n",
            "progress: 3450/3444.0\n",
            "progress: 3451/3444.0\n",
            "progress: 3452/3444.0\n",
            "progress: 3453/3444.0\n",
            "progress: 3454/3444.0\n",
            "progress: 3455/3444.0\n",
            "progress: 3456/3444.0\n",
            "progress: 3457/3444.0\n",
            "progress: 3458/3444.0\n",
            "progress: 3459/3444.0\n",
            "progress: 3460/3444.0\n",
            "progress: 3461/3444.0\n",
            "progress: 3462/3444.0\n",
            "progress: 3463/3444.0\n",
            "progress: 3464/3444.0\n",
            "progress: 3465/3444.0\n",
            "progress: 3466/3444.0\n",
            "progress: 3467/3444.0\n",
            "progress: 3468/3444.0\n",
            "progress: 3469/3444.0\n",
            "progress: 3470/3444.0\n",
            "progress: 3471/3444.0\n",
            "progress: 3472/3444.0\n",
            "progress: 3473/3444.0\n",
            "progress: 3474/3444.0\n",
            "progress: 3475/3444.0\n",
            "progress: 3476/3444.0\n",
            "progress: 3477/3444.0\n",
            "progress: 3478/3444.0\n",
            "progress: 3479/3444.0\n",
            "progress: 3480/3444.0\n"
          ]
        }
      ]
    },
    {
      "cell_type": "code",
      "source": [
        "copy1 = library_img.copy().convert('RGB')\n",
        "png = np.array(copy1)\n",
        "print(png)"
      ],
      "metadata": {
        "colab": {
          "base_uri": "https://localhost:8080/"
        },
        "collapsed": true,
        "id": "-gt-Q6_h7dir",
        "outputId": "40ea6543-fbe5-4789-9f52-4c29bc2776dc"
      },
      "execution_count": 39,
      "outputs": [
        {
          "output_type": "stream",
          "name": "stdout",
          "text": [
            "[[[133 129 164]\n",
            "  [133 129 164]\n",
            "  [133 129 164]\n",
            "  ...\n",
            "  [187 206 221]\n",
            "  [187 206 221]\n",
            "  [189 207 222]]\n",
            "\n",
            " [[133 129 164]\n",
            "  [133 129 164]\n",
            "  [133 129 164]\n",
            "  ...\n",
            "  [187 206 221]\n",
            "  [188 207 222]\n",
            "  [190 207 223]]\n",
            "\n",
            " [[133 129 164]\n",
            "  [133 129 164]\n",
            "  [133 129 164]\n",
            "  ...\n",
            "  [188 207 222]\n",
            "  [189 208 223]\n",
            "  [190 207 223]]\n",
            "\n",
            " ...\n",
            "\n",
            " [[ 97  74  92]\n",
            "  [ 80  68  83]\n",
            "  [ 67  65  79]\n",
            "  ...\n",
            "  [ 36  66  98]\n",
            "  [ 39  70 102]\n",
            "  [ 41  71 105]]\n",
            "\n",
            " [[123  83 101]\n",
            "  [ 95  68  84]\n",
            "  [ 92  80  91]\n",
            "  ...\n",
            "  [ 35  65  97]\n",
            "  [ 38  68 101]\n",
            "  [ 40  70 104]]\n",
            "\n",
            " [[105  68  86]\n",
            "  [ 82  57  72]\n",
            "  [ 93  77  88]\n",
            "  ...\n",
            "  [ 34  64  96]\n",
            "  [ 37  67 100]\n",
            "  [ 47  77 111]]]\n"
          ]
        }
      ]
    },
    {
      "cell_type": "code",
      "source": [
        "display(copy)"
      ],
      "metadata": {
        "colab": {
          "base_uri": "https://localhost:8080/",
          "height": 591
        },
        "id": "chHeDElQHm0b",
        "outputId": "fec3b205-5bc4-4d39-f5c9-b99c015a61a2"
      },
      "execution_count": 93,
      "outputs": [
        {
          "output_type": "display_data",
          "data": {
            "text/plain": [
              "<PIL.Image.Image image mode=RGB size=600x574>"
            ],
            "image/png": "[encoded data removed]"
          },
          "metadata": {}
        }
      ]
    }
  ]
}