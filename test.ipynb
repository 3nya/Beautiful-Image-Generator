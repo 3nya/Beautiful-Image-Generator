{
  "nbformat": 4,
  "nbformat_minor": 0,
  "metadata": {
    "colab": {
      "provenance": [],
      "authorship_tag": "ABX9TyN++cbFcQ1cCA4WQ8FoDMB7",
      "include_colab_link": true
    },
    "kernelspec": {
      "name": "python3",
      "display_name": "Python 3"
    },
    "language_info": {
      "name": "python"
    }
  },
  "cells": [
    {
      "cell_type": "markdown",
      "metadata": {
        "id": "view-in-github",
        "colab_type": "text"
      },
      "source": [
        "<a href=\"https://colab.research.google.com/github/3nya/test1/blob/main/test.ipynb\" target=\"_parent\"><img src=\"https://colab.research.google.com/assets/colab-badge.svg\" alt=\"Open In Colab\"/></a>"
      ]
    },
    {
      "cell_type": "code",
      "source": [
        "%matplotlib inline"
      ],
      "metadata": {
        "id": "kOztWLOI08VZ"
      },
      "execution_count": 1,
      "outputs": []
    },
    {
      "cell_type": "code",
      "source": [
        "from PIL import Image\n",
        "\n",
        "import matplotlib.pyplot as plt\n",
        "import numpy as np"
      ],
      "metadata": {
        "id": "vAgN1da01L9x"
      },
      "execution_count": 2,
      "outputs": []
    },
    {
      "cell_type": "code",
      "source": [
        "def load_image( infilename ) :\n",
        "    img = Image.open( infilename )\n",
        "    img.load()\n",
        "    data = np.asarray( img, dtype=\"int32\" )\n",
        "    return data"
      ],
      "metadata": {
        "id": "QZdswaOb3Ny8"
      },
      "execution_count": 3,
      "outputs": []
    },
    {
      "cell_type": "code",
      "source": [
        "## upload file\n",
        "\n",
        "from google.colab import files\n",
        "uploaded = files.upload()\n",
        "\n",
        "filename = next(iter(uploaded))"
      ],
      "metadata": {
        "colab": {
          "base_uri": "https://localhost:8080/",
          "height": 73
        },
        "id": "ZryWyv0j7ZcL",
        "outputId": "abdef869-fe4d-48ff-b1e0-d31e8fb686f3"
      },
      "execution_count": 31,
      "outputs": [
        {
          "output_type": "display_data",
          "data": {
            "text/plain": [
              "<IPython.core.display.HTML object>"
            ],
            "text/html": [
              "\n",
              "     <input type=\"file\" id=\"files-85f284d0-eca8-4d22-a276-4f6e8dd57912\" name=\"files[]\" multiple disabled\n",
              "        style=\"border:none\" />\n",
              "     <output id=\"result-85f284d0-eca8-4d22-a276-4f6e8dd57912\">\n",
              "      Upload widget is only available when the cell has been executed in the\n",
              "      current browser session. Please rerun this cell to enable.\n",
              "      </output>\n",
              "      <script>// Copyright 2017 Google LLC\n",
              "//\n",
              "// Licensed under the Apache License, Version 2.0 (the \"License\");\n",
              "// you may not use this file except in compliance with the License.\n",
              "// You may obtain a copy of the License at\n",
              "//\n",
              "//      http://www.apache.org/licenses/LICENSE-2.0\n",
              "//\n",
              "// Unless required by applicable law or agreed to in writing, software\n",
              "// distributed under the License is distributed on an \"AS IS\" BASIS,\n",
              "// WITHOUT WARRANTIES OR CONDITIONS OF ANY KIND, either express or implied.\n",
              "// See the License for the specific language governing permissions and\n",
              "// limitations under the License.\n",
              "\n",
              "/**\n",
              " * @fileoverview Helpers for google.colab Python module.\n",
              " */\n",
              "(function(scope) {\n",
              "function span(text, styleAttributes = {}) {\n",
              "  const element = document.createElement('span');\n",
              "  element.textContent = text;\n",
              "  for (const key of Object.keys(styleAttributes)) {\n",
              "    element.style[key] = styleAttributes[key];\n",
              "  }\n",
              "  return element;\n",
              "}\n",
              "\n",
              "// Max number of bytes which will be uploaded at a time.\n",
              "const MAX_PAYLOAD_SIZE = 100 * 1024;\n",
              "\n",
              "function _uploadFiles(inputId, outputId) {\n",
              "  const steps = uploadFilesStep(inputId, outputId);\n",
              "  const outputElement = document.getElementById(outputId);\n",
              "  // Cache steps on the outputElement to make it available for the next call\n",
              "  // to uploadFilesContinue from Python.\n",
              "  outputElement.steps = steps;\n",
              "\n",
              "  return _uploadFilesContinue(outputId);\n",
              "}\n",
              "\n",
              "// This is roughly an async generator (not supported in the browser yet),\n",
              "// where there are multiple asynchronous steps and the Python side is going\n",
              "// to poll for completion of each step.\n",
              "// This uses a Promise to block the python side on completion of each step,\n",
              "// then passes the result of the previous step as the input to the next step.\n",
              "function _uploadFilesContinue(outputId) {\n",
              "  const outputElement = document.getElementById(outputId);\n",
              "  const steps = outputElement.steps;\n",
              "\n",
              "  const next = steps.next(outputElement.lastPromiseValue);\n",
              "  return Promise.resolve(next.value.promise).then((value) => {\n",
              "    // Cache the last promise value to make it available to the next\n",
              "    // step of the generator.\n",
              "    outputElement.lastPromiseValue = value;\n",
              "    return next.value.response;\n",
              "  });\n",
              "}\n",
              "\n",
              "/**\n",
              " * Generator function which is called between each async step of the upload\n",
              " * process.\n",
              " * @param {string} inputId Element ID of the input file picker element.\n",
              " * @param {string} outputId Element ID of the output display.\n",
              " * @return {!Iterable<!Object>} Iterable of next steps.\n",
              " */\n",
              "function* uploadFilesStep(inputId, outputId) {\n",
              "  const inputElement = document.getElementById(inputId);\n",
              "  inputElement.disabled = false;\n",
              "\n",
              "  const outputElement = document.getElementById(outputId);\n",
              "  outputElement.innerHTML = '';\n",
              "\n",
              "  const pickedPromise = new Promise((resolve) => {\n",
              "    inputElement.addEventListener('change', (e) => {\n",
              "      resolve(e.target.files);\n",
              "    });\n",
              "  });\n",
              "\n",
              "  const cancel = document.createElement('button');\n",
              "  inputElement.parentElement.appendChild(cancel);\n",
              "  cancel.textContent = 'Cancel upload';\n",
              "  const cancelPromise = new Promise((resolve) => {\n",
              "    cancel.onclick = () => {\n",
              "      resolve(null);\n",
              "    };\n",
              "  });\n",
              "\n",
              "  // Wait for the user to pick the files.\n",
              "  const files = yield {\n",
              "    promise: Promise.race([pickedPromise, cancelPromise]),\n",
              "    response: {\n",
              "      action: 'starting',\n",
              "    }\n",
              "  };\n",
              "\n",
              "  cancel.remove();\n",
              "\n",
              "  // Disable the input element since further picks are not allowed.\n",
              "  inputElement.disabled = true;\n",
              "\n",
              "  if (!files) {\n",
              "    return {\n",
              "      response: {\n",
              "        action: 'complete',\n",
              "      }\n",
              "    };\n",
              "  }\n",
              "\n",
              "  for (const file of files) {\n",
              "    const li = document.createElement('li');\n",
              "    li.append(span(file.name, {fontWeight: 'bold'}));\n",
              "    li.append(span(\n",
              "        `(${file.type || 'n/a'}) - ${file.size} bytes, ` +\n",
              "        `last modified: ${\n",
              "            file.lastModifiedDate ? file.lastModifiedDate.toLocaleDateString() :\n",
              "                                    'n/a'} - `));\n",
              "    const percent = span('0% done');\n",
              "    li.appendChild(percent);\n",
              "\n",
              "    outputElement.appendChild(li);\n",
              "\n",
              "    const fileDataPromise = new Promise((resolve) => {\n",
              "      const reader = new FileReader();\n",
              "      reader.onload = (e) => {\n",
              "        resolve(e.target.result);\n",
              "      };\n",
              "      reader.readAsArrayBuffer(file);\n",
              "    });\n",
              "    // Wait for the data to be ready.\n",
              "    let fileData = yield {\n",
              "      promise: fileDataPromise,\n",
              "      response: {\n",
              "        action: 'continue',\n",
              "      }\n",
              "    };\n",
              "\n",
              "    // Use a chunked sending to avoid message size limits. See b/62115660.\n",
              "    let position = 0;\n",
              "    do {\n",
              "      const length = Math.min(fileData.byteLength - position, MAX_PAYLOAD_SIZE);\n",
              "      const chunk = new Uint8Array(fileData, position, length);\n",
              "      position += length;\n",
              "\n",
              "      const base64 = btoa(String.fromCharCode.apply(null, chunk));\n",
              "      yield {\n",
              "        response: {\n",
              "          action: 'append',\n",
              "          file: file.name,\n",
              "          data: base64,\n",
              "        },\n",
              "      };\n",
              "\n",
              "      let percentDone = fileData.byteLength === 0 ?\n",
              "          100 :\n",
              "          Math.round((position / fileData.byteLength) * 100);\n",
              "      percent.textContent = `${percentDone}% done`;\n",
              "\n",
              "    } while (position < fileData.byteLength);\n",
              "  }\n",
              "\n",
              "  // All done.\n",
              "  yield {\n",
              "    response: {\n",
              "      action: 'complete',\n",
              "    }\n",
              "  };\n",
              "}\n",
              "\n",
              "scope.google = scope.google || {};\n",
              "scope.google.colab = scope.google.colab || {};\n",
              "scope.google.colab._files = {\n",
              "  _uploadFiles,\n",
              "  _uploadFilesContinue,\n",
              "};\n",
              "})(self);\n",
              "</script> "
            ]
          },
          "metadata": {}
        },
        {
          "output_type": "stream",
          "name": "stdout",
          "text": [
            "Saving rgbmap.png to rgbmap (2).png\n"
          ]
        }
      ]
    },
    {
      "cell_type": "code",
      "source": [
        "# converting file to Image object\n",
        "img = Image.open(filename)\n",
        "\n",
        "#Image.open(filename)"
      ],
      "metadata": {
        "id": "LJeVExWQ6QXI"
      },
      "execution_count": 32,
      "outputs": []
    },
    {
      "cell_type": "code",
      "source": [
        "(left, upper, right, lower) = (20, 20, 100, 100)\n",
        "crop_test = img.crop((left, upper, right, lower))\n",
        "\n"
      ],
      "metadata": {
        "id": "BhL9CCyg7c7u"
      },
      "execution_count": 33,
      "outputs": []
    },
    {
      "cell_type": "code",
      "source": [
        "crop_test"
      ],
      "metadata": {
        "colab": {
          "base_uri": "https://localhost:8080/",
          "height": 97
        },
        "id": "nBRP6MFV7thy",
        "outputId": "d277543b-fb87-458f-9dec-2bfdee979878"
      },
      "execution_count": 34,
      "outputs": [
        {
          "output_type": "execute_result",
          "data": {
            "text/plain": [
              "<PIL.Image.Image image mode=RGB size=80x80>"
            ],
            "image/png": "[encoded data removed]"
          },
          "metadata": {},
          "execution_count": 34
        }
      ]
    },
    {
      "cell_type": "code",
      "source": [
        "display(crop_test)"
      ],
      "metadata": {
        "colab": {
          "base_uri": "https://localhost:8080/",
          "height": 97
        },
        "id": "u7OjR0CQ_von",
        "outputId": "f2033b4b-acb9-4fd1-dee0-683446bc05db"
      },
      "execution_count": 35,
      "outputs": [
        {
          "output_type": "display_data",
          "data": {
            "text/plain": [
              "<PIL.Image.Image image mode=RGB size=80x80>"
            ],
            "image/png": "[encoded data removed]"
          },
          "metadata": {}
        }
      ]
    },
    {
      "cell_type": "code",
      "source": [
        "# putting all cropped images in list\n",
        "\n",
        "listtest = []\n",
        "\n",
        "# each cropped image is 25x25\n",
        "for i in range(0, img.width-25, 25):\n",
        "  for j in range(0, img.height-25, 25):\n",
        "    listtest.append(img.crop((j, i, j+25, i+25)))\n",
        "    crop = img.crop((j, i, j+25, i+25))\n",
        "    ## display(crop)\n"
      ],
      "metadata": {
        "id": "M5XzRIz_8Q04"
      },
      "execution_count": 36,
      "outputs": []
    },
    {
      "cell_type": "code",
      "source": [
        "# rgb values array test\n",
        "\n",
        "for i in range(len(listtest)):\n",
        "  #np.average(crop, axis=(0,1))\n",
        "  hi = np.average((listtest[i]), axis=(0,1))\n",
        "  print(hi)\n"
      ],
      "metadata": {
        "colab": {
          "base_uri": "https://localhost:8080/"
        },
        "collapsed": true,
        "id": "-qufO5Nz-Zd9",
        "outputId": "e91a2017-2329-4437-b420-a326190701fe"
      },
      "execution_count": 67,
      "outputs": [
        {
          "output_type": "stream",
          "name": "stdout",
          "text": [
            "[243.      68.4272   0.    ]\n",
            "[237.5184 206.1328   0.    ]\n",
            "[131.5568 243.       0.    ]\n",
            "[ 12.4336 243.      23.8208]\n",
            "[  0.     243.     154.4672]\n",
            "[  0.     187.88   242.0352]\n",
            "[  2.2016  47.8432 243.    ]\n",
            "[ 97.0704   0.     243.    ]\n",
            "[223.832    0.     226.7184]\n",
            "[243.       0.     102.8752]\n",
            "[218.      61.3248   0.    ]\n",
            "[213.0624 184.8976   0.    ]\n",
            "[117.9488 218.       0.    ]\n",
            "[ 11.136  218.      21.3584]\n",
            "[  0.     218.     138.5344]\n",
            "[  0.     168.4848 217.1248]\n",
            "[  1.9808  42.8752 218.    ]\n",
            "[ 87.0432   0.     218.    ]\n",
            "[200.7872   0.     203.3552]\n",
            "[218.      0.     92.216]\n",
            "[193.     54.224   0.   ]\n",
            "[188.6048 163.6448   0.    ]\n",
            "[104.36 193.     0.  ]\n",
            "[  9.8288 193.      18.864 ]\n",
            "[  0.    193.    122.584]\n",
            "[  0.     149.1008 192.208 ]\n",
            "[  1.7424  37.896  193.    ]\n",
            "[ 76.9872   0.     193.    ]\n",
            "[177.7152   0.     180.    ]\n",
            "[193.       0.      81.5728]\n",
            "[168.      47.1408   0.    ]\n",
            "[164.1488 142.3904   0.    ]\n",
            "[ 90.7728 168.       0.    ]\n",
            "[  8.536  168.      16.3856]\n",
            "[  0.     168.     106.6448]\n",
            "[  0.     129.7152 167.2976]\n",
            "[  1.5072  32.9456 168.    ]\n",
            "[ 66.9568   0.     168.    ]\n",
            "[154.656    0.     156.6416]\n",
            "[168.       0.      70.9456]\n",
            "[143.      40.0384   0.    ]\n",
            "[139.6912 121.1424   0.    ]\n",
            "[ 77.1824 143.       0.    ]\n",
            "[  7.2304 143.      13.8976]\n",
            "[  0.     143.      90.6976]\n",
            "[  0.     110.3344 142.3824]\n",
            "[  1.2736  27.9744 143.    ]\n",
            "[ 56.9024   0.     143.    ]\n",
            "[131.6      0.     133.2928]\n",
            "[143.       0.      60.2928]\n",
            "[118.      32.9968   0.    ]\n",
            "[115.2784  99.912    0.    ]\n",
            "[ 63.64 118.     0.  ]\n",
            "[  5.944 118.     11.424]\n",
            "[  0.     118.      74.7456]\n",
            "[  0.      91.0272 117.5056]\n",
            "[  1.0304  23.0416 118.    ]\n",
            "[ 46.8832   0.     118.    ]\n",
            "[108.5584   0.     109.9776]\n",
            "[118.       0.      49.7168]\n",
            "[93.     25.8928  0.    ]\n",
            "[90.8192 78.6768  0.    ]\n",
            "[50.032 93.     0.   ]\n",
            "[ 4.6384 93.      8.9552]\n",
            "[ 0.     93.     58.8144]\n",
            "[ 0.     71.6304 92.6   ]\n",
            "[ 0.8016 18.0592 93.    ]\n",
            "[36.8528  0.     93.    ]\n",
            "[85.5136  0.     86.6192]\n",
            "[93.      0.     39.0576]\n",
            "[68.     18.7904  0.    ]\n",
            "[66.36   57.4256  0.    ]\n",
            "[36.4464 68.      0.    ]\n",
            "[ 3.3296 68.      6.4624]\n",
            "[ 0.     68.     42.8736]\n",
            "[ 0.    52.248 67.68 ]\n",
            "[ 0.5584 13.088  68.    ]\n",
            "[26.808  0.    68.   ]\n",
            "[62.4496  0.     63.2624]\n",
            "[68.      0.     28.4176]\n",
            "[43.     11.7056  0.    ]\n",
            "[41.904  36.1696  0.    ]\n",
            "[22.8576 43.      0.    ]\n",
            "[ 2.0336 43.      3.984 ]\n",
            "[ 0.     43.     26.9216]\n",
            "[ 0.     32.8624 42.7696]\n",
            "[ 0.3264  8.1328 43.    ]\n",
            "[16.7648  0.     43.    ]\n",
            "[39.384   0.     39.9056]\n",
            "[43.      0.     17.7792]\n",
            "[18.      4.6048  0.    ]\n",
            "[17.4512 14.9232  0.    ]\n",
            "[ 9.2656 18.      0.    ]\n",
            "[ 0.7312 18.      1.4928]\n",
            "[ 0.     18.     10.9744]\n",
            "[ 0.     13.4864 17.8608]\n",
            "[ 0.0896  3.1616 18.    ]\n",
            "[ 6.7072  0.     18.    ]\n",
            "[16.3312  0.     16.56  ]\n",
            "[18.      0.      7.1328]\n"
          ]
        }
      ]
    },
    {
      "cell_type": "code",
      "source": [
        "def find_Avg_Color(cropped_average, original_array):\n",
        "  r = cropped_average[0]\n",
        "  g = cropped_average[1]\n",
        "  b = cropped_average[2]\n",
        "\n",
        "  current_lowest = 1000\n",
        "  lowest_index = 0;\n",
        "  for i in range(len(original_array)):\n",
        "    total_difference = 0;\n",
        "    curr_avg = np.average(original_array[i], axis=(0,1))\n",
        "    #print(curr_avg)\n",
        "\n",
        "    total_difference += abs(r - curr_avg[0])\n",
        "    total_difference += abs(g - curr_avg[1])\n",
        "    total_difference += abs(b - curr_avg[2])\n",
        "\n",
        "    if (total_difference < current_lowest):\n",
        "      current_lowest = total_difference\n",
        "      lowest_index = i\n",
        "\n",
        "  return lowest_index\n"
      ],
      "metadata": {
        "id": "5ABuncyb63AS"
      },
      "execution_count": 85,
      "outputs": []
    },
    {
      "cell_type": "code",
      "source": [
        "#list contents\n",
        "\n",
        "for i in range(len(listtest)):\n",
        "  display(listtest[i])"
      ],
      "metadata": {
        "colab": {
          "base_uri": "https://localhost:8080/",
          "height": 1000
        },
        "id": "aD2NEPgPGGte",
        "outputId": "adbcf407-9030-4990-958a-174ec4deca82"
      },
      "execution_count": 52,
      "outputs": [
        {
          "output_type": "display_data",
          "data": {
            "text/plain": [
              "<PIL.Image.Image image mode=RGB size=25x25>"
            ],
            "image/png": "[encoded data removed]"
          },
          "metadata": {}
        },
        {
          "output_type": "display_data",
          "data": {
            "text/plain": [
              "<PIL.Image.Image image mode=RGB size=25x25>"
            ],
            "image/png": "[encoded data removed]"
          },
          "metadata": {}
        },
        {
          "output_type": "display_data",
          "data": {
            "text/plain": [
              "<PIL.Image.Image image mode=RGB size=25x25>"
            ],
            "image/png": "[encoded data removed]"
          },
          "metadata": {}
        },
        {
          "output_type": "display_data",
          "data": {
            "text/plain": [
              "<PIL.Image.Image image mode=RGB size=25x25>"
            ],
            "image/png": "[encoded data removed]"
          },
          "metadata": {}
        },
        {
          "output_type": "display_data",
          "data": {
            "text/plain": [
              "<PIL.Image.Image image mode=RGB size=25x25>"
            ],
            "image/png": "[encoded data removed]"
          },
          "metadata": {}
        },
        {
          "output_type": "display_data",
          "data": {
            "text/plain": [
              "<PIL.Image.Image image mode=RGB size=25x25>"
            ],
            "image/png": "[encoded data removed]"
          },
          "metadata": {}
        },
        {
          "output_type": "display_data",
          "data": {
            "text/plain": [
              "<PIL.Image.Image image mode=RGB size=25x25>"
            ],
            "image/png": "[encoded data removed]"
          },
          "metadata": {}
        },
        {
          "output_type": "display_data",
          "data": {
            "text/plain": [
              "<PIL.Image.Image image mode=RGB size=25x25>"
            ],
            "image/png": "[encoded data removed]"
          },
          "metadata": {}
        },
        {
          "output_type": "display_data",
          "data": {
            "text/plain": [
              "<PIL.Image.Image image mode=RGB size=25x25>"
            ],
            "image/png": "[encoded data removed]"
          },
          "metadata": {}
        },
        {
          "output_type": "display_data",
          "data": {
            "text/plain": [
              "<PIL.Image.Image image mode=RGB size=25x25>"
            ],
            "image/png": "[encoded data removed]"
          },
          "metadata": {}
        },
        {
          "output_type": "display_data",
          "data": {
            "text/plain": [
              "<PIL.Image.Image image mode=RGB size=25x25>"
            ],
            "image/png": "[encoded data removed]"
          },
          "metadata": {}
        },
        {
          "output_type": "display_data",
          "data": {
            "text/plain": [
              "<PIL.Image.Image image mode=RGB size=25x25>"
            ],
            "image/png": "[encoded data removed]"
          },
          "metadata": {}
        },
        {
          "output_type": "display_data",
          "data": {
            "text/plain": [
              "<PIL.Image.Image image mode=RGB size=25x25>"
            ],
            "image/png": "[encoded data removed]"
          },
          "metadata": {}
        },
        {
          "output_type": "display_data",
          "data": {
            "text/plain": [
              "<PIL.Image.Image image mode=RGB size=25x25>"
            ],
            "image/png": "[encoded data removed]"
          },
          "metadata": {}
        },
        {
          "output_type": "display_data",
          "data": {
            "text/plain": [
              "<PIL.Image.Image image mode=RGB size=25x25>"
            ],
            "image/png": "[encoded data removed]"
          },
          "metadata": {}
        },
        {
          "output_type": "display_data",
          "data": {
            "text/plain": [
              "<PIL.Image.Image image mode=RGB size=25x25>"
            ],
            "image/png": "[encoded data removed]"
          },
          "metadata": {}
        },
        {
          "output_type": "display_data",
          "data": {
            "text/plain": [
              "<PIL.Image.Image image mode=RGB size=25x25>"
            ],
            "image/png": "[encoded data removed]"
          },
          "metadata": {}
        },
        {
          "output_type": "display_data",
          "data": {
            "text/plain": [
              "<PIL.Image.Image image mode=RGB size=25x25>"
            ],
            "image/png": "[encoded data removed]"
          },
          "metadata": {}
        },
        {
          "output_type": "display_data",
          "data": {
            "text/plain": [
              "<PIL.Image.Image image mode=RGB size=25x25>"
            ],
            "image/png": "[encoded data removed]"
          },
          "metadata": {}
        },
        {
          "output_type": "display_data",
          "data": {
            "text/plain": [
              "<PIL.Image.Image image mode=RGB size=25x25>"
            ],
            "image/png": "[encoded data removed]"
          },
          "metadata": {}
        },
        {
          "output_type": "display_data",
          "data": {
            "text/plain": [
              "<PIL.Image.Image image mode=RGB size=25x25>"
            ],
            "image/png": "[encoded data removed]"
          },
          "metadata": {}
        },
        {
          "output_type": "display_data",
          "data": {
            "text/plain": [
              "<PIL.Image.Image image mode=RGB size=25x25>"
            ],
            "image/png": "[encoded data removed]"
          },
          "metadata": {}
        },
        {
          "output_type": "display_data",
          "data": {
            "text/plain": [
              "<PIL.Image.Image image mode=RGB size=25x25>"
            ],
            "image/png": "[encoded data removed]"
          },
          "metadata": {}
        },
        {
          "output_type": "display_data",
          "data": {
            "text/plain": [
              "<PIL.Image.Image image mode=RGB size=25x25>"
            ],
            "image/png": "[encoded data removed]"
          },
          "metadata": {}
        },
        {
          "output_type": "display_data",
          "data": {
            "text/plain": [
              "<PIL.Image.Image image mode=RGB size=25x25>"
            ],
            "image/png": "[encoded data removed]"
          },
          "metadata": {}
        },
        {
          "output_type": "display_data",
          "data": {
            "text/plain": [
              "<PIL.Image.Image image mode=RGB size=25x25>"
            ],
            "image/png": "[encoded data removed]"
          },
          "metadata": {}
        },
        {
          "output_type": "display_data",
          "data": {
            "text/plain": [
              "<PIL.Image.Image image mode=RGB size=25x25>"
            ],
            "image/png": "[encoded data removed]"
          },
          "metadata": {}
        },
        {
          "output_type": "display_data",
          "data": {
            "text/plain": [
              "<PIL.Image.Image image mode=RGB size=25x25>"
            ],
            "image/png": "[encoded data removed]"
          },
          "metadata": {}
        },
        {
          "output_type": "display_data",
          "data": {
            "text/plain": [
              "<PIL.Image.Image image mode=RGB size=25x25>"
            ],
            "image/png": "[encoded data removed]"
          },
          "metadata": {}
        },
        {
          "output_type": "display_data",
          "data": {
            "text/plain": [
              "<PIL.Image.Image image mode=RGB size=25x25>"
            ],
            "image/png": "[encoded data removed]"
          },
          "metadata": {}
        },
        {
          "output_type": "display_data",
          "data": {
            "text/plain": [
              "<PIL.Image.Image image mode=RGB size=25x25>"
            ],
            "image/png": "[encoded data removed]"
          },
          "metadata": {}
        },
        {
          "output_type": "display_data",
          "data": {
            "text/plain": [
              "<PIL.Image.Image image mode=RGB size=25x25>"
            ],
            "image/png": "[encoded data removed]"
          },
          "metadata": {}
        },
        {
          "output_type": "display_data",
          "data": {
            "text/plain": [
              "<PIL.Image.Image image mode=RGB size=25x25>"
            ],
            "image/png": "[encoded data removed]"
          },
          "metadata": {}
        },
        {
          "output_type": "display_data",
          "data": {
            "text/plain": [
              "<PIL.Image.Image image mode=RGB size=25x25>"
            ],
            "image/png": "[encoded data removed]"
          },
          "metadata": {}
        },
        {
          "output_type": "display_data",
          "data": {
            "text/plain": [
              "<PIL.Image.Image image mode=RGB size=25x25>"
            ],
            "image/png": "[encoded data removed]"
          },
          "metadata": {}
        },
        {
          "output_type": "display_data",
          "data": {
            "text/plain": [
              "<PIL.Image.Image image mode=RGB size=25x25>"
            ],
            "image/png": "[encoded data removed]"
          },
          "metadata": {}
        },
        {
          "output_type": "display_data",
          "data": {
            "text/plain": [
              "<PIL.Image.Image image mode=RGB size=25x25>"
            ],
            "image/png": "[encoded data removed]"
          },
          "metadata": {}
        },
        {
          "output_type": "display_data",
          "data": {
            "text/plain": [
              "<PIL.Image.Image image mode=RGB size=25x25>"
            ],
            "image/png": "[encoded data removed]"
          },
          "metadata": {}
        },
        {
          "output_type": "display_data",
          "data": {
            "text/plain": [
              "<PIL.Image.Image image mode=RGB size=25x25>"
            ],
            "image/png": "[encoded data removed]"
          },
          "metadata": {}
        },
        {
          "output_type": "display_data",
          "data": {
            "text/plain": [
              "<PIL.Image.Image image mode=RGB size=25x25>"
            ],
            "image/png": "[encoded data removed]"
          },
          "metadata": {}
        },
        {
          "output_type": "display_data",
          "data": {
            "text/plain": [
              "<PIL.Image.Image image mode=RGB size=25x25>"
            ],
            "image/png": "[encoded data removed]"
          },
          "metadata": {}
        },
        {
          "output_type": "display_data",
          "data": {
            "text/plain": [
              "<PIL.Image.Image image mode=RGB size=25x25>"
            ],
            "image/png": "[encoded data removed]"
          },
          "metadata": {}
        },
        {
          "output_type": "display_data",
          "data": {
            "text/plain": [
              "<PIL.Image.Image image mode=RGB size=25x25>"
            ],
            "image/png": "[encoded data removed]"
          },
          "metadata": {}
        },
        {
          "output_type": "display_data",
          "data": {
            "text/plain": [
              "<PIL.Image.Image image mode=RGB size=25x25>"
            ],
            "image/png": "[encoded data removed]"
          },
          "metadata": {}
        },
        {
          "output_type": "display_data",
          "data": {
            "text/plain": [
              "<PIL.Image.Image image mode=RGB size=25x25>"
            ],
            "image/png": "[encoded data removed]"
          },
          "metadata": {}
        },
        {
          "output_type": "display_data",
          "data": {
            "text/plain": [
              "<PIL.Image.Image image mode=RGB size=25x25>"
            ],
            "image/png": "[encoded data removed]"
          },
          "metadata": {}
        },
        {
          "output_type": "display_data",
          "data": {
            "text/plain": [
              "<PIL.Image.Image image mode=RGB size=25x25>"
            ],
            "image/png": "[encoded data removed]"
          },
          "metadata": {}
        },
        {
          "output_type": "display_data",
          "data": {
            "text/plain": [
              "<PIL.Image.Image image mode=RGB size=25x25>"
            ],
            "image/png": "[encoded data removed]"
          },
          "metadata": {}
        },
        {
          "output_type": "display_data",
          "data": {
            "text/plain": [
              "<PIL.Image.Image image mode=RGB size=25x25>"
            ],
            "image/png": "[encoded data removed]"
          },
          "metadata": {}
        },
        {
          "output_type": "display_data",
          "data": {
            "text/plain": [
              "<PIL.Image.Image image mode=RGB size=25x25>"
            ],
            "image/png": "[encoded data removed]"
          },
          "metadata": {}
        },
        {
          "output_type": "display_data",
          "data": {
            "text/plain": [
              "<PIL.Image.Image image mode=RGB size=25x25>"
            ],
            "image/png": "[encoded data removed]"
          },
          "metadata": {}
        },
        {
          "output_type": "display_data",
          "data": {
            "text/plain": [
              "<PIL.Image.Image image mode=RGB size=25x25>"
            ],
            "image/png": "[encoded data removed]"
          },
          "metadata": {}
        },
        {
          "output_type": "display_data",
          "data": {
            "text/plain": [
              "<PIL.Image.Image image mode=RGB size=25x25>"
            ],
            "image/png": "[encoded data removed]"
          },
          "metadata": {}
        },
        {
          "output_type": "display_data",
          "data": {
            "text/plain": [
              "<PIL.Image.Image image mode=RGB size=25x25>"
            ],
            "image/png": "[encoded data removed]"
          },
          "metadata": {}
        },
        {
          "output_type": "display_data",
          "data": {
            "text/plain": [
              "<PIL.Image.Image image mode=RGB size=25x25>"
            ],
            "image/png": "[encoded data removed]"
          },
          "metadata": {}
        },
        {
          "output_type": "display_data",
          "data": {
            "text/plain": [
              "<PIL.Image.Image image mode=RGB size=25x25>"
            ],
            "image/png": "[encoded data removed]"
          },
          "metadata": {}
        },
        {
          "output_type": "display_data",
          "data": {
            "text/plain": [
              "<PIL.Image.Image image mode=RGB size=25x25>"
            ],
            "image/png": "[encoded data removed]"
          },
          "metadata": {}
        },
        {
          "output_type": "display_data",
          "data": {
            "text/plain": [
              "<PIL.Image.Image image mode=RGB size=25x25>"
            ],
            "image/png": "[encoded data removed]"
          },
          "metadata": {}
        },
        {
          "output_type": "display_data",
          "data": {
            "text/plain": [
              "<PIL.Image.Image image mode=RGB size=25x25>"
            ],
            "image/png": "[encoded data removed]"
          },
          "metadata": {}
        },
        {
          "output_type": "display_data",
          "data": {
            "text/plain": [
              "<PIL.Image.Image image mode=RGB size=25x25>"
            ],
            "image/png": "[encoded data removed]"
          },
          "metadata": {}
        },
        {
          "output_type": "display_data",
          "data": {
            "text/plain": [
              "<PIL.Image.Image image mode=RGB size=25x25>"
            ],
            "image/png": "[encoded data removed]"
          },
          "metadata": {}
        },
        {
          "output_type": "display_data",
          "data": {
            "text/plain": [
              "<PIL.Image.Image image mode=RGB size=25x25>"
            ],
            "image/png": "[encoded data removed]"
          },
          "metadata": {}
        },
        {
          "output_type": "display_data",
          "data": {
            "text/plain": [
              "<PIL.Image.Image image mode=RGB size=25x25>"
            ],
            "image/png": "[encoded data removed]"
          },
          "metadata": {}
        },
        {
          "output_type": "display_data",
          "data": {
            "text/plain": [
              "<PIL.Image.Image image mode=RGB size=25x25>"
            ],
            "image/png": "[encoded data removed]"
          },
          "metadata": {}
        },
        {
          "output_type": "display_data",
          "data": {
            "text/plain": [
              "<PIL.Image.Image image mode=RGB size=25x25>"
            ],
            "image/png": "[encoded data removed]"
          },
          "metadata": {}
        },
        {
          "output_type": "display_data",
          "data": {
            "text/plain": [
              "<PIL.Image.Image image mode=RGB size=25x25>"
            ],
            "image/png": "[encoded data removed]"
          },
          "metadata": {}
        },
        {
          "output_type": "display_data",
          "data": {
            "text/plain": [
              "<PIL.Image.Image image mode=RGB size=25x25>"
            ],
            "image/png": "[encoded data removed]"
          },
          "metadata": {}
        },
        {
          "output_type": "display_data",
          "data": {
            "text/plain": [
              "<PIL.Image.Image image mode=RGB size=25x25>"
            ],
            "image/png": "[encoded data removed]"
          },
          "metadata": {}
        },
        {
          "output_type": "display_data",
          "data": {
            "text/plain": [
              "<PIL.Image.Image image mode=RGB size=25x25>"
            ],
            "image/png": "[encoded data removed]"
          },
          "metadata": {}
        },
        {
          "output_type": "display_data",
          "data": {
            "text/plain": [
              "<PIL.Image.Image image mode=RGB size=25x25>"
            ],
            "image/png": "[encoded data removed]"
          },
          "metadata": {}
        },
        {
          "output_type": "display_data",
          "data": {
            "text/plain": [
              "<PIL.Image.Image image mode=RGB size=25x25>"
            ],
            "image/png": "[encoded data removed]"
          },
          "metadata": {}
        },
        {
          "output_type": "display_data",
          "data": {
            "text/plain": [
              "<PIL.Image.Image image mode=RGB size=25x25>"
            ],
            "image/png": "[encoded data removed]"
          },
          "metadata": {}
        },
        {
          "output_type": "display_data",
          "data": {
            "text/plain": [
              "<PIL.Image.Image image mode=RGB size=25x25>"
            ],
            "image/png": "[encoded data removed]"
          },
          "metadata": {}
        },
        {
          "output_type": "display_data",
          "data": {
            "text/plain": [
              "<PIL.Image.Image image mode=RGB size=25x25>"
            ],
            "image/png": "[encoded data removed]"
          },
          "metadata": {}
        },
        {
          "output_type": "display_data",
          "data": {
            "text/plain": [
              "<PIL.Image.Image image mode=RGB size=25x25>"
            ],
            "image/png": "[encoded data removed]"
          },
          "metadata": {}
        },
        {
          "output_type": "display_data",
          "data": {
            "text/plain": [
              "<PIL.Image.Image image mode=RGB size=25x25>"
            ],
            "image/png": "[encoded data removed]"
          },
          "metadata": {}
        },
        {
          "output_type": "display_data",
          "data": {
            "text/plain": [
              "<PIL.Image.Image image mode=RGB size=25x25>"
            ],
            "image/png": "[encoded data removed]"
          },
          "metadata": {}
        },
        {
          "output_type": "display_data",
          "data": {
            "text/plain": [
              "<PIL.Image.Image image mode=RGB size=25x25>"
            ],
            "image/png": "[encoded data removed]"
          },
          "metadata": {}
        },
        {
          "output_type": "display_data",
          "data": {
            "text/plain": [
              "<PIL.Image.Image image mode=RGB size=25x25>"
            ],
            "image/png": "[encoded data removed]"
          },
          "metadata": {}
        },
        {
          "output_type": "display_data",
          "data": {
            "text/plain": [
              "<PIL.Image.Image image mode=RGB size=25x25>"
            ],
            "image/png": "[encoded data removed]"
          },
          "metadata": {}
        },
        {
          "output_type": "display_data",
          "data": {
            "text/plain": [
              "<PIL.Image.Image image mode=RGB size=25x25>"
            ],
            "image/png": "[encoded data removed]"
          },
          "metadata": {}
        },
        {
          "output_type": "display_data",
          "data": {
            "text/plain": [
              "<PIL.Image.Image image mode=RGB size=25x25>"
            ],
            "image/png": "[encoded data removed]"
          },
          "metadata": {}
        },
        {
          "output_type": "display_data",
          "data": {
            "text/plain": [
              "<PIL.Image.Image image mode=RGB size=25x25>"
            ],
            "image/png": "[encoded data removed]"
          },
          "metadata": {}
        },
        {
          "output_type": "display_data",
          "data": {
            "text/plain": [
              "<PIL.Image.Image image mode=RGB size=25x25>"
            ],
            "image/png": "[encoded data removed]"
          },
          "metadata": {}
        },
        {
          "output_type": "display_data",
          "data": {
            "text/plain": [
              "<PIL.Image.Image image mode=RGB size=25x25>"
            ],
            "image/png": "[encoded data removed]"
          },
          "metadata": {}
        },
        {
          "output_type": "display_data",
          "data": {
            "text/plain": [
              "<PIL.Image.Image image mode=RGB size=25x25>"
            ],
            "image/png": "[encoded data removed]"
          },
          "metadata": {}
        },
        {
          "output_type": "display_data",
          "data": {
            "text/plain": [
              "<PIL.Image.Image image mode=RGB size=25x25>"
            ],
            "image/png": "[encoded data removed]"
          },
          "metadata": {}
        },
        {
          "output_type": "display_data",
          "data": {
            "text/plain": [
              "<PIL.Image.Image image mode=RGB size=25x25>"
            ],
            "image/png": "[encoded data removed]"
          },
          "metadata": {}
        },
        {
          "output_type": "display_data",
          "data": {
            "text/plain": [
              "<PIL.Image.Image image mode=RGB size=25x25>"
            ],
            "image/png": "[encoded data removed]"
          },
          "metadata": {}
        },
        {
          "output_type": "display_data",
          "data": {
            "text/plain": [
              "<PIL.Image.Image image mode=RGB size=25x25>"
            ],
            "image/png": "[encoded data removed]"
          },
          "metadata": {}
        },
        {
          "output_type": "display_data",
          "data": {
            "text/plain": [
              "<PIL.Image.Image image mode=RGB size=25x25>"
            ],
            "image/png": "[encoded data removed]"
          },
          "metadata": {}
        },
        {
          "output_type": "display_data",
          "data": {
            "text/plain": [
              "<PIL.Image.Image image mode=RGB size=25x25>"
            ],
            "image/png": "[encoded data removed]"
          },
          "metadata": {}
        },
        {
          "output_type": "display_data",
          "data": {
            "text/plain": [
              "<PIL.Image.Image image mode=RGB size=25x25>"
            ],
            "image/png": "[encoded data removed]"
          },
          "metadata": {}
        },
        {
          "output_type": "display_data",
          "data": {
            "text/plain": [
              "<PIL.Image.Image image mode=RGB size=25x25>"
            ],
            "image/png": "[encoded data removed]"
          },
          "metadata": {}
        },
        {
          "output_type": "display_data",
          "data": {
            "text/plain": [
              "<PIL.Image.Image image mode=RGB size=25x25>"
            ],
            "image/png": "[encoded data removed]"
          },
          "metadata": {}
        },
        {
          "output_type": "display_data",
          "data": {
            "text/plain": [
              "<PIL.Image.Image image mode=RGB size=25x25>"
            ],
            "image/png": "[encoded data removed]"
          },
          "metadata": {}
        },
        {
          "output_type": "display_data",
          "data": {
            "text/plain": [
              "<PIL.Image.Image image mode=RGB size=25x25>"
            ],
            "image/png": "[encoded data removed]"
          },
          "metadata": {}
        },
        {
          "output_type": "display_data",
          "data": {
            "text/plain": [
              "<PIL.Image.Image image mode=RGB size=25x25>"
            ],
            "image/png": "[encoded data removed]"
          },
          "metadata": {}
        },
        {
          "output_type": "display_data",
          "data": {
            "text/plain": [
              "<PIL.Image.Image image mode=RGB size=25x25>"
            ],
            "image/png": "[encoded data removed]"
          },
          "metadata": {}
        },
        {
          "output_type": "display_data",
          "data": {
            "text/plain": [
              "<PIL.Image.Image image mode=RGB size=25x25>"
            ],
            "image/png": "[encoded data removed]"
          },
          "metadata": {}
        }
      ]
    },
    {
      "cell_type": "code",
      "source": [
        "test_img_file = files.upload()\n",
        "\n",
        "test_img_filename = next(iter(test_img_file))\n",
        "library_img = Image.open(test_img_filename)"
      ],
      "metadata": {
        "colab": {
          "base_uri": "https://localhost:8080/",
          "height": 73
        },
        "id": "4hbsFQvC4c52",
        "outputId": "af315a44-9b30-4e2c-cfca-bf516ae4249d"
      },
      "execution_count": 104,
      "outputs": [
        {
          "output_type": "display_data",
          "data": {
            "text/plain": [
              "<IPython.core.display.HTML object>"
            ],
            "text/html": [
              "\n",
              "     <input type=\"file\" id=\"files-ec75a7d2-a70b-4341-8952-545731039a2c\" name=\"files[]\" multiple disabled\n",
              "        style=\"border:none\" />\n",
              "     <output id=\"result-ec75a7d2-a70b-4341-8952-545731039a2c\">\n",
              "      Upload widget is only available when the cell has been executed in the\n",
              "      current browser session. Please rerun this cell to enable.\n",
              "      </output>\n",
              "      <script>// Copyright 2017 Google LLC\n",
              "//\n",
              "// Licensed under the Apache License, Version 2.0 (the \"License\");\n",
              "// you may not use this file except in compliance with the License.\n",
              "// You may obtain a copy of the License at\n",
              "//\n",
              "//      http://www.apache.org/licenses/LICENSE-2.0\n",
              "//\n",
              "// Unless required by applicable law or agreed to in writing, software\n",
              "// distributed under the License is distributed on an \"AS IS\" BASIS,\n",
              "// WITHOUT WARRANTIES OR CONDITIONS OF ANY KIND, either express or implied.\n",
              "// See the License for the specific language governing permissions and\n",
              "// limitations under the License.\n",
              "\n",
              "/**\n",
              " * @fileoverview Helpers for google.colab Python module.\n",
              " */\n",
              "(function(scope) {\n",
              "function span(text, styleAttributes = {}) {\n",
              "  const element = document.createElement('span');\n",
              "  element.textContent = text;\n",
              "  for (const key of Object.keys(styleAttributes)) {\n",
              "    element.style[key] = styleAttributes[key];\n",
              "  }\n",
              "  return element;\n",
              "}\n",
              "\n",
              "// Max number of bytes which will be uploaded at a time.\n",
              "const MAX_PAYLOAD_SIZE = 100 * 1024;\n",
              "\n",
              "function _uploadFiles(inputId, outputId) {\n",
              "  const steps = uploadFilesStep(inputId, outputId);\n",
              "  const outputElement = document.getElementById(outputId);\n",
              "  // Cache steps on the outputElement to make it available for the next call\n",
              "  // to uploadFilesContinue from Python.\n",
              "  outputElement.steps = steps;\n",
              "\n",
              "  return _uploadFilesContinue(outputId);\n",
              "}\n",
              "\n",
              "// This is roughly an async generator (not supported in the browser yet),\n",
              "// where there are multiple asynchronous steps and the Python side is going\n",
              "// to poll for completion of each step.\n",
              "// This uses a Promise to block the python side on completion of each step,\n",
              "// then passes the result of the previous step as the input to the next step.\n",
              "function _uploadFilesContinue(outputId) {\n",
              "  const outputElement = document.getElementById(outputId);\n",
              "  const steps = outputElement.steps;\n",
              "\n",
              "  const next = steps.next(outputElement.lastPromiseValue);\n",
              "  return Promise.resolve(next.value.promise).then((value) => {\n",
              "    // Cache the last promise value to make it available to the next\n",
              "    // step of the generator.\n",
              "    outputElement.lastPromiseValue = value;\n",
              "    return next.value.response;\n",
              "  });\n",
              "}\n",
              "\n",
              "/**\n",
              " * Generator function which is called between each async step of the upload\n",
              " * process.\n",
              " * @param {string} inputId Element ID of the input file picker element.\n",
              " * @param {string} outputId Element ID of the output display.\n",
              " * @return {!Iterable<!Object>} Iterable of next steps.\n",
              " */\n",
              "function* uploadFilesStep(inputId, outputId) {\n",
              "  const inputElement = document.getElementById(inputId);\n",
              "  inputElement.disabled = false;\n",
              "\n",
              "  const outputElement = document.getElementById(outputId);\n",
              "  outputElement.innerHTML = '';\n",
              "\n",
              "  const pickedPromise = new Promise((resolve) => {\n",
              "    inputElement.addEventListener('change', (e) => {\n",
              "      resolve(e.target.files);\n",
              "    });\n",
              "  });\n",
              "\n",
              "  const cancel = document.createElement('button');\n",
              "  inputElement.parentElement.appendChild(cancel);\n",
              "  cancel.textContent = 'Cancel upload';\n",
              "  const cancelPromise = new Promise((resolve) => {\n",
              "    cancel.onclick = () => {\n",
              "      resolve(null);\n",
              "    };\n",
              "  });\n",
              "\n",
              "  // Wait for the user to pick the files.\n",
              "  const files = yield {\n",
              "    promise: Promise.race([pickedPromise, cancelPromise]),\n",
              "    response: {\n",
              "      action: 'starting',\n",
              "    }\n",
              "  };\n",
              "\n",
              "  cancel.remove();\n",
              "\n",
              "  // Disable the input element since further picks are not allowed.\n",
              "  inputElement.disabled = true;\n",
              "\n",
              "  if (!files) {\n",
              "    return {\n",
              "      response: {\n",
              "        action: 'complete',\n",
              "      }\n",
              "    };\n",
              "  }\n",
              "\n",
              "  for (const file of files) {\n",
              "    const li = document.createElement('li');\n",
              "    li.append(span(file.name, {fontWeight: 'bold'}));\n",
              "    li.append(span(\n",
              "        `(${file.type || 'n/a'}) - ${file.size} bytes, ` +\n",
              "        `last modified: ${\n",
              "            file.lastModifiedDate ? file.lastModifiedDate.toLocaleDateString() :\n",
              "                                    'n/a'} - `));\n",
              "    const percent = span('0% done');\n",
              "    li.appendChild(percent);\n",
              "\n",
              "    outputElement.appendChild(li);\n",
              "\n",
              "    const fileDataPromise = new Promise((resolve) => {\n",
              "      const reader = new FileReader();\n",
              "      reader.onload = (e) => {\n",
              "        resolve(e.target.result);\n",
              "      };\n",
              "      reader.readAsArrayBuffer(file);\n",
              "    });\n",
              "    // Wait for the data to be ready.\n",
              "    let fileData = yield {\n",
              "      promise: fileDataPromise,\n",
              "      response: {\n",
              "        action: 'continue',\n",
              "      }\n",
              "    };\n",
              "\n",
              "    // Use a chunked sending to avoid message size limits. See b/62115660.\n",
              "    let position = 0;\n",
              "    do {\n",
              "      const length = Math.min(fileData.byteLength - position, MAX_PAYLOAD_SIZE);\n",
              "      const chunk = new Uint8Array(fileData, position, length);\n",
              "      position += length;\n",
              "\n",
              "      const base64 = btoa(String.fromCharCode.apply(null, chunk));\n",
              "      yield {\n",
              "        response: {\n",
              "          action: 'append',\n",
              "          file: file.name,\n",
              "          data: base64,\n",
              "        },\n",
              "      };\n",
              "\n",
              "      let percentDone = fileData.byteLength === 0 ?\n",
              "          100 :\n",
              "          Math.round((position / fileData.byteLength) * 100);\n",
              "      percent.textContent = `${percentDone}% done`;\n",
              "\n",
              "    } while (position < fileData.byteLength);\n",
              "  }\n",
              "\n",
              "  // All done.\n",
              "  yield {\n",
              "    response: {\n",
              "      action: 'complete',\n",
              "    }\n",
              "  };\n",
              "}\n",
              "\n",
              "scope.google = scope.google || {};\n",
              "scope.google.colab = scope.google.colab || {};\n",
              "scope.google.colab._files = {\n",
              "  _uploadFiles,\n",
              "  _uploadFilesContinue,\n",
              "};\n",
              "})(self);\n",
              "</script> "
            ]
          },
          "metadata": {}
        },
        {
          "output_type": "stream",
          "name": "stdout",
          "text": [
            "Saving test.png to test (1).png\n"
          ]
        }
      ]
    },
    {
      "cell_type": "code",
      "source": [
        "copy = library_img.copy()\n",
        "library_arr = []\n",
        "\n",
        "copy1 = library_img.copy().convert('RGB')\n",
        "png = np.array(copy1)\n",
        "\n",
        "counter = 0\n",
        "for i in range(0, library_img.width + 100, 25):\n",
        "  for j in range(0, library_img.height + 100, 25):\n",
        "    library_arr.append(library_img.crop((j, i, j+25, i+25)))\n",
        "    crop = library_img.crop((j, i, j+25, i+25))\n",
        "    curr_avg = np.average(crop, axis=(0,1))\n",
        "\n",
        "\n",
        "\n",
        "    new_img = listtest[find_Avg_Color(curr_avg, listtest)]\n",
        "    # Image.putdata(data, scale=1.0, offset=0.0)\n",
        "    # left, upper, right, and lower\n",
        "    Image.Image.paste(copy, new_img, (j, i, j+25, i+25))\n",
        "\n",
        "    counter+=1\n",
        "    print(\"progress: \" + str(counter) + \"/\" + str((((library_img.width+100)/25) * ((library_img.height+100)/25))))\n",
        "    ## searching the original picture for a similar color"
      ],
      "metadata": {
        "id": "ElVmjqQ94kvW",
        "colab": {
          "base_uri": "https://localhost:8080/"
        },
        "outputId": "52ac286e-a375-4012-8394-97e28d0dba2f"
      },
      "execution_count": 108,
      "outputs": [
        {
          "output_type": "stream",
          "name": "stdout",
          "text": [
            "progress: 1/380.5312\n",
            "progress: 2/380.5312\n",
            "progress: 3/380.5312\n",
            "progress: 4/380.5312\n",
            "progress: 5/380.5312\n",
            "progress: 6/380.5312\n",
            "progress: 7/380.5312\n",
            "progress: 8/380.5312\n",
            "progress: 9/380.5312\n",
            "progress: 10/380.5312\n",
            "progress: 11/380.5312\n",
            "progress: 12/380.5312\n",
            "progress: 13/380.5312\n",
            "progress: 14/380.5312\n",
            "progress: 15/380.5312\n",
            "progress: 16/380.5312\n",
            "progress: 17/380.5312\n",
            "progress: 18/380.5312\n",
            "progress: 19/380.5312\n",
            "progress: 20/380.5312\n",
            "progress: 21/380.5312\n",
            "progress: 22/380.5312\n",
            "progress: 23/380.5312\n",
            "progress: 24/380.5312\n",
            "progress: 25/380.5312\n",
            "progress: 26/380.5312\n",
            "progress: 27/380.5312\n",
            "progress: 28/380.5312\n",
            "progress: 29/380.5312\n",
            "progress: 30/380.5312\n",
            "progress: 31/380.5312\n",
            "progress: 32/380.5312\n",
            "progress: 33/380.5312\n",
            "progress: 34/380.5312\n",
            "progress: 35/380.5312\n",
            "progress: 36/380.5312\n",
            "progress: 37/380.5312\n",
            "progress: 38/380.5312\n",
            "progress: 39/380.5312\n",
            "progress: 40/380.5312\n",
            "progress: 41/380.5312\n",
            "progress: 42/380.5312\n",
            "progress: 43/380.5312\n",
            "progress: 44/380.5312\n",
            "progress: 45/380.5312\n",
            "progress: 46/380.5312\n",
            "progress: 47/380.5312\n",
            "progress: 48/380.5312\n",
            "progress: 49/380.5312\n",
            "progress: 50/380.5312\n",
            "progress: 51/380.5312\n",
            "progress: 52/380.5312\n",
            "progress: 53/380.5312\n",
            "progress: 54/380.5312\n",
            "progress: 55/380.5312\n",
            "progress: 56/380.5312\n",
            "progress: 57/380.5312\n",
            "progress: 58/380.5312\n",
            "progress: 59/380.5312\n",
            "progress: 60/380.5312\n",
            "progress: 61/380.5312\n",
            "progress: 62/380.5312\n",
            "progress: 63/380.5312\n",
            "progress: 64/380.5312\n",
            "progress: 65/380.5312\n",
            "progress: 66/380.5312\n",
            "progress: 67/380.5312\n",
            "progress: 68/380.5312\n",
            "progress: 69/380.5312\n",
            "progress: 70/380.5312\n",
            "progress: 71/380.5312\n",
            "progress: 72/380.5312\n",
            "progress: 73/380.5312\n",
            "progress: 74/380.5312\n",
            "progress: 75/380.5312\n",
            "progress: 76/380.5312\n",
            "progress: 77/380.5312\n",
            "progress: 78/380.5312\n",
            "progress: 79/380.5312\n",
            "progress: 80/380.5312\n",
            "progress: 81/380.5312\n",
            "progress: 82/380.5312\n",
            "progress: 83/380.5312\n",
            "progress: 84/380.5312\n",
            "progress: 85/380.5312\n",
            "progress: 86/380.5312\n",
            "progress: 87/380.5312\n",
            "progress: 88/380.5312\n",
            "progress: 89/380.5312\n",
            "progress: 90/380.5312\n",
            "progress: 91/380.5312\n",
            "progress: 92/380.5312\n",
            "progress: 93/380.5312\n",
            "progress: 94/380.5312\n",
            "progress: 95/380.5312\n",
            "progress: 96/380.5312\n",
            "progress: 97/380.5312\n",
            "progress: 98/380.5312\n",
            "progress: 99/380.5312\n",
            "progress: 100/380.5312\n",
            "progress: 101/380.5312\n",
            "progress: 102/380.5312\n",
            "progress: 103/380.5312\n",
            "progress: 104/380.5312\n",
            "progress: 105/380.5312\n",
            "progress: 106/380.5312\n",
            "progress: 107/380.5312\n",
            "progress: 108/380.5312\n",
            "progress: 109/380.5312\n",
            "progress: 110/380.5312\n",
            "progress: 111/380.5312\n",
            "progress: 112/380.5312\n",
            "progress: 113/380.5312\n",
            "progress: 114/380.5312\n",
            "progress: 115/380.5312\n",
            "progress: 116/380.5312\n",
            "progress: 117/380.5312\n",
            "progress: 118/380.5312\n",
            "progress: 119/380.5312\n",
            "progress: 120/380.5312\n",
            "progress: 121/380.5312\n",
            "progress: 122/380.5312\n",
            "progress: 123/380.5312\n",
            "progress: 124/380.5312\n",
            "progress: 125/380.5312\n",
            "progress: 126/380.5312\n",
            "progress: 127/380.5312\n",
            "progress: 128/380.5312\n",
            "progress: 129/380.5312\n",
            "progress: 130/380.5312\n",
            "progress: 131/380.5312\n",
            "progress: 132/380.5312\n",
            "progress: 133/380.5312\n",
            "progress: 134/380.5312\n",
            "progress: 135/380.5312\n",
            "progress: 136/380.5312\n",
            "progress: 137/380.5312\n",
            "progress: 138/380.5312\n",
            "progress: 139/380.5312\n",
            "progress: 140/380.5312\n",
            "progress: 141/380.5312\n",
            "progress: 142/380.5312\n",
            "progress: 143/380.5312\n",
            "progress: 144/380.5312\n",
            "progress: 145/380.5312\n",
            "progress: 146/380.5312\n",
            "progress: 147/380.5312\n",
            "progress: 148/380.5312\n",
            "progress: 149/380.5312\n",
            "progress: 150/380.5312\n",
            "progress: 151/380.5312\n",
            "progress: 152/380.5312\n",
            "progress: 153/380.5312\n",
            "progress: 154/380.5312\n",
            "progress: 155/380.5312\n",
            "progress: 156/380.5312\n",
            "progress: 157/380.5312\n",
            "progress: 158/380.5312\n",
            "progress: 159/380.5312\n",
            "progress: 160/380.5312\n",
            "progress: 161/380.5312\n",
            "progress: 162/380.5312\n",
            "progress: 163/380.5312\n",
            "progress: 164/380.5312\n",
            "progress: 165/380.5312\n",
            "progress: 166/380.5312\n",
            "progress: 167/380.5312\n",
            "progress: 168/380.5312\n",
            "progress: 169/380.5312\n",
            "progress: 170/380.5312\n",
            "progress: 171/380.5312\n",
            "progress: 172/380.5312\n",
            "progress: 173/380.5312\n",
            "progress: 174/380.5312\n",
            "progress: 175/380.5312\n",
            "progress: 176/380.5312\n",
            "progress: 177/380.5312\n",
            "progress: 178/380.5312\n",
            "progress: 179/380.5312\n",
            "progress: 180/380.5312\n",
            "progress: 181/380.5312\n",
            "progress: 182/380.5312\n",
            "progress: 183/380.5312\n",
            "progress: 184/380.5312\n",
            "progress: 185/380.5312\n",
            "progress: 186/380.5312\n",
            "progress: 187/380.5312\n",
            "progress: 188/380.5312\n",
            "progress: 189/380.5312\n",
            "progress: 190/380.5312\n",
            "progress: 191/380.5312\n",
            "progress: 192/380.5312\n",
            "progress: 193/380.5312\n",
            "progress: 194/380.5312\n",
            "progress: 195/380.5312\n",
            "progress: 196/380.5312\n",
            "progress: 197/380.5312\n",
            "progress: 198/380.5312\n",
            "progress: 199/380.5312\n",
            "progress: 200/380.5312\n",
            "progress: 201/380.5312\n",
            "progress: 202/380.5312\n",
            "progress: 203/380.5312\n",
            "progress: 204/380.5312\n",
            "progress: 205/380.5312\n",
            "progress: 206/380.5312\n",
            "progress: 207/380.5312\n",
            "progress: 208/380.5312\n",
            "progress: 209/380.5312\n",
            "progress: 210/380.5312\n",
            "progress: 211/380.5312\n",
            "progress: 212/380.5312\n",
            "progress: 213/380.5312\n",
            "progress: 214/380.5312\n",
            "progress: 215/380.5312\n",
            "progress: 216/380.5312\n",
            "progress: 217/380.5312\n",
            "progress: 218/380.5312\n",
            "progress: 219/380.5312\n",
            "progress: 220/380.5312\n",
            "progress: 221/380.5312\n",
            "progress: 222/380.5312\n",
            "progress: 223/380.5312\n",
            "progress: 224/380.5312\n",
            "progress: 225/380.5312\n",
            "progress: 226/380.5312\n",
            "progress: 227/380.5312\n",
            "progress: 228/380.5312\n",
            "progress: 229/380.5312\n",
            "progress: 230/380.5312\n",
            "progress: 231/380.5312\n",
            "progress: 232/380.5312\n",
            "progress: 233/380.5312\n",
            "progress: 234/380.5312\n",
            "progress: 235/380.5312\n",
            "progress: 236/380.5312\n",
            "progress: 237/380.5312\n",
            "progress: 238/380.5312\n",
            "progress: 239/380.5312\n",
            "progress: 240/380.5312\n",
            "progress: 241/380.5312\n",
            "progress: 242/380.5312\n",
            "progress: 243/380.5312\n",
            "progress: 244/380.5312\n",
            "progress: 245/380.5312\n",
            "progress: 246/380.5312\n",
            "progress: 247/380.5312\n",
            "progress: 248/380.5312\n",
            "progress: 249/380.5312\n",
            "progress: 250/380.5312\n",
            "progress: 251/380.5312\n",
            "progress: 252/380.5312\n",
            "progress: 253/380.5312\n",
            "progress: 254/380.5312\n",
            "progress: 255/380.5312\n",
            "progress: 256/380.5312\n",
            "progress: 257/380.5312\n",
            "progress: 258/380.5312\n",
            "progress: 259/380.5312\n",
            "progress: 260/380.5312\n",
            "progress: 261/380.5312\n",
            "progress: 262/380.5312\n",
            "progress: 263/380.5312\n",
            "progress: 264/380.5312\n",
            "progress: 265/380.5312\n",
            "progress: 266/380.5312\n",
            "progress: 267/380.5312\n",
            "progress: 268/380.5312\n",
            "progress: 269/380.5312\n",
            "progress: 270/380.5312\n",
            "progress: 271/380.5312\n",
            "progress: 272/380.5312\n",
            "progress: 273/380.5312\n",
            "progress: 274/380.5312\n",
            "progress: 275/380.5312\n",
            "progress: 276/380.5312\n",
            "progress: 277/380.5312\n",
            "progress: 278/380.5312\n",
            "progress: 279/380.5312\n",
            "progress: 280/380.5312\n",
            "progress: 281/380.5312\n",
            "progress: 282/380.5312\n",
            "progress: 283/380.5312\n",
            "progress: 284/380.5312\n",
            "progress: 285/380.5312\n",
            "progress: 286/380.5312\n",
            "progress: 287/380.5312\n",
            "progress: 288/380.5312\n",
            "progress: 289/380.5312\n",
            "progress: 290/380.5312\n",
            "progress: 291/380.5312\n",
            "progress: 292/380.5312\n",
            "progress: 293/380.5312\n",
            "progress: 294/380.5312\n",
            "progress: 295/380.5312\n",
            "progress: 296/380.5312\n",
            "progress: 297/380.5312\n",
            "progress: 298/380.5312\n",
            "progress: 299/380.5312\n",
            "progress: 300/380.5312\n",
            "progress: 301/380.5312\n",
            "progress: 302/380.5312\n",
            "progress: 303/380.5312\n",
            "progress: 304/380.5312\n",
            "progress: 305/380.5312\n",
            "progress: 306/380.5312\n",
            "progress: 307/380.5312\n",
            "progress: 308/380.5312\n",
            "progress: 309/380.5312\n",
            "progress: 310/380.5312\n",
            "progress: 311/380.5312\n",
            "progress: 312/380.5312\n",
            "progress: 313/380.5312\n",
            "progress: 314/380.5312\n",
            "progress: 315/380.5312\n",
            "progress: 316/380.5312\n",
            "progress: 317/380.5312\n",
            "progress: 318/380.5312\n",
            "progress: 319/380.5312\n",
            "progress: 320/380.5312\n",
            "progress: 321/380.5312\n",
            "progress: 322/380.5312\n",
            "progress: 323/380.5312\n",
            "progress: 324/380.5312\n",
            "progress: 325/380.5312\n",
            "progress: 326/380.5312\n",
            "progress: 327/380.5312\n",
            "progress: 328/380.5312\n",
            "progress: 329/380.5312\n",
            "progress: 330/380.5312\n",
            "progress: 331/380.5312\n",
            "progress: 332/380.5312\n",
            "progress: 333/380.5312\n",
            "progress: 334/380.5312\n",
            "progress: 335/380.5312\n",
            "progress: 336/380.5312\n",
            "progress: 337/380.5312\n",
            "progress: 338/380.5312\n",
            "progress: 339/380.5312\n",
            "progress: 340/380.5312\n",
            "progress: 341/380.5312\n",
            "progress: 342/380.5312\n",
            "progress: 343/380.5312\n",
            "progress: 344/380.5312\n",
            "progress: 345/380.5312\n",
            "progress: 346/380.5312\n",
            "progress: 347/380.5312\n",
            "progress: 348/380.5312\n",
            "progress: 349/380.5312\n",
            "progress: 350/380.5312\n",
            "progress: 351/380.5312\n",
            "progress: 352/380.5312\n",
            "progress: 353/380.5312\n",
            "progress: 354/380.5312\n",
            "progress: 355/380.5312\n",
            "progress: 356/380.5312\n",
            "progress: 357/380.5312\n",
            "progress: 358/380.5312\n",
            "progress: 359/380.5312\n",
            "progress: 360/380.5312\n",
            "progress: 361/380.5312\n",
            "progress: 362/380.5312\n",
            "progress: 363/380.5312\n",
            "progress: 364/380.5312\n",
            "progress: 365/380.5312\n",
            "progress: 366/380.5312\n",
            "progress: 367/380.5312\n",
            "progress: 368/380.5312\n",
            "progress: 369/380.5312\n",
            "progress: 370/380.5312\n",
            "progress: 371/380.5312\n",
            "progress: 372/380.5312\n",
            "progress: 373/380.5312\n",
            "progress: 374/380.5312\n",
            "progress: 375/380.5312\n",
            "progress: 376/380.5312\n",
            "progress: 377/380.5312\n",
            "progress: 378/380.5312\n",
            "progress: 379/380.5312\n",
            "progress: 380/380.5312\n",
            "progress: 381/380.5312\n",
            "progress: 382/380.5312\n",
            "progress: 383/380.5312\n",
            "progress: 384/380.5312\n",
            "progress: 385/380.5312\n",
            "progress: 386/380.5312\n",
            "progress: 387/380.5312\n",
            "progress: 388/380.5312\n",
            "progress: 389/380.5312\n",
            "progress: 390/380.5312\n",
            "progress: 391/380.5312\n",
            "progress: 392/380.5312\n",
            "progress: 393/380.5312\n",
            "progress: 394/380.5312\n",
            "progress: 395/380.5312\n",
            "progress: 396/380.5312\n"
          ]
        }
      ]
    },
    {
      "cell_type": "code",
      "source": [
        "copy1 = library_img.copy().convert('RGB')\n",
        "png = np.array(copy1)\n",
        "print(png)"
      ],
      "metadata": {
        "colab": {
          "base_uri": "https://localhost:8080/"
        },
        "collapsed": true,
        "id": "-gt-Q6_h7dir",
        "outputId": "3b3a419e-7910-4289-c1b7-0d65ddac3c48"
      },
      "execution_count": 106,
      "outputs": [
        {
          "output_type": "stream",
          "name": "stdout",
          "text": [
            "[[[ 88  43  98]\n",
            "  [ 93  48 103]\n",
            "  [112  67 122]\n",
            "  ...\n",
            "  [107  59 135]\n",
            "  [103  58 133]\n",
            "  [103  58 133]]\n",
            "\n",
            " [[ 87  42  97]\n",
            "  [ 94  49 104]\n",
            "  [127  82 137]\n",
            "  ...\n",
            "  [107  59 135]\n",
            "  [105  58 134]\n",
            "  [104  59 134]]\n",
            "\n",
            " [[ 87  42  98]\n",
            "  [ 89  44 100]\n",
            "  [127  82 138]\n",
            "  ...\n",
            "  [107  59 135]\n",
            "  [106  59 135]\n",
            "  [106  60 135]]\n",
            "\n",
            " ...\n",
            "\n",
            " [[138 129 148]\n",
            "  [144 135 154]\n",
            "  [134 125 144]\n",
            "  ...\n",
            "  [ 24  11  29]\n",
            "  [ 22   9  19]\n",
            "  [ 19   6  13]]\n",
            "\n",
            " [[135 126 145]\n",
            "  [134 125 144]\n",
            "  [134 125 144]\n",
            "  ...\n",
            "  [ 28  15  28]\n",
            "  [ 22   9  18]\n",
            "  [ 19   7  13]]\n",
            "\n",
            " [[134 127 144]\n",
            "  [135 128 145]\n",
            "  [136 129 146]\n",
            "  ...\n",
            "  [ 25  13  17]\n",
            "  [ 19   8  13]\n",
            "  [ 17   6  12]]]\n"
          ]
        }
      ]
    },
    {
      "cell_type": "code",
      "source": [
        "display(copy)"
      ],
      "metadata": {
        "colab": {
          "base_uri": "https://localhost:8080/",
          "height": 351
        },
        "id": "chHeDElQHm0b",
        "outputId": "fda6edf1-180c-4ef1-8fed-94874f49e1e3"
      },
      "execution_count": 107,
      "outputs": [
        {
          "output_type": "display_data",
          "data": {
            "text/plain": [
              "<PIL.Image.Image image mode=RGBA size=448x334>"
            ],
            "image/png": "[encoded data removed]"
          },
          "metadata": {}
        }
      ]
    },
    {
      "cell_type": "code",
      "source": [
        "## calculating dominant color\n",
        "from skimage import io\n",
        "\n",
        "average = listtest[0].mean(axis=0).mean(axis=0)\n",
        "\n",
        "pixels = np.float32(img.reshape(-1, 3))\n",
        "\n",
        "n_colors = 5\n",
        "criteria = (cv2.TERM_CRITERIA_EPS + cv2.TERM_CRITERIA_MAX_ITER, 200, .1)\n",
        "flags = cv2.KMEANS_RANDOM_CENTERS\n",
        "\n",
        "_, labels, palette = cv2.kmeans(pixels, n_colors, None, criteria, 10, flags)\n",
        "_, counts = np.unique(labels, return_counts=True)\n",
        "\n",
        "dominant = palette[np.argmax(counts)]\n",
        "display(dominant)"
      ],
      "metadata": {
        "colab": {
          "base_uri": "https://localhost:8080/",
          "height": 332
        },
        "id": "HDR8TiuHCDQc",
        "outputId": "772d5e7e-11a1-44fc-e244-35231f89b7c9"
      },
      "execution_count": null,
      "outputs": [
        {
          "output_type": "error",
          "ename": "AttributeError",
          "evalue": "mean",
          "traceback": [
            "\u001b[0;31m---------------------------------------------------------------------------\u001b[0m",
            "\u001b[0;31mAttributeError\u001b[0m                            Traceback (most recent call last)",
            "\u001b[0;32m<ipython-input-114-72241c0c1351>\u001b[0m in \u001b[0;36m<cell line: 4>\u001b[0;34m()\u001b[0m\n\u001b[1;32m      2\u001b[0m \u001b[0;32mfrom\u001b[0m \u001b[0mskimage\u001b[0m \u001b[0;32mimport\u001b[0m \u001b[0mio\u001b[0m\u001b[0;34m\u001b[0m\u001b[0;34m\u001b[0m\u001b[0m\n\u001b[1;32m      3\u001b[0m \u001b[0;34m\u001b[0m\u001b[0m\n\u001b[0;32m----> 4\u001b[0;31m \u001b[0maverage\u001b[0m \u001b[0;34m=\u001b[0m \u001b[0mlisttest\u001b[0m\u001b[0;34m[\u001b[0m\u001b[0;36m0\u001b[0m\u001b[0;34m]\u001b[0m\u001b[0;34m.\u001b[0m\u001b[0mmean\u001b[0m\u001b[0;34m(\u001b[0m\u001b[0maxis\u001b[0m\u001b[0;34m=\u001b[0m\u001b[0;36m0\u001b[0m\u001b[0;34m)\u001b[0m\u001b[0;34m.\u001b[0m\u001b[0mmean\u001b[0m\u001b[0;34m(\u001b[0m\u001b[0maxis\u001b[0m\u001b[0;34m=\u001b[0m\u001b[0;36m0\u001b[0m\u001b[0;34m)\u001b[0m\u001b[0;34m\u001b[0m\u001b[0;34m\u001b[0m\u001b[0m\n\u001b[0m\u001b[1;32m      5\u001b[0m \u001b[0;34m\u001b[0m\u001b[0m\n\u001b[1;32m      6\u001b[0m \u001b[0mpixels\u001b[0m \u001b[0;34m=\u001b[0m \u001b[0mnp\u001b[0m\u001b[0;34m.\u001b[0m\u001b[0mfloat32\u001b[0m\u001b[0;34m(\u001b[0m\u001b[0mimg\u001b[0m\u001b[0;34m.\u001b[0m\u001b[0mreshape\u001b[0m\u001b[0;34m(\u001b[0m\u001b[0;34m-\u001b[0m\u001b[0;36m1\u001b[0m\u001b[0;34m,\u001b[0m \u001b[0;36m3\u001b[0m\u001b[0;34m)\u001b[0m\u001b[0;34m)\u001b[0m\u001b[0;34m\u001b[0m\u001b[0;34m\u001b[0m\u001b[0m\n",
            "\u001b[0;32m/usr/local/lib/python3.10/dist-packages/PIL/Image.py\u001b[0m in \u001b[0;36m__getattr__\u001b[0;34m(self, name)\u001b[0m\n\u001b[1;32m    527\u001b[0m             \u001b[0mdeprecate\u001b[0m\u001b[0;34m(\u001b[0m\u001b[0;34m\"Image categories\"\u001b[0m\u001b[0;34m,\u001b[0m \u001b[0;36m10\u001b[0m\u001b[0;34m,\u001b[0m \u001b[0;34m\"is_animated\"\u001b[0m\u001b[0;34m,\u001b[0m \u001b[0mplural\u001b[0m\u001b[0;34m=\u001b[0m\u001b[0;32mTrue\u001b[0m\u001b[0;34m)\u001b[0m\u001b[0;34m\u001b[0m\u001b[0;34m\u001b[0m\u001b[0m\n\u001b[1;32m    528\u001b[0m             \u001b[0;32mreturn\u001b[0m \u001b[0mself\u001b[0m\u001b[0;34m.\u001b[0m\u001b[0m_category\u001b[0m\u001b[0;34m\u001b[0m\u001b[0;34m\u001b[0m\u001b[0m\n\u001b[0;32m--> 529\u001b[0;31m         \u001b[0;32mraise\u001b[0m \u001b[0mAttributeError\u001b[0m\u001b[0;34m(\u001b[0m\u001b[0mname\u001b[0m\u001b[0;34m)\u001b[0m\u001b[0;34m\u001b[0m\u001b[0;34m\u001b[0m\u001b[0m\n\u001b[0m\u001b[1;32m    530\u001b[0m \u001b[0;34m\u001b[0m\u001b[0m\n\u001b[1;32m    531\u001b[0m     \u001b[0;34m@\u001b[0m\u001b[0mproperty\u001b[0m\u001b[0;34m\u001b[0m\u001b[0;34m\u001b[0m\u001b[0m\n",
            "\u001b[0;31mAttributeError\u001b[0m: mean"
          ]
        }
      ]
    },
    {
      "cell_type": "code",
      "source": [
        "def dominant_color(arr):\n",
        "  #test = io.imread(filename)[:, :, :-1]\n",
        "  average = img.mean(axis=0).mean(axis=0)\n",
        "\n",
        "  pixels = np.float32(img.reshape(-1, 3))\n",
        "\n",
        "  n_colors = 5\n",
        "  criteria = (cv2.TERM_CRITERIA_EPS + cv2.TERM_CRITERIA_MAX_ITER, 200, .1)\n",
        "  flags = cv2.KMEANS_RANDOM_CENTERS\n",
        "\n",
        "  _, labels, palette = cv2.kmeans(pixels, n_colors, None, criteria, 10, flags)\n",
        "  _, counts = np.unique(labels, return_counts=True)\n",
        "\n",
        "  dominant = palette[np.argmax(counts)]\n",
        "  return dominant\n",
        "\n"
      ],
      "metadata": {
        "id": "mCncNHXGDoeO"
      },
      "execution_count": null,
      "outputs": []
    }
  ]
}