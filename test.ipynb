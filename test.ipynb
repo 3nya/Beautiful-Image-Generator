{
  "nbformat": 4,
  "nbformat_minor": 0,
  "metadata": {
    "colab": {
      "provenance": [],
      "authorship_tag": "ABX9TyPwfw+Y0dlC1JBMIP4GYwFI"
    },
    "kernelspec": {
      "name": "python3",
      "display_name": "Python 3"
    },
    "language_info": {
      "name": "python"
    }
  },
  "cells": [
    {
      "cell_type": "code",
      "source": [
        "%matplotlib inline"
      ],
      "metadata": {
        "id": "kOztWLOI08VZ"
      },
      "execution_count": 1,
      "outputs": []
    },
    {
      "cell_type": "code",
      "source": [
        "from PIL import Image\n",
        "\n",
        "import matplotlib.pyplot as plt\n",
        "import numpy as np"
      ],
      "metadata": {
        "id": "vAgN1da01L9x"
      },
      "execution_count": 2,
      "outputs": []
    },
    {
      "cell_type": "code",
      "source": [
        "def load_image( infilename ) :\n",
        "    img = Image.open( infilename )\n",
        "    img.load()\n",
        "    data = np.asarray( img, dtype=\"int32\" )\n",
        "    return data"
      ],
      "metadata": {
        "id": "QZdswaOb3Ny8"
      },
      "execution_count": 3,
      "outputs": []
    },
    {
      "cell_type": "code",
      "source": [
        "## upload file\n",
        "\n",
        "from google.colab import files\n",
        "uploaded = files.upload()\n",
        "\n",
        "filename = next(iter(uploaded))"
      ],
      "metadata": {
        "colab": {
          "base_uri": "https://localhost:8080/",
          "height": 73
        },
        "id": "ZryWyv0j7ZcL",
        "outputId": "abdef869-fe4d-48ff-b1e0-d31e8fb686f3"
      },
      "execution_count": 31,
      "outputs": [
        {
          "output_type": "display_data",
          "data": {
            "text/plain": [
              "<IPython.core.display.HTML object>"
            ],
            "text/html": [
              "\n",
              "     <input type=\"file\" id=\"files-85f284d0-eca8-4d22-a276-4f6e8dd57912\" name=\"files[]\" multiple disabled\n",
              "        style=\"border:none\" />\n",
              "     <output id=\"result-85f284d0-eca8-4d22-a276-4f6e8dd57912\">\n",
              "      Upload widget is only available when the cell has been executed in the\n",
              "      current browser session. Please rerun this cell to enable.\n",
              "      </output>\n",
              "      <script>// Copyright 2017 Google LLC\n",
              "//\n",
              "// Licensed under the Apache License, Version 2.0 (the \"License\");\n",
              "// you may not use this file except in compliance with the License.\n",
              "// You may obtain a copy of the License at\n",
              "//\n",
              "//      http://www.apache.org/licenses/LICENSE-2.0\n",
              "//\n",
              "// Unless required by applicable law or agreed to in writing, software\n",
              "// distributed under the License is distributed on an \"AS IS\" BASIS,\n",
              "// WITHOUT WARRANTIES OR CONDITIONS OF ANY KIND, either express or implied.\n",
              "// See the License for the specific language governing permissions and\n",
              "// limitations under the License.\n",
              "\n",
              "/**\n",
              " * @fileoverview Helpers for google.colab Python module.\n",
              " */\n",
              "(function(scope) {\n",
              "function span(text, styleAttributes = {}) {\n",
              "  const element = document.createElement('span');\n",
              "  element.textContent = text;\n",
              "  for (const key of Object.keys(styleAttributes)) {\n",
              "    element.style[key] = styleAttributes[key];\n",
              "  }\n",
              "  return element;\n",
              "}\n",
              "\n",
              "// Max number of bytes which will be uploaded at a time.\n",
              "const MAX_PAYLOAD_SIZE = 100 * 1024;\n",
              "\n",
              "function _uploadFiles(inputId, outputId) {\n",
              "  const steps = uploadFilesStep(inputId, outputId);\n",
              "  const outputElement = document.getElementById(outputId);\n",
              "  // Cache steps on the outputElement to make it available for the next call\n",
              "  // to uploadFilesContinue from Python.\n",
              "  outputElement.steps = steps;\n",
              "\n",
              "  return _uploadFilesContinue(outputId);\n",
              "}\n",
              "\n",
              "// This is roughly an async generator (not supported in the browser yet),\n",
              "// where there are multiple asynchronous steps and the Python side is going\n",
              "// to poll for completion of each step.\n",
              "// This uses a Promise to block the python side on completion of each step,\n",
              "// then passes the result of the previous step as the input to the next step.\n",
              "function _uploadFilesContinue(outputId) {\n",
              "  const outputElement = document.getElementById(outputId);\n",
              "  const steps = outputElement.steps;\n",
              "\n",
              "  const next = steps.next(outputElement.lastPromiseValue);\n",
              "  return Promise.resolve(next.value.promise).then((value) => {\n",
              "    // Cache the last promise value to make it available to the next\n",
              "    // step of the generator.\n",
              "    outputElement.lastPromiseValue = value;\n",
              "    return next.value.response;\n",
              "  });\n",
              "}\n",
              "\n",
              "/**\n",
              " * Generator function which is called between each async step of the upload\n",
              " * process.\n",
              " * @param {string} inputId Element ID of the input file picker element.\n",
              " * @param {string} outputId Element ID of the output display.\n",
              " * @return {!Iterable<!Object>} Iterable of next steps.\n",
              " */\n",
              "function* uploadFilesStep(inputId, outputId) {\n",
              "  const inputElement = document.getElementById(inputId);\n",
              "  inputElement.disabled = false;\n",
              "\n",
              "  const outputElement = document.getElementById(outputId);\n",
              "  outputElement.innerHTML = '';\n",
              "\n",
              "  const pickedPromise = new Promise((resolve) => {\n",
              "    inputElement.addEventListener('change', (e) => {\n",
              "      resolve(e.target.files);\n",
              "    });\n",
              "  });\n",
              "\n",
              "  const cancel = document.createElement('button');\n",
              "  inputElement.parentElement.appendChild(cancel);\n",
              "  cancel.textContent = 'Cancel upload';\n",
              "  const cancelPromise = new Promise((resolve) => {\n",
              "    cancel.onclick = () => {\n",
              "      resolve(null);\n",
              "    };\n",
              "  });\n",
              "\n",
              "  // Wait for the user to pick the files.\n",
              "  const files = yield {\n",
              "    promise: Promise.race([pickedPromise, cancelPromise]),\n",
              "    response: {\n",
              "      action: 'starting',\n",
              "    }\n",
              "  };\n",
              "\n",
              "  cancel.remove();\n",
              "\n",
              "  // Disable the input element since further picks are not allowed.\n",
              "  inputElement.disabled = true;\n",
              "\n",
              "  if (!files) {\n",
              "    return {\n",
              "      response: {\n",
              "        action: 'complete',\n",
              "      }\n",
              "    };\n",
              "  }\n",
              "\n",
              "  for (const file of files) {\n",
              "    const li = document.createElement('li');\n",
              "    li.append(span(file.name, {fontWeight: 'bold'}));\n",
              "    li.append(span(\n",
              "        `(${file.type || 'n/a'}) - ${file.size} bytes, ` +\n",
              "        `last modified: ${\n",
              "            file.lastModifiedDate ? file.lastModifiedDate.toLocaleDateString() :\n",
              "                                    'n/a'} - `));\n",
              "    const percent = span('0% done');\n",
              "    li.appendChild(percent);\n",
              "\n",
              "    outputElement.appendChild(li);\n",
              "\n",
              "    const fileDataPromise = new Promise((resolve) => {\n",
              "      const reader = new FileReader();\n",
              "      reader.onload = (e) => {\n",
              "        resolve(e.target.result);\n",
              "      };\n",
              "      reader.readAsArrayBuffer(file);\n",
              "    });\n",
              "    // Wait for the data to be ready.\n",
              "    let fileData = yield {\n",
              "      promise: fileDataPromise,\n",
              "      response: {\n",
              "        action: 'continue',\n",
              "      }\n",
              "    };\n",
              "\n",
              "    // Use a chunked sending to avoid message size limits. See b/62115660.\n",
              "    let position = 0;\n",
              "    do {\n",
              "      const length = Math.min(fileData.byteLength - position, MAX_PAYLOAD_SIZE);\n",
              "      const chunk = new Uint8Array(fileData, position, length);\n",
              "      position += length;\n",
              "\n",
              "      const base64 = btoa(String.fromCharCode.apply(null, chunk));\n",
              "      yield {\n",
              "        response: {\n",
              "          action: 'append',\n",
              "          file: file.name,\n",
              "          data: base64,\n",
              "        },\n",
              "      };\n",
              "\n",
              "      let percentDone = fileData.byteLength === 0 ?\n",
              "          100 :\n",
              "          Math.round((position / fileData.byteLength) * 100);\n",
              "      percent.textContent = `${percentDone}% done`;\n",
              "\n",
              "    } while (position < fileData.byteLength);\n",
              "  }\n",
              "\n",
              "  // All done.\n",
              "  yield {\n",
              "    response: {\n",
              "      action: 'complete',\n",
              "    }\n",
              "  };\n",
              "}\n",
              "\n",
              "scope.google = scope.google || {};\n",
              "scope.google.colab = scope.google.colab || {};\n",
              "scope.google.colab._files = {\n",
              "  _uploadFiles,\n",
              "  _uploadFilesContinue,\n",
              "};\n",
              "})(self);\n",
              "</script> "
            ]
          },
          "metadata": {}
        },
        {
          "output_type": "stream",
          "name": "stdout",
          "text": [
            "Saving rgbmap.png to rgbmap (2).png\n"
          ]
        }
      ]
    },
    {
      "cell_type": "code",
      "source": [
        "# converting file to Image object\n",
        "img = Image.open(filename)\n",
        "\n",
        "#Image.open(filename)"
      ],
      "metadata": {
        "id": "LJeVExWQ6QXI"
      },
      "execution_count": 32,
      "outputs": []
    },
    {
      "cell_type": "code",
      "source": [
        "(left, upper, right, lower) = (20, 20, 100, 100)\n",
        "crop_test = img.crop((left, upper, right, lower))\n",
        "\n"
      ],
      "metadata": {
        "id": "BhL9CCyg7c7u"
      },
      "execution_count": 33,
      "outputs": []
    },
    {
      "cell_type": "code",
      "source": [
        "crop_test"
      ],
      "metadata": {
        "colab": {
          "base_uri": "https://localhost:8080/",
          "height": 97
        },
        "id": "nBRP6MFV7thy",
        "outputId": "d277543b-fb87-458f-9dec-2bfdee979878"
      },
      "execution_count": 34,
      "outputs": [
        {
          "output_type": "execute_result",
          "data": {
            "text/plain": [
              "<PIL.Image.Image image mode=RGB size=80x80>"
            ],
            "image/png": "[encoded data removed]"
          },
          "metadata": {},
          "execution_count": 34
        }
      ]
    },
    {
      "cell_type": "code",
      "source": [
        "display(crop_test)"
      ],
      "metadata": {
        "colab": {
          "base_uri": "https://localhost:8080/",
          "height": 97
        },
        "id": "u7OjR0CQ_von",
        "outputId": "f2033b4b-acb9-4fd1-dee0-683446bc05db"
      },
      "execution_count": 35,
      "outputs": [
        {
          "output_type": "display_data",
          "data": {
            "text/plain": [
              "<PIL.Image.Image image mode=RGB size=80x80>"
            ],
            "image/png": "[encoded data removed]"
          },
          "metadata": {}
        }
      ]
    },
    {
      "cell_type": "code",
      "source": [
        "# putting all cropped images in list\n",
        "\n",
        "listtest = []\n",
        "\n",
        "# each cropped image is 25x25\n",
        "for i in range(0, img.width-25, 25):\n",
        "  for j in range(0, img.height-25, 25):\n",
        "    listtest.append(img.crop((j, i, j+25, i+25)))\n",
        "    crop = img.crop((j, i, j+25, i+25))\n",
        "    ## display(crop)\n"
      ],
      "metadata": {
        "id": "M5XzRIz_8Q04"
      },
      "execution_count": 36,
      "outputs": []
    },
    {
      "cell_type": "code",
      "source": [
        "\n",
        "for i in range(len(listtest)):\n",
        "  #np.average(crop, axis=(0,1))\n",
        "  hi = np.average((listtest[i]), axis=(0,1))\n",
        "  print(hi)\n"
      ],
      "metadata": {
        "colab": {
          "base_uri": "https://localhost:8080/"
        },
        "id": "-qufO5Nz-Zd9",
        "outputId": "e91a2017-2329-4437-b420-a326190701fe"
      },
      "execution_count": 67,
      "outputs": [
        {
          "output_type": "stream",
          "name": "stdout",
          "text": [
            "[243.      68.4272   0.    ]\n",
            "[237.5184 206.1328   0.    ]\n",
            "[131.5568 243.       0.    ]\n",
            "[ 12.4336 243.      23.8208]\n",
            "[  0.     243.     154.4672]\n",
            "[  0.     187.88   242.0352]\n",
            "[  2.2016  47.8432 243.    ]\n",
            "[ 97.0704   0.     243.    ]\n",
            "[223.832    0.     226.7184]\n",
            "[243.       0.     102.8752]\n",
            "[218.      61.3248   0.    ]\n",
            "[213.0624 184.8976   0.    ]\n",
            "[117.9488 218.       0.    ]\n",
            "[ 11.136  218.      21.3584]\n",
            "[  0.     218.     138.5344]\n",
            "[  0.     168.4848 217.1248]\n",
            "[  1.9808  42.8752 218.    ]\n",
            "[ 87.0432   0.     218.    ]\n",
            "[200.7872   0.     203.3552]\n",
            "[218.      0.     92.216]\n",
            "[193.     54.224   0.   ]\n",
            "[188.6048 163.6448   0.    ]\n",
            "[104.36 193.     0.  ]\n",
            "[  9.8288 193.      18.864 ]\n",
            "[  0.    193.    122.584]\n",
            "[  0.     149.1008 192.208 ]\n",
            "[  1.7424  37.896  193.    ]\n",
            "[ 76.9872   0.     193.    ]\n",
            "[177.7152   0.     180.    ]\n",
            "[193.       0.      81.5728]\n",
            "[168.      47.1408   0.    ]\n",
            "[164.1488 142.3904   0.    ]\n",
            "[ 90.7728 168.       0.    ]\n",
            "[  8.536  168.      16.3856]\n",
            "[  0.     168.     106.6448]\n",
            "[  0.     129.7152 167.2976]\n",
            "[  1.5072  32.9456 168.    ]\n",
            "[ 66.9568   0.     168.    ]\n",
            "[154.656    0.     156.6416]\n",
            "[168.       0.      70.9456]\n",
            "[143.      40.0384   0.    ]\n",
            "[139.6912 121.1424   0.    ]\n",
            "[ 77.1824 143.       0.    ]\n",
            "[  7.2304 143.      13.8976]\n",
            "[  0.     143.      90.6976]\n",
            "[  0.     110.3344 142.3824]\n",
            "[  1.2736  27.9744 143.    ]\n",
            "[ 56.9024   0.     143.    ]\n",
            "[131.6      0.     133.2928]\n",
            "[143.       0.      60.2928]\n",
            "[118.      32.9968   0.    ]\n",
            "[115.2784  99.912    0.    ]\n",
            "[ 63.64 118.     0.  ]\n",
            "[  5.944 118.     11.424]\n",
            "[  0.     118.      74.7456]\n",
            "[  0.      91.0272 117.5056]\n",
            "[  1.0304  23.0416 118.    ]\n",
            "[ 46.8832   0.     118.    ]\n",
            "[108.5584   0.     109.9776]\n",
            "[118.       0.      49.7168]\n",
            "[93.     25.8928  0.    ]\n",
            "[90.8192 78.6768  0.    ]\n",
            "[50.032 93.     0.   ]\n",
            "[ 4.6384 93.      8.9552]\n",
            "[ 0.     93.     58.8144]\n",
            "[ 0.     71.6304 92.6   ]\n",
            "[ 0.8016 18.0592 93.    ]\n",
            "[36.8528  0.     93.    ]\n",
            "[85.5136  0.     86.6192]\n",
            "[93.      0.     39.0576]\n",
            "[68.     18.7904  0.    ]\n",
            "[66.36   57.4256  0.    ]\n",
            "[36.4464 68.      0.    ]\n",
            "[ 3.3296 68.      6.4624]\n",
            "[ 0.     68.     42.8736]\n",
            "[ 0.    52.248 67.68 ]\n",
            "[ 0.5584 13.088  68.    ]\n",
            "[26.808  0.    68.   ]\n",
            "[62.4496  0.     63.2624]\n",
            "[68.      0.     28.4176]\n",
            "[43.     11.7056  0.    ]\n",
            "[41.904  36.1696  0.    ]\n",
            "[22.8576 43.      0.    ]\n",
            "[ 2.0336 43.      3.984 ]\n",
            "[ 0.     43.     26.9216]\n",
            "[ 0.     32.8624 42.7696]\n",
            "[ 0.3264  8.1328 43.    ]\n",
            "[16.7648  0.     43.    ]\n",
            "[39.384   0.     39.9056]\n",
            "[43.      0.     17.7792]\n",
            "[18.      4.6048  0.    ]\n",
            "[17.4512 14.9232  0.    ]\n",
            "[ 9.2656 18.      0.    ]\n",
            "[ 0.7312 18.      1.4928]\n",
            "[ 0.     18.     10.9744]\n",
            "[ 0.     13.4864 17.8608]\n",
            "[ 0.0896  3.1616 18.    ]\n",
            "[ 6.7072  0.     18.    ]\n",
            "[16.3312  0.     16.56  ]\n",
            "[18.      0.      7.1328]\n"
          ]
        }
      ]
    },
    {
      "cell_type": "code",
      "source": [
        "def find_Avg_Color(cropped_average, original_array):\n",
        "  r = cropped_average[0]\n",
        "  g = cropped_average[1]\n",
        "  b = cropped_average[2]\n",
        "\n",
        "  current_lowest = 1000\n",
        "  lowest_index = 0;\n",
        "  for i in range(len(original_array)):\n",
        "    total_difference = 0;\n",
        "    curr_avg = np.average(original_array[i], axis=(0,1))\n",
        "    #print(curr_avg)\n",
        "\n",
        "    total_difference += abs(r - curr_avg[0])\n",
        "    total_difference += abs(g - curr_avg[1])\n",
        "    total_difference += abs(b - curr_avg[2])\n",
        "\n",
        "    if (total_difference < current_lowest):\n",
        "      current_lowest = total_difference\n",
        "      lowest_index = i\n",
        "\n",
        "  return lowest_index\n"
      ],
      "metadata": {
        "id": "5ABuncyb63AS"
      },
      "execution_count": 85,
      "outputs": []
    },
    {
      "cell_type": "code",
      "source": [
        "for i in range(len(listtest)):\n",
        "  display(listtest[i])"
      ],
      "metadata": {
        "colab": {
          "base_uri": "https://localhost:8080/",
          "height": 1000
        },
        "id": "aD2NEPgPGGte",
        "outputId": "adbcf407-9030-4990-958a-174ec4deca82"
      },
      "execution_count": 52,
      "outputs": [
        {
          "output_type": "display_data",
          "data": {
            "text/plain": [
              "<PIL.Image.Image image mode=RGB size=25x25>"
            ],
            "image/png": "[encoded data removed]"
          },
          "metadata": {}
        },
        {
          "output_type": "display_data",
          "data": {
            "text/plain": [
              "<PIL.Image.Image image mode=RGB size=25x25>"
            ],
            "image/png": "[encoded data removed]"
          },
          "metadata": {}
        },
        {
          "output_type": "display_data",
          "data": {
            "text/plain": [
              "<PIL.Image.Image image mode=RGB size=25x25>"
            ],
            "image/png": "[encoded data removed]"
          },
          "metadata": {}
        },
        {
          "output_type": "display_data",
          "data": {
            "text/plain": [
              "<PIL.Image.Image image mode=RGB size=25x25>"
            ],
            "image/png": "[encoded data removed]"
          },
          "metadata": {}
        },
        {
          "output_type": "display_data",
          "data": {
            "text/plain": [
              "<PIL.Image.Image image mode=RGB size=25x25>"
            ],
            "image/png": "[encoded data removed]"
          },
          "metadata": {}
        },
        {
          "output_type": "display_data",
          "data": {
            "text/plain": [
              "<PIL.Image.Image image mode=RGB size=25x25>"
            ],
            "image/png": "[encoded data removed]"
          },
          "metadata": {}
        },
        {
          "output_type": "display_data",
          "data": {
            "text/plain": [
              "<PIL.Image.Image image mode=RGB size=25x25>"
            ],
            "image/png": "[encoded data removed]"
          },
          "metadata": {}
        },
        {
          "output_type": "display_data",
          "data": {
            "text/plain": [
              "<PIL.Image.Image image mode=RGB size=25x25>"
            ],
            "image/png": "[encoded data removed]"
          },
          "metadata": {}
        },
        {
          "output_type": "display_data",
          "data": {
            "text/plain": [
              "<PIL.Image.Image image mode=RGB size=25x25>"
            ],
            "image/png": "[encoded data removed]"
          },
          "metadata": {}
        },
        {
          "output_type": "display_data",
          "data": {
            "text/plain": [
              "<PIL.Image.Image image mode=RGB size=25x25>"
            ],
            "image/png": "[encoded data removed]"
          },
          "metadata": {}
        },
        {
          "output_type": "display_data",
          "data": {
            "text/plain": [
              "<PIL.Image.Image image mode=RGB size=25x25>"
            ],
            "image/png": "[encoded data removed]"
          },
          "metadata": {}
        },
        {
          "output_type": "display_data",
          "data": {
            "text/plain": [
              "<PIL.Image.Image image mode=RGB size=25x25>"
            ],
            "image/png": "[encoded data removed]"
          },
          "metadata": {}
        },
        {
          "output_type": "display_data",
          "data": {
            "text/plain": [
              "<PIL.Image.Image image mode=RGB size=25x25>"
            ],
            "image/png": "[encoded data removed]"
          },
          "metadata": {}
        },
        {
          "output_type": "display_data",
          "data": {
            "text/plain": [
              "<PIL.Image.Image image mode=RGB size=25x25>"
            ],
            "image/png": "[encoded data removed]"
          },
          "metadata": {}
        },
        {
          "output_type": "display_data",
          "data": {
            "text/plain": [
              "<PIL.Image.Image image mode=RGB size=25x25>"
            ],
            "image/png": "[encoded data removed]"
          },
          "metadata": {}
        },
        {
          "output_type": "display_data",
          "data": {
            "text/plain": [
              "<PIL.Image.Image image mode=RGB size=25x25>"
            ],
            "image/png": "[encoded data removed]"
          },
          "metadata": {}
        },
        {
          "output_type": "display_data",
          "data": {
            "text/plain": [
              "<PIL.Image.Image image mode=RGB size=25x25>"
            ],
            "image/png": "[encoded data removed]"
          },
          "metadata": {}
        },
        {
          "output_type": "display_data",
          "data": {
            "text/plain": [
              "<PIL.Image.Image image mode=RGB size=25x25>"
            ],
            "image/png": "[encoded data removed]"
          },
          "metadata": {}
        },
        {
          "output_type": "display_data",
          "data": {
            "text/plain": [
              "<PIL.Image.Image image mode=RGB size=25x25>"
            ],
            "image/png": "[encoded data removed]"
          },
          "metadata": {}
        },
        {
          "output_type": "display_data",
          "data": {
            "text/plain": [
              "<PIL.Image.Image image mode=RGB size=25x25>"
            ],
            "image/png": "[encoded data removed]"
          },
          "metadata": {}
        },
        {
          "output_type": "display_data",
          "data": {
            "text/plain": [
              "<PIL.Image.Image image mode=RGB size=25x25>"
            ],
            "image/png": "[encoded data removed]"
          },
          "metadata": {}
        },
        {
          "output_type": "display_data",
          "data": {
            "text/plain": [
              "<PIL.Image.Image image mode=RGB size=25x25>"
            ],
            "image/png": "[encoded data removed]"
          },
          "metadata": {}
        },
        {
          "output_type": "display_data",
          "data": {
            "text/plain": [
              "<PIL.Image.Image image mode=RGB size=25x25>"
            ],
            "image/png": "[encoded data removed]"
          },
          "metadata": {}
        },
        {
          "output_type": "display_data",
          "data": {
            "text/plain": [
              "<PIL.Image.Image image mode=RGB size=25x25>"
            ],
            "image/png": "[encoded data removed]"
          },
          "metadata": {}
        },
        {
          "output_type": "display_data",
          "data": {
            "text/plain": [
              "<PIL.Image.Image image mode=RGB size=25x25>"
            ],
            "image/png": "[encoded data removed]"
          },
          "metadata": {}
        },
        {
          "output_type": "display_data",
          "data": {
            "text/plain": [
              "<PIL.Image.Image image mode=RGB size=25x25>"
            ],
            "image/png": "[encoded data removed]"
          },
          "metadata": {}
        },
        {
          "output_type": "display_data",
          "data": {
            "text/plain": [
              "<PIL.Image.Image image mode=RGB size=25x25>"
            ],
            "image/png": "[encoded data removed]"
          },
          "metadata": {}
        },
        {
          "output_type": "display_data",
          "data": {
            "text/plain": [
              "<PIL.Image.Image image mode=RGB size=25x25>"
            ],
            "image/png": "[encoded data removed]"
          },
          "metadata": {}
        },
        {
          "output_type": "display_data",
          "data": {
            "text/plain": [
              "<PIL.Image.Image image mode=RGB size=25x25>"
            ],
            "image/png": "[encoded data removed]"
          },
          "metadata": {}
        },
        {
          "output_type": "display_data",
          "data": {
            "text/plain": [
              "<PIL.Image.Image image mode=RGB size=25x25>"
            ],
            "image/png": "[encoded data removed]"
          },
          "metadata": {}
        },
        {
          "output_type": "display_data",
          "data": {
            "text/plain": [
              "<PIL.Image.Image image mode=RGB size=25x25>"
            ],
            "image/png": "[encoded data removed]"
          },
          "metadata": {}
        },
        {
          "output_type": "display_data",
          "data": {
            "text/plain": [
              "<PIL.Image.Image image mode=RGB size=25x25>"
            ],
            "image/png": "[encoded data removed]"
          },
          "metadata": {}
        },
        {
          "output_type": "display_data",
          "data": {
            "text/plain": [
              "<PIL.Image.Image image mode=RGB size=25x25>"
            ],
            "image/png": "[encoded data removed]"
          },
          "metadata": {}
        },
        {
          "output_type": "display_data",
          "data": {
            "text/plain": [
              "<PIL.Image.Image image mode=RGB size=25x25>"
            ],
            "image/png": "[encoded data removed]"
          },
          "metadata": {}
        },
        {
          "output_type": "display_data",
          "data": {
            "text/plain": [
              "<PIL.Image.Image image mode=RGB size=25x25>"
            ],
            "image/png": "[encoded data removed]"
          },
          "metadata": {}
        },
        {
          "output_type": "display_data",
          "data": {
            "text/plain": [
              "<PIL.Image.Image image mode=RGB size=25x25>"
            ],
            "image/png": "[encoded data removed]"
          },
          "metadata": {}
        },
        {
          "output_type": "display_data",
          "data": {
            "text/plain": [
              "<PIL.Image.Image image mode=RGB size=25x25>"
            ],
            "image/png": "[encoded data removed]"
          },
          "metadata": {}
        },
        {
          "output_type": "display_data",
          "data": {
            "text/plain": [
              "<PIL.Image.Image image mode=RGB size=25x25>"
            ],
            "image/png": "[encoded data removed]"
          },
          "metadata": {}
        },
        {
          "output_type": "display_data",
          "data": {
            "text/plain": [
              "<PIL.Image.Image image mode=RGB size=25x25>"
            ],
            "image/png": "[encoded data removed]"
          },
          "metadata": {}
        },
        {
          "output_type": "display_data",
          "data": {
            "text/plain": [
              "<PIL.Image.Image image mode=RGB size=25x25>"
            ],
            "image/png": "[encoded data removed]"
          },
          "metadata": {}
        },
        {
          "output_type": "display_data",
          "data": {
            "text/plain": [
              "<PIL.Image.Image image mode=RGB size=25x25>"
            ],
            "image/png": "[encoded data removed]"
          },
          "metadata": {}
        },
        {
          "output_type": "display_data",
          "data": {
            "text/plain": [
              "<PIL.Image.Image image mode=RGB size=25x25>"
            ],
            "image/png": "[encoded data removed]"
          },
          "metadata": {}
        },
        {
          "output_type": "display_data",
          "data": {
            "text/plain": [
              "<PIL.Image.Image image mode=RGB size=25x25>"
            ],
            "image/png": "[encoded data removed]"
          },
          "metadata": {}
        },
        {
          "output_type": "display_data",
          "data": {
            "text/plain": [
              "<PIL.Image.Image image mode=RGB size=25x25>"
            ],
            "image/png": "[encoded data removed]"
          },
          "metadata": {}
        },
        {
          "output_type": "display_data",
          "data": {
            "text/plain": [
              "<PIL.Image.Image image mode=RGB size=25x25>"
            ],
            "image/png": "[encoded data removed]"
          },
          "metadata": {}
        },
        {
          "output_type": "display_data",
          "data": {
            "text/plain": [
              "<PIL.Image.Image image mode=RGB size=25x25>"
            ],
            "image/png": "[encoded data removed]"
          },
          "metadata": {}
        },
        {
          "output_type": "display_data",
          "data": {
            "text/plain": [
              "<PIL.Image.Image image mode=RGB size=25x25>"
            ],
            "image/png": "[encoded data removed]"
          },
          "metadata": {}
        },
        {
          "output_type": "display_data",
          "data": {
            "text/plain": [
              "<PIL.Image.Image image mode=RGB size=25x25>"
            ],
            "image/png": "[encoded data removed]"
          },
          "metadata": {}
        },
        {
          "output_type": "display_data",
          "data": {
            "text/plain": [
              "<PIL.Image.Image image mode=RGB size=25x25>"
            ],
            "image/png": "[encoded data removed]"
          },
          "metadata": {}
        },
        {
          "output_type": "display_data",
          "data": {
            "text/plain": [
              "<PIL.Image.Image image mode=RGB size=25x25>"
            ],
            "image/png": "[encoded data removed]"
          },
          "metadata": {}
        },
        {
          "output_type": "display_data",
          "data": {
            "text/plain": [
              "<PIL.Image.Image image mode=RGB size=25x25>"
            ],
            "image/png": "[encoded data removed]"
          },
          "metadata": {}
        },
        {
          "output_type": "display_data",
          "data": {
            "text/plain": [
              "<PIL.Image.Image image mode=RGB size=25x25>"
            ],
            "image/png": "[encoded data removed]"
          },
          "metadata": {}
        },
        {
          "output_type": "display_data",
          "data": {
            "text/plain": [
              "<PIL.Image.Image image mode=RGB size=25x25>"
            ],
            "image/png": "[encoded data removed]"
          },
          "metadata": {}
        },
        {
          "output_type": "display_data",
          "data": {
            "text/plain": [
              "<PIL.Image.Image image mode=RGB size=25x25>"
            ],
            "image/png": "[encoded data removed]"
          },
          "metadata": {}
        },
        {
          "output_type": "display_data",
          "data": {
            "text/plain": [
              "<PIL.Image.Image image mode=RGB size=25x25>"
            ],
            "image/png": "[encoded data removed]"
          },
          "metadata": {}
        },
        {
          "output_type": "display_data",
          "data": {
            "text/plain": [
              "<PIL.Image.Image image mode=RGB size=25x25>"
            ],
            "image/png": "[encoded data removed]"
          },
          "metadata": {}
        },
        {
          "output_type": "display_data",
          "data": {
            "text/plain": [
              "<PIL.Image.Image image mode=RGB size=25x25>"
            ],
            "image/png": "[encoded data removed]"
          },
          "metadata": {}
        },
        {
          "output_type": "display_data",
          "data": {
            "text/plain": [
              "<PIL.Image.Image image mode=RGB size=25x25>"
            ],
            "image/png": "[encoded data removed]"
          },
          "metadata": {}
        },
        {
          "output_type": "display_data",
          "data": {
            "text/plain": [
              "<PIL.Image.Image image mode=RGB size=25x25>"
            ],
            "image/png": "[encoded data removed]"
          },
          "metadata": {}
        },
        {
          "output_type": "display_data",
          "data": {
            "text/plain": [
              "<PIL.Image.Image image mode=RGB size=25x25>"
            ],
            "image/png": "[encoded data removed]"
          },
          "metadata": {}
        },
        {
          "output_type": "display_data",
          "data": {
            "text/plain": [
              "<PIL.Image.Image image mode=RGB size=25x25>"
            ],
            "image/png": "[encoded data removed]"
          },
          "metadata": {}
        },
        {
          "output_type": "display_data",
          "data": {
            "text/plain": [
              "<PIL.Image.Image image mode=RGB size=25x25>"
            ],
            "image/png": "[encoded data removed]"
          },
          "metadata": {}
        },
        {
          "output_type": "display_data",
          "data": {
            "text/plain": [
              "<PIL.Image.Image image mode=RGB size=25x25>"
            ],
            "image/png": "[encoded data removed]"
          },
          "metadata": {}
        },
        {
          "output_type": "display_data",
          "data": {
            "text/plain": [
              "<PIL.Image.Image image mode=RGB size=25x25>"
            ],
            "image/png": "[encoded data removed]"
          },
          "metadata": {}
        },
        {
          "output_type": "display_data",
          "data": {
            "text/plain": [
              "<PIL.Image.Image image mode=RGB size=25x25>"
            ],
            "image/png": "[encoded data removed]"
          },
          "metadata": {}
        },
        {
          "output_type": "display_data",
          "data": {
            "text/plain": [
              "<PIL.Image.Image image mode=RGB size=25x25>"
            ],
            "image/png": "[encoded data removed]"
          },
          "metadata": {}
        },
        {
          "output_type": "display_data",
          "data": {
            "text/plain": [
              "<PIL.Image.Image image mode=RGB size=25x25>"
            ],
            "image/png": "[encoded data removed]"
          },
          "metadata": {}
        },
        {
          "output_type": "display_data",
          "data": {
            "text/plain": [
              "<PIL.Image.Image image mode=RGB size=25x25>"
            ],
            "image/png": "[encoded data removed]"
          },
          "metadata": {}
        },
        {
          "output_type": "display_data",
          "data": {
            "text/plain": [
              "<PIL.Image.Image image mode=RGB size=25x25>"
            ],
            "image/png": "[encoded data removed]"
          },
          "metadata": {}
        },
        {
          "output_type": "display_data",
          "data": {
            "text/plain": [
              "<PIL.Image.Image image mode=RGB size=25x25>"
            ],
            "image/png": "[encoded data removed]"
          },
          "metadata": {}
        },
        {
          "output_type": "display_data",
          "data": {
            "text/plain": [
              "<PIL.Image.Image image mode=RGB size=25x25>"
            ],
            "image/png": "[encoded data removed]"
          },
          "metadata": {}
        },
        {
          "output_type": "display_data",
          "data": {
            "text/plain": [
              "<PIL.Image.Image image mode=RGB size=25x25>"
            ],
            "image/png": "[encoded data removed]"
          },
          "metadata": {}
        },
        {
          "output_type": "display_data",
          "data": {
            "text/plain": [
              "<PIL.Image.Image image mode=RGB size=25x25>"
            ],
            "image/png": "[encoded data removed]"
          },
          "metadata": {}
        },
        {
          "output_type": "display_data",
          "data": {
            "text/plain": [
              "<PIL.Image.Image image mode=RGB size=25x25>"
            ],
            "image/png": "[encoded data removed]"
          },
          "metadata": {}
        },
        {
          "output_type": "display_data",
          "data": {
            "text/plain": [
              "<PIL.Image.Image image mode=RGB size=25x25>"
            ],
            "image/png": "[encoded data removed]"
          },
          "metadata": {}
        },
        {
          "output_type": "display_data",
          "data": {
            "text/plain": [
              "<PIL.Image.Image image mode=RGB size=25x25>"
            ],
            "image/png": "[encoded data removed]"
          },
          "metadata": {}
        },
        {
          "output_type": "display_data",
          "data": {
            "text/plain": [
              "<PIL.Image.Image image mode=RGB size=25x25>"
            ],
            "image/png": "[encoded data removed]"
          },
          "metadata": {}
        },
        {
          "output_type": "display_data",
          "data": {
            "text/plain": [
              "<PIL.Image.Image image mode=RGB size=25x25>"
            ],
            "image/png": "[encoded data removed]"
          },
          "metadata": {}
        },
        {
          "output_type": "display_data",
          "data": {
            "text/plain": [
              "<PIL.Image.Image image mode=RGB size=25x25>"
            ],
            "image/png": "[encoded data removed]"
          },
          "metadata": {}
        },
        {
          "output_type": "display_data",
          "data": {
            "text/plain": [
              "<PIL.Image.Image image mode=RGB size=25x25>"
            ],
            "image/png": "[encoded data removed]"
          },
          "metadata": {}
        },
        {
          "output_type": "display_data",
          "data": {
            "text/plain": [
              "<PIL.Image.Image image mode=RGB size=25x25>"
            ],
            "image/png": "[encoded data removed]"
          },
          "metadata": {}
        },
        {
          "output_type": "display_data",
          "data": {
            "text/plain": [
              "<PIL.Image.Image image mode=RGB size=25x25>"
            ],
            "image/png": "[encoded data removed]"
          },
          "metadata": {}
        },
        {
          "output_type": "display_data",
          "data": {
            "text/plain": [
              "<PIL.Image.Image image mode=RGB size=25x25>"
            ],
            "image/png": "[encoded data removed]"
          },
          "metadata": {}
        },
        {
          "output_type": "display_data",
          "data": {
            "text/plain": [
              "<PIL.Image.Image image mode=RGB size=25x25>"
            ],
            "image/png": "[encoded data removed]"
          },
          "metadata": {}
        },
        {
          "output_type": "display_data",
          "data": {
            "text/plain": [
              "<PIL.Image.Image image mode=RGB size=25x25>"
            ],
            "image/png": "[encoded data removed]"
          },
          "metadata": {}
        },
        {
          "output_type": "display_data",
          "data": {
            "text/plain": [
              "<PIL.Image.Image image mode=RGB size=25x25>"
            ],
            "image/png": "[encoded data removed]"
          },
          "metadata": {}
        },
        {
          "output_type": "display_data",
          "data": {
            "text/plain": [
              "<PIL.Image.Image image mode=RGB size=25x25>"
            ],
            "image/png": "[encoded data removed]"
          },
          "metadata": {}
        },
        {
          "output_type": "display_data",
          "data": {
            "text/plain": [
              "<PIL.Image.Image image mode=RGB size=25x25>"
            ],
            "image/png": "[encoded data removed]"
          },
          "metadata": {}
        },
        {
          "output_type": "display_data",
          "data": {
            "text/plain": [
              "<PIL.Image.Image image mode=RGB size=25x25>"
            ],
            "image/png": "[encoded data removed]"
          },
          "metadata": {}
        },
        {
          "output_type": "display_data",
          "data": {
            "text/plain": [
              "<PIL.Image.Image image mode=RGB size=25x25>"
            ],
            "image/png": "[encoded data removed]"
          },
          "metadata": {}
        },
        {
          "output_type": "display_data",
          "data": {
            "text/plain": [
              "<PIL.Image.Image image mode=RGB size=25x25>"
            ],
            "image/png": "[encoded data removed]"
          },
          "metadata": {}
        },
        {
          "output_type": "display_data",
          "data": {
            "text/plain": [
              "<PIL.Image.Image image mode=RGB size=25x25>"
            ],
            "image/png": "[encoded data removed]"
          },
          "metadata": {}
        },
        {
          "output_type": "display_data",
          "data": {
            "text/plain": [
              "<PIL.Image.Image image mode=RGB size=25x25>"
            ],
            "image/png": "[encoded data removed]"
          },
          "metadata": {}
        },
        {
          "output_type": "display_data",
          "data": {
            "text/plain": [
              "<PIL.Image.Image image mode=RGB size=25x25>"
            ],
            "image/png": "[encoded data removed]"
          },
          "metadata": {}
        },
        {
          "output_type": "display_data",
          "data": {
            "text/plain": [
              "<PIL.Image.Image image mode=RGB size=25x25>"
            ],
            "image/png": "[encoded data removed]"
          },
          "metadata": {}
        },
        {
          "output_type": "display_data",
          "data": {
            "text/plain": [
              "<PIL.Image.Image image mode=RGB size=25x25>"
            ],
            "image/png": "[encoded data removed]"
          },
          "metadata": {}
        },
        {
          "output_type": "display_data",
          "data": {
            "text/plain": [
              "<PIL.Image.Image image mode=RGB size=25x25>"
            ],
            "image/png": "[encoded data removed]"
          },
          "metadata": {}
        },
        {
          "output_type": "display_data",
          "data": {
            "text/plain": [
              "<PIL.Image.Image image mode=RGB size=25x25>"
            ],
            "image/png": "[encoded data removed]"
          },
          "metadata": {}
        },
        {
          "output_type": "display_data",
          "data": {
            "text/plain": [
              "<PIL.Image.Image image mode=RGB size=25x25>"
            ],
            "image/png": "[encoded data removed]"
          },
          "metadata": {}
        },
        {
          "output_type": "display_data",
          "data": {
            "text/plain": [
              "<PIL.Image.Image image mode=RGB size=25x25>"
            ],
            "image/png": "[encoded data removed]"
          },
          "metadata": {}
        }
      ]
    },
    {
      "cell_type": "code",
      "source": [
        "test_img_file = files.upload()\n",
        "\n",
        "test_img_filename = next(iter(test_img_file))\n",
        "library_img = Image.open(test_img_filename)"
      ],
      "metadata": {
        "colab": {
          "base_uri": "https://localhost:8080/",
          "height": 73
        },
        "id": "4hbsFQvC4c52",
        "outputId": "9fa50fbc-053b-4758-e4da-41ac8fb42e26"
      },
      "execution_count": 76,
      "outputs": [
        {
          "output_type": "display_data",
          "data": {
            "text/plain": [
              "<IPython.core.display.HTML object>"
            ],
            "text/html": [
              "\n",
              "     <input type=\"file\" id=\"files-6360c0ff-044d-4f51-b2da-c51497d713ec\" name=\"files[]\" multiple disabled\n",
              "        style=\"border:none\" />\n",
              "     <output id=\"result-6360c0ff-044d-4f51-b2da-c51497d713ec\">\n",
              "      Upload widget is only available when the cell has been executed in the\n",
              "      current browser session. Please rerun this cell to enable.\n",
              "      </output>\n",
              "      <script>// Copyright 2017 Google LLC\n",
              "//\n",
              "// Licensed under the Apache License, Version 2.0 (the \"License\");\n",
              "// you may not use this file except in compliance with the License.\n",
              "// You may obtain a copy of the License at\n",
              "//\n",
              "//      http://www.apache.org/licenses/LICENSE-2.0\n",
              "//\n",
              "// Unless required by applicable law or agreed to in writing, software\n",
              "// distributed under the License is distributed on an \"AS IS\" BASIS,\n",
              "// WITHOUT WARRANTIES OR CONDITIONS OF ANY KIND, either express or implied.\n",
              "// See the License for the specific language governing permissions and\n",
              "// limitations under the License.\n",
              "\n",
              "/**\n",
              " * @fileoverview Helpers for google.colab Python module.\n",
              " */\n",
              "(function(scope) {\n",
              "function span(text, styleAttributes = {}) {\n",
              "  const element = document.createElement('span');\n",
              "  element.textContent = text;\n",
              "  for (const key of Object.keys(styleAttributes)) {\n",
              "    element.style[key] = styleAttributes[key];\n",
              "  }\n",
              "  return element;\n",
              "}\n",
              "\n",
              "// Max number of bytes which will be uploaded at a time.\n",
              "const MAX_PAYLOAD_SIZE = 100 * 1024;\n",
              "\n",
              "function _uploadFiles(inputId, outputId) {\n",
              "  const steps = uploadFilesStep(inputId, outputId);\n",
              "  const outputElement = document.getElementById(outputId);\n",
              "  // Cache steps on the outputElement to make it available for the next call\n",
              "  // to uploadFilesContinue from Python.\n",
              "  outputElement.steps = steps;\n",
              "\n",
              "  return _uploadFilesContinue(outputId);\n",
              "}\n",
              "\n",
              "// This is roughly an async generator (not supported in the browser yet),\n",
              "// where there are multiple asynchronous steps and the Python side is going\n",
              "// to poll for completion of each step.\n",
              "// This uses a Promise to block the python side on completion of each step,\n",
              "// then passes the result of the previous step as the input to the next step.\n",
              "function _uploadFilesContinue(outputId) {\n",
              "  const outputElement = document.getElementById(outputId);\n",
              "  const steps = outputElement.steps;\n",
              "\n",
              "  const next = steps.next(outputElement.lastPromiseValue);\n",
              "  return Promise.resolve(next.value.promise).then((value) => {\n",
              "    // Cache the last promise value to make it available to the next\n",
              "    // step of the generator.\n",
              "    outputElement.lastPromiseValue = value;\n",
              "    return next.value.response;\n",
              "  });\n",
              "}\n",
              "\n",
              "/**\n",
              " * Generator function which is called between each async step of the upload\n",
              " * process.\n",
              " * @param {string} inputId Element ID of the input file picker element.\n",
              " * @param {string} outputId Element ID of the output display.\n",
              " * @return {!Iterable<!Object>} Iterable of next steps.\n",
              " */\n",
              "function* uploadFilesStep(inputId, outputId) {\n",
              "  const inputElement = document.getElementById(inputId);\n",
              "  inputElement.disabled = false;\n",
              "\n",
              "  const outputElement = document.getElementById(outputId);\n",
              "  outputElement.innerHTML = '';\n",
              "\n",
              "  const pickedPromise = new Promise((resolve) => {\n",
              "    inputElement.addEventListener('change', (e) => {\n",
              "      resolve(e.target.files);\n",
              "    });\n",
              "  });\n",
              "\n",
              "  const cancel = document.createElement('button');\n",
              "  inputElement.parentElement.appendChild(cancel);\n",
              "  cancel.textContent = 'Cancel upload';\n",
              "  const cancelPromise = new Promise((resolve) => {\n",
              "    cancel.onclick = () => {\n",
              "      resolve(null);\n",
              "    };\n",
              "  });\n",
              "\n",
              "  // Wait for the user to pick the files.\n",
              "  const files = yield {\n",
              "    promise: Promise.race([pickedPromise, cancelPromise]),\n",
              "    response: {\n",
              "      action: 'starting',\n",
              "    }\n",
              "  };\n",
              "\n",
              "  cancel.remove();\n",
              "\n",
              "  // Disable the input element since further picks are not allowed.\n",
              "  inputElement.disabled = true;\n",
              "\n",
              "  if (!files) {\n",
              "    return {\n",
              "      response: {\n",
              "        action: 'complete',\n",
              "      }\n",
              "    };\n",
              "  }\n",
              "\n",
              "  for (const file of files) {\n",
              "    const li = document.createElement('li');\n",
              "    li.append(span(file.name, {fontWeight: 'bold'}));\n",
              "    li.append(span(\n",
              "        `(${file.type || 'n/a'}) - ${file.size} bytes, ` +\n",
              "        `last modified: ${\n",
              "            file.lastModifiedDate ? file.lastModifiedDate.toLocaleDateString() :\n",
              "                                    'n/a'} - `));\n",
              "    const percent = span('0% done');\n",
              "    li.appendChild(percent);\n",
              "\n",
              "    outputElement.appendChild(li);\n",
              "\n",
              "    const fileDataPromise = new Promise((resolve) => {\n",
              "      const reader = new FileReader();\n",
              "      reader.onload = (e) => {\n",
              "        resolve(e.target.result);\n",
              "      };\n",
              "      reader.readAsArrayBuffer(file);\n",
              "    });\n",
              "    // Wait for the data to be ready.\n",
              "    let fileData = yield {\n",
              "      promise: fileDataPromise,\n",
              "      response: {\n",
              "        action: 'continue',\n",
              "      }\n",
              "    };\n",
              "\n",
              "    // Use a chunked sending to avoid message size limits. See b/62115660.\n",
              "    let position = 0;\n",
              "    do {\n",
              "      const length = Math.min(fileData.byteLength - position, MAX_PAYLOAD_SIZE);\n",
              "      const chunk = new Uint8Array(fileData, position, length);\n",
              "      position += length;\n",
              "\n",
              "      const base64 = btoa(String.fromCharCode.apply(null, chunk));\n",
              "      yield {\n",
              "        response: {\n",
              "          action: 'append',\n",
              "          file: file.name,\n",
              "          data: base64,\n",
              "        },\n",
              "      };\n",
              "\n",
              "      let percentDone = fileData.byteLength === 0 ?\n",
              "          100 :\n",
              "          Math.round((position / fileData.byteLength) * 100);\n",
              "      percent.textContent = `${percentDone}% done`;\n",
              "\n",
              "    } while (position < fileData.byteLength);\n",
              "  }\n",
              "\n",
              "  // All done.\n",
              "  yield {\n",
              "    response: {\n",
              "      action: 'complete',\n",
              "    }\n",
              "  };\n",
              "}\n",
              "\n",
              "scope.google = scope.google || {};\n",
              "scope.google.colab = scope.google.colab || {};\n",
              "scope.google.colab._files = {\n",
              "  _uploadFiles,\n",
              "  _uploadFilesContinue,\n",
              "};\n",
              "})(self);\n",
              "</script> "
            ]
          },
          "metadata": {}
        },
        {
          "output_type": "stream",
          "name": "stdout",
          "text": [
            "Saving test.png to test.png\n"
          ]
        }
      ]
    },
    {
      "cell_type": "code",
      "source": [
        "copy = library_img.copy()\n",
        "library_arr = []\n",
        "\n",
        "copy1 = library_img.copy().convert('RGB')\n",
        "png = np.array(copy1)\n",
        "\n",
        "counter = 0\n",
        "for i in range(0, library_img.width + 100, 25):\n",
        "  for j in range(0, library_img.height + 100, 25):\n",
        "    library_arr.append(library_img.crop((j, i, j+25, i+25)))\n",
        "    crop = library_img.crop((j, i, j+25, i+25))\n",
        "    curr_avg = np.average(crop, axis=(0,1))\n",
        "\n",
        "\n",
        "\n",
        "    new_img = listtest[find_Avg_Color(curr_avg, listtest)]\n",
        "    # Image.putdata(data, scale=1.0, offset=0.0)\n",
        "    # left, upper, right, and lower\n",
        "    Image.Image.paste(copy, new_img, (j, i, j+25, i+25))\n",
        "\n",
        "    counter+=1\n",
        "    print(\"progress: \" + str(counter) + \"/\" + str(((library_img.width/25) * (library_img.height/25))))\n",
        "    ## searching the original picture for a similar color"
      ],
      "metadata": {
        "id": "ElVmjqQ94kvW",
        "colab": {
          "base_uri": "https://localhost:8080/"
        },
        "outputId": "aa88cb92-6a7d-448f-8e89-23de0112ad6c"
      },
      "execution_count": 94,
      "outputs": [
        {
          "output_type": "stream",
          "name": "stdout",
          "text": [
            "progress: 1/239.4112\n",
            "progress: 2/239.4112\n",
            "progress: 3/239.4112\n",
            "progress: 4/239.4112\n",
            "progress: 5/239.4112\n",
            "progress: 6/239.4112\n",
            "progress: 7/239.4112\n",
            "progress: 8/239.4112\n",
            "progress: 9/239.4112\n",
            "progress: 10/239.4112\n",
            "progress: 11/239.4112\n",
            "progress: 12/239.4112\n",
            "progress: 13/239.4112\n",
            "progress: 14/239.4112\n",
            "progress: 15/239.4112\n",
            "progress: 16/239.4112\n",
            "progress: 17/239.4112\n",
            "progress: 18/239.4112\n",
            "progress: 19/239.4112\n",
            "progress: 20/239.4112\n",
            "progress: 21/239.4112\n",
            "progress: 22/239.4112\n",
            "progress: 23/239.4112\n",
            "progress: 24/239.4112\n",
            "progress: 25/239.4112\n",
            "progress: 26/239.4112\n",
            "progress: 27/239.4112\n",
            "progress: 28/239.4112\n",
            "progress: 29/239.4112\n",
            "progress: 30/239.4112\n",
            "progress: 31/239.4112\n",
            "progress: 32/239.4112\n",
            "progress: 33/239.4112\n",
            "progress: 34/239.4112\n",
            "progress: 35/239.4112\n",
            "progress: 36/239.4112\n",
            "progress: 37/239.4112\n",
            "progress: 38/239.4112\n",
            "progress: 39/239.4112\n",
            "progress: 40/239.4112\n",
            "progress: 41/239.4112\n",
            "progress: 42/239.4112\n",
            "progress: 43/239.4112\n",
            "progress: 44/239.4112\n",
            "progress: 45/239.4112\n",
            "progress: 46/239.4112\n",
            "progress: 47/239.4112\n",
            "progress: 48/239.4112\n",
            "progress: 49/239.4112\n",
            "progress: 50/239.4112\n",
            "progress: 51/239.4112\n",
            "progress: 52/239.4112\n",
            "progress: 53/239.4112\n",
            "progress: 54/239.4112\n",
            "progress: 55/239.4112\n",
            "progress: 56/239.4112\n",
            "progress: 57/239.4112\n",
            "progress: 58/239.4112\n",
            "progress: 59/239.4112\n",
            "progress: 60/239.4112\n",
            "progress: 61/239.4112\n",
            "progress: 62/239.4112\n",
            "progress: 63/239.4112\n",
            "progress: 64/239.4112\n",
            "progress: 65/239.4112\n",
            "progress: 66/239.4112\n",
            "progress: 67/239.4112\n",
            "progress: 68/239.4112\n",
            "progress: 69/239.4112\n",
            "progress: 70/239.4112\n",
            "progress: 71/239.4112\n",
            "progress: 72/239.4112\n",
            "progress: 73/239.4112\n",
            "progress: 74/239.4112\n",
            "progress: 75/239.4112\n",
            "progress: 76/239.4112\n",
            "progress: 77/239.4112\n",
            "progress: 78/239.4112\n",
            "progress: 79/239.4112\n",
            "progress: 80/239.4112\n",
            "progress: 81/239.4112\n",
            "progress: 82/239.4112\n",
            "progress: 83/239.4112\n",
            "progress: 84/239.4112\n",
            "progress: 85/239.4112\n",
            "progress: 86/239.4112\n",
            "progress: 87/239.4112\n",
            "progress: 88/239.4112\n",
            "progress: 89/239.4112\n",
            "progress: 90/239.4112\n",
            "progress: 91/239.4112\n",
            "progress: 92/239.4112\n",
            "progress: 93/239.4112\n",
            "progress: 94/239.4112\n",
            "progress: 95/239.4112\n",
            "progress: 96/239.4112\n",
            "progress: 97/239.4112\n",
            "progress: 98/239.4112\n",
            "progress: 99/239.4112\n",
            "progress: 100/239.4112\n",
            "progress: 101/239.4112\n",
            "progress: 102/239.4112\n",
            "progress: 103/239.4112\n",
            "progress: 104/239.4112\n",
            "progress: 105/239.4112\n",
            "progress: 106/239.4112\n",
            "progress: 107/239.4112\n",
            "progress: 108/239.4112\n",
            "progress: 109/239.4112\n",
            "progress: 110/239.4112\n",
            "progress: 111/239.4112\n",
            "progress: 112/239.4112\n",
            "progress: 113/239.4112\n",
            "progress: 114/239.4112\n",
            "progress: 115/239.4112\n",
            "progress: 116/239.4112\n",
            "progress: 117/239.4112\n",
            "progress: 118/239.4112\n",
            "progress: 119/239.4112\n",
            "progress: 120/239.4112\n",
            "progress: 121/239.4112\n",
            "progress: 122/239.4112\n",
            "progress: 123/239.4112\n",
            "progress: 124/239.4112\n",
            "progress: 125/239.4112\n",
            "progress: 126/239.4112\n",
            "progress: 127/239.4112\n",
            "progress: 128/239.4112\n",
            "progress: 129/239.4112\n",
            "progress: 130/239.4112\n",
            "progress: 131/239.4112\n",
            "progress: 132/239.4112\n",
            "progress: 133/239.4112\n",
            "progress: 134/239.4112\n",
            "progress: 135/239.4112\n",
            "progress: 136/239.4112\n",
            "progress: 137/239.4112\n",
            "progress: 138/239.4112\n",
            "progress: 139/239.4112\n",
            "progress: 140/239.4112\n",
            "progress: 141/239.4112\n",
            "progress: 142/239.4112\n",
            "progress: 143/239.4112\n",
            "progress: 144/239.4112\n",
            "progress: 145/239.4112\n",
            "progress: 146/239.4112\n",
            "progress: 147/239.4112\n",
            "progress: 148/239.4112\n",
            "progress: 149/239.4112\n",
            "progress: 150/239.4112\n",
            "progress: 151/239.4112\n",
            "progress: 152/239.4112\n",
            "progress: 153/239.4112\n",
            "progress: 154/239.4112\n",
            "progress: 155/239.4112\n",
            "progress: 156/239.4112\n",
            "progress: 157/239.4112\n",
            "progress: 158/239.4112\n",
            "progress: 159/239.4112\n",
            "progress: 160/239.4112\n",
            "progress: 161/239.4112\n",
            "progress: 162/239.4112\n",
            "progress: 163/239.4112\n",
            "progress: 164/239.4112\n",
            "progress: 165/239.4112\n",
            "progress: 166/239.4112\n",
            "progress: 167/239.4112\n",
            "progress: 168/239.4112\n",
            "progress: 169/239.4112\n",
            "progress: 170/239.4112\n",
            "progress: 171/239.4112\n",
            "progress: 172/239.4112\n",
            "progress: 173/239.4112\n",
            "progress: 174/239.4112\n",
            "progress: 175/239.4112\n",
            "progress: 176/239.4112\n",
            "progress: 177/239.4112\n",
            "progress: 178/239.4112\n",
            "progress: 179/239.4112\n",
            "progress: 180/239.4112\n",
            "progress: 181/239.4112\n",
            "progress: 182/239.4112\n",
            "progress: 183/239.4112\n",
            "progress: 184/239.4112\n",
            "progress: 185/239.4112\n",
            "progress: 186/239.4112\n",
            "progress: 187/239.4112\n",
            "progress: 188/239.4112\n",
            "progress: 189/239.4112\n",
            "progress: 190/239.4112\n",
            "progress: 191/239.4112\n",
            "progress: 192/239.4112\n",
            "progress: 193/239.4112\n",
            "progress: 194/239.4112\n",
            "progress: 195/239.4112\n",
            "progress: 196/239.4112\n",
            "progress: 197/239.4112\n",
            "progress: 198/239.4112\n",
            "progress: 199/239.4112\n",
            "progress: 200/239.4112\n",
            "progress: 201/239.4112\n",
            "progress: 202/239.4112\n",
            "progress: 203/239.4112\n",
            "progress: 204/239.4112\n",
            "progress: 205/239.4112\n",
            "progress: 206/239.4112\n",
            "progress: 207/239.4112\n",
            "progress: 208/239.4112\n",
            "progress: 209/239.4112\n",
            "progress: 210/239.4112\n",
            "progress: 211/239.4112\n",
            "progress: 212/239.4112\n",
            "progress: 213/239.4112\n",
            "progress: 214/239.4112\n",
            "progress: 215/239.4112\n",
            "progress: 216/239.4112\n",
            "progress: 217/239.4112\n",
            "progress: 218/239.4112\n",
            "progress: 219/239.4112\n",
            "progress: 220/239.4112\n",
            "progress: 221/239.4112\n",
            "progress: 222/239.4112\n",
            "progress: 223/239.4112\n",
            "progress: 224/239.4112\n",
            "progress: 225/239.4112\n",
            "progress: 226/239.4112\n",
            "progress: 227/239.4112\n",
            "progress: 228/239.4112\n",
            "progress: 229/239.4112\n",
            "progress: 230/239.4112\n",
            "progress: 231/239.4112\n",
            "progress: 232/239.4112\n",
            "progress: 233/239.4112\n",
            "progress: 234/239.4112\n",
            "progress: 235/239.4112\n",
            "progress: 236/239.4112\n",
            "progress: 237/239.4112\n",
            "progress: 238/239.4112\n",
            "progress: 239/239.4112\n",
            "progress: 240/239.4112\n",
            "progress: 241/239.4112\n",
            "progress: 242/239.4112\n",
            "progress: 243/239.4112\n",
            "progress: 244/239.4112\n",
            "progress: 245/239.4112\n",
            "progress: 246/239.4112\n",
            "progress: 247/239.4112\n",
            "progress: 248/239.4112\n",
            "progress: 249/239.4112\n",
            "progress: 250/239.4112\n",
            "progress: 251/239.4112\n",
            "progress: 252/239.4112\n",
            "progress: 253/239.4112\n",
            "progress: 254/239.4112\n",
            "progress: 255/239.4112\n",
            "progress: 256/239.4112\n",
            "progress: 257/239.4112\n",
            "progress: 258/239.4112\n",
            "progress: 259/239.4112\n",
            "progress: 260/239.4112\n",
            "progress: 261/239.4112\n",
            "progress: 262/239.4112\n",
            "progress: 263/239.4112\n",
            "progress: 264/239.4112\n",
            "progress: 265/239.4112\n",
            "progress: 266/239.4112\n",
            "progress: 267/239.4112\n",
            "progress: 268/239.4112\n",
            "progress: 269/239.4112\n",
            "progress: 270/239.4112\n",
            "progress: 271/239.4112\n",
            "progress: 272/239.4112\n",
            "progress: 273/239.4112\n",
            "progress: 274/239.4112\n",
            "progress: 275/239.4112\n",
            "progress: 276/239.4112\n",
            "progress: 277/239.4112\n",
            "progress: 278/239.4112\n",
            "progress: 279/239.4112\n",
            "progress: 280/239.4112\n",
            "progress: 281/239.4112\n",
            "progress: 282/239.4112\n",
            "progress: 283/239.4112\n",
            "progress: 284/239.4112\n",
            "progress: 285/239.4112\n",
            "progress: 286/239.4112\n",
            "progress: 287/239.4112\n",
            "progress: 288/239.4112\n",
            "progress: 289/239.4112\n",
            "progress: 290/239.4112\n",
            "progress: 291/239.4112\n",
            "progress: 292/239.4112\n",
            "progress: 293/239.4112\n",
            "progress: 294/239.4112\n",
            "progress: 295/239.4112\n",
            "progress: 296/239.4112\n",
            "progress: 297/239.4112\n",
            "progress: 298/239.4112\n",
            "progress: 299/239.4112\n",
            "progress: 300/239.4112\n",
            "progress: 301/239.4112\n",
            "progress: 302/239.4112\n",
            "progress: 303/239.4112\n",
            "progress: 304/239.4112\n",
            "progress: 305/239.4112\n",
            "progress: 306/239.4112\n",
            "progress: 307/239.4112\n",
            "progress: 308/239.4112\n",
            "progress: 309/239.4112\n",
            "progress: 310/239.4112\n",
            "progress: 311/239.4112\n",
            "progress: 312/239.4112\n",
            "progress: 313/239.4112\n",
            "progress: 314/239.4112\n",
            "progress: 315/239.4112\n",
            "progress: 316/239.4112\n",
            "progress: 317/239.4112\n",
            "progress: 318/239.4112\n",
            "progress: 319/239.4112\n",
            "progress: 320/239.4112\n",
            "progress: 321/239.4112\n",
            "progress: 322/239.4112\n",
            "progress: 323/239.4112\n",
            "progress: 324/239.4112\n",
            "progress: 325/239.4112\n",
            "progress: 326/239.4112\n",
            "progress: 327/239.4112\n",
            "progress: 328/239.4112\n",
            "progress: 329/239.4112\n",
            "progress: 330/239.4112\n",
            "progress: 331/239.4112\n",
            "progress: 332/239.4112\n",
            "progress: 333/239.4112\n",
            "progress: 334/239.4112\n",
            "progress: 335/239.4112\n",
            "progress: 336/239.4112\n",
            "progress: 337/239.4112\n",
            "progress: 338/239.4112\n",
            "progress: 339/239.4112\n",
            "progress: 340/239.4112\n",
            "progress: 341/239.4112\n",
            "progress: 342/239.4112\n",
            "progress: 343/239.4112\n",
            "progress: 344/239.4112\n",
            "progress: 345/239.4112\n",
            "progress: 346/239.4112\n",
            "progress: 347/239.4112\n",
            "progress: 348/239.4112\n",
            "progress: 349/239.4112\n",
            "progress: 350/239.4112\n",
            "progress: 351/239.4112\n",
            "progress: 352/239.4112\n",
            "progress: 353/239.4112\n",
            "progress: 354/239.4112\n",
            "progress: 355/239.4112\n",
            "progress: 356/239.4112\n",
            "progress: 357/239.4112\n",
            "progress: 358/239.4112\n",
            "progress: 359/239.4112\n",
            "progress: 360/239.4112\n",
            "progress: 361/239.4112\n",
            "progress: 362/239.4112\n",
            "progress: 363/239.4112\n",
            "progress: 364/239.4112\n",
            "progress: 365/239.4112\n",
            "progress: 366/239.4112\n",
            "progress: 367/239.4112\n",
            "progress: 368/239.4112\n",
            "progress: 369/239.4112\n",
            "progress: 370/239.4112\n",
            "progress: 371/239.4112\n",
            "progress: 372/239.4112\n",
            "progress: 373/239.4112\n",
            "progress: 374/239.4112\n",
            "progress: 375/239.4112\n",
            "progress: 376/239.4112\n",
            "progress: 377/239.4112\n",
            "progress: 378/239.4112\n",
            "progress: 379/239.4112\n",
            "progress: 380/239.4112\n",
            "progress: 381/239.4112\n",
            "progress: 382/239.4112\n",
            "progress: 383/239.4112\n",
            "progress: 384/239.4112\n",
            "progress: 385/239.4112\n",
            "progress: 386/239.4112\n",
            "progress: 387/239.4112\n",
            "progress: 388/239.4112\n",
            "progress: 389/239.4112\n",
            "progress: 390/239.4112\n",
            "progress: 391/239.4112\n",
            "progress: 392/239.4112\n",
            "progress: 393/239.4112\n",
            "progress: 394/239.4112\n",
            "progress: 395/239.4112\n",
            "progress: 396/239.4112\n"
          ]
        }
      ]
    },
    {
      "cell_type": "code",
      "source": [
        "copy1 = library_img.copy().convert('RGB')\n",
        "png = np.array(copy1)\n",
        "print(png)"
      ],
      "metadata": {
        "colab": {
          "base_uri": "https://localhost:8080/"
        },
        "collapsed": true,
        "id": "-gt-Q6_h7dir",
        "outputId": "08835d34-cbdd-4d8a-999b-a82526a6b185"
      },
      "execution_count": 70,
      "outputs": [
        {
          "output_type": "stream",
          "name": "stdout",
          "text": [
            "[[[170 174 177]\n",
            "  [172 173 175]\n",
            "  [174 172 175]\n",
            "  ...\n",
            "  [183 170 161]\n",
            "  [183 170 161]\n",
            "  [190 176 167]]\n",
            "\n",
            " [[171 170 175]\n",
            "  [175 173 176]\n",
            "  [182 176 178]\n",
            "  ...\n",
            "  [183 166 150]\n",
            "  [187 169 155]\n",
            "  [200 182 168]]\n",
            "\n",
            " [[175 169 173]\n",
            "  [185 174 178]\n",
            "  [194 179 182]\n",
            "  ...\n",
            "  [194 168 143]\n",
            "  [198 172 147]\n",
            "  [217 191 166]]\n",
            "\n",
            " ...\n",
            "\n",
            " [[166 170 171]\n",
            "  [143 147 148]\n",
            "  [127 131 132]\n",
            "  ...\n",
            "  [ 94  95  97]\n",
            "  [ 94  95  97]\n",
            "  [ 94  95  97]]\n",
            "\n",
            " [[173 177 178]\n",
            "  [169 173 174]\n",
            "  [175 179 180]\n",
            "  ...\n",
            "  [108 109 111]\n",
            "  [108 109 111]\n",
            "  [108 109 111]]\n",
            "\n",
            " [[172 176 177]\n",
            "  [175 179 180]\n",
            "  [179 183 184]\n",
            "  ...\n",
            "  [141 142 144]\n",
            "  [141 142 144]\n",
            "  [141 142 144]]]\n"
          ]
        }
      ]
    },
    {
      "cell_type": "code",
      "source": [
        "display(copy)"
      ],
      "metadata": {
        "colab": {
          "base_uri": "https://localhost:8080/",
          "height": 351
        },
        "id": "chHeDElQHm0b",
        "outputId": "b526a505-b37e-4e5f-b8cf-2c48ae38a2d8"
      },
      "execution_count": 95,
      "outputs": [
        {
          "output_type": "display_data",
          "data": {
            "text/plain": [
              "<PIL.Image.Image image mode=RGBA size=448x334>"
            ],
            "image/png": "[encoded data removed]"
          },
          "metadata": {}
        }
      ]
    },
    {
      "cell_type": "code",
      "source": [
        "## testing\n",
        "\n",
        "print(len(listtest))\n",
        "display(listtest[150])"
      ],
      "metadata": {
        "colab": {
          "base_uri": "https://localhost:8080/",
          "height": 193
        },
        "id": "vb9pGVIrBclf",
        "outputId": "8c711735-7168-49e6-def8-b263e8f03c57"
      },
      "execution_count": 22,
      "outputs": [
        {
          "output_type": "stream",
          "name": "stdout",
          "text": [
            "100\n"
          ]
        },
        {
          "output_type": "error",
          "ename": "IndexError",
          "evalue": "list index out of range",
          "traceback": [
            "\u001b[0;31m---------------------------------------------------------------------------\u001b[0m",
            "\u001b[0;31mIndexError\u001b[0m                                Traceback (most recent call last)",
            "\u001b[0;32m<ipython-input-22-b41d892d2bed>\u001b[0m in \u001b[0;36m<cell line: 4>\u001b[0;34m()\u001b[0m\n\u001b[1;32m      2\u001b[0m \u001b[0;34m\u001b[0m\u001b[0m\n\u001b[1;32m      3\u001b[0m \u001b[0mprint\u001b[0m\u001b[0;34m(\u001b[0m\u001b[0mlen\u001b[0m\u001b[0;34m(\u001b[0m\u001b[0mlisttest\u001b[0m\u001b[0;34m)\u001b[0m\u001b[0;34m)\u001b[0m\u001b[0;34m\u001b[0m\u001b[0;34m\u001b[0m\u001b[0m\n\u001b[0;32m----> 4\u001b[0;31m \u001b[0mdisplay\u001b[0m\u001b[0;34m(\u001b[0m\u001b[0mlisttest\u001b[0m\u001b[0;34m[\u001b[0m\u001b[0;36m150\u001b[0m\u001b[0;34m]\u001b[0m\u001b[0;34m)\u001b[0m\u001b[0;34m\u001b[0m\u001b[0;34m\u001b[0m\u001b[0m\n\u001b[0m",
            "\u001b[0;31mIndexError\u001b[0m: list index out of range"
          ]
        }
      ]
    },
    {
      "cell_type": "code",
      "source": [
        "## testing\n",
        "\n",
        "## get average color\n",
        "avg = np.average(listtest[150], axis=(0,1))\n",
        "display(avg)\n",
        "display(listtest[150])\n",
        "display()"
      ],
      "metadata": {
        "colab": {
          "base_uri": "https://localhost:8080/",
          "height": 59
        },
        "id": "U1rV3vU_Fssv",
        "outputId": "43220b99-7b0a-4216-89c4-6b79f7a2b474"
      },
      "execution_count": null,
      "outputs": [
        {
          "output_type": "display_data",
          "data": {
            "text/plain": [
              "array([140.1952, 140.1952, 177.1072, 255.    ])"
            ]
          },
          "metadata": {}
        },
        {
          "output_type": "display_data",
          "data": {
            "text/plain": [
              "<PIL.Image.Image image mode=RGBA size=25x25>"
            ],
            "image/png": "[encoded data removed]"
          },
          "metadata": {}
        }
      ]
    },
    {
      "cell_type": "code",
      "source": [
        "## calculating dominant color\n",
        "from skimage import io\n",
        "\n",
        "average = listtest[0].mean(axis=0).mean(axis=0)\n",
        "\n",
        "pixels = np.float32(img.reshape(-1, 3))\n",
        "\n",
        "n_colors = 5\n",
        "criteria = (cv2.TERM_CRITERIA_EPS + cv2.TERM_CRITERIA_MAX_ITER, 200, .1)\n",
        "flags = cv2.KMEANS_RANDOM_CENTERS\n",
        "\n",
        "_, labels, palette = cv2.kmeans(pixels, n_colors, None, criteria, 10, flags)\n",
        "_, counts = np.unique(labels, return_counts=True)\n",
        "\n",
        "dominant = palette[np.argmax(counts)]\n",
        "display(dominant)"
      ],
      "metadata": {
        "colab": {
          "base_uri": "https://localhost:8080/",
          "height": 332
        },
        "id": "HDR8TiuHCDQc",
        "outputId": "772d5e7e-11a1-44fc-e244-35231f89b7c9"
      },
      "execution_count": null,
      "outputs": [
        {
          "output_type": "error",
          "ename": "AttributeError",
          "evalue": "mean",
          "traceback": [
            "\u001b[0;31m---------------------------------------------------------------------------\u001b[0m",
            "\u001b[0;31mAttributeError\u001b[0m                            Traceback (most recent call last)",
            "\u001b[0;32m<ipython-input-114-72241c0c1351>\u001b[0m in \u001b[0;36m<cell line: 4>\u001b[0;34m()\u001b[0m\n\u001b[1;32m      2\u001b[0m \u001b[0;32mfrom\u001b[0m \u001b[0mskimage\u001b[0m \u001b[0;32mimport\u001b[0m \u001b[0mio\u001b[0m\u001b[0;34m\u001b[0m\u001b[0;34m\u001b[0m\u001b[0m\n\u001b[1;32m      3\u001b[0m \u001b[0;34m\u001b[0m\u001b[0m\n\u001b[0;32m----> 4\u001b[0;31m \u001b[0maverage\u001b[0m \u001b[0;34m=\u001b[0m \u001b[0mlisttest\u001b[0m\u001b[0;34m[\u001b[0m\u001b[0;36m0\u001b[0m\u001b[0;34m]\u001b[0m\u001b[0;34m.\u001b[0m\u001b[0mmean\u001b[0m\u001b[0;34m(\u001b[0m\u001b[0maxis\u001b[0m\u001b[0;34m=\u001b[0m\u001b[0;36m0\u001b[0m\u001b[0;34m)\u001b[0m\u001b[0;34m.\u001b[0m\u001b[0mmean\u001b[0m\u001b[0;34m(\u001b[0m\u001b[0maxis\u001b[0m\u001b[0;34m=\u001b[0m\u001b[0;36m0\u001b[0m\u001b[0;34m)\u001b[0m\u001b[0;34m\u001b[0m\u001b[0;34m\u001b[0m\u001b[0m\n\u001b[0m\u001b[1;32m      5\u001b[0m \u001b[0;34m\u001b[0m\u001b[0m\n\u001b[1;32m      6\u001b[0m \u001b[0mpixels\u001b[0m \u001b[0;34m=\u001b[0m \u001b[0mnp\u001b[0m\u001b[0;34m.\u001b[0m\u001b[0mfloat32\u001b[0m\u001b[0;34m(\u001b[0m\u001b[0mimg\u001b[0m\u001b[0;34m.\u001b[0m\u001b[0mreshape\u001b[0m\u001b[0;34m(\u001b[0m\u001b[0;34m-\u001b[0m\u001b[0;36m1\u001b[0m\u001b[0;34m,\u001b[0m \u001b[0;36m3\u001b[0m\u001b[0;34m)\u001b[0m\u001b[0;34m)\u001b[0m\u001b[0;34m\u001b[0m\u001b[0;34m\u001b[0m\u001b[0m\n",
            "\u001b[0;32m/usr/local/lib/python3.10/dist-packages/PIL/Image.py\u001b[0m in \u001b[0;36m__getattr__\u001b[0;34m(self, name)\u001b[0m\n\u001b[1;32m    527\u001b[0m             \u001b[0mdeprecate\u001b[0m\u001b[0;34m(\u001b[0m\u001b[0;34m\"Image categories\"\u001b[0m\u001b[0;34m,\u001b[0m \u001b[0;36m10\u001b[0m\u001b[0;34m,\u001b[0m \u001b[0;34m\"is_animated\"\u001b[0m\u001b[0;34m,\u001b[0m \u001b[0mplural\u001b[0m\u001b[0;34m=\u001b[0m\u001b[0;32mTrue\u001b[0m\u001b[0;34m)\u001b[0m\u001b[0;34m\u001b[0m\u001b[0;34m\u001b[0m\u001b[0m\n\u001b[1;32m    528\u001b[0m             \u001b[0;32mreturn\u001b[0m \u001b[0mself\u001b[0m\u001b[0;34m.\u001b[0m\u001b[0m_category\u001b[0m\u001b[0;34m\u001b[0m\u001b[0;34m\u001b[0m\u001b[0m\n\u001b[0;32m--> 529\u001b[0;31m         \u001b[0;32mraise\u001b[0m \u001b[0mAttributeError\u001b[0m\u001b[0;34m(\u001b[0m\u001b[0mname\u001b[0m\u001b[0;34m)\u001b[0m\u001b[0;34m\u001b[0m\u001b[0;34m\u001b[0m\u001b[0m\n\u001b[0m\u001b[1;32m    530\u001b[0m \u001b[0;34m\u001b[0m\u001b[0m\n\u001b[1;32m    531\u001b[0m     \u001b[0;34m@\u001b[0m\u001b[0mproperty\u001b[0m\u001b[0;34m\u001b[0m\u001b[0;34m\u001b[0m\u001b[0m\n",
            "\u001b[0;31mAttributeError\u001b[0m: mean"
          ]
        }
      ]
    },
    {
      "cell_type": "code",
      "source": [
        "def dominant_color(arr):\n",
        "  #test = io.imread(filename)[:, :, :-1]\n",
        "  average = img.mean(axis=0).mean(axis=0)\n",
        "\n",
        "  pixels = np.float32(img.reshape(-1, 3))\n",
        "\n",
        "  n_colors = 5\n",
        "  criteria = (cv2.TERM_CRITERIA_EPS + cv2.TERM_CRITERIA_MAX_ITER, 200, .1)\n",
        "  flags = cv2.KMEANS_RANDOM_CENTERS\n",
        "\n",
        "  _, labels, palette = cv2.kmeans(pixels, n_colors, None, criteria, 10, flags)\n",
        "  _, counts = np.unique(labels, return_counts=True)\n",
        "\n",
        "  dominant = palette[np.argmax(counts)]\n",
        "  return dominant\n",
        "\n"
      ],
      "metadata": {
        "id": "mCncNHXGDoeO"
      },
      "execution_count": null,
      "outputs": []
    },
    {
      "cell_type": "code",
      "source": [
        "print(dominant_color(listtest[0]))"
      ],
      "metadata": {
        "colab": {
          "base_uri": "https://localhost:8080/",
          "height": 287
        },
        "id": "-R2Cg660EK4F",
        "outputId": "94ef6421-d892-41dd-af16-0b92328f1b7d"
      },
      "execution_count": null,
      "outputs": [
        {
          "output_type": "error",
          "ename": "AttributeError",
          "evalue": "mean",
          "traceback": [
            "\u001b[0;31m---------------------------------------------------------------------------\u001b[0m",
            "\u001b[0;31mAttributeError\u001b[0m                            Traceback (most recent call last)",
            "\u001b[0;32m<ipython-input-116-239b82150a94>\u001b[0m in \u001b[0;36m<cell line: 1>\u001b[0;34m()\u001b[0m\n\u001b[0;32m----> 1\u001b[0;31m \u001b[0mprint\u001b[0m\u001b[0;34m(\u001b[0m\u001b[0mdominant_color\u001b[0m\u001b[0;34m(\u001b[0m\u001b[0mlisttest\u001b[0m\u001b[0;34m[\u001b[0m\u001b[0;36m0\u001b[0m\u001b[0;34m]\u001b[0m\u001b[0;34m)\u001b[0m\u001b[0;34m)\u001b[0m\u001b[0;34m\u001b[0m\u001b[0;34m\u001b[0m\u001b[0m\n\u001b[0m",
            "\u001b[0;32m<ipython-input-115-c6d86dd4caa5>\u001b[0m in \u001b[0;36mdominant_color\u001b[0;34m(name)\u001b[0m\n\u001b[1;32m      1\u001b[0m \u001b[0;32mdef\u001b[0m \u001b[0mdominant_color\u001b[0m\u001b[0;34m(\u001b[0m\u001b[0mname\u001b[0m\u001b[0;34m)\u001b[0m\u001b[0;34m:\u001b[0m\u001b[0;34m\u001b[0m\u001b[0;34m\u001b[0m\u001b[0m\n\u001b[1;32m      2\u001b[0m   \u001b[0;31m#test = io.imread(filename)[:, :, :-1]\u001b[0m\u001b[0;34m\u001b[0m\u001b[0;34m\u001b[0m\u001b[0m\n\u001b[0;32m----> 3\u001b[0;31m   \u001b[0maverage\u001b[0m \u001b[0;34m=\u001b[0m \u001b[0mname\u001b[0m\u001b[0;34m.\u001b[0m\u001b[0mmean\u001b[0m\u001b[0;34m(\u001b[0m\u001b[0maxis\u001b[0m\u001b[0;34m=\u001b[0m\u001b[0;36m0\u001b[0m\u001b[0;34m)\u001b[0m\u001b[0;34m.\u001b[0m\u001b[0mmean\u001b[0m\u001b[0;34m(\u001b[0m\u001b[0maxis\u001b[0m\u001b[0;34m=\u001b[0m\u001b[0;36m0\u001b[0m\u001b[0;34m)\u001b[0m\u001b[0;34m\u001b[0m\u001b[0;34m\u001b[0m\u001b[0m\n\u001b[0m\u001b[1;32m      4\u001b[0m \u001b[0;34m\u001b[0m\u001b[0m\n\u001b[1;32m      5\u001b[0m   \u001b[0mpixels\u001b[0m \u001b[0;34m=\u001b[0m \u001b[0mnp\u001b[0m\u001b[0;34m.\u001b[0m\u001b[0mfloat32\u001b[0m\u001b[0;34m(\u001b[0m\u001b[0mimg\u001b[0m\u001b[0;34m.\u001b[0m\u001b[0mreshape\u001b[0m\u001b[0;34m(\u001b[0m\u001b[0;34m-\u001b[0m\u001b[0;36m1\u001b[0m\u001b[0;34m,\u001b[0m \u001b[0;36m3\u001b[0m\u001b[0;34m)\u001b[0m\u001b[0;34m)\u001b[0m\u001b[0;34m\u001b[0m\u001b[0;34m\u001b[0m\u001b[0m\n",
            "\u001b[0;32m/usr/local/lib/python3.10/dist-packages/PIL/Image.py\u001b[0m in \u001b[0;36m__getattr__\u001b[0;34m(self, name)\u001b[0m\n\u001b[1;32m    527\u001b[0m             \u001b[0mdeprecate\u001b[0m\u001b[0;34m(\u001b[0m\u001b[0;34m\"Image categories\"\u001b[0m\u001b[0;34m,\u001b[0m \u001b[0;36m10\u001b[0m\u001b[0;34m,\u001b[0m \u001b[0;34m\"is_animated\"\u001b[0m\u001b[0;34m,\u001b[0m \u001b[0mplural\u001b[0m\u001b[0;34m=\u001b[0m\u001b[0;32mTrue\u001b[0m\u001b[0;34m)\u001b[0m\u001b[0;34m\u001b[0m\u001b[0;34m\u001b[0m\u001b[0m\n\u001b[1;32m    528\u001b[0m             \u001b[0;32mreturn\u001b[0m \u001b[0mself\u001b[0m\u001b[0;34m.\u001b[0m\u001b[0m_category\u001b[0m\u001b[0;34m\u001b[0m\u001b[0;34m\u001b[0m\u001b[0m\n\u001b[0;32m--> 529\u001b[0;31m         \u001b[0;32mraise\u001b[0m \u001b[0mAttributeError\u001b[0m\u001b[0;34m(\u001b[0m\u001b[0mname\u001b[0m\u001b[0;34m)\u001b[0m\u001b[0;34m\u001b[0m\u001b[0;34m\u001b[0m\u001b[0m\n\u001b[0m\u001b[1;32m    530\u001b[0m \u001b[0;34m\u001b[0m\u001b[0m\n\u001b[1;32m    531\u001b[0m     \u001b[0;34m@\u001b[0m\u001b[0mproperty\u001b[0m\u001b[0;34m\u001b[0m\u001b[0;34m\u001b[0m\u001b[0m\n",
            "\u001b[0;31mAttributeError\u001b[0m: mean"
          ]
        }
      ]
    },
    {
      "cell_type": "code",
      "source": [
        "#rgb_list = []\n",
        "\n",
        "#for i in range(0, img-25, 25):\n",
        "#  for j in range(0, img.height-25, 25):\n",
        "    #print(resized_img[i:i+25, j:j+25])\n",
        "#    rgb_list.append(img[i:i+25, j:j+25])"
      ],
      "metadata": {
        "id": "X4w6-PJz61p0"
      },
      "execution_count": null,
      "outputs": []
    },
    {
      "cell_type": "code",
      "source": [
        "#from matplotlib.image import imread\n",
        "\n",
        "#img_arr = imread(filename)\n",
        "# img_arr = cv2.cvtColor(img, cv2.COLOR_BGR2RGB)\n",
        "#plt.imshow(img_arr)\n",
        "#img_arr.shape\n"
      ],
      "metadata": {
        "colab": {
          "base_uri": "https://localhost:8080/",
          "height": 452
        },
        "id": "mbuGL1Ge2EFN",
        "outputId": "3d0ebdfa-e82d-46c6-fe5d-37a46f6e75a8"
      },
      "execution_count": null,
      "outputs": [
        {
          "output_type": "execute_result",
          "data": {
            "text/plain": [
              "(1402, 1101, 3)"
            ]
          },
          "metadata": {},
          "execution_count": 42
        },
        {
          "output_type": "display_data",
          "data": {
            "text/plain": [
              "<Figure size 640x480 with 1 Axes>"
            ],
            "image/png": "[encoded data removed]"
          },
          "metadata": {}
        }
      ]
    }
  ]
}